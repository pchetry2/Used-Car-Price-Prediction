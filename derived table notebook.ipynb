{
  "nbformat": 4,
  "nbformat_minor": 0,
  "metadata": {
    "colab": {
      "name": "derived table notebook",
      "cell_execution_strategy": "setup",
      "provenance": []
    },
    "kernelspec": {
      "name": "python3",
      "display_name": "Python 3"
    },
    "language_info": {
      "name": "python"
    },
    "widgets": {
      "application/vnd.jupyter.widget-state+json": {
        "d5028b4797b44fcca7bece794c5d18eb": {
          "model_module": "@jupyter-widgets/controls",
          "model_name": "HBoxModel",
          "model_module_version": "1.5.0",
          "state": {
            "_dom_classes": [],
            "_model_module": "@jupyter-widgets/controls",
            "_model_module_version": "1.5.0",
            "_model_name": "HBoxModel",
            "_view_count": null,
            "_view_module": "@jupyter-widgets/controls",
            "_view_module_version": "1.5.0",
            "_view_name": "HBoxView",
            "box_style": "",
            "children": [
              "IPY_MODEL_0c1213ed840e45eba691bdeeeb6ae73c",
              "IPY_MODEL_63df22223b5645f49c1a669a82ea3439",
              "IPY_MODEL_02fae30594234f1dba88ca8a4874d24c"
            ],
            "layout": "IPY_MODEL_be5ee1321e7d4447b51a23ce1df54d1c"
          }
        },
        "0c1213ed840e45eba691bdeeeb6ae73c": {
          "model_module": "@jupyter-widgets/controls",
          "model_name": "HTMLModel",
          "model_module_version": "1.5.0",
          "state": {
            "_dom_classes": [],
            "_model_module": "@jupyter-widgets/controls",
            "_model_module_version": "1.5.0",
            "_model_name": "HTMLModel",
            "_view_count": null,
            "_view_module": "@jupyter-widgets/controls",
            "_view_module_version": "1.5.0",
            "_view_name": "HTMLView",
            "description": "",
            "description_tooltip": null,
            "layout": "IPY_MODEL_93ebfd42755e4ea9b968b29854dabf28",
            "placeholder": "​",
            "style": "IPY_MODEL_bdb486d3d1044bd08e73d7a4c9958f98",
            "value": "Job ID 726279d4-fcce-4ec3-9c20-ce847bee74af successfully executed: 100%"
          }
        },
        "63df22223b5645f49c1a669a82ea3439": {
          "model_module": "@jupyter-widgets/controls",
          "model_name": "FloatProgressModel",
          "model_module_version": "1.5.0",
          "state": {
            "_dom_classes": [],
            "_model_module": "@jupyter-widgets/controls",
            "_model_module_version": "1.5.0",
            "_model_name": "FloatProgressModel",
            "_view_count": null,
            "_view_module": "@jupyter-widgets/controls",
            "_view_module_version": "1.5.0",
            "_view_name": "ProgressView",
            "bar_style": "success",
            "description": "",
            "description_tooltip": null,
            "layout": "IPY_MODEL_0c18b6f7e11f45b4be7b55ee2c16ccee",
            "max": 1,
            "min": 0,
            "orientation": "horizontal",
            "style": "IPY_MODEL_b6a3f2cd914941f18b7ecbf40ed8dfcf",
            "value": 1
          }
        },
        "02fae30594234f1dba88ca8a4874d24c": {
          "model_module": "@jupyter-widgets/controls",
          "model_name": "HTMLModel",
          "model_module_version": "1.5.0",
          "state": {
            "_dom_classes": [],
            "_model_module": "@jupyter-widgets/controls",
            "_model_module_version": "1.5.0",
            "_model_name": "HTMLModel",
            "_view_count": null,
            "_view_module": "@jupyter-widgets/controls",
            "_view_module_version": "1.5.0",
            "_view_name": "HTMLView",
            "description": "",
            "description_tooltip": null,
            "layout": "IPY_MODEL_b3b791fc88b54e889749ed46bd3c5768",
            "placeholder": "​",
            "style": "IPY_MODEL_74391024fc5940e88e19e31b8a20c438",
            "value": ""
          }
        },
        "be5ee1321e7d4447b51a23ce1df54d1c": {
          "model_module": "@jupyter-widgets/base",
          "model_name": "LayoutModel",
          "model_module_version": "1.2.0",
          "state": {
            "_model_module": "@jupyter-widgets/base",
            "_model_module_version": "1.2.0",
            "_model_name": "LayoutModel",
            "_view_count": null,
            "_view_module": "@jupyter-widgets/base",
            "_view_module_version": "1.2.0",
            "_view_name": "LayoutView",
            "align_content": null,
            "align_items": null,
            "align_self": null,
            "border": null,
            "bottom": null,
            "display": null,
            "flex": null,
            "flex_flow": null,
            "grid_area": null,
            "grid_auto_columns": null,
            "grid_auto_flow": null,
            "grid_auto_rows": null,
            "grid_column": null,
            "grid_gap": null,
            "grid_row": null,
            "grid_template_areas": null,
            "grid_template_columns": null,
            "grid_template_rows": null,
            "height": null,
            "justify_content": null,
            "justify_items": null,
            "left": null,
            "margin": null,
            "max_height": null,
            "max_width": null,
            "min_height": null,
            "min_width": null,
            "object_fit": null,
            "object_position": null,
            "order": null,
            "overflow": null,
            "overflow_x": null,
            "overflow_y": null,
            "padding": null,
            "right": null,
            "top": null,
            "visibility": null,
            "width": null
          }
        },
        "93ebfd42755e4ea9b968b29854dabf28": {
          "model_module": "@jupyter-widgets/base",
          "model_name": "LayoutModel",
          "model_module_version": "1.2.0",
          "state": {
            "_model_module": "@jupyter-widgets/base",
            "_model_module_version": "1.2.0",
            "_model_name": "LayoutModel",
            "_view_count": null,
            "_view_module": "@jupyter-widgets/base",
            "_view_module_version": "1.2.0",
            "_view_name": "LayoutView",
            "align_content": null,
            "align_items": null,
            "align_self": null,
            "border": null,
            "bottom": null,
            "display": null,
            "flex": null,
            "flex_flow": null,
            "grid_area": null,
            "grid_auto_columns": null,
            "grid_auto_flow": null,
            "grid_auto_rows": null,
            "grid_column": null,
            "grid_gap": null,
            "grid_row": null,
            "grid_template_areas": null,
            "grid_template_columns": null,
            "grid_template_rows": null,
            "height": null,
            "justify_content": null,
            "justify_items": null,
            "left": null,
            "margin": null,
            "max_height": null,
            "max_width": null,
            "min_height": null,
            "min_width": null,
            "object_fit": null,
            "object_position": null,
            "order": null,
            "overflow": null,
            "overflow_x": null,
            "overflow_y": null,
            "padding": null,
            "right": null,
            "top": null,
            "visibility": null,
            "width": null
          }
        },
        "bdb486d3d1044bd08e73d7a4c9958f98": {
          "model_module": "@jupyter-widgets/controls",
          "model_name": "DescriptionStyleModel",
          "model_module_version": "1.5.0",
          "state": {
            "_model_module": "@jupyter-widgets/controls",
            "_model_module_version": "1.5.0",
            "_model_name": "DescriptionStyleModel",
            "_view_count": null,
            "_view_module": "@jupyter-widgets/base",
            "_view_module_version": "1.2.0",
            "_view_name": "StyleView",
            "description_width": ""
          }
        },
        "0c18b6f7e11f45b4be7b55ee2c16ccee": {
          "model_module": "@jupyter-widgets/base",
          "model_name": "LayoutModel",
          "model_module_version": "1.2.0",
          "state": {
            "_model_module": "@jupyter-widgets/base",
            "_model_module_version": "1.2.0",
            "_model_name": "LayoutModel",
            "_view_count": null,
            "_view_module": "@jupyter-widgets/base",
            "_view_module_version": "1.2.0",
            "_view_name": "LayoutView",
            "align_content": null,
            "align_items": null,
            "align_self": null,
            "border": null,
            "bottom": null,
            "display": null,
            "flex": null,
            "flex_flow": null,
            "grid_area": null,
            "grid_auto_columns": null,
            "grid_auto_flow": null,
            "grid_auto_rows": null,
            "grid_column": null,
            "grid_gap": null,
            "grid_row": null,
            "grid_template_areas": null,
            "grid_template_columns": null,
            "grid_template_rows": null,
            "height": null,
            "justify_content": null,
            "justify_items": null,
            "left": null,
            "margin": null,
            "max_height": null,
            "max_width": null,
            "min_height": null,
            "min_width": null,
            "object_fit": null,
            "object_position": null,
            "order": null,
            "overflow": null,
            "overflow_x": null,
            "overflow_y": null,
            "padding": null,
            "right": null,
            "top": null,
            "visibility": null,
            "width": null
          }
        },
        "b6a3f2cd914941f18b7ecbf40ed8dfcf": {
          "model_module": "@jupyter-widgets/controls",
          "model_name": "ProgressStyleModel",
          "model_module_version": "1.5.0",
          "state": {
            "_model_module": "@jupyter-widgets/controls",
            "_model_module_version": "1.5.0",
            "_model_name": "ProgressStyleModel",
            "_view_count": null,
            "_view_module": "@jupyter-widgets/base",
            "_view_module_version": "1.2.0",
            "_view_name": "StyleView",
            "bar_color": null,
            "description_width": ""
          }
        },
        "b3b791fc88b54e889749ed46bd3c5768": {
          "model_module": "@jupyter-widgets/base",
          "model_name": "LayoutModel",
          "model_module_version": "1.2.0",
          "state": {
            "_model_module": "@jupyter-widgets/base",
            "_model_module_version": "1.2.0",
            "_model_name": "LayoutModel",
            "_view_count": null,
            "_view_module": "@jupyter-widgets/base",
            "_view_module_version": "1.2.0",
            "_view_name": "LayoutView",
            "align_content": null,
            "align_items": null,
            "align_self": null,
            "border": null,
            "bottom": null,
            "display": null,
            "flex": null,
            "flex_flow": null,
            "grid_area": null,
            "grid_auto_columns": null,
            "grid_auto_flow": null,
            "grid_auto_rows": null,
            "grid_column": null,
            "grid_gap": null,
            "grid_row": null,
            "grid_template_areas": null,
            "grid_template_columns": null,
            "grid_template_rows": null,
            "height": null,
            "justify_content": null,
            "justify_items": null,
            "left": null,
            "margin": null,
            "max_height": null,
            "max_width": null,
            "min_height": null,
            "min_width": null,
            "object_fit": null,
            "object_position": null,
            "order": null,
            "overflow": null,
            "overflow_x": null,
            "overflow_y": null,
            "padding": null,
            "right": null,
            "top": null,
            "visibility": null,
            "width": null
          }
        },
        "74391024fc5940e88e19e31b8a20c438": {
          "model_module": "@jupyter-widgets/controls",
          "model_name": "DescriptionStyleModel",
          "model_module_version": "1.5.0",
          "state": {
            "_model_module": "@jupyter-widgets/controls",
            "_model_module_version": "1.5.0",
            "_model_name": "DescriptionStyleModel",
            "_view_count": null,
            "_view_module": "@jupyter-widgets/base",
            "_view_module_version": "1.2.0",
            "_view_name": "StyleView",
            "description_width": ""
          }
        },
        "22567be6bf5d4456b304233cac36c445": {
          "model_module": "@jupyter-widgets/controls",
          "model_name": "HBoxModel",
          "model_module_version": "1.5.0",
          "state": {
            "_dom_classes": [],
            "_model_module": "@jupyter-widgets/controls",
            "_model_module_version": "1.5.0",
            "_model_name": "HBoxModel",
            "_view_count": null,
            "_view_module": "@jupyter-widgets/controls",
            "_view_module_version": "1.5.0",
            "_view_name": "HBoxView",
            "box_style": "",
            "children": [
              "IPY_MODEL_a10bd834213a4c69a73ea6516425a822",
              "IPY_MODEL_3551d19a94c94a3a81e419fb6f4b3068",
              "IPY_MODEL_142a2261d5dd4f598294d4744303b1a5"
            ],
            "layout": "IPY_MODEL_5bc8176677b2458696e5e400770df4a7"
          }
        },
        "a10bd834213a4c69a73ea6516425a822": {
          "model_module": "@jupyter-widgets/controls",
          "model_name": "HTMLModel",
          "model_module_version": "1.5.0",
          "state": {
            "_dom_classes": [],
            "_model_module": "@jupyter-widgets/controls",
            "_model_module_version": "1.5.0",
            "_model_name": "HTMLModel",
            "_view_count": null,
            "_view_module": "@jupyter-widgets/controls",
            "_view_module_version": "1.5.0",
            "_view_name": "HTMLView",
            "description": "",
            "description_tooltip": null,
            "layout": "IPY_MODEL_bcf13adf68f54fa2ae000726d325ecc7",
            "placeholder": "​",
            "style": "IPY_MODEL_5828e8cb2c6f4849ac0036457ee8df39",
            "value": "Downloading: 100%"
          }
        },
        "3551d19a94c94a3a81e419fb6f4b3068": {
          "model_module": "@jupyter-widgets/controls",
          "model_name": "FloatProgressModel",
          "model_module_version": "1.5.0",
          "state": {
            "_dom_classes": [],
            "_model_module": "@jupyter-widgets/controls",
            "_model_module_version": "1.5.0",
            "_model_name": "FloatProgressModel",
            "_view_count": null,
            "_view_module": "@jupyter-widgets/controls",
            "_view_module_version": "1.5.0",
            "_view_name": "ProgressView",
            "bar_style": "success",
            "description": "",
            "description_tooltip": null,
            "layout": "IPY_MODEL_0f9a5376ca0d4dc483f4067518270a68",
            "max": 50000,
            "min": 0,
            "orientation": "horizontal",
            "style": "IPY_MODEL_27b8f6164ce14c69bb8b9e418b958ed4",
            "value": 50000
          }
        },
        "142a2261d5dd4f598294d4744303b1a5": {
          "model_module": "@jupyter-widgets/controls",
          "model_name": "HTMLModel",
          "model_module_version": "1.5.0",
          "state": {
            "_dom_classes": [],
            "_model_module": "@jupyter-widgets/controls",
            "_model_module_version": "1.5.0",
            "_model_name": "HTMLModel",
            "_view_count": null,
            "_view_module": "@jupyter-widgets/controls",
            "_view_module_version": "1.5.0",
            "_view_name": "HTMLView",
            "description": "",
            "description_tooltip": null,
            "layout": "IPY_MODEL_393235139a0c48f597e6d7fc41386164",
            "placeholder": "​",
            "style": "IPY_MODEL_70c6e237dde64c6a9b1360edf07246a7",
            "value": ""
          }
        },
        "5bc8176677b2458696e5e400770df4a7": {
          "model_module": "@jupyter-widgets/base",
          "model_name": "LayoutModel",
          "model_module_version": "1.2.0",
          "state": {
            "_model_module": "@jupyter-widgets/base",
            "_model_module_version": "1.2.0",
            "_model_name": "LayoutModel",
            "_view_count": null,
            "_view_module": "@jupyter-widgets/base",
            "_view_module_version": "1.2.0",
            "_view_name": "LayoutView",
            "align_content": null,
            "align_items": null,
            "align_self": null,
            "border": null,
            "bottom": null,
            "display": null,
            "flex": null,
            "flex_flow": null,
            "grid_area": null,
            "grid_auto_columns": null,
            "grid_auto_flow": null,
            "grid_auto_rows": null,
            "grid_column": null,
            "grid_gap": null,
            "grid_row": null,
            "grid_template_areas": null,
            "grid_template_columns": null,
            "grid_template_rows": null,
            "height": null,
            "justify_content": null,
            "justify_items": null,
            "left": null,
            "margin": null,
            "max_height": null,
            "max_width": null,
            "min_height": null,
            "min_width": null,
            "object_fit": null,
            "object_position": null,
            "order": null,
            "overflow": null,
            "overflow_x": null,
            "overflow_y": null,
            "padding": null,
            "right": null,
            "top": null,
            "visibility": null,
            "width": null
          }
        },
        "bcf13adf68f54fa2ae000726d325ecc7": {
          "model_module": "@jupyter-widgets/base",
          "model_name": "LayoutModel",
          "model_module_version": "1.2.0",
          "state": {
            "_model_module": "@jupyter-widgets/base",
            "_model_module_version": "1.2.0",
            "_model_name": "LayoutModel",
            "_view_count": null,
            "_view_module": "@jupyter-widgets/base",
            "_view_module_version": "1.2.0",
            "_view_name": "LayoutView",
            "align_content": null,
            "align_items": null,
            "align_self": null,
            "border": null,
            "bottom": null,
            "display": null,
            "flex": null,
            "flex_flow": null,
            "grid_area": null,
            "grid_auto_columns": null,
            "grid_auto_flow": null,
            "grid_auto_rows": null,
            "grid_column": null,
            "grid_gap": null,
            "grid_row": null,
            "grid_template_areas": null,
            "grid_template_columns": null,
            "grid_template_rows": null,
            "height": null,
            "justify_content": null,
            "justify_items": null,
            "left": null,
            "margin": null,
            "max_height": null,
            "max_width": null,
            "min_height": null,
            "min_width": null,
            "object_fit": null,
            "object_position": null,
            "order": null,
            "overflow": null,
            "overflow_x": null,
            "overflow_y": null,
            "padding": null,
            "right": null,
            "top": null,
            "visibility": null,
            "width": null
          }
        },
        "5828e8cb2c6f4849ac0036457ee8df39": {
          "model_module": "@jupyter-widgets/controls",
          "model_name": "DescriptionStyleModel",
          "model_module_version": "1.5.0",
          "state": {
            "_model_module": "@jupyter-widgets/controls",
            "_model_module_version": "1.5.0",
            "_model_name": "DescriptionStyleModel",
            "_view_count": null,
            "_view_module": "@jupyter-widgets/base",
            "_view_module_version": "1.2.0",
            "_view_name": "StyleView",
            "description_width": ""
          }
        },
        "0f9a5376ca0d4dc483f4067518270a68": {
          "model_module": "@jupyter-widgets/base",
          "model_name": "LayoutModel",
          "model_module_version": "1.2.0",
          "state": {
            "_model_module": "@jupyter-widgets/base",
            "_model_module_version": "1.2.0",
            "_model_name": "LayoutModel",
            "_view_count": null,
            "_view_module": "@jupyter-widgets/base",
            "_view_module_version": "1.2.0",
            "_view_name": "LayoutView",
            "align_content": null,
            "align_items": null,
            "align_self": null,
            "border": null,
            "bottom": null,
            "display": null,
            "flex": null,
            "flex_flow": null,
            "grid_area": null,
            "grid_auto_columns": null,
            "grid_auto_flow": null,
            "grid_auto_rows": null,
            "grid_column": null,
            "grid_gap": null,
            "grid_row": null,
            "grid_template_areas": null,
            "grid_template_columns": null,
            "grid_template_rows": null,
            "height": null,
            "justify_content": null,
            "justify_items": null,
            "left": null,
            "margin": null,
            "max_height": null,
            "max_width": null,
            "min_height": null,
            "min_width": null,
            "object_fit": null,
            "object_position": null,
            "order": null,
            "overflow": null,
            "overflow_x": null,
            "overflow_y": null,
            "padding": null,
            "right": null,
            "top": null,
            "visibility": null,
            "width": null
          }
        },
        "27b8f6164ce14c69bb8b9e418b958ed4": {
          "model_module": "@jupyter-widgets/controls",
          "model_name": "ProgressStyleModel",
          "model_module_version": "1.5.0",
          "state": {
            "_model_module": "@jupyter-widgets/controls",
            "_model_module_version": "1.5.0",
            "_model_name": "ProgressStyleModel",
            "_view_count": null,
            "_view_module": "@jupyter-widgets/base",
            "_view_module_version": "1.2.0",
            "_view_name": "StyleView",
            "bar_color": null,
            "description_width": ""
          }
        },
        "393235139a0c48f597e6d7fc41386164": {
          "model_module": "@jupyter-widgets/base",
          "model_name": "LayoutModel",
          "model_module_version": "1.2.0",
          "state": {
            "_model_module": "@jupyter-widgets/base",
            "_model_module_version": "1.2.0",
            "_model_name": "LayoutModel",
            "_view_count": null,
            "_view_module": "@jupyter-widgets/base",
            "_view_module_version": "1.2.0",
            "_view_name": "LayoutView",
            "align_content": null,
            "align_items": null,
            "align_self": null,
            "border": null,
            "bottom": null,
            "display": null,
            "flex": null,
            "flex_flow": null,
            "grid_area": null,
            "grid_auto_columns": null,
            "grid_auto_flow": null,
            "grid_auto_rows": null,
            "grid_column": null,
            "grid_gap": null,
            "grid_row": null,
            "grid_template_areas": null,
            "grid_template_columns": null,
            "grid_template_rows": null,
            "height": null,
            "justify_content": null,
            "justify_items": null,
            "left": null,
            "margin": null,
            "max_height": null,
            "max_width": null,
            "min_height": null,
            "min_width": null,
            "object_fit": null,
            "object_position": null,
            "order": null,
            "overflow": null,
            "overflow_x": null,
            "overflow_y": null,
            "padding": null,
            "right": null,
            "top": null,
            "visibility": null,
            "width": null
          }
        },
        "70c6e237dde64c6a9b1360edf07246a7": {
          "model_module": "@jupyter-widgets/controls",
          "model_name": "DescriptionStyleModel",
          "model_module_version": "1.5.0",
          "state": {
            "_model_module": "@jupyter-widgets/controls",
            "_model_module_version": "1.5.0",
            "_model_name": "DescriptionStyleModel",
            "_view_count": null,
            "_view_module": "@jupyter-widgets/base",
            "_view_module_version": "1.2.0",
            "_view_name": "StyleView",
            "description_width": ""
          }
        }
      }
    }
  },
  "cells": [
    {
      "cell_type": "markdown",
      "source": [
        "# Example 1: Query a table with SQL and magic commands"
      ],
      "metadata": {
        "id": "VI0xLxmm7HBa"
      }
    },
    {
      "cell_type": "code",
      "source": [
        "# Running this code will query a table in BigQuery and download\n",
        "# the results to a Pandas DataFrame named `results`.\n",
        "# Learn more here: https://cloud.google.com/bigquery/docs/visualize-jupyter\n",
        "\n",
        "%%bigquery results --project marketcheck-demo\n",
        "SELECT * FROM `marketcheck-demo.demo.derived_neovin_inventory` #this table name was set based on the table you chose to query"
      ],
      "metadata": {
        "id": "7apwrP5jxUGW",
        "colab": {
          "base_uri": "https://localhost:8080/",
          "height": 81,
          "referenced_widgets": [
            "d5028b4797b44fcca7bece794c5d18eb",
            "0c1213ed840e45eba691bdeeeb6ae73c",
            "63df22223b5645f49c1a669a82ea3439",
            "02fae30594234f1dba88ca8a4874d24c",
            "be5ee1321e7d4447b51a23ce1df54d1c",
            "93ebfd42755e4ea9b968b29854dabf28",
            "bdb486d3d1044bd08e73d7a4c9958f98",
            "0c18b6f7e11f45b4be7b55ee2c16ccee",
            "b6a3f2cd914941f18b7ecbf40ed8dfcf",
            "b3b791fc88b54e889749ed46bd3c5768",
            "74391024fc5940e88e19e31b8a20c438",
            "22567be6bf5d4456b304233cac36c445",
            "a10bd834213a4c69a73ea6516425a822",
            "3551d19a94c94a3a81e419fb6f4b3068",
            "142a2261d5dd4f598294d4744303b1a5",
            "5bc8176677b2458696e5e400770df4a7",
            "bcf13adf68f54fa2ae000726d325ecc7",
            "5828e8cb2c6f4849ac0036457ee8df39",
            "0f9a5376ca0d4dc483f4067518270a68",
            "27b8f6164ce14c69bb8b9e418b958ed4",
            "393235139a0c48f597e6d7fc41386164",
            "70c6e237dde64c6a9b1360edf07246a7"
          ]
        },
        "executionInfo": {
          "status": "ok",
          "timestamp": 1729190408532,
          "user_tz": 240,
          "elapsed": 7558,
          "user": {
            "displayName": "",
            "userId": ""
          }
        },
        "outputId": "6f3542bc-9d00-4ede-f2b8-5a5635eea776"
      },
      "execution_count": null,
      "outputs": [
        {
          "output_type": "display_data",
          "data": {
            "text/plain": [
              "Query is running:   0%|          |"
            ],
            "application/vnd.jupyter.widget-view+json": {
              "version_major": 2,
              "version_minor": 0,
              "model_id": "d5028b4797b44fcca7bece794c5d18eb"
            }
          },
          "metadata": {}
        },
        {
          "output_type": "display_data",
          "data": {
            "text/plain": [
              "Downloading:   0%|          |"
            ],
            "application/vnd.jupyter.widget-view+json": {
              "version_major": 2,
              "version_minor": 0,
              "model_id": "22567be6bf5d4456b304233cac36c445"
            }
          },
          "metadata": {}
        }
      ]
    },
    {
      "cell_type": "code",
      "source": [
        "# You can view the resulting Pandas DataFrame and work with using the Pandas library.\n",
        "# https://pandas.pydata.org/docs/getting_started/index.html#getting-started\n",
        "results"
      ],
      "metadata": {
        "id": "itFJzBFNr72l",
        "colab": {
          "base_uri": "https://localhost:8080/",
          "height": 774
        },
        "executionInfo": {
          "status": "ok",
          "timestamp": 1729190408533,
          "user_tz": 240,
          "elapsed": 5,
          "user": {
            "displayName": "",
            "userId": ""
          }
        },
        "outputId": "363e539a-73b8-49b8-e0e8-7c214a980339"
      },
      "execution_count": null,
      "outputs": [
        {
          "output_type": "execute_result",
          "data": {
            "text/plain": [
              "       price   miles    stock_no              neo_listing_confidence  \\\n",
              "0      34999   14601        7210                                None   \n",
              "1       <NA>  169292        None                                None   \n",
              "2      12000   56929        None                                None   \n",
              "3      60000   34383  PMA240149A                                None   \n",
              "4      20701   75771        None                                None   \n",
              "...      ...     ...         ...                                 ...   \n",
              "49995  37773   30570     P62279A  mc_listings|new|dealer|franchise|1   \n",
              "49996  37999   19996     G20894A                      mc_build_specs   \n",
              "49997  35990   72395    FT33161A                      mc_build_specs   \n",
              "49998  37487   39237   24035020A                      mc_build_specs   \n",
              "49999  33995   27693      20836A                      mc_build_specs   \n",
              "\n",
              "       neo_year   neo_make      neo_model      neo_trim  \\\n",
              "0          2013  Chevrolet  Express G3500          None   \n",
              "1          2013     Toyota        Corolla          None   \n",
              "2          1985      Mazda            RX7          None   \n",
              "3          2022    Porsche        Cayenne          None   \n",
              "4          2021    Hyundai         Sonata          None   \n",
              "...         ...        ...            ...           ...   \n",
              "49995      2021     Toyota         Tacoma  TRD Off Road   \n",
              "49996      2021     Toyota         Tacoma  TRD Off Road   \n",
              "49997      2021     Toyota         Tacoma  TRD Off Road   \n",
              "49998      2021     Toyota         Tacoma  TRD Off Road   \n",
              "49999      2021     Toyota         Tacoma           SR5   \n",
              "\n",
              "                                     neo_trim_confidence  \\\n",
              "0                                                   None   \n",
              "1                                                   None   \n",
              "2                                                   None   \n",
              "3                                                   None   \n",
              "4                                                   None   \n",
              "...                                                  ...   \n",
              "49995  mc_listings|new|dealer|franchise|orig|exact_match   \n",
              "49996              mc_build_specs|cf_heading|fuzzy_match   \n",
              "49997          mc_build_specs|cf_description|fuzzy_match   \n",
              "49998              mc_build_specs|cf_heading|fuzzy_match   \n",
              "49999              mc_build_specs|cf_heading|exact_match   \n",
              "\n",
              "                                  neo_version  ... in_transit dos_active  \\\n",
              "0                                        None  ...          0         50   \n",
              "1                                        None  ...          0        252   \n",
              "2                                        None  ...          0        913   \n",
              "3                                        None  ...          0         13   \n",
              "4                                        None  ...          0        138   \n",
              "...                                       ...  ...        ...        ...   \n",
              "49995  TRD Off Road Double Cab 4WD V6 Auto SB  ...          0         16   \n",
              "49996  TRD Off Road Double Cab 4WD V6 Auto SB  ...          0        102   \n",
              "49997  TRD Off Road Double Cab 4WD V6 Auto SB  ...          0         21   \n",
              "49998  TRD Off Road Double Cab 4WD V6 Auto SB  ...          0         11   \n",
              "49999      SR5 Access Cab 4WD V6 Auto Std Bed  ...          0         49   \n",
              "\n",
              "            mc_category mc_dealer_id mc_location_id mc_website_id  \\\n",
              "0                Dealer      1103853        1409803      11012220   \n",
              "1                Dealer      1099879        1421446      10014340   \n",
              "2                Dealer      1158022        1418952      10043826   \n",
              "3                Dealer      1153075        1393018       1019646   \n",
              "4                Dealer      1107268        1420337      10034173   \n",
              "...                 ...          ...            ...           ...   \n",
              "49995            Dealer      1113537        1310663       1015942   \n",
              "49996            Dealer      1127163        1399144       1014768   \n",
              "49997            Dealer      1202078        1546263       1050419   \n",
              "49998            Dealer      1125495        1415713       1005833   \n",
              "49999  Dealership Group      1127389        1358489       1074619   \n",
              "\n",
              "      mc_rooftop_id is_searchable  first_scraped_age               make_model  \n",
              "0            498140             1                  0  Chevrolet Express G3500  \n",
              "1            171514             1                 11           Toyota Corolla  \n",
              "2            252067             1                  2                Mazda RX7  \n",
              "3            320911             0                  3          Porsche Cayenne  \n",
              "4            618443             1                  4           Hyundai Sonata  \n",
              "...             ...           ...                ...                      ...  \n",
              "49995        450098             0                  3            Toyota Tacoma  \n",
              "49996        503239             0                  3            Toyota Tacoma  \n",
              "49997        715794             0                  3            Toyota Tacoma  \n",
              "49998        741439             0                  3            Toyota Tacoma  \n",
              "49999        600621             0                  3            Toyota Tacoma  \n",
              "\n",
              "[50000 rows x 61 columns]"
            ],
            "text/html": [
              "\n",
              "  <div id=\"df-7ca818ef-1558-4064-904a-80ccea3ec004\" class=\"colab-df-container\">\n",
              "    <div>\n",
              "<style scoped>\n",
              "    .dataframe tbody tr th:only-of-type {\n",
              "        vertical-align: middle;\n",
              "    }\n",
              "\n",
              "    .dataframe tbody tr th {\n",
              "        vertical-align: top;\n",
              "    }\n",
              "\n",
              "    .dataframe thead th {\n",
              "        text-align: right;\n",
              "    }\n",
              "</style>\n",
              "<table border=\"1\" class=\"dataframe\">\n",
              "  <thead>\n",
              "    <tr style=\"text-align: right;\">\n",
              "      <th></th>\n",
              "      <th>price</th>\n",
              "      <th>miles</th>\n",
              "      <th>stock_no</th>\n",
              "      <th>neo_listing_confidence</th>\n",
              "      <th>neo_year</th>\n",
              "      <th>neo_make</th>\n",
              "      <th>neo_model</th>\n",
              "      <th>neo_trim</th>\n",
              "      <th>neo_trim_confidence</th>\n",
              "      <th>neo_version</th>\n",
              "      <th>...</th>\n",
              "      <th>in_transit</th>\n",
              "      <th>dos_active</th>\n",
              "      <th>mc_category</th>\n",
              "      <th>mc_dealer_id</th>\n",
              "      <th>mc_location_id</th>\n",
              "      <th>mc_website_id</th>\n",
              "      <th>mc_rooftop_id</th>\n",
              "      <th>is_searchable</th>\n",
              "      <th>first_scraped_age</th>\n",
              "      <th>make_model</th>\n",
              "    </tr>\n",
              "  </thead>\n",
              "  <tbody>\n",
              "    <tr>\n",
              "      <th>0</th>\n",
              "      <td>34999</td>\n",
              "      <td>14601</td>\n",
              "      <td>7210</td>\n",
              "      <td>None</td>\n",
              "      <td>2013</td>\n",
              "      <td>Chevrolet</td>\n",
              "      <td>Express G3500</td>\n",
              "      <td>None</td>\n",
              "      <td>None</td>\n",
              "      <td>None</td>\n",
              "      <td>...</td>\n",
              "      <td>0</td>\n",
              "      <td>50</td>\n",
              "      <td>Dealer</td>\n",
              "      <td>1103853</td>\n",
              "      <td>1409803</td>\n",
              "      <td>11012220</td>\n",
              "      <td>498140</td>\n",
              "      <td>1</td>\n",
              "      <td>0</td>\n",
              "      <td>Chevrolet Express G3500</td>\n",
              "    </tr>\n",
              "    <tr>\n",
              "      <th>1</th>\n",
              "      <td>&lt;NA&gt;</td>\n",
              "      <td>169292</td>\n",
              "      <td>None</td>\n",
              "      <td>None</td>\n",
              "      <td>2013</td>\n",
              "      <td>Toyota</td>\n",
              "      <td>Corolla</td>\n",
              "      <td>None</td>\n",
              "      <td>None</td>\n",
              "      <td>None</td>\n",
              "      <td>...</td>\n",
              "      <td>0</td>\n",
              "      <td>252</td>\n",
              "      <td>Dealer</td>\n",
              "      <td>1099879</td>\n",
              "      <td>1421446</td>\n",
              "      <td>10014340</td>\n",
              "      <td>171514</td>\n",
              "      <td>1</td>\n",
              "      <td>11</td>\n",
              "      <td>Toyota Corolla</td>\n",
              "    </tr>\n",
              "    <tr>\n",
              "      <th>2</th>\n",
              "      <td>12000</td>\n",
              "      <td>56929</td>\n",
              "      <td>None</td>\n",
              "      <td>None</td>\n",
              "      <td>1985</td>\n",
              "      <td>Mazda</td>\n",
              "      <td>RX7</td>\n",
              "      <td>None</td>\n",
              "      <td>None</td>\n",
              "      <td>None</td>\n",
              "      <td>...</td>\n",
              "      <td>0</td>\n",
              "      <td>913</td>\n",
              "      <td>Dealer</td>\n",
              "      <td>1158022</td>\n",
              "      <td>1418952</td>\n",
              "      <td>10043826</td>\n",
              "      <td>252067</td>\n",
              "      <td>1</td>\n",
              "      <td>2</td>\n",
              "      <td>Mazda RX7</td>\n",
              "    </tr>\n",
              "    <tr>\n",
              "      <th>3</th>\n",
              "      <td>60000</td>\n",
              "      <td>34383</td>\n",
              "      <td>PMA240149A</td>\n",
              "      <td>None</td>\n",
              "      <td>2022</td>\n",
              "      <td>Porsche</td>\n",
              "      <td>Cayenne</td>\n",
              "      <td>None</td>\n",
              "      <td>None</td>\n",
              "      <td>None</td>\n",
              "      <td>...</td>\n",
              "      <td>0</td>\n",
              "      <td>13</td>\n",
              "      <td>Dealer</td>\n",
              "      <td>1153075</td>\n",
              "      <td>1393018</td>\n",
              "      <td>1019646</td>\n",
              "      <td>320911</td>\n",
              "      <td>0</td>\n",
              "      <td>3</td>\n",
              "      <td>Porsche Cayenne</td>\n",
              "    </tr>\n",
              "    <tr>\n",
              "      <th>4</th>\n",
              "      <td>20701</td>\n",
              "      <td>75771</td>\n",
              "      <td>None</td>\n",
              "      <td>None</td>\n",
              "      <td>2021</td>\n",
              "      <td>Hyundai</td>\n",
              "      <td>Sonata</td>\n",
              "      <td>None</td>\n",
              "      <td>None</td>\n",
              "      <td>None</td>\n",
              "      <td>...</td>\n",
              "      <td>0</td>\n",
              "      <td>138</td>\n",
              "      <td>Dealer</td>\n",
              "      <td>1107268</td>\n",
              "      <td>1420337</td>\n",
              "      <td>10034173</td>\n",
              "      <td>618443</td>\n",
              "      <td>1</td>\n",
              "      <td>4</td>\n",
              "      <td>Hyundai Sonata</td>\n",
              "    </tr>\n",
              "    <tr>\n",
              "      <th>...</th>\n",
              "      <td>...</td>\n",
              "      <td>...</td>\n",
              "      <td>...</td>\n",
              "      <td>...</td>\n",
              "      <td>...</td>\n",
              "      <td>...</td>\n",
              "      <td>...</td>\n",
              "      <td>...</td>\n",
              "      <td>...</td>\n",
              "      <td>...</td>\n",
              "      <td>...</td>\n",
              "      <td>...</td>\n",
              "      <td>...</td>\n",
              "      <td>...</td>\n",
              "      <td>...</td>\n",
              "      <td>...</td>\n",
              "      <td>...</td>\n",
              "      <td>...</td>\n",
              "      <td>...</td>\n",
              "      <td>...</td>\n",
              "      <td>...</td>\n",
              "    </tr>\n",
              "    <tr>\n",
              "      <th>49995</th>\n",
              "      <td>37773</td>\n",
              "      <td>30570</td>\n",
              "      <td>P62279A</td>\n",
              "      <td>mc_listings|new|dealer|franchise|1</td>\n",
              "      <td>2021</td>\n",
              "      <td>Toyota</td>\n",
              "      <td>Tacoma</td>\n",
              "      <td>TRD Off Road</td>\n",
              "      <td>mc_listings|new|dealer|franchise|orig|exact_match</td>\n",
              "      <td>TRD Off Road Double Cab 4WD V6 Auto SB</td>\n",
              "      <td>...</td>\n",
              "      <td>0</td>\n",
              "      <td>16</td>\n",
              "      <td>Dealer</td>\n",
              "      <td>1113537</td>\n",
              "      <td>1310663</td>\n",
              "      <td>1015942</td>\n",
              "      <td>450098</td>\n",
              "      <td>0</td>\n",
              "      <td>3</td>\n",
              "      <td>Toyota Tacoma</td>\n",
              "    </tr>\n",
              "    <tr>\n",
              "      <th>49996</th>\n",
              "      <td>37999</td>\n",
              "      <td>19996</td>\n",
              "      <td>G20894A</td>\n",
              "      <td>mc_build_specs</td>\n",
              "      <td>2021</td>\n",
              "      <td>Toyota</td>\n",
              "      <td>Tacoma</td>\n",
              "      <td>TRD Off Road</td>\n",
              "      <td>mc_build_specs|cf_heading|fuzzy_match</td>\n",
              "      <td>TRD Off Road Double Cab 4WD V6 Auto SB</td>\n",
              "      <td>...</td>\n",
              "      <td>0</td>\n",
              "      <td>102</td>\n",
              "      <td>Dealer</td>\n",
              "      <td>1127163</td>\n",
              "      <td>1399144</td>\n",
              "      <td>1014768</td>\n",
              "      <td>503239</td>\n",
              "      <td>0</td>\n",
              "      <td>3</td>\n",
              "      <td>Toyota Tacoma</td>\n",
              "    </tr>\n",
              "    <tr>\n",
              "      <th>49997</th>\n",
              "      <td>35990</td>\n",
              "      <td>72395</td>\n",
              "      <td>FT33161A</td>\n",
              "      <td>mc_build_specs</td>\n",
              "      <td>2021</td>\n",
              "      <td>Toyota</td>\n",
              "      <td>Tacoma</td>\n",
              "      <td>TRD Off Road</td>\n",
              "      <td>mc_build_specs|cf_description|fuzzy_match</td>\n",
              "      <td>TRD Off Road Double Cab 4WD V6 Auto SB</td>\n",
              "      <td>...</td>\n",
              "      <td>0</td>\n",
              "      <td>21</td>\n",
              "      <td>Dealer</td>\n",
              "      <td>1202078</td>\n",
              "      <td>1546263</td>\n",
              "      <td>1050419</td>\n",
              "      <td>715794</td>\n",
              "      <td>0</td>\n",
              "      <td>3</td>\n",
              "      <td>Toyota Tacoma</td>\n",
              "    </tr>\n",
              "    <tr>\n",
              "      <th>49998</th>\n",
              "      <td>37487</td>\n",
              "      <td>39237</td>\n",
              "      <td>24035020A</td>\n",
              "      <td>mc_build_specs</td>\n",
              "      <td>2021</td>\n",
              "      <td>Toyota</td>\n",
              "      <td>Tacoma</td>\n",
              "      <td>TRD Off Road</td>\n",
              "      <td>mc_build_specs|cf_heading|fuzzy_match</td>\n",
              "      <td>TRD Off Road Double Cab 4WD V6 Auto SB</td>\n",
              "      <td>...</td>\n",
              "      <td>0</td>\n",
              "      <td>11</td>\n",
              "      <td>Dealer</td>\n",
              "      <td>1125495</td>\n",
              "      <td>1415713</td>\n",
              "      <td>1005833</td>\n",
              "      <td>741439</td>\n",
              "      <td>0</td>\n",
              "      <td>3</td>\n",
              "      <td>Toyota Tacoma</td>\n",
              "    </tr>\n",
              "    <tr>\n",
              "      <th>49999</th>\n",
              "      <td>33995</td>\n",
              "      <td>27693</td>\n",
              "      <td>20836A</td>\n",
              "      <td>mc_build_specs</td>\n",
              "      <td>2021</td>\n",
              "      <td>Toyota</td>\n",
              "      <td>Tacoma</td>\n",
              "      <td>SR5</td>\n",
              "      <td>mc_build_specs|cf_heading|exact_match</td>\n",
              "      <td>SR5 Access Cab 4WD V6 Auto Std Bed</td>\n",
              "      <td>...</td>\n",
              "      <td>0</td>\n",
              "      <td>49</td>\n",
              "      <td>Dealership Group</td>\n",
              "      <td>1127389</td>\n",
              "      <td>1358489</td>\n",
              "      <td>1074619</td>\n",
              "      <td>600621</td>\n",
              "      <td>0</td>\n",
              "      <td>3</td>\n",
              "      <td>Toyota Tacoma</td>\n",
              "    </tr>\n",
              "  </tbody>\n",
              "</table>\n",
              "<p>50000 rows × 61 columns</p>\n",
              "</div>\n",
              "    <div class=\"colab-df-buttons\">\n",
              "\n",
              "  <div class=\"colab-df-container\">\n",
              "    <button class=\"colab-df-convert\" onclick=\"convertToInteractive('df-7ca818ef-1558-4064-904a-80ccea3ec004')\"\n",
              "            title=\"Convert this dataframe to an interactive table.\"\n",
              "            style=\"display:none;\">\n",
              "\n",
              "  <svg xmlns=\"http://www.w3.org/2000/svg\" height=\"24px\" viewBox=\"0 -960 960 960\">\n",
              "    <path d=\"M120-120v-720h720v720H120Zm60-500h600v-160H180v160Zm220 220h160v-160H400v160Zm0 220h160v-160H400v160ZM180-400h160v-160H180v160Zm440 0h160v-160H620v160ZM180-180h160v-160H180v160Zm440 0h160v-160H620v160Z\"/>\n",
              "  </svg>\n",
              "    </button>\n",
              "\n",
              "  <style>\n",
              "    .colab-df-container {\n",
              "      display:flex;\n",
              "      gap: 12px;\n",
              "    }\n",
              "\n",
              "    .colab-df-convert {\n",
              "      background-color: #E8F0FE;\n",
              "      border: none;\n",
              "      border-radius: 50%;\n",
              "      cursor: pointer;\n",
              "      display: none;\n",
              "      fill: #1967D2;\n",
              "      height: 32px;\n",
              "      padding: 0 0 0 0;\n",
              "      width: 32px;\n",
              "    }\n",
              "\n",
              "    .colab-df-convert:hover {\n",
              "      background-color: #E2EBFA;\n",
              "      box-shadow: 0px 1px 2px rgba(60, 64, 67, 0.3), 0px 1px 3px 1px rgba(60, 64, 67, 0.15);\n",
              "      fill: #174EA6;\n",
              "    }\n",
              "\n",
              "    .colab-df-buttons div {\n",
              "      margin-bottom: 4px;\n",
              "    }\n",
              "\n",
              "    [theme=dark] .colab-df-convert {\n",
              "      background-color: #3B4455;\n",
              "      fill: #D2E3FC;\n",
              "    }\n",
              "\n",
              "    [theme=dark] .colab-df-convert:hover {\n",
              "      background-color: #434B5C;\n",
              "      box-shadow: 0px 1px 3px 1px rgba(0, 0, 0, 0.15);\n",
              "      filter: drop-shadow(0px 1px 2px rgba(0, 0, 0, 0.3));\n",
              "      fill: #FFFFFF;\n",
              "    }\n",
              "  </style>\n",
              "\n",
              "    <script>\n",
              "      const buttonEl =\n",
              "        document.querySelector('#df-7ca818ef-1558-4064-904a-80ccea3ec004 button.colab-df-convert');\n",
              "      buttonEl.style.display =\n",
              "        google.colab.kernel.accessAllowed ? 'block' : 'none';\n",
              "\n",
              "      async function convertToInteractive(key) {\n",
              "        const element = document.querySelector('#df-7ca818ef-1558-4064-904a-80ccea3ec004');\n",
              "        const dataTable =\n",
              "          await google.colab.kernel.invokeFunction('convertToInteractive',\n",
              "                                                    [key], {});\n",
              "        if (!dataTable) return;\n",
              "\n",
              "        const docLinkHtml = 'Like what you see? Visit the ' +\n",
              "          '<a target=\"_blank\" href=https://colab.research.google.com/notebooks/data_table.ipynb>data table notebook</a>'\n",
              "          + ' to learn more about interactive tables.';\n",
              "        element.innerHTML = '';\n",
              "        dataTable['output_type'] = 'display_data';\n",
              "        await google.colab.output.renderOutput(dataTable, element);\n",
              "        const docLink = document.createElement('div');\n",
              "        docLink.innerHTML = docLinkHtml;\n",
              "        element.appendChild(docLink);\n",
              "      }\n",
              "    </script>\n",
              "  </div>\n",
              "\n",
              "\n",
              "<div id=\"df-991ef48e-850f-4a29-aab9-3c54552ba8d0\">\n",
              "  <button class=\"colab-df-quickchart\" onclick=\"quickchart('df-991ef48e-850f-4a29-aab9-3c54552ba8d0')\"\n",
              "            title=\"Suggest charts\"\n",
              "            style=\"display:none;\">\n",
              "\n",
              "<svg xmlns=\"http://www.w3.org/2000/svg\" height=\"24px\"viewBox=\"0 0 24 24\"\n",
              "     width=\"24px\">\n",
              "    <g>\n",
              "        <path d=\"M19 3H5c-1.1 0-2 .9-2 2v14c0 1.1.9 2 2 2h14c1.1 0 2-.9 2-2V5c0-1.1-.9-2-2-2zM9 17H7v-7h2v7zm4 0h-2V7h2v10zm4 0h-2v-4h2v4z\"/>\n",
              "    </g>\n",
              "</svg>\n",
              "  </button>\n",
              "\n",
              "<style>\n",
              "  .colab-df-quickchart {\n",
              "      --bg-color: #E8F0FE;\n",
              "      --fill-color: #1967D2;\n",
              "      --hover-bg-color: #E2EBFA;\n",
              "      --hover-fill-color: #174EA6;\n",
              "      --disabled-fill-color: #AAA;\n",
              "      --disabled-bg-color: #DDD;\n",
              "  }\n",
              "\n",
              "  [theme=dark] .colab-df-quickchart {\n",
              "      --bg-color: #3B4455;\n",
              "      --fill-color: #D2E3FC;\n",
              "      --hover-bg-color: #434B5C;\n",
              "      --hover-fill-color: #FFFFFF;\n",
              "      --disabled-bg-color: #3B4455;\n",
              "      --disabled-fill-color: #666;\n",
              "  }\n",
              "\n",
              "  .colab-df-quickchart {\n",
              "    background-color: var(--bg-color);\n",
              "    border: none;\n",
              "    border-radius: 50%;\n",
              "    cursor: pointer;\n",
              "    display: none;\n",
              "    fill: var(--fill-color);\n",
              "    height: 32px;\n",
              "    padding: 0;\n",
              "    width: 32px;\n",
              "  }\n",
              "\n",
              "  .colab-df-quickchart:hover {\n",
              "    background-color: var(--hover-bg-color);\n",
              "    box-shadow: 0 1px 2px rgba(60, 64, 67, 0.3), 0 1px 3px 1px rgba(60, 64, 67, 0.15);\n",
              "    fill: var(--button-hover-fill-color);\n",
              "  }\n",
              "\n",
              "  .colab-df-quickchart-complete:disabled,\n",
              "  .colab-df-quickchart-complete:disabled:hover {\n",
              "    background-color: var(--disabled-bg-color);\n",
              "    fill: var(--disabled-fill-color);\n",
              "    box-shadow: none;\n",
              "  }\n",
              "\n",
              "  .colab-df-spinner {\n",
              "    border: 2px solid var(--fill-color);\n",
              "    border-color: transparent;\n",
              "    border-bottom-color: var(--fill-color);\n",
              "    animation:\n",
              "      spin 1s steps(1) infinite;\n",
              "  }\n",
              "\n",
              "  @keyframes spin {\n",
              "    0% {\n",
              "      border-color: transparent;\n",
              "      border-bottom-color: var(--fill-color);\n",
              "      border-left-color: var(--fill-color);\n",
              "    }\n",
              "    20% {\n",
              "      border-color: transparent;\n",
              "      border-left-color: var(--fill-color);\n",
              "      border-top-color: var(--fill-color);\n",
              "    }\n",
              "    30% {\n",
              "      border-color: transparent;\n",
              "      border-left-color: var(--fill-color);\n",
              "      border-top-color: var(--fill-color);\n",
              "      border-right-color: var(--fill-color);\n",
              "    }\n",
              "    40% {\n",
              "      border-color: transparent;\n",
              "      border-right-color: var(--fill-color);\n",
              "      border-top-color: var(--fill-color);\n",
              "    }\n",
              "    60% {\n",
              "      border-color: transparent;\n",
              "      border-right-color: var(--fill-color);\n",
              "    }\n",
              "    80% {\n",
              "      border-color: transparent;\n",
              "      border-right-color: var(--fill-color);\n",
              "      border-bottom-color: var(--fill-color);\n",
              "    }\n",
              "    90% {\n",
              "      border-color: transparent;\n",
              "      border-bottom-color: var(--fill-color);\n",
              "    }\n",
              "  }\n",
              "</style>\n",
              "\n",
              "  <script>\n",
              "    async function quickchart(key) {\n",
              "      const quickchartButtonEl =\n",
              "        document.querySelector('#' + key + ' button');\n",
              "      quickchartButtonEl.disabled = true;  // To prevent multiple clicks.\n",
              "      quickchartButtonEl.classList.add('colab-df-spinner');\n",
              "      try {\n",
              "        const charts = await google.colab.kernel.invokeFunction(\n",
              "            'suggestCharts', [key], {});\n",
              "      } catch (error) {\n",
              "        console.error('Error during call to suggestCharts:', error);\n",
              "      }\n",
              "      quickchartButtonEl.classList.remove('colab-df-spinner');\n",
              "      quickchartButtonEl.classList.add('colab-df-quickchart-complete');\n",
              "    }\n",
              "    (() => {\n",
              "      let quickchartButtonEl =\n",
              "        document.querySelector('#df-991ef48e-850f-4a29-aab9-3c54552ba8d0 button');\n",
              "      quickchartButtonEl.style.display =\n",
              "        google.colab.kernel.accessAllowed ? 'block' : 'none';\n",
              "    })();\n",
              "  </script>\n",
              "</div>\n",
              "    </div>\n",
              "  </div>\n"
            ]
          },
          "metadata": {},
          "execution_count": 2
        }
      ]
    },
    {
      "cell_type": "markdown",
      "source": [
        "# Example 2: Query a table with BigQuery DataFrames"
      ],
      "metadata": {
        "id": "PYt5QGSf67N3"
      }
    },
    {
      "cell_type": "code",
      "source": [
        "# With BigQuery DataFrames, you can use many familiar Pandas methods, but the\n",
        "# processing happens BigQuery rather than the runtime, allowing you to work with larger\n",
        "# DataFrames that would otherwise not fit in the runtime memory.\n",
        "# Learn more here: https://cloud.google.com/python/docs/reference/bigframes/latest\n",
        "\n",
        "import bigframes.pandas as bf\n",
        "\n",
        "bf.options.bigquery.location = \"US\" #this variable is set based on the dataset you chose to query\n",
        "bf.options.bigquery.project = \"marketcheck-demo\" #this variable is set based on the dataset you chose to query"
      ],
      "metadata": {
        "id": "tJSfAiHycbAj"
      },
      "execution_count": null,
      "outputs": []
    },
    {
      "cell_type": "code",
      "source": [
        "df = bf.read_gbq(\"marketcheck-demo.demo.derived_neovin_inventory\") #this variable is set based on the dataset you chose to query"
      ],
      "metadata": {
        "id": "fUsQzlgjiA_G",
        "colab": {
          "base_uri": "https://localhost:8080/"
        },
        "executionInfo": {
          "status": "ok",
          "timestamp": 1729190660023,
          "user_tz": 240,
          "elapsed": 2333,
          "user": {
            "displayName": "",
            "userId": ""
          }
        },
        "outputId": "f00abbd1-a19d-4448-eb2e-90695a605878"
      },
      "execution_count": null,
      "outputs": [
        {
          "output_type": "stream",
          "name": "stdout",
          "text": [
            "WARNING: google.colab.auth.authenticate_user() is not supported in Colab Enterprise.\n"
          ]
        }
      ]
    },
    {
      "cell_type": "code",
      "source": [
        "# BigFrames can work with tables that are too large to fit in the notebook memory.\n",
        "# Look at the first 20 rows.\n",
        "df.head(1)"
      ],
      "metadata": {
        "id": "YQguJBV6iRSI",
        "colab": {
          "base_uri": "https://localhost:8080/",
          "height": 182
        },
        "executionInfo": {
          "status": "ok",
          "timestamp": 1729025246713,
          "user_tz": 240,
          "elapsed": 10722,
          "user": {
            "displayName": "",
            "userId": ""
          }
        },
        "outputId": "32f4e412-5260-4be1-e6e7-59803d752f1a"
      },
      "execution_count": null,
      "outputs": [
        {
          "output_type": "display_data",
          "data": {
            "text/plain": [
              "<IPython.core.display.HTML object>"
            ],
            "text/html": [
              "Query job 88d84fea-ccef-4dda-b8e4-e7fefd450044 is DONE. 349.3 MB processed. <a target=\"_blank\" href=\"https://console.cloud.google.com/bigquery?project=marketcheck-demo&j=bq:US:88d84fea-ccef-4dda-b8e4-e7fefd450044&page=queryresults\">Open Job</a>"
            ]
          },
          "metadata": {}
        },
        {
          "output_type": "display_data",
          "data": {
            "text/plain": [
              "<IPython.core.display.HTML object>"
            ],
            "text/html": [
              "Query job ca815114-9e6c-4315-a355-fef3201dbe72 is DONE. 5.4 kB processed. <a target=\"_blank\" href=\"https://console.cloud.google.com/bigquery?project=marketcheck-demo&j=bq:US:ca815114-9e6c-4315-a355-fef3201dbe72&page=queryresults\">Open Job</a>"
            ]
          },
          "metadata": {}
        },
        {
          "output_type": "execute_result",
          "data": {
            "text/plain": [
              "   price  miles stock_no              neo_listing_confidence  neo_year  \\\n",
              "0  30998  24124    23124  mc_listings|new|dealer|franchise|2      2022   \n",
              "\n",
              "  neo_make neo_model neo_trim neo_trim_confidence neo_version  ... in_transit  \\\n",
              "0    Honda      CR-V     EX-L           spec_data    EX-L AWD  ...          0   \n",
              "\n",
              "  dos_active mc_category mc_dealer_id mc_location_id mc_website_id  \\\n",
              "0          4      Dealer      1184440        1404346      11027708   \n",
              "\n",
              "  mc_rooftop_id is_searchable  first_scraped_age  make_model  \n",
              "0        874856             0                  2  Honda CR-V  \n",
              "\n",
              "[1 rows x 61 columns]"
            ],
            "text/html": [
              "<div>\n",
              "<style scoped>\n",
              "    .dataframe tbody tr th:only-of-type {\n",
              "        vertical-align: middle;\n",
              "    }\n",
              "\n",
              "    .dataframe tbody tr th {\n",
              "        vertical-align: top;\n",
              "    }\n",
              "\n",
              "    .dataframe thead th {\n",
              "        text-align: right;\n",
              "    }\n",
              "</style>\n",
              "<table border=\"1\" class=\"dataframe\">\n",
              "  <thead>\n",
              "    <tr style=\"text-align: right;\">\n",
              "      <th></th>\n",
              "      <th>price</th>\n",
              "      <th>miles</th>\n",
              "      <th>stock_no</th>\n",
              "      <th>neo_listing_confidence</th>\n",
              "      <th>neo_year</th>\n",
              "      <th>neo_make</th>\n",
              "      <th>neo_model</th>\n",
              "      <th>neo_trim</th>\n",
              "      <th>neo_trim_confidence</th>\n",
              "      <th>neo_version</th>\n",
              "      <th>...</th>\n",
              "      <th>in_transit</th>\n",
              "      <th>dos_active</th>\n",
              "      <th>mc_category</th>\n",
              "      <th>mc_dealer_id</th>\n",
              "      <th>mc_location_id</th>\n",
              "      <th>mc_website_id</th>\n",
              "      <th>mc_rooftop_id</th>\n",
              "      <th>is_searchable</th>\n",
              "      <th>first_scraped_age</th>\n",
              "      <th>make_model</th>\n",
              "    </tr>\n",
              "  </thead>\n",
              "  <tbody>\n",
              "    <tr>\n",
              "      <th>0</th>\n",
              "      <td>30998</td>\n",
              "      <td>24124</td>\n",
              "      <td>23124</td>\n",
              "      <td>mc_listings|new|dealer|franchise|2</td>\n",
              "      <td>2022</td>\n",
              "      <td>Honda</td>\n",
              "      <td>CR-V</td>\n",
              "      <td>EX-L</td>\n",
              "      <td>spec_data</td>\n",
              "      <td>EX-L AWD</td>\n",
              "      <td>...</td>\n",
              "      <td>0</td>\n",
              "      <td>4</td>\n",
              "      <td>Dealer</td>\n",
              "      <td>1184440</td>\n",
              "      <td>1404346</td>\n",
              "      <td>11027708</td>\n",
              "      <td>874856</td>\n",
              "      <td>0</td>\n",
              "      <td>2</td>\n",
              "      <td>Honda CR-V</td>\n",
              "    </tr>\n",
              "  </tbody>\n",
              "</table>\n",
              "<p>1 rows × 61 columns</p>\n",
              "</div>[1 rows x 61 columns in total]"
            ]
          },
          "metadata": {},
          "execution_count": 5
        }
      ]
    },
    {
      "cell_type": "code",
      "source": [
        "continuous_vars = df.select_dtypes(include=['int64', 'float64']).columns.tolist()\n",
        "continuous_df = df[continuous_vars]\n",
        "continuous_df.head()"
      ],
      "metadata": {
        "colab": {
          "base_uri": "https://localhost:8080/",
          "height": 308
        },
        "id": "VO-STlS672J1",
        "executionInfo": {
          "status": "ok",
          "timestamp": 1729190672115,
          "user_tz": 240,
          "elapsed": 9920,
          "user": {
            "displayName": "",
            "userId": ""
          }
        },
        "outputId": "de319132-2763-423c-9e71-261b4b8e373f"
      },
      "execution_count": null,
      "outputs": [
        {
          "output_type": "display_data",
          "data": {
            "text/plain": [
              "<IPython.core.display.HTML object>"
            ],
            "text/html": [
              "Query job 6f9ac128-293c-4422-94cb-dac1dd64cc5b is DONE. 349.3 MB processed. <a target=\"_blank\" href=\"https://console.cloud.google.com/bigquery?project=marketcheck-demo&j=bq:US:6f9ac128-293c-4422-94cb-dac1dd64cc5b&page=queryresults\">Open Job</a>"
            ]
          },
          "metadata": {}
        },
        {
          "output_type": "display_data",
          "data": {
            "text/plain": [
              "<IPython.core.display.HTML object>"
            ],
            "text/html": [
              "Query job 4a18f2c3-d585-4797-87ad-f6536b998843 is DONE. 1.3 kB processed. <a target=\"_blank\" href=\"https://console.cloud.google.com/bigquery?project=marketcheck-demo&j=bq:US:4a18f2c3-d585-4797-87ad-f6536b998843&page=queryresults\">Open Job</a>"
            ]
          },
          "metadata": {}
        },
        {
          "output_type": "execute_result",
          "data": {
            "text/plain": [
              "   price  miles  neo_year  neo_engine_size  neo_doors  neo_cylinders  \\\n",
              "0  30998  24124      2022              1.5          5              4   \n",
              "1  22900  53907      2019              2.0          5              4   \n",
              "2  22968  28496      2023              2.0          5              4   \n",
              "3  24522  61571      2020              2.3          5              4   \n",
              "4  66998    404      2024              2.4          5              4   \n",
              "\n",
              "   neo_city_mpg  neo_highway_mpg  neo_width  neo_height  ...  carfax_1_owner  \\\n",
              "0            27               32       73.0        66.5  ...               1   \n",
              "1            23               30       74.4        66.0  ...               0   \n",
              "2            24               32       73.8        64.8  ...               1   \n",
              "3            20               27       78.9        69.9  ...               1   \n",
              "4            27               28       75.6        67.3  ...               1   \n",
              "\n",
              "   carfax_clean_title  in_transit  dos_active  mc_dealer_id  mc_location_id  \\\n",
              "0                   0           0           4       1184440         1404346   \n",
              "1                   0           0           1       1192623         1345392   \n",
              "2                   1           0          24       1194275         1410271   \n",
              "3                   1           0           4       1142828         1401771   \n",
              "4                   0           0          16       1161131         1527806   \n",
              "\n",
              "   mc_website_id  mc_rooftop_id  is_searchable  first_scraped_age  \n",
              "0       11027708         874856              0                  2  \n",
              "1        1004933         606236              0                  5  \n",
              "2        1053281         868116              0                  0  \n",
              "3       11023416         650237              0                  5  \n",
              "4       10027637         725410              1                  0  \n",
              "\n",
              "[5 rows x 28 columns]"
            ],
            "text/html": [
              "<div>\n",
              "<style scoped>\n",
              "    .dataframe tbody tr th:only-of-type {\n",
              "        vertical-align: middle;\n",
              "    }\n",
              "\n",
              "    .dataframe tbody tr th {\n",
              "        vertical-align: top;\n",
              "    }\n",
              "\n",
              "    .dataframe thead th {\n",
              "        text-align: right;\n",
              "    }\n",
              "</style>\n",
              "<table border=\"1\" class=\"dataframe\">\n",
              "  <thead>\n",
              "    <tr style=\"text-align: right;\">\n",
              "      <th></th>\n",
              "      <th>price</th>\n",
              "      <th>miles</th>\n",
              "      <th>neo_year</th>\n",
              "      <th>neo_engine_size</th>\n",
              "      <th>neo_doors</th>\n",
              "      <th>neo_cylinders</th>\n",
              "      <th>neo_city_mpg</th>\n",
              "      <th>neo_highway_mpg</th>\n",
              "      <th>neo_width</th>\n",
              "      <th>neo_height</th>\n",
              "      <th>...</th>\n",
              "      <th>carfax_1_owner</th>\n",
              "      <th>carfax_clean_title</th>\n",
              "      <th>in_transit</th>\n",
              "      <th>dos_active</th>\n",
              "      <th>mc_dealer_id</th>\n",
              "      <th>mc_location_id</th>\n",
              "      <th>mc_website_id</th>\n",
              "      <th>mc_rooftop_id</th>\n",
              "      <th>is_searchable</th>\n",
              "      <th>first_scraped_age</th>\n",
              "    </tr>\n",
              "  </thead>\n",
              "  <tbody>\n",
              "    <tr>\n",
              "      <th>0</th>\n",
              "      <td>30998</td>\n",
              "      <td>24124</td>\n",
              "      <td>2022</td>\n",
              "      <td>1.5</td>\n",
              "      <td>5</td>\n",
              "      <td>4</td>\n",
              "      <td>27</td>\n",
              "      <td>32</td>\n",
              "      <td>73.0</td>\n",
              "      <td>66.5</td>\n",
              "      <td>...</td>\n",
              "      <td>1</td>\n",
              "      <td>0</td>\n",
              "      <td>0</td>\n",
              "      <td>4</td>\n",
              "      <td>1184440</td>\n",
              "      <td>1404346</td>\n",
              "      <td>11027708</td>\n",
              "      <td>874856</td>\n",
              "      <td>0</td>\n",
              "      <td>2</td>\n",
              "    </tr>\n",
              "    <tr>\n",
              "      <th>1</th>\n",
              "      <td>22900</td>\n",
              "      <td>53907</td>\n",
              "      <td>2019</td>\n",
              "      <td>2.0</td>\n",
              "      <td>5</td>\n",
              "      <td>4</td>\n",
              "      <td>23</td>\n",
              "      <td>30</td>\n",
              "      <td>74.4</td>\n",
              "      <td>66.0</td>\n",
              "      <td>...</td>\n",
              "      <td>0</td>\n",
              "      <td>0</td>\n",
              "      <td>0</td>\n",
              "      <td>1</td>\n",
              "      <td>1192623</td>\n",
              "      <td>1345392</td>\n",
              "      <td>1004933</td>\n",
              "      <td>606236</td>\n",
              "      <td>0</td>\n",
              "      <td>5</td>\n",
              "    </tr>\n",
              "    <tr>\n",
              "      <th>2</th>\n",
              "      <td>22968</td>\n",
              "      <td>28496</td>\n",
              "      <td>2023</td>\n",
              "      <td>2.0</td>\n",
              "      <td>5</td>\n",
              "      <td>4</td>\n",
              "      <td>24</td>\n",
              "      <td>32</td>\n",
              "      <td>73.8</td>\n",
              "      <td>64.8</td>\n",
              "      <td>...</td>\n",
              "      <td>1</td>\n",
              "      <td>1</td>\n",
              "      <td>0</td>\n",
              "      <td>24</td>\n",
              "      <td>1194275</td>\n",
              "      <td>1410271</td>\n",
              "      <td>1053281</td>\n",
              "      <td>868116</td>\n",
              "      <td>0</td>\n",
              "      <td>0</td>\n",
              "    </tr>\n",
              "    <tr>\n",
              "      <th>3</th>\n",
              "      <td>24522</td>\n",
              "      <td>61571</td>\n",
              "      <td>2020</td>\n",
              "      <td>2.3</td>\n",
              "      <td>5</td>\n",
              "      <td>4</td>\n",
              "      <td>20</td>\n",
              "      <td>27</td>\n",
              "      <td>78.9</td>\n",
              "      <td>69.9</td>\n",
              "      <td>...</td>\n",
              "      <td>1</td>\n",
              "      <td>1</td>\n",
              "      <td>0</td>\n",
              "      <td>4</td>\n",
              "      <td>1142828</td>\n",
              "      <td>1401771</td>\n",
              "      <td>11023416</td>\n",
              "      <td>650237</td>\n",
              "      <td>0</td>\n",
              "      <td>5</td>\n",
              "    </tr>\n",
              "    <tr>\n",
              "      <th>4</th>\n",
              "      <td>66998</td>\n",
              "      <td>404</td>\n",
              "      <td>2024</td>\n",
              "      <td>2.4</td>\n",
              "      <td>5</td>\n",
              "      <td>4</td>\n",
              "      <td>27</td>\n",
              "      <td>28</td>\n",
              "      <td>75.6</td>\n",
              "      <td>67.3</td>\n",
              "      <td>...</td>\n",
              "      <td>1</td>\n",
              "      <td>0</td>\n",
              "      <td>0</td>\n",
              "      <td>16</td>\n",
              "      <td>1161131</td>\n",
              "      <td>1527806</td>\n",
              "      <td>10027637</td>\n",
              "      <td>725410</td>\n",
              "      <td>1</td>\n",
              "      <td>0</td>\n",
              "    </tr>\n",
              "  </tbody>\n",
              "</table>\n",
              "<p>5 rows × 28 columns</p>\n",
              "</div>[5 rows x 28 columns in total]"
            ]
          },
          "metadata": {},
          "execution_count": 6
        }
      ]
    },
    {
      "cell_type": "code",
      "source": [
        "df[continuous_vars].isnull().sum()"
      ],
      "metadata": {
        "colab": {
          "base_uri": "https://localhost:8080/",
          "height": 572
        },
        "id": "jIt1EgnH72RZ",
        "executionInfo": {
          "status": "ok",
          "timestamp": 1729190682241,
          "user_tz": 240,
          "elapsed": 7182,
          "user": {
            "displayName": "",
            "userId": ""
          }
        },
        "outputId": "531baa99-c8e2-4477-b56e-a5225d1508a6"
      },
      "execution_count": null,
      "outputs": [
        {
          "output_type": "stream",
          "name": "stderr",
          "text": [
            "/usr/local/lib/python3.10/dist-packages/bigframes/core/blocks.py:126: NullIndexPreviewWarning: Creating object with Null Index. Null Index is a preview feature.\n",
            "  warnings.warn(\n"
          ]
        },
        {
          "output_type": "display_data",
          "data": {
            "text/plain": [
              "<IPython.core.display.HTML object>"
            ],
            "text/html": [
              "Query job 8611882e-2731-4b6b-86a3-a17bd60dfead is DONE. 10.9 MB processed. <a target=\"_blank\" href=\"https://console.cloud.google.com/bigquery?project=marketcheck-demo&j=bq:US:8611882e-2731-4b6b-86a3-a17bd60dfead&page=queryresults\">Open Job</a>"
            ]
          },
          "metadata": {}
        },
        {
          "output_type": "display_data",
          "data": {
            "text/plain": [
              "<IPython.core.display.HTML object>"
            ],
            "text/html": [
              "Query job 6da28833-63c0-49d6-b25e-6a618dca2b46 is DONE. 845 Bytes processed. <a target=\"_blank\" href=\"https://console.cloud.google.com/bigquery?project=marketcheck-demo&j=bq:US:6da28833-63c0-49d6-b25e-6a618dca2b46&page=queryresults\">Open Job</a>"
            ]
          },
          "metadata": {}
        },
        {
          "output_type": "execute_result",
          "data": {
            "text/plain": [
              "price                         3459\n",
              "miles                          895\n",
              "neo_year                         0\n",
              "neo_engine_size               1829\n",
              "neo_doors                     1316\n",
              "neo_cylinders                 1837\n",
              "neo_city_mpg                  2595\n",
              "neo_highway_mpg               2594\n",
              "neo_width                     2466\n",
              "neo_height                    1520\n",
              "neo_length                    1413\n",
              "neo_base_msrp                 1318\n",
              "neo_installed_options_msrp    1316\n",
              "neo_delivery_charges          1334\n",
              "neo_combined_msrp             1316\n",
              "dom                              0\n",
              "dom_180                          0\n",
              "dom_active                       0\n",
              "carfax_1_owner                3063\n",
              "carfax_clean_title            3667\n",
              "in_transit                       0\n",
              "dos_active                       0\n",
              "mc_dealer_id                     0\n",
              "mc_location_id                   0\n",
              "mc_website_id                    0\n",
              "dtype: Int64"
            ]
          },
          "metadata": {},
          "execution_count": 7
        }
      ]
    },
    {
      "cell_type": "code",
      "source": [
        "columns_to_fill = [\n",
        "    'price', 'miles', 'neo_engine_size', 'neo_doors',\n",
        "    'neo_cylinders', 'neo_city_mpg', 'neo_highway_mpg',\n",
        "    'neo_width', 'neo_height', 'neo_length',\n",
        "    'neo_base_msrp', 'neo_installed_options_msrp',\n",
        "    'neo_delivery_charges', 'neo_combined_msrp',\n",
        "    'carfax_1_owner', 'carfax_clean_title','first_scraped_age'\n",
        "]\n",
        "\n",
        "# Step 2: Fill missing values for each specified column individually\n",
        "for column in columns_to_fill:\n",
        "    mean_value = df[column].mean()\n",
        "    df[column] = df[column].fillna(mean_value)\n",
        "\n",
        "# Step 3: (Optional) Check the results\n",
        "print(df[columns_to_fill].isnull().sum())"
      ],
      "metadata": {
        "colab": {
          "base_uri": "https://localhost:8080/",
          "height": 724
        },
        "id": "3KDCdKtJ72YK",
        "executionInfo": {
          "status": "ok",
          "timestamp": 1729190740046,
          "user_tz": 240,
          "elapsed": 57807,
          "user": {
            "displayName": "",
            "userId": ""
          }
        },
        "outputId": "cce73ae9-bf69-4496-ee23-e3a97fa706d8"
      },
      "execution_count": null,
      "outputs": [
        {
          "output_type": "display_data",
          "data": {
            "text/plain": [
              "<IPython.core.display.HTML object>"
            ],
            "text/html": [
              "Query job 52222815-0906-4a7e-a1c1-345f0b7bb8e8 is DONE. 372.3 kB processed. <a target=\"_blank\" href=\"https://console.cloud.google.com/bigquery?project=marketcheck-demo&j=bq:US:52222815-0906-4a7e-a1c1-345f0b7bb8e8&page=queryresults\">Open Job</a>"
            ]
          },
          "metadata": {}
        },
        {
          "output_type": "display_data",
          "data": {
            "text/plain": [
              "<IPython.core.display.HTML object>"
            ],
            "text/html": [
              "Query job 09420347-4c61-4040-90a2-dc9f1b0b70d6 is DONE. 392.8 kB processed. <a target=\"_blank\" href=\"https://console.cloud.google.com/bigquery?project=marketcheck-demo&j=bq:US:09420347-4c61-4040-90a2-dc9f1b0b70d6&page=queryresults\">Open Job</a>"
            ]
          },
          "metadata": {}
        },
        {
          "output_type": "display_data",
          "data": {
            "text/plain": [
              "<IPython.core.display.HTML object>"
            ],
            "text/html": [
              "Query job 88fb0cb3-a15b-47e3-bb75-eff7aa9b58b4 is DONE. 385.4 kB processed. <a target=\"_blank\" href=\"https://console.cloud.google.com/bigquery?project=marketcheck-demo&j=bq:US:88fb0cb3-a15b-47e3-bb75-eff7aa9b58b4&page=queryresults\">Open Job</a>"
            ]
          },
          "metadata": {}
        },
        {
          "output_type": "display_data",
          "data": {
            "text/plain": [
              "<IPython.core.display.HTML object>"
            ],
            "text/html": [
              "Query job 72f9f842-6c42-4f38-ab39-7959c2c8a9dc is DONE. 389.5 kB processed. <a target=\"_blank\" href=\"https://console.cloud.google.com/bigquery?project=marketcheck-demo&j=bq:US:72f9f842-6c42-4f38-ab39-7959c2c8a9dc&page=queryresults\">Open Job</a>"
            ]
          },
          "metadata": {}
        },
        {
          "output_type": "display_data",
          "data": {
            "text/plain": [
              "<IPython.core.display.HTML object>"
            ],
            "text/html": [
              "Query job 1304236e-98bd-4ee7-b19d-44a5043cb1de is DONE. 385.3 kB processed. <a target=\"_blank\" href=\"https://console.cloud.google.com/bigquery?project=marketcheck-demo&j=bq:US:1304236e-98bd-4ee7-b19d-44a5043cb1de&page=queryresults\">Open Job</a>"
            ]
          },
          "metadata": {}
        },
        {
          "output_type": "display_data",
          "data": {
            "text/plain": [
              "<IPython.core.display.HTML object>"
            ],
            "text/html": [
              "Query job 59402a21-2838-4351-bbcc-b13014a88fdf is DONE. 379.2 kB processed. <a target=\"_blank\" href=\"https://console.cloud.google.com/bigquery?project=marketcheck-demo&j=bq:US:59402a21-2838-4351-bbcc-b13014a88fdf&page=queryresults\">Open Job</a>"
            ]
          },
          "metadata": {}
        },
        {
          "output_type": "display_data",
          "data": {
            "text/plain": [
              "<IPython.core.display.HTML object>"
            ],
            "text/html": [
              "Query job 696ad9c3-2002-429b-be37-daf7887e4b7b is DONE. 379.2 kB processed. <a target=\"_blank\" href=\"https://console.cloud.google.com/bigquery?project=marketcheck-demo&j=bq:US:696ad9c3-2002-429b-be37-daf7887e4b7b&page=queryresults\">Open Job</a>"
            ]
          },
          "metadata": {}
        },
        {
          "output_type": "display_data",
          "data": {
            "text/plain": [
              "<IPython.core.display.HTML object>"
            ],
            "text/html": [
              "Query job ad3b15d7-22c1-482b-b0d6-e2d2aa54249a is DONE. 380.3 kB processed. <a target=\"_blank\" href=\"https://console.cloud.google.com/bigquery?project=marketcheck-demo&j=bq:US:ad3b15d7-22c1-482b-b0d6-e2d2aa54249a&page=queryresults\">Open Job</a>"
            ]
          },
          "metadata": {}
        },
        {
          "output_type": "display_data",
          "data": {
            "text/plain": [
              "<IPython.core.display.HTML object>"
            ],
            "text/html": [
              "Query job 93cb27fe-37e4-42d4-a251-2b0d2895012c is DONE. 387.8 kB processed. <a target=\"_blank\" href=\"https://console.cloud.google.com/bigquery?project=marketcheck-demo&j=bq:US:93cb27fe-37e4-42d4-a251-2b0d2895012c&page=queryresults\">Open Job</a>"
            ]
          },
          "metadata": {}
        },
        {
          "output_type": "display_data",
          "data": {
            "text/plain": [
              "<IPython.core.display.HTML object>"
            ],
            "text/html": [
              "Query job a678a7b4-e708-43c2-a3d8-ea6f41ffebcf is DONE. 388.7 kB processed. <a target=\"_blank\" href=\"https://console.cloud.google.com/bigquery?project=marketcheck-demo&j=bq:US:a678a7b4-e708-43c2-a3d8-ea6f41ffebcf&page=queryresults\">Open Job</a>"
            ]
          },
          "metadata": {}
        },
        {
          "output_type": "display_data",
          "data": {
            "text/plain": [
              "<IPython.core.display.HTML object>"
            ],
            "text/html": [
              "Query job 9707e7fd-17ed-47cf-8adb-5c40655e23b4 is DONE. 389.5 kB processed. <a target=\"_blank\" href=\"https://console.cloud.google.com/bigquery?project=marketcheck-demo&j=bq:US:9707e7fd-17ed-47cf-8adb-5c40655e23b4&page=queryresults\">Open Job</a>"
            ]
          },
          "metadata": {}
        },
        {
          "output_type": "display_data",
          "data": {
            "text/plain": [
              "<IPython.core.display.HTML object>"
            ],
            "text/html": [
              "Query job f2f4eaa6-94d5-4f77-b089-1081b8698f38 is DONE. 389.5 kB processed. <a target=\"_blank\" href=\"https://console.cloud.google.com/bigquery?project=marketcheck-demo&j=bq:US:f2f4eaa6-94d5-4f77-b089-1081b8698f38&page=queryresults\">Open Job</a>"
            ]
          },
          "metadata": {}
        },
        {
          "output_type": "display_data",
          "data": {
            "text/plain": [
              "<IPython.core.display.HTML object>"
            ],
            "text/html": [
              "Query job 53271036-514f-4c5f-a900-d5aa35b7e951 is DONE. 389.3 kB processed. <a target=\"_blank\" href=\"https://console.cloud.google.com/bigquery?project=marketcheck-demo&j=bq:US:53271036-514f-4c5f-a900-d5aa35b7e951&page=queryresults\">Open Job</a>"
            ]
          },
          "metadata": {}
        },
        {
          "output_type": "display_data",
          "data": {
            "text/plain": [
              "<IPython.core.display.HTML object>"
            ],
            "text/html": [
              "Query job ab706e14-a74c-4416-a6c0-fec7e4e87f2f is DONE. 389.5 kB processed. <a target=\"_blank\" href=\"https://console.cloud.google.com/bigquery?project=marketcheck-demo&j=bq:US:ab706e14-a74c-4416-a6c0-fec7e4e87f2f&page=queryresults\">Open Job</a>"
            ]
          },
          "metadata": {}
        },
        {
          "output_type": "display_data",
          "data": {
            "text/plain": [
              "<IPython.core.display.HTML object>"
            ],
            "text/html": [
              "Query job 1a70e78d-3f9d-4e70-a836-0100de8d972a is DONE. 375.5 kB processed. <a target=\"_blank\" href=\"https://console.cloud.google.com/bigquery?project=marketcheck-demo&j=bq:US:1a70e78d-3f9d-4e70-a836-0100de8d972a&page=queryresults\">Open Job</a>"
            ]
          },
          "metadata": {}
        },
        {
          "output_type": "display_data",
          "data": {
            "text/plain": [
              "<IPython.core.display.HTML object>"
            ],
            "text/html": [
              "Query job f982491a-4a50-4b9a-831f-7967f450cf01 is DONE. 370.7 kB processed. <a target=\"_blank\" href=\"https://console.cloud.google.com/bigquery?project=marketcheck-demo&j=bq:US:f982491a-4a50-4b9a-831f-7967f450cf01&page=queryresults\">Open Job</a>"
            ]
          },
          "metadata": {}
        },
        {
          "output_type": "display_data",
          "data": {
            "text/plain": [
              "<IPython.core.display.HTML object>"
            ],
            "text/html": [
              "Query job ad8448b4-acd7-43b4-8ec9-b78e790b94bf is DONE. 399.9 kB processed. <a target=\"_blank\" href=\"https://console.cloud.google.com/bigquery?project=marketcheck-demo&j=bq:US:ad8448b4-acd7-43b4-8ec9-b78e790b94bf&page=queryresults\">Open Job</a>"
            ]
          },
          "metadata": {}
        },
        {
          "output_type": "stream",
          "name": "stderr",
          "text": [
            "/usr/local/lib/python3.10/dist-packages/bigframes/core/blocks.py:126: NullIndexPreviewWarning: Creating object with Null Index. Null Index is a preview feature.\n",
            "  warnings.warn(\n"
          ]
        },
        {
          "output_type": "display_data",
          "data": {
            "text/plain": [
              "<IPython.core.display.HTML object>"
            ],
            "text/html": [
              "Query job af496b5b-eba6-441e-ba42-42c3e627d53c is DONE. 6.5 MB processed. <a target=\"_blank\" href=\"https://console.cloud.google.com/bigquery?project=marketcheck-demo&j=bq:US:af496b5b-eba6-441e-ba42-42c3e627d53c&page=queryresults\">Open Job</a>"
            ]
          },
          "metadata": {}
        },
        {
          "output_type": "display_data",
          "data": {
            "text/plain": [
              "<IPython.core.display.HTML object>"
            ],
            "text/html": [
              "Query job f7ed1b01-38df-432c-a821-337cc78333f3 is DONE. 534 Bytes processed. <a target=\"_blank\" href=\"https://console.cloud.google.com/bigquery?project=marketcheck-demo&j=bq:US:f7ed1b01-38df-432c-a821-337cc78333f3&page=queryresults\">Open Job</a>"
            ]
          },
          "metadata": {}
        },
        {
          "output_type": "stream",
          "name": "stdout",
          "text": [
            "price                         0\n",
            "miles                         0\n",
            "neo_engine_size               0\n",
            "neo_doors                     0\n",
            "neo_cylinders                 0\n",
            "neo_city_mpg                  0\n",
            "neo_highway_mpg               0\n",
            "neo_width                     0\n",
            "neo_height                    0\n",
            "neo_length                    0\n",
            "neo_base_msrp                 0\n",
            "neo_installed_options_msrp    0\n",
            "neo_delivery_charges          0\n",
            "neo_combined_msrp             0\n",
            "carfax_1_owner                0\n",
            "carfax_clean_title            0\n",
            "first_scraped_age             0\n",
            "dtype: Int64\n"
          ]
        }
      ]
    },
    {
      "cell_type": "code",
      "source": [
        "df= df.drop(columns = ['carfax_1_owner', 'carfax_clean_title', 'stock_no'])"
      ],
      "metadata": {
        "id": "RpmgWD8Vz5cC"
      },
      "execution_count": null,
      "outputs": []
    },
    {
      "cell_type": "code",
      "source": [
        "# Correctly dropping the specified columns\n",
        "df = df.drop(columns=['neo_year', 'neo_make', 'neo_model'])\n",
        "\n",
        "# Optional: Verify that the columns have been dropped\n",
        "print(df.columns)\n"
      ],
      "metadata": {
        "colab": {
          "base_uri": "https://localhost:8080/"
        },
        "id": "LLFoa69c_ajo",
        "executionInfo": {
          "status": "ok",
          "timestamp": 1729190768218,
          "user_tz": 240,
          "elapsed": 149,
          "user": {
            "displayName": "",
            "userId": ""
          }
        },
        "outputId": "df8256e6-ae42-439c-c8dd-353b2872c093"
      },
      "execution_count": null,
      "outputs": [
        {
          "output_type": "stream",
          "name": "stdout",
          "text": [
            "Index(['price', 'miles', 'neo_listing_confidence', 'neo_trim',\n",
            "       'neo_trim_confidence', 'neo_version', 'neo_version_confidence',\n",
            "       'neo_vehicle_type', 'neo_body_type', 'neo_drivetrain',\n",
            "       'neo_powertrain_type', 'neo_fuel_type', 'neo_engine',\n",
            "       'neo_engine_block', 'neo_engine_size', 'neo_transmission', 'neo_doors',\n",
            "       'neo_cylinders', 'neo_city_mpg', 'neo_highway_mpg', 'neo_width',\n",
            "       'neo_height', 'neo_length', 'neo_manufacturer_code', 'neo_base_msrp',\n",
            "       'neo_installed_options_msrp', 'neo_delivery_charges',\n",
            "       'neo_combined_msrp', 'interior_color', 'base_interior_color',\n",
            "       'neo_mfg_interior_color', 'exterior_color', 'base_exterior_color',\n",
            "       'neo_mfg_exterior_color', 'neo_country', 'seller_type', 'listing_type',\n",
            "       'inventory_type', 'dealer_type', 'features',\n",
            "       'neo_installed_options_details', 'neo_high_value_features', 'dom',\n",
            "       'dom_180', 'dom_active', 'in_transit', 'dos_active', 'mc_category',\n",
            "       'mc_dealer_id', 'mc_location_id', 'mc_website_id', 'mc_rooftop_id',\n",
            "       'is_searchable', 'first_scraped_age', 'make_model'],\n",
            "      dtype='object')\n"
          ]
        }
      ]
    },
    {
      "cell_type": "code",
      "source": [
        "categorical_vars = df.select_dtypes(include=['string']).columns.tolist()\n",
        "categorical_vars\n",
        "df[categorical_vars].isnull().sum()"
      ],
      "metadata": {
        "colab": {
          "base_uri": "https://localhost:8080/",
          "height": 572
        },
        "id": "g2b0dPSe72fS",
        "executionInfo": {
          "status": "ok",
          "timestamp": 1729190777889,
          "user_tz": 240,
          "elapsed": 7166,
          "user": {
            "displayName": "",
            "userId": ""
          }
        },
        "outputId": "decd763e-8e4e-4b9b-e95d-0f9a0d03e3fa"
      },
      "execution_count": null,
      "outputs": [
        {
          "output_type": "stream",
          "name": "stderr",
          "text": [
            "/usr/local/lib/python3.10/dist-packages/bigframes/core/blocks.py:126: NullIndexPreviewWarning: Creating object with Null Index. Null Index is a preview feature.\n",
            "  warnings.warn(\n"
          ]
        },
        {
          "output_type": "display_data",
          "data": {
            "text/plain": [
              "<IPython.core.display.HTML object>"
            ],
            "text/html": [
              "Query job aa4e06b2-a4ff-4cef-acfb-b8faff3dfb01 is DONE. 337.1 MB processed. <a target=\"_blank\" href=\"https://console.cloud.google.com/bigquery?project=marketcheck-demo&j=bq:US:aa4e06b2-a4ff-4cef-acfb-b8faff3dfb01&page=queryresults\">Open Job</a>"
            ]
          },
          "metadata": {}
        },
        {
          "output_type": "display_data",
          "data": {
            "text/plain": [
              "<IPython.core.display.HTML object>"
            ],
            "text/html": [
              "Query job d759286e-c193-4e83-b2a4-ea057dd0cdeb is DONE. 1.0 kB processed. <a target=\"_blank\" href=\"https://console.cloud.google.com/bigquery?project=marketcheck-demo&j=bq:US:d759286e-c193-4e83-b2a4-ea057dd0cdeb&page=queryresults\">Open Job</a>"
            ]
          },
          "metadata": {}
        },
        {
          "output_type": "execute_result",
          "data": {
            "text/plain": [
              "neo_listing_confidence    3040\n",
              "neo_trim                  1316\n",
              "neo_trim_confidence       1316\n",
              "neo_version               1316\n",
              "neo_version_confidence    1316\n",
              "neo_vehicle_type          1316\n",
              "neo_body_type             1316\n",
              "neo_drivetrain            1330\n",
              "neo_powertrain_type       2254\n",
              "neo_fuel_type             1316\n",
              "neo_engine                2575\n",
              "neo_engine_block          1829\n",
              "neo_transmission          1321\n",
              "neo_manufacturer_code     1648\n",
              "interior_color            5814\n",
              "base_interior_color       6231\n",
              "neo_mfg_interior_color    4680\n",
              "exterior_color            1976\n",
              "base_exterior_color       2226\n",
              "neo_mfg_exterior_color    2827\n",
              "neo_country               1316\n",
              "seller_type                  0\n",
              "listing_type                 0\n",
              "inventory_type               0\n",
              "dealer_type                  0\n",
              "dtype: Int64"
            ]
          },
          "metadata": {},
          "execution_count": 11
        }
      ]
    },
    {
      "cell_type": "code",
      "source": [
        "df['first_scraped_age'].isnull().sum()"
      ],
      "metadata": {
        "colab": {
          "base_uri": "https://localhost:8080/",
          "height": 52
        },
        "id": "TEHL4yHvv19f",
        "executionInfo": {
          "status": "ok",
          "timestamp": 1729190783672,
          "user_tz": 240,
          "elapsed": 2865,
          "user": {
            "displayName": "",
            "userId": ""
          }
        },
        "outputId": "57b5177e-4f43-4959-e8e8-47cfde1c3116"
      },
      "execution_count": null,
      "outputs": [
        {
          "output_type": "display_data",
          "data": {
            "text/plain": [
              "<IPython.core.display.HTML object>"
            ],
            "text/html": [
              "Query job 7974bb72-8fa6-4f64-b18e-3a6ab51ef39a is DONE. 399.9 kB processed. <a target=\"_blank\" href=\"https://console.cloud.google.com/bigquery?project=marketcheck-demo&j=bq:US:7974bb72-8fa6-4f64-b18e-3a6ab51ef39a&page=queryresults\">Open Job</a>"
            ]
          },
          "metadata": {}
        },
        {
          "output_type": "execute_result",
          "data": {
            "text/plain": [
              "0"
            ]
          },
          "metadata": {},
          "execution_count": 12
        }
      ]
    },
    {
      "cell_type": "code",
      "source": [
        "df[x].isnull().sum()"
      ],
      "metadata": {
        "colab": {
          "base_uri": "https://localhost:8080/",
          "height": 179
        },
        "id": "INzYZV1tLZT2",
        "executionInfo": {
          "status": "error",
          "timestamp": 1729083365776,
          "user_tz": 240,
          "elapsed": 4,
          "user": {
            "displayName": "",
            "userId": ""
          }
        },
        "outputId": "fff70268-0599-4816-ffbf-b137b9ce9ede"
      },
      "execution_count": null,
      "outputs": [
        {
          "output_type": "error",
          "ename": "NameError",
          "evalue": "name 'x' is not defined",
          "traceback": [
            "\u001b[0;31m---------------------------------------------------------------------------\u001b[0m",
            "\u001b[0;31mNameError\u001b[0m                                 Traceback (most recent call last)",
            "\u001b[0;32m<ipython-input-12-aefa64dde6bd>\u001b[0m in \u001b[0;36m<cell line: 1>\u001b[0;34m()\u001b[0m\n\u001b[0;32m----> 1\u001b[0;31m \u001b[0mdf\u001b[0m\u001b[0;34m[\u001b[0m\u001b[0mx\u001b[0m\u001b[0;34m]\u001b[0m\u001b[0;34m.\u001b[0m\u001b[0misnull\u001b[0m\u001b[0;34m(\u001b[0m\u001b[0;34m)\u001b[0m\u001b[0;34m.\u001b[0m\u001b[0msum\u001b[0m\u001b[0;34m(\u001b[0m\u001b[0;34m)\u001b[0m\u001b[0;34m\u001b[0m\u001b[0;34m\u001b[0m\u001b[0m\n\u001b[0m",
            "\u001b[0;31mNameError\u001b[0m: name 'x' is not defined"
          ]
        }
      ]
    },
    {
      "cell_type": "code",
      "source": [
        "import pandas as pd\n",
        "import numpy as np"
      ],
      "metadata": {
        "id": "ee3hbBkFAfeA"
      },
      "execution_count": null,
      "outputs": []
    },
    {
      "cell_type": "code",
      "source": [
        "df['make_model'].isnull().sum()"
      ],
      "metadata": {
        "colab": {
          "base_uri": "https://localhost:8080/",
          "height": 52
        },
        "id": "ZKe3AHb0GkOv",
        "executionInfo": {
          "status": "ok",
          "timestamp": 1729190791645,
          "user_tz": 240,
          "elapsed": 2899,
          "user": {
            "displayName": "",
            "userId": ""
          }
        },
        "outputId": "ad56ca79-9d22-4324-836a-6f3a48584dba"
      },
      "execution_count": null,
      "outputs": [
        {
          "output_type": "display_data",
          "data": {
            "text/plain": [
              "<IPython.core.display.HTML object>"
            ],
            "text/html": [
              "Query job f973fe70-962d-4a68-a921-be45b67d43e8 is DONE. 775.7 kB processed. <a target=\"_blank\" href=\"https://console.cloud.google.com/bigquery?project=marketcheck-demo&j=bq:US:f973fe70-962d-4a68-a921-be45b67d43e8&page=queryresults\">Open Job</a>"
            ]
          },
          "metadata": {}
        },
        {
          "output_type": "execute_result",
          "data": {
            "text/plain": [
              "5"
            ]
          },
          "metadata": {},
          "execution_count": 14
        }
      ]
    },
    {
      "cell_type": "code",
      "source": [
        "x = ['mc_rooftop_id', 'is_searchable', 'first_scraped_age']"
      ],
      "metadata": {
        "id": "wdCTW_bQrIim"
      },
      "execution_count": null,
      "outputs": []
    },
    {
      "cell_type": "code",
      "source": [
        "columns_to_fill_cat = [\n",
        "    'neo_listing_confidence',\n",
        "    'neo_trim',\n",
        "    'neo_trim_confidence',\n",
        "    'neo_version',\n",
        "    'neo_version_confidence',\n",
        "    'neo_vehicle_type',\n",
        "    'neo_body_type',\n",
        "    'neo_drivetrain',\n",
        "    'neo_powertrain_type',\n",
        "    'neo_fuel_type',\n",
        "    'neo_engine',\n",
        "    'neo_engine_block',\n",
        "    'neo_transmission',\n",
        "    'neo_manufacturer_code',\n",
        "    'interior_color',\n",
        "    'base_interior_color',\n",
        "    'neo_mfg_interior_color',\n",
        "    'exterior_color',\n",
        "    'base_exterior_color',\n",
        "    'neo_mfg_exterior_color',\n",
        "    'neo_country',\n",
        "    'make_model', 'features', 'neo_installed_options_details', 'neo_high_value_features']\n",
        "\n",
        "print(\"Missing values before filling:\")\n",
        "print(df[columns_to_fill_cat].isnull().sum())\n",
        "\n",
        "\n",
        "for col_ in columns_to_fill_cat:\n",
        "    df[col_] = df[col_].fillna(\"unknown\")\n",
        "print(df[columns_to_fill_cat].isnull().sum())\n",
        "\n",
        "\n",
        "print(\"\\nMissing values after filling:\")\n",
        "print(df[columns_to_fill_cat].isnull().sum())"
      ],
      "metadata": {
        "colab": {
          "base_uri": "https://localhost:8080/",
          "height": 1000
        },
        "id": "lWv7mWFpANKu",
        "executionInfo": {
          "status": "ok",
          "timestamp": 1729190815358,
          "user_tz": 240,
          "elapsed": 21906,
          "user": {
            "displayName": "",
            "userId": ""
          }
        },
        "outputId": "c6dd1bd3-1a67-470f-e860-8360f9860afa"
      },
      "execution_count": null,
      "outputs": [
        {
          "output_type": "stream",
          "name": "stdout",
          "text": [
            "Missing values before filling:\n"
          ]
        },
        {
          "output_type": "stream",
          "name": "stderr",
          "text": [
            "/usr/local/lib/python3.10/dist-packages/bigframes/core/blocks.py:126: NullIndexPreviewWarning: Creating object with Null Index. Null Index is a preview feature.\n",
            "  warnings.warn(\n"
          ]
        },
        {
          "output_type": "display_data",
          "data": {
            "text/plain": [
              "<IPython.core.display.HTML object>"
            ],
            "text/html": [
              "Query job 07819ef1-22ae-4b13-8264-c7823e44d0f6 is DONE. 335.0 MB processed. <a target=\"_blank\" href=\"https://console.cloud.google.com/bigquery?project=marketcheck-demo&j=bq:US:07819ef1-22ae-4b13-8264-c7823e44d0f6&page=queryresults\">Open Job</a>"
            ]
          },
          "metadata": {}
        },
        {
          "output_type": "display_data",
          "data": {
            "text/plain": [
              "<IPython.core.display.HTML object>"
            ],
            "text/html": [
              "Query job 0e9cf93b-afe8-4a1f-9f0c-b618d6c102d5 is DONE. 861 Bytes processed. <a target=\"_blank\" href=\"https://console.cloud.google.com/bigquery?project=marketcheck-demo&j=bq:US:0e9cf93b-afe8-4a1f-9f0c-b618d6c102d5&page=queryresults\">Open Job</a>"
            ]
          },
          "metadata": {}
        },
        {
          "output_type": "stream",
          "name": "stdout",
          "text": [
            "neo_listing_confidence           3040\n",
            "neo_trim                         1316\n",
            "neo_trim_confidence              1316\n",
            "neo_version                      1316\n",
            "neo_version_confidence           1316\n",
            "neo_vehicle_type                 1316\n",
            "neo_body_type                    1316\n",
            "neo_drivetrain                   1330\n",
            "neo_powertrain_type              2254\n",
            "neo_fuel_type                    1316\n",
            "neo_engine                       2575\n",
            "neo_engine_block                 1829\n",
            "neo_transmission                 1321\n",
            "neo_manufacturer_code            1648\n",
            "interior_color                   5814\n",
            "base_interior_color              6231\n",
            "neo_mfg_interior_color           4680\n",
            "exterior_color                   1976\n",
            "base_exterior_color              2226\n",
            "neo_mfg_exterior_color           2827\n",
            "neo_country                      1316\n",
            "make_model                          5\n",
            "features                         8779\n",
            "neo_installed_options_details    1316\n",
            "neo_high_value_features          1316\n",
            "dtype: Int64\n"
          ]
        },
        {
          "output_type": "stream",
          "name": "stderr",
          "text": [
            "/usr/local/lib/python3.10/dist-packages/bigframes/core/blocks.py:126: NullIndexPreviewWarning: Creating object with Null Index. Null Index is a preview feature.\n",
            "  warnings.warn(\n"
          ]
        },
        {
          "output_type": "display_data",
          "data": {
            "text/plain": [
              "<IPython.core.display.HTML object>"
            ],
            "text/html": [
              "Query job 55bde881-b089-487c-bfc7-ecd7ea9d009b is DONE. 335.0 MB processed. <a target=\"_blank\" href=\"https://console.cloud.google.com/bigquery?project=marketcheck-demo&j=bq:US:55bde881-b089-487c-bfc7-ecd7ea9d009b&page=queryresults\">Open Job</a>"
            ]
          },
          "metadata": {}
        },
        {
          "output_type": "display_data",
          "data": {
            "text/plain": [
              "<IPython.core.display.HTML object>"
            ],
            "text/html": [
              "Query job dd28b465-7c66-4c57-ab1b-64d83cabe461 is DONE. 861 Bytes processed. <a target=\"_blank\" href=\"https://console.cloud.google.com/bigquery?project=marketcheck-demo&j=bq:US:dd28b465-7c66-4c57-ab1b-64d83cabe461&page=queryresults\">Open Job</a>"
            ]
          },
          "metadata": {}
        },
        {
          "output_type": "stream",
          "name": "stdout",
          "text": [
            "neo_listing_confidence           0\n",
            "neo_trim                         0\n",
            "neo_trim_confidence              0\n",
            "neo_version                      0\n",
            "neo_version_confidence           0\n",
            "neo_vehicle_type                 0\n",
            "neo_body_type                    0\n",
            "neo_drivetrain                   0\n",
            "neo_powertrain_type              0\n",
            "neo_fuel_type                    0\n",
            "neo_engine                       0\n",
            "neo_engine_block                 0\n",
            "neo_transmission                 0\n",
            "neo_manufacturer_code            0\n",
            "interior_color                   0\n",
            "base_interior_color              0\n",
            "neo_mfg_interior_color           0\n",
            "exterior_color                   0\n",
            "base_exterior_color              0\n",
            "neo_mfg_exterior_color           0\n",
            "neo_country                      0\n",
            "make_model                       0\n",
            "features                         0\n",
            "neo_installed_options_details    0\n",
            "neo_high_value_features          0\n",
            "dtype: Int64\n",
            "\n",
            "Missing values after filling:\n"
          ]
        },
        {
          "output_type": "stream",
          "name": "stderr",
          "text": [
            "/usr/local/lib/python3.10/dist-packages/bigframes/core/blocks.py:126: NullIndexPreviewWarning: Creating object with Null Index. Null Index is a preview feature.\n",
            "  warnings.warn(\n"
          ]
        },
        {
          "output_type": "display_data",
          "data": {
            "text/plain": [
              "<IPython.core.display.HTML object>"
            ],
            "text/html": [
              "Query job 8058d621-0d7e-430c-89d7-4e192a5b9a5f is DONE. 335.0 MB processed. <a target=\"_blank\" href=\"https://console.cloud.google.com/bigquery?project=marketcheck-demo&j=bq:US:8058d621-0d7e-430c-89d7-4e192a5b9a5f&page=queryresults\">Open Job</a>"
            ]
          },
          "metadata": {}
        },
        {
          "output_type": "display_data",
          "data": {
            "text/plain": [
              "<IPython.core.display.HTML object>"
            ],
            "text/html": [
              "Query job c691ed8c-3886-4293-ad71-b9203185bd0c is DONE. 861 Bytes processed. <a target=\"_blank\" href=\"https://console.cloud.google.com/bigquery?project=marketcheck-demo&j=bq:US:c691ed8c-3886-4293-ad71-b9203185bd0c&page=queryresults\">Open Job</a>"
            ]
          },
          "metadata": {}
        },
        {
          "output_type": "stream",
          "name": "stdout",
          "text": [
            "neo_listing_confidence           0\n",
            "neo_trim                         0\n",
            "neo_trim_confidence              0\n",
            "neo_version                      0\n",
            "neo_version_confidence           0\n",
            "neo_vehicle_type                 0\n",
            "neo_body_type                    0\n",
            "neo_drivetrain                   0\n",
            "neo_powertrain_type              0\n",
            "neo_fuel_type                    0\n",
            "neo_engine                       0\n",
            "neo_engine_block                 0\n",
            "neo_transmission                 0\n",
            "neo_manufacturer_code            0\n",
            "interior_color                   0\n",
            "base_interior_color              0\n",
            "neo_mfg_interior_color           0\n",
            "exterior_color                   0\n",
            "base_exterior_color              0\n",
            "neo_mfg_exterior_color           0\n",
            "neo_country                      0\n",
            "make_model                       0\n",
            "features                         0\n",
            "neo_installed_options_details    0\n",
            "neo_high_value_features          0\n",
            "dtype: Int64\n"
          ]
        }
      ]
    },
    {
      "cell_type": "code",
      "source": [
        "df['neo_high_value_features'] = df['neo_high_value_features'].fillna(\"unknown\")\n"
      ],
      "metadata": {
        "id": "ORg8anlXL-0n"
      },
      "execution_count": null,
      "outputs": []
    },
    {
      "cell_type": "code",
      "source": [
        "unknown_values = df['neo_high_value_features'] == \"unknown\"\n",
        "\n",
        "unknown_rows = df.loc[unknown_values, 'neo_high_value_features']\n",
        "unknown_rows"
      ],
      "metadata": {
        "colab": {
          "base_uri": "https://localhost:8080/",
          "height": 533
        },
        "id": "BGSGiXzDNEHP",
        "executionInfo": {
          "status": "ok",
          "timestamp": 1729190872045,
          "user_tz": 240,
          "elapsed": 25188,
          "user": {
            "displayName": "",
            "userId": ""
          }
        },
        "outputId": "4760d309-2fab-4cb4-9c6b-75d4f5fd2670"
      },
      "execution_count": null,
      "outputs": [
        {
          "output_type": "display_data",
          "data": {
            "text/plain": [
              "<IPython.core.display.HTML object>"
            ],
            "text/html": [
              "Query job abb407eb-5aa8-4eb1-aa5e-1dea6183e618 is DONE. 349.3 MB processed. <a target=\"_blank\" href=\"https://console.cloud.google.com/bigquery?project=marketcheck-demo&j=bq:US:abb407eb-5aa8-4eb1-aa5e-1dea6183e618&page=queryresults\">Open Job</a>"
            ]
          },
          "metadata": {}
        },
        {
          "output_type": "display_data",
          "data": {
            "text/plain": [
              "<IPython.core.display.HTML object>"
            ],
            "text/html": [
              "Query job 8acf94e0-24cf-4352-967f-a202e17f615f is DONE. 109.5 MB processed. <a target=\"_blank\" href=\"https://console.cloud.google.com/bigquery?project=marketcheck-demo&j=bq:US:8acf94e0-24cf-4352-967f-a202e17f615f&page=queryresults\">Open Job</a>"
            ]
          },
          "metadata": {}
        },
        {
          "output_type": "display_data",
          "data": {
            "text/plain": [
              "<IPython.core.display.HTML object>"
            ],
            "text/html": [
              "Query job 6f409e69-087c-4405-9d55-8fd292316fdd is DONE. 32.9 kB processed. <a target=\"_blank\" href=\"https://console.cloud.google.com/bigquery?project=marketcheck-demo&j=bq:US:6f409e69-087c-4405-9d55-8fd292316fdd&page=queryresults\">Open Job</a>"
            ]
          },
          "metadata": {}
        },
        {
          "output_type": "execute_result",
          "data": {
            "text/plain": [
              "62     unknown\n",
              "90     unknown\n",
              "124    unknown\n",
              "176    unknown\n",
              "270    unknown\n",
              "286    unknown\n",
              "357    unknown\n",
              "399    unknown\n",
              "423    unknown\n",
              "439    unknown\n",
              "452    unknown\n",
              "540    unknown\n",
              "563    unknown\n",
              "589    unknown\n",
              "600    unknown\n",
              "631    unknown\n",
              "656    unknown\n",
              "694    unknown\n",
              "758    unknown\n",
              "760    unknown\n",
              "766    unknown\n",
              "772    unknown\n",
              "797    unknown\n",
              "855    unknown\n",
              "871    unknown\n",
              "Name: neo_high_value_features, dtype: string"
            ]
          },
          "metadata": {},
          "execution_count": 18
        }
      ]
    },
    {
      "cell_type": "code",
      "source": [
        "pip install category_encoders\n"
      ],
      "metadata": {
        "colab": {
          "base_uri": "https://localhost:8080/"
        },
        "id": "kDHun8XXEOtR",
        "executionInfo": {
          "status": "ok",
          "timestamp": 1729190897155,
          "user_tz": 240,
          "elapsed": 4531,
          "user": {
            "displayName": "",
            "userId": ""
          }
        },
        "outputId": "d79a063e-63e7-4643-fa39-cb991a5389f3"
      },
      "execution_count": null,
      "outputs": [
        {
          "output_type": "stream",
          "name": "stdout",
          "text": [
            "Collecting category_encoders\n",
            "  Downloading category_encoders-2.6.4-py2.py3-none-any.whl.metadata (8.0 kB)\n",
            "Requirement already satisfied: numpy>=1.14.0 in /usr/local/lib/python3.10/dist-packages (from category_encoders) (1.26.4)\n",
            "Requirement already satisfied: scikit-learn>=0.20.0 in /usr/local/lib/python3.10/dist-packages (from category_encoders) (1.5.2)\n",
            "Requirement already satisfied: scipy>=1.0.0 in /usr/local/lib/python3.10/dist-packages (from category_encoders) (1.13.1)\n",
            "Requirement already satisfied: statsmodels>=0.9.0 in /usr/local/lib/python3.10/dist-packages (from category_encoders) (0.14.3)\n",
            "Requirement already satisfied: pandas>=1.0.5 in /usr/local/lib/python3.10/dist-packages (from category_encoders) (2.1.4)\n",
            "Requirement already satisfied: patsy>=0.5.1 in /usr/local/lib/python3.10/dist-packages (from category_encoders) (0.5.6)\n",
            "Requirement already satisfied: python-dateutil>=2.8.2 in /usr/local/lib/python3.10/dist-packages (from pandas>=1.0.5->category_encoders) (2.8.2)\n",
            "Requirement already satisfied: pytz>=2020.1 in /usr/local/lib/python3.10/dist-packages (from pandas>=1.0.5->category_encoders) (2024.2)\n",
            "Requirement already satisfied: tzdata>=2022.1 in /usr/local/lib/python3.10/dist-packages (from pandas>=1.0.5->category_encoders) (2024.2)\n",
            "Requirement already satisfied: six in /usr/local/lib/python3.10/dist-packages (from patsy>=0.5.1->category_encoders) (1.16.0)\n",
            "Requirement already satisfied: joblib>=1.2.0 in /usr/local/lib/python3.10/dist-packages (from scikit-learn>=0.20.0->category_encoders) (1.4.2)\n",
            "Requirement already satisfied: threadpoolctl>=3.1.0 in /usr/local/lib/python3.10/dist-packages (from scikit-learn>=0.20.0->category_encoders) (3.5.0)\n",
            "Requirement already satisfied: packaging>=21.3 in /usr/local/lib/python3.10/dist-packages (from statsmodels>=0.9.0->category_encoders) (24.1)\n",
            "Downloading category_encoders-2.6.4-py2.py3-none-any.whl (82 kB)\n",
            "\u001b[2K   \u001b[90m━━━━━━━━━━━━━━━━━━━━━━━━━━━━━━━━━━━━━━━━\u001b[0m \u001b[32m82.0/82.0 kB\u001b[0m \u001b[31m1.8 MB/s\u001b[0m eta \u001b[36m0:00:00\u001b[0m\n",
            "\u001b[?25hInstalling collected packages: category_encoders\n",
            "Successfully installed category_encoders-2.6.4\n"
          ]
        }
      ]
    },
    {
      "cell_type": "code",
      "source": [
        "import category_encoders as ce"
      ],
      "metadata": {
        "id": "NLQGN0d7ETQX"
      },
      "execution_count": null,
      "outputs": []
    },
    {
      "cell_type": "code",
      "source": [
        "df_pandas = df.to_pandas()"
      ],
      "metadata": {
        "colab": {
          "base_uri": "https://localhost:8080/",
          "height": 34
        },
        "id": "g8Sm6G-7EWk3",
        "executionInfo": {
          "status": "ok",
          "timestamp": 1729190912013,
          "user_tz": 240,
          "elapsed": 11257,
          "user": {
            "displayName": "",
            "userId": ""
          }
        },
        "outputId": "a610f70c-081c-4a44-d9e2-071c13cd2292"
      },
      "execution_count": null,
      "outputs": [
        {
          "output_type": "display_data",
          "data": {
            "text/plain": [
              "<IPython.core.display.HTML object>"
            ],
            "text/html": [
              "Query job 138bb79a-f1d2-4bb8-b216-67845c7cf986 is DONE. 347.7 MB processed. <a target=\"_blank\" href=\"https://console.cloud.google.com/bigquery?project=marketcheck-demo&j=bq:US:138bb79a-f1d2-4bb8-b216-67845c7cf986&page=queryresults\">Open Job</a>"
            ]
          },
          "metadata": {}
        }
      ]
    },
    {
      "cell_type": "code",
      "source": [
        "category_encode = [\n",
        "    'neo_listing_confidence',\n",
        "    'neo_trim',\n",
        "    'neo_trim_confidence',\n",
        "    'neo_version',\n",
        "    'neo_version_confidence',\n",
        "    'neo_vehicle_type',\n",
        "    'neo_body_type',\n",
        "    'neo_drivetrain',\n",
        "    'neo_powertrain_type',\n",
        "    'neo_fuel_type',\n",
        "    'neo_engine',\n",
        "    'neo_engine_block',\n",
        "    'neo_transmission',\n",
        "    'neo_manufacturer_code',\n",
        "    'interior_color',\n",
        "    'base_interior_color',\n",
        "    'neo_mfg_interior_color',\n",
        "    'exterior_color',\n",
        "    'base_exterior_color',\n",
        "    'neo_mfg_exterior_color',\n",
        "    'neo_country',\n",
        "    'make_model',\n",
        "    'features', 'mc_category',\n",
        "    'neo_installed_options_details', 'seller_type',\n",
        "    'listing_type', 'inventory_type','neo_high_value_features',\n",
        "    'dealer_type']\n",
        "\n",
        "\n",
        "    # Step 1: Create a target encoder\n",
        "target_encoder = ce.TargetEncoder(cols=category_encode)\n",
        "\n",
        "# Fit and transform the DataFrame\n",
        "encoded_df = target_encoder.fit_transform(df_pandas[category_encode], df_pandas['price'])\n",
        "\n",
        "encoded_df\n",
        "\n"
      ],
      "metadata": {
        "colab": {
          "base_uri": "https://localhost:8080/",
          "height": 444
        },
        "id": "HlxJqaAYEcX9",
        "executionInfo": {
          "status": "ok",
          "timestamp": 1729190920445,
          "user_tz": 240,
          "elapsed": 5921,
          "user": {
            "displayName": "",
            "userId": ""
          }
        },
        "outputId": "8a00f32d-870c-4f16-be27-1c94fb9d22d5"
      },
      "execution_count": null,
      "outputs": [
        {
          "output_type": "execute_result",
          "data": {
            "text/plain": [
              "       neo_listing_confidence      neo_trim  neo_trim_confidence  \\\n",
              "0                37762.887143  23665.031879         27781.568732   \n",
              "1                27980.160166  38460.002922         27781.568732   \n",
              "2                26383.007296  18345.068382         27335.779413   \n",
              "3                26383.007296  30239.964498         27781.568732   \n",
              "4                40148.721622  37519.626717         27781.568732   \n",
              "...                       ...           ...                  ...   \n",
              "49995             25864.27103  23781.621441         27781.568732   \n",
              "49996            40148.721622  25209.692173         27781.568732   \n",
              "49997            26383.007296  20444.990215         21782.615072   \n",
              "49998            26383.007296   22629.49965         27335.779413   \n",
              "49999            26383.007296  22266.811574         21782.615072   \n",
              "\n",
              "        neo_version  neo_version_confidence  neo_vehicle_type  neo_body_type  \\\n",
              "0      26187.112913            26934.042205      28798.610838   28130.534725   \n",
              "1      35526.611325            26934.042205      28798.610838   28130.534725   \n",
              "2      18985.876546            26934.042205      28798.610838   28130.534725   \n",
              "3      30310.328951            26934.042205      28798.610838   28130.534725   \n",
              "4      37519.626717            26934.042205      28798.610838   28130.534725   \n",
              "...             ...                     ...               ...            ...   \n",
              "49995    23040.8429            26934.042205      23372.154663   22609.068977   \n",
              "49996  31091.429245            26934.042205      28798.610838   28130.534725   \n",
              "49997  21981.796063            26934.042205      23372.154663   22609.068977   \n",
              "49998  26416.685728            26934.042205      23372.154663   30116.469682   \n",
              "49999    19633.8367            26934.042205      28798.610838   28130.534725   \n",
              "\n",
              "       neo_drivetrain  neo_powertrain_type  neo_fuel_type  ...   neo_country  \\\n",
              "0        30956.948061         24945.092482   23414.454325  ...  26713.141361   \n",
              "1         32772.88768         24945.092482   35110.522454  ...  26713.141361   \n",
              "2        30956.948061         24945.092482   23414.454325  ...  26713.141361   \n",
              "3        30956.948061         24945.092482   23414.454325  ...  26713.141361   \n",
              "4        30956.948061          30376.15229   35110.522454  ...  26713.141361   \n",
              "...               ...                  ...            ...  ...           ...   \n",
              "49995    20326.216083         24945.092482   23414.454325  ...  26713.141361   \n",
              "49996    30956.948061         48603.412112   35110.522454  ...  26713.141361   \n",
              "49997    20326.216083         24945.092482   23414.454325  ...  26713.141361   \n",
              "49998     32772.88768         24945.092482   23414.454325  ...  26713.141361   \n",
              "49999    20326.216083         24945.092482   23414.454325  ...  26713.141361   \n",
              "\n",
              "         make_model      features   mc_category  \\\n",
              "0      24268.890489  27349.706155  26816.352922   \n",
              "1      35877.136055  26008.388169  26816.352922   \n",
              "2      20832.022206  26304.935106  26816.352922   \n",
              "3      30734.043124  26354.753066  26816.352922   \n",
              "4      46882.227403  32033.611232  26816.352922   \n",
              "...             ...           ...           ...   \n",
              "49995  17592.938115  24361.161047  23988.588063   \n",
              "49996  37370.166372  29573.540669  26816.352922   \n",
              "49997   18091.30911   24200.14172  26816.352922   \n",
              "49998  22600.455053  25892.779551  26816.352922   \n",
              "49999  22604.885318  25564.227562  26816.352922   \n",
              "\n",
              "       neo_installed_options_details   seller_type  listing_type  \\\n",
              "0                       27724.226088  26804.035882  26804.035882   \n",
              "1                        26296.08773  26804.035882  26804.035882   \n",
              "2                       23684.587111  26804.035882  26804.035882   \n",
              "3                       26443.303534  26804.035882  26804.035882   \n",
              "4                       32033.611232  26804.035882  26804.035882   \n",
              "...                              ...           ...           ...   \n",
              "49995                   23684.587111  26804.035882  26804.035882   \n",
              "49996                    27952.60141  26804.035882  26804.035882   \n",
              "49997                   24474.569089  26804.035882  26804.035882   \n",
              "49998                   26266.800148  26804.035882  26804.035882   \n",
              "49999                   25564.227562  26804.035882  26804.035882   \n",
              "\n",
              "       inventory_type  neo_high_value_features   dealer_type  \n",
              "0        26804.035882             27995.934508    28435.7383  \n",
              "1        26804.035882              26296.08773    28435.7383  \n",
              "2        26804.035882             26099.510679    28435.7383  \n",
              "3        26804.035882              26495.61561    28435.7383  \n",
              "4        26804.035882             32033.611232    28435.7383  \n",
              "...               ...                      ...           ...  \n",
              "49995    26804.035882             24258.442771  20309.730246  \n",
              "49996    26804.035882             28911.007848    28435.7383  \n",
              "49997    26804.035882             24216.231082  20309.730246  \n",
              "49998    26804.035882             25940.814331    28435.7383  \n",
              "49999    26804.035882               25951.2791    28435.7383  \n",
              "\n",
              "[50000 rows x 30 columns]"
            ],
            "text/html": [
              "\n",
              "  <div id=\"df-4acff722-947d-4b77-982a-061d490bad5c\" class=\"colab-df-container\">\n",
              "    <div>\n",
              "<style scoped>\n",
              "    .dataframe tbody tr th:only-of-type {\n",
              "        vertical-align: middle;\n",
              "    }\n",
              "\n",
              "    .dataframe tbody tr th {\n",
              "        vertical-align: top;\n",
              "    }\n",
              "\n",
              "    .dataframe thead th {\n",
              "        text-align: right;\n",
              "    }\n",
              "</style>\n",
              "<table border=\"1\" class=\"dataframe\">\n",
              "  <thead>\n",
              "    <tr style=\"text-align: right;\">\n",
              "      <th></th>\n",
              "      <th>neo_listing_confidence</th>\n",
              "      <th>neo_trim</th>\n",
              "      <th>neo_trim_confidence</th>\n",
              "      <th>neo_version</th>\n",
              "      <th>neo_version_confidence</th>\n",
              "      <th>neo_vehicle_type</th>\n",
              "      <th>neo_body_type</th>\n",
              "      <th>neo_drivetrain</th>\n",
              "      <th>neo_powertrain_type</th>\n",
              "      <th>neo_fuel_type</th>\n",
              "      <th>...</th>\n",
              "      <th>neo_country</th>\n",
              "      <th>make_model</th>\n",
              "      <th>features</th>\n",
              "      <th>mc_category</th>\n",
              "      <th>neo_installed_options_details</th>\n",
              "      <th>seller_type</th>\n",
              "      <th>listing_type</th>\n",
              "      <th>inventory_type</th>\n",
              "      <th>neo_high_value_features</th>\n",
              "      <th>dealer_type</th>\n",
              "    </tr>\n",
              "  </thead>\n",
              "  <tbody>\n",
              "    <tr>\n",
              "      <th>0</th>\n",
              "      <td>37762.887143</td>\n",
              "      <td>23665.031879</td>\n",
              "      <td>27781.568732</td>\n",
              "      <td>26187.112913</td>\n",
              "      <td>26934.042205</td>\n",
              "      <td>28798.610838</td>\n",
              "      <td>28130.534725</td>\n",
              "      <td>30956.948061</td>\n",
              "      <td>24945.092482</td>\n",
              "      <td>23414.454325</td>\n",
              "      <td>...</td>\n",
              "      <td>26713.141361</td>\n",
              "      <td>24268.890489</td>\n",
              "      <td>27349.706155</td>\n",
              "      <td>26816.352922</td>\n",
              "      <td>27724.226088</td>\n",
              "      <td>26804.035882</td>\n",
              "      <td>26804.035882</td>\n",
              "      <td>26804.035882</td>\n",
              "      <td>27995.934508</td>\n",
              "      <td>28435.7383</td>\n",
              "    </tr>\n",
              "    <tr>\n",
              "      <th>1</th>\n",
              "      <td>27980.160166</td>\n",
              "      <td>38460.002922</td>\n",
              "      <td>27781.568732</td>\n",
              "      <td>35526.611325</td>\n",
              "      <td>26934.042205</td>\n",
              "      <td>28798.610838</td>\n",
              "      <td>28130.534725</td>\n",
              "      <td>32772.88768</td>\n",
              "      <td>24945.092482</td>\n",
              "      <td>35110.522454</td>\n",
              "      <td>...</td>\n",
              "      <td>26713.141361</td>\n",
              "      <td>35877.136055</td>\n",
              "      <td>26008.388169</td>\n",
              "      <td>26816.352922</td>\n",
              "      <td>26296.08773</td>\n",
              "      <td>26804.035882</td>\n",
              "      <td>26804.035882</td>\n",
              "      <td>26804.035882</td>\n",
              "      <td>26296.08773</td>\n",
              "      <td>28435.7383</td>\n",
              "    </tr>\n",
              "    <tr>\n",
              "      <th>2</th>\n",
              "      <td>26383.007296</td>\n",
              "      <td>18345.068382</td>\n",
              "      <td>27335.779413</td>\n",
              "      <td>18985.876546</td>\n",
              "      <td>26934.042205</td>\n",
              "      <td>28798.610838</td>\n",
              "      <td>28130.534725</td>\n",
              "      <td>30956.948061</td>\n",
              "      <td>24945.092482</td>\n",
              "      <td>23414.454325</td>\n",
              "      <td>...</td>\n",
              "      <td>26713.141361</td>\n",
              "      <td>20832.022206</td>\n",
              "      <td>26304.935106</td>\n",
              "      <td>26816.352922</td>\n",
              "      <td>23684.587111</td>\n",
              "      <td>26804.035882</td>\n",
              "      <td>26804.035882</td>\n",
              "      <td>26804.035882</td>\n",
              "      <td>26099.510679</td>\n",
              "      <td>28435.7383</td>\n",
              "    </tr>\n",
              "    <tr>\n",
              "      <th>3</th>\n",
              "      <td>26383.007296</td>\n",
              "      <td>30239.964498</td>\n",
              "      <td>27781.568732</td>\n",
              "      <td>30310.328951</td>\n",
              "      <td>26934.042205</td>\n",
              "      <td>28798.610838</td>\n",
              "      <td>28130.534725</td>\n",
              "      <td>30956.948061</td>\n",
              "      <td>24945.092482</td>\n",
              "      <td>23414.454325</td>\n",
              "      <td>...</td>\n",
              "      <td>26713.141361</td>\n",
              "      <td>30734.043124</td>\n",
              "      <td>26354.753066</td>\n",
              "      <td>26816.352922</td>\n",
              "      <td>26443.303534</td>\n",
              "      <td>26804.035882</td>\n",
              "      <td>26804.035882</td>\n",
              "      <td>26804.035882</td>\n",
              "      <td>26495.61561</td>\n",
              "      <td>28435.7383</td>\n",
              "    </tr>\n",
              "    <tr>\n",
              "      <th>4</th>\n",
              "      <td>40148.721622</td>\n",
              "      <td>37519.626717</td>\n",
              "      <td>27781.568732</td>\n",
              "      <td>37519.626717</td>\n",
              "      <td>26934.042205</td>\n",
              "      <td>28798.610838</td>\n",
              "      <td>28130.534725</td>\n",
              "      <td>30956.948061</td>\n",
              "      <td>30376.15229</td>\n",
              "      <td>35110.522454</td>\n",
              "      <td>...</td>\n",
              "      <td>26713.141361</td>\n",
              "      <td>46882.227403</td>\n",
              "      <td>32033.611232</td>\n",
              "      <td>26816.352922</td>\n",
              "      <td>32033.611232</td>\n",
              "      <td>26804.035882</td>\n",
              "      <td>26804.035882</td>\n",
              "      <td>26804.035882</td>\n",
              "      <td>32033.611232</td>\n",
              "      <td>28435.7383</td>\n",
              "    </tr>\n",
              "    <tr>\n",
              "      <th>...</th>\n",
              "      <td>...</td>\n",
              "      <td>...</td>\n",
              "      <td>...</td>\n",
              "      <td>...</td>\n",
              "      <td>...</td>\n",
              "      <td>...</td>\n",
              "      <td>...</td>\n",
              "      <td>...</td>\n",
              "      <td>...</td>\n",
              "      <td>...</td>\n",
              "      <td>...</td>\n",
              "      <td>...</td>\n",
              "      <td>...</td>\n",
              "      <td>...</td>\n",
              "      <td>...</td>\n",
              "      <td>...</td>\n",
              "      <td>...</td>\n",
              "      <td>...</td>\n",
              "      <td>...</td>\n",
              "      <td>...</td>\n",
              "      <td>...</td>\n",
              "    </tr>\n",
              "    <tr>\n",
              "      <th>49995</th>\n",
              "      <td>25864.27103</td>\n",
              "      <td>23781.621441</td>\n",
              "      <td>27781.568732</td>\n",
              "      <td>23040.8429</td>\n",
              "      <td>26934.042205</td>\n",
              "      <td>23372.154663</td>\n",
              "      <td>22609.068977</td>\n",
              "      <td>20326.216083</td>\n",
              "      <td>24945.092482</td>\n",
              "      <td>23414.454325</td>\n",
              "      <td>...</td>\n",
              "      <td>26713.141361</td>\n",
              "      <td>17592.938115</td>\n",
              "      <td>24361.161047</td>\n",
              "      <td>23988.588063</td>\n",
              "      <td>23684.587111</td>\n",
              "      <td>26804.035882</td>\n",
              "      <td>26804.035882</td>\n",
              "      <td>26804.035882</td>\n",
              "      <td>24258.442771</td>\n",
              "      <td>20309.730246</td>\n",
              "    </tr>\n",
              "    <tr>\n",
              "      <th>49996</th>\n",
              "      <td>40148.721622</td>\n",
              "      <td>25209.692173</td>\n",
              "      <td>27781.568732</td>\n",
              "      <td>31091.429245</td>\n",
              "      <td>26934.042205</td>\n",
              "      <td>28798.610838</td>\n",
              "      <td>28130.534725</td>\n",
              "      <td>30956.948061</td>\n",
              "      <td>48603.412112</td>\n",
              "      <td>35110.522454</td>\n",
              "      <td>...</td>\n",
              "      <td>26713.141361</td>\n",
              "      <td>37370.166372</td>\n",
              "      <td>29573.540669</td>\n",
              "      <td>26816.352922</td>\n",
              "      <td>27952.60141</td>\n",
              "      <td>26804.035882</td>\n",
              "      <td>26804.035882</td>\n",
              "      <td>26804.035882</td>\n",
              "      <td>28911.007848</td>\n",
              "      <td>28435.7383</td>\n",
              "    </tr>\n",
              "    <tr>\n",
              "      <th>49997</th>\n",
              "      <td>26383.007296</td>\n",
              "      <td>20444.990215</td>\n",
              "      <td>21782.615072</td>\n",
              "      <td>21981.796063</td>\n",
              "      <td>26934.042205</td>\n",
              "      <td>23372.154663</td>\n",
              "      <td>22609.068977</td>\n",
              "      <td>20326.216083</td>\n",
              "      <td>24945.092482</td>\n",
              "      <td>23414.454325</td>\n",
              "      <td>...</td>\n",
              "      <td>26713.141361</td>\n",
              "      <td>18091.30911</td>\n",
              "      <td>24200.14172</td>\n",
              "      <td>26816.352922</td>\n",
              "      <td>24474.569089</td>\n",
              "      <td>26804.035882</td>\n",
              "      <td>26804.035882</td>\n",
              "      <td>26804.035882</td>\n",
              "      <td>24216.231082</td>\n",
              "      <td>20309.730246</td>\n",
              "    </tr>\n",
              "    <tr>\n",
              "      <th>49998</th>\n",
              "      <td>26383.007296</td>\n",
              "      <td>22629.49965</td>\n",
              "      <td>27335.779413</td>\n",
              "      <td>26416.685728</td>\n",
              "      <td>26934.042205</td>\n",
              "      <td>23372.154663</td>\n",
              "      <td>30116.469682</td>\n",
              "      <td>32772.88768</td>\n",
              "      <td>24945.092482</td>\n",
              "      <td>23414.454325</td>\n",
              "      <td>...</td>\n",
              "      <td>26713.141361</td>\n",
              "      <td>22600.455053</td>\n",
              "      <td>25892.779551</td>\n",
              "      <td>26816.352922</td>\n",
              "      <td>26266.800148</td>\n",
              "      <td>26804.035882</td>\n",
              "      <td>26804.035882</td>\n",
              "      <td>26804.035882</td>\n",
              "      <td>25940.814331</td>\n",
              "      <td>28435.7383</td>\n",
              "    </tr>\n",
              "    <tr>\n",
              "      <th>49999</th>\n",
              "      <td>26383.007296</td>\n",
              "      <td>22266.811574</td>\n",
              "      <td>21782.615072</td>\n",
              "      <td>19633.8367</td>\n",
              "      <td>26934.042205</td>\n",
              "      <td>28798.610838</td>\n",
              "      <td>28130.534725</td>\n",
              "      <td>20326.216083</td>\n",
              "      <td>24945.092482</td>\n",
              "      <td>23414.454325</td>\n",
              "      <td>...</td>\n",
              "      <td>26713.141361</td>\n",
              "      <td>22604.885318</td>\n",
              "      <td>25564.227562</td>\n",
              "      <td>26816.352922</td>\n",
              "      <td>25564.227562</td>\n",
              "      <td>26804.035882</td>\n",
              "      <td>26804.035882</td>\n",
              "      <td>26804.035882</td>\n",
              "      <td>25951.2791</td>\n",
              "      <td>28435.7383</td>\n",
              "    </tr>\n",
              "  </tbody>\n",
              "</table>\n",
              "<p>50000 rows × 30 columns</p>\n",
              "</div>\n",
              "    <div class=\"colab-df-buttons\">\n",
              "\n",
              "  <div class=\"colab-df-container\">\n",
              "    <button class=\"colab-df-convert\" onclick=\"convertToInteractive('df-4acff722-947d-4b77-982a-061d490bad5c')\"\n",
              "            title=\"Convert this dataframe to an interactive table.\"\n",
              "            style=\"display:none;\">\n",
              "\n",
              "  <svg xmlns=\"http://www.w3.org/2000/svg\" height=\"24px\" viewBox=\"0 -960 960 960\">\n",
              "    <path d=\"M120-120v-720h720v720H120Zm60-500h600v-160H180v160Zm220 220h160v-160H400v160Zm0 220h160v-160H400v160ZM180-400h160v-160H180v160Zm440 0h160v-160H620v160ZM180-180h160v-160H180v160Zm440 0h160v-160H620v160Z\"/>\n",
              "  </svg>\n",
              "    </button>\n",
              "\n",
              "  <style>\n",
              "    .colab-df-container {\n",
              "      display:flex;\n",
              "      gap: 12px;\n",
              "    }\n",
              "\n",
              "    .colab-df-convert {\n",
              "      background-color: #E8F0FE;\n",
              "      border: none;\n",
              "      border-radius: 50%;\n",
              "      cursor: pointer;\n",
              "      display: none;\n",
              "      fill: #1967D2;\n",
              "      height: 32px;\n",
              "      padding: 0 0 0 0;\n",
              "      width: 32px;\n",
              "    }\n",
              "\n",
              "    .colab-df-convert:hover {\n",
              "      background-color: #E2EBFA;\n",
              "      box-shadow: 0px 1px 2px rgba(60, 64, 67, 0.3), 0px 1px 3px 1px rgba(60, 64, 67, 0.15);\n",
              "      fill: #174EA6;\n",
              "    }\n",
              "\n",
              "    .colab-df-buttons div {\n",
              "      margin-bottom: 4px;\n",
              "    }\n",
              "\n",
              "    [theme=dark] .colab-df-convert {\n",
              "      background-color: #3B4455;\n",
              "      fill: #D2E3FC;\n",
              "    }\n",
              "\n",
              "    [theme=dark] .colab-df-convert:hover {\n",
              "      background-color: #434B5C;\n",
              "      box-shadow: 0px 1px 3px 1px rgba(0, 0, 0, 0.15);\n",
              "      filter: drop-shadow(0px 1px 2px rgba(0, 0, 0, 0.3));\n",
              "      fill: #FFFFFF;\n",
              "    }\n",
              "  </style>\n",
              "\n",
              "    <script>\n",
              "      const buttonEl =\n",
              "        document.querySelector('#df-4acff722-947d-4b77-982a-061d490bad5c button.colab-df-convert');\n",
              "      buttonEl.style.display =\n",
              "        google.colab.kernel.accessAllowed ? 'block' : 'none';\n",
              "\n",
              "      async function convertToInteractive(key) {\n",
              "        const element = document.querySelector('#df-4acff722-947d-4b77-982a-061d490bad5c');\n",
              "        const dataTable =\n",
              "          await google.colab.kernel.invokeFunction('convertToInteractive',\n",
              "                                                    [key], {});\n",
              "        if (!dataTable) return;\n",
              "\n",
              "        const docLinkHtml = 'Like what you see? Visit the ' +\n",
              "          '<a target=\"_blank\" href=https://colab.research.google.com/notebooks/data_table.ipynb>data table notebook</a>'\n",
              "          + ' to learn more about interactive tables.';\n",
              "        element.innerHTML = '';\n",
              "        dataTable['output_type'] = 'display_data';\n",
              "        await google.colab.output.renderOutput(dataTable, element);\n",
              "        const docLink = document.createElement('div');\n",
              "        docLink.innerHTML = docLinkHtml;\n",
              "        element.appendChild(docLink);\n",
              "      }\n",
              "    </script>\n",
              "  </div>\n",
              "\n",
              "\n",
              "<div id=\"df-6f27f3b9-6ca0-4d61-97b0-e6596ba544f5\">\n",
              "  <button class=\"colab-df-quickchart\" onclick=\"quickchart('df-6f27f3b9-6ca0-4d61-97b0-e6596ba544f5')\"\n",
              "            title=\"Suggest charts\"\n",
              "            style=\"display:none;\">\n",
              "\n",
              "<svg xmlns=\"http://www.w3.org/2000/svg\" height=\"24px\"viewBox=\"0 0 24 24\"\n",
              "     width=\"24px\">\n",
              "    <g>\n",
              "        <path d=\"M19 3H5c-1.1 0-2 .9-2 2v14c0 1.1.9 2 2 2h14c1.1 0 2-.9 2-2V5c0-1.1-.9-2-2-2zM9 17H7v-7h2v7zm4 0h-2V7h2v10zm4 0h-2v-4h2v4z\"/>\n",
              "    </g>\n",
              "</svg>\n",
              "  </button>\n",
              "\n",
              "<style>\n",
              "  .colab-df-quickchart {\n",
              "      --bg-color: #E8F0FE;\n",
              "      --fill-color: #1967D2;\n",
              "      --hover-bg-color: #E2EBFA;\n",
              "      --hover-fill-color: #174EA6;\n",
              "      --disabled-fill-color: #AAA;\n",
              "      --disabled-bg-color: #DDD;\n",
              "  }\n",
              "\n",
              "  [theme=dark] .colab-df-quickchart {\n",
              "      --bg-color: #3B4455;\n",
              "      --fill-color: #D2E3FC;\n",
              "      --hover-bg-color: #434B5C;\n",
              "      --hover-fill-color: #FFFFFF;\n",
              "      --disabled-bg-color: #3B4455;\n",
              "      --disabled-fill-color: #666;\n",
              "  }\n",
              "\n",
              "  .colab-df-quickchart {\n",
              "    background-color: var(--bg-color);\n",
              "    border: none;\n",
              "    border-radius: 50%;\n",
              "    cursor: pointer;\n",
              "    display: none;\n",
              "    fill: var(--fill-color);\n",
              "    height: 32px;\n",
              "    padding: 0;\n",
              "    width: 32px;\n",
              "  }\n",
              "\n",
              "  .colab-df-quickchart:hover {\n",
              "    background-color: var(--hover-bg-color);\n",
              "    box-shadow: 0 1px 2px rgba(60, 64, 67, 0.3), 0 1px 3px 1px rgba(60, 64, 67, 0.15);\n",
              "    fill: var(--button-hover-fill-color);\n",
              "  }\n",
              "\n",
              "  .colab-df-quickchart-complete:disabled,\n",
              "  .colab-df-quickchart-complete:disabled:hover {\n",
              "    background-color: var(--disabled-bg-color);\n",
              "    fill: var(--disabled-fill-color);\n",
              "    box-shadow: none;\n",
              "  }\n",
              "\n",
              "  .colab-df-spinner {\n",
              "    border: 2px solid var(--fill-color);\n",
              "    border-color: transparent;\n",
              "    border-bottom-color: var(--fill-color);\n",
              "    animation:\n",
              "      spin 1s steps(1) infinite;\n",
              "  }\n",
              "\n",
              "  @keyframes spin {\n",
              "    0% {\n",
              "      border-color: transparent;\n",
              "      border-bottom-color: var(--fill-color);\n",
              "      border-left-color: var(--fill-color);\n",
              "    }\n",
              "    20% {\n",
              "      border-color: transparent;\n",
              "      border-left-color: var(--fill-color);\n",
              "      border-top-color: var(--fill-color);\n",
              "    }\n",
              "    30% {\n",
              "      border-color: transparent;\n",
              "      border-left-color: var(--fill-color);\n",
              "      border-top-color: var(--fill-color);\n",
              "      border-right-color: var(--fill-color);\n",
              "    }\n",
              "    40% {\n",
              "      border-color: transparent;\n",
              "      border-right-color: var(--fill-color);\n",
              "      border-top-color: var(--fill-color);\n",
              "    }\n",
              "    60% {\n",
              "      border-color: transparent;\n",
              "      border-right-color: var(--fill-color);\n",
              "    }\n",
              "    80% {\n",
              "      border-color: transparent;\n",
              "      border-right-color: var(--fill-color);\n",
              "      border-bottom-color: var(--fill-color);\n",
              "    }\n",
              "    90% {\n",
              "      border-color: transparent;\n",
              "      border-bottom-color: var(--fill-color);\n",
              "    }\n",
              "  }\n",
              "</style>\n",
              "\n",
              "  <script>\n",
              "    async function quickchart(key) {\n",
              "      const quickchartButtonEl =\n",
              "        document.querySelector('#' + key + ' button');\n",
              "      quickchartButtonEl.disabled = true;  // To prevent multiple clicks.\n",
              "      quickchartButtonEl.classList.add('colab-df-spinner');\n",
              "      try {\n",
              "        const charts = await google.colab.kernel.invokeFunction(\n",
              "            'suggestCharts', [key], {});\n",
              "      } catch (error) {\n",
              "        console.error('Error during call to suggestCharts:', error);\n",
              "      }\n",
              "      quickchartButtonEl.classList.remove('colab-df-spinner');\n",
              "      quickchartButtonEl.classList.add('colab-df-quickchart-complete');\n",
              "    }\n",
              "    (() => {\n",
              "      let quickchartButtonEl =\n",
              "        document.querySelector('#df-6f27f3b9-6ca0-4d61-97b0-e6596ba544f5 button');\n",
              "      quickchartButtonEl.style.display =\n",
              "        google.colab.kernel.accessAllowed ? 'block' : 'none';\n",
              "    })();\n",
              "  </script>\n",
              "</div>\n",
              "    </div>\n",
              "  </div>\n"
            ]
          },
          "metadata": {},
          "execution_count": 22
        }
      ]
    },
    {
      "cell_type": "code",
      "source": [
        " #Step 2: Drop original categorical columns from the original DataFrame\n",
        "df_without_categorical = df_pandas.drop(columns=category_encode)\n",
        "\n",
        "# Step 3: Concatenate the encoded features with the original DataFrame\n",
        "# Now, encoded_df contains only the target-encoded columns\n",
        "df_cleaned = pd.concat([encoded_df, df_without_categorical], axis=1)\n",
        "df_cleaned"
      ],
      "metadata": {
        "colab": {
          "base_uri": "https://localhost:8080/",
          "height": 444
        },
        "id": "ss5_E98kIRx4",
        "executionInfo": {
          "status": "ok",
          "timestamp": 1729190924446,
          "user_tz": 240,
          "elapsed": 172,
          "user": {
            "displayName": "",
            "userId": ""
          }
        },
        "outputId": "eff85f46-be65-407c-ba55-877fdf090245"
      },
      "execution_count": null,
      "outputs": [
        {
          "output_type": "execute_result",
          "data": {
            "text/plain": [
              "       neo_listing_confidence      neo_trim  neo_trim_confidence  \\\n",
              "0                37762.887143  23665.031879         27781.568732   \n",
              "1                27980.160166  38460.002922         27781.568732   \n",
              "2                26383.007296  18345.068382         27335.779413   \n",
              "3                26383.007296  30239.964498         27781.568732   \n",
              "4                40148.721622  37519.626717         27781.568732   \n",
              "...                       ...           ...                  ...   \n",
              "49995             25864.27103  23781.621441         27781.568732   \n",
              "49996            40148.721622  25209.692173         27781.568732   \n",
              "49997            26383.007296  20444.990215         21782.615072   \n",
              "49998            26383.007296   22629.49965         27335.779413   \n",
              "49999            26383.007296  22266.811574         21782.615072   \n",
              "\n",
              "        neo_version  neo_version_confidence  neo_vehicle_type  neo_body_type  \\\n",
              "0      26187.112913            26934.042205      28798.610838   28130.534725   \n",
              "1      35526.611325            26934.042205      28798.610838   28130.534725   \n",
              "2      18985.876546            26934.042205      28798.610838   28130.534725   \n",
              "3      30310.328951            26934.042205      28798.610838   28130.534725   \n",
              "4      37519.626717            26934.042205      28798.610838   28130.534725   \n",
              "...             ...                     ...               ...            ...   \n",
              "49995    23040.8429            26934.042205      23372.154663   22609.068977   \n",
              "49996  31091.429245            26934.042205      28798.610838   28130.534725   \n",
              "49997  21981.796063            26934.042205      23372.154663   22609.068977   \n",
              "49998  26416.685728            26934.042205      23372.154663   30116.469682   \n",
              "49999    19633.8367            26934.042205      28798.610838   28130.534725   \n",
              "\n",
              "       neo_drivetrain  neo_powertrain_type  neo_fuel_type  ...  dom_180  \\\n",
              "0        30956.948061         24945.092482   23414.454325  ...        6   \n",
              "1         32772.88768         24945.092482   35110.522454  ...        9   \n",
              "2        30956.948061         24945.092482   23414.454325  ...       34   \n",
              "3        30956.948061         24945.092482   23414.454325  ...        4   \n",
              "4        30956.948061          30376.15229   35110.522454  ...      138   \n",
              "...               ...                  ...            ...  ...      ...   \n",
              "49995    20326.216083         24945.092482   23414.454325  ...       40   \n",
              "49996    30956.948061         48603.412112   35110.522454  ...       21   \n",
              "49997    20326.216083         24945.092482   23414.454325  ...      177   \n",
              "49998     32772.88768         24945.092482   23414.454325  ...       11   \n",
              "49999    20326.216083         24945.092482   23414.454325  ...       52   \n",
              "\n",
              "       dom_active  in_transit  dos_active  mc_dealer_id  mc_location_id  \\\n",
              "0               6           0           4       1184440         1404346   \n",
              "1               1           0           1       1192623         1345392   \n",
              "2              34           0          24       1194275         1410271   \n",
              "3               4           0           4       1142828         1401771   \n",
              "4             138           0          16       1161131         1527806   \n",
              "...           ...         ...         ...           ...             ...   \n",
              "49995          40           0          40       1155660         1391082   \n",
              "49996          21           0          21       1127285         1424767   \n",
              "49997         177           0         172       1151493         1415404   \n",
              "49998          11           0           6       1157084         1408378   \n",
              "49999          52           0          52       1153991         1413418   \n",
              "\n",
              "       mc_website_id  mc_rooftop_id  is_searchable  first_scraped_age  \n",
              "0           11027708         874856              0                2.0  \n",
              "1            1004933         606236              0                5.0  \n",
              "2            1053281         868116              0                0.0  \n",
              "3           11023416         650237              0                5.0  \n",
              "4           10027637         725410              1                0.0  \n",
              "...              ...            ...            ...                ...  \n",
              "49995        1080226         627160              1               10.0  \n",
              "49996        1014348         253121              1                3.0  \n",
              "49997       11009002         812121              1                9.0  \n",
              "49998        1094168         814494              0                4.0  \n",
              "49999        1095318         924062              0                4.0  \n",
              "\n",
              "[50000 rows x 55 columns]"
            ],
            "text/html": [
              "\n",
              "  <div id=\"df-6b92dc49-2e6f-4c24-9256-55f971718feb\" class=\"colab-df-container\">\n",
              "    <div>\n",
              "<style scoped>\n",
              "    .dataframe tbody tr th:only-of-type {\n",
              "        vertical-align: middle;\n",
              "    }\n",
              "\n",
              "    .dataframe tbody tr th {\n",
              "        vertical-align: top;\n",
              "    }\n",
              "\n",
              "    .dataframe thead th {\n",
              "        text-align: right;\n",
              "    }\n",
              "</style>\n",
              "<table border=\"1\" class=\"dataframe\">\n",
              "  <thead>\n",
              "    <tr style=\"text-align: right;\">\n",
              "      <th></th>\n",
              "      <th>neo_listing_confidence</th>\n",
              "      <th>neo_trim</th>\n",
              "      <th>neo_trim_confidence</th>\n",
              "      <th>neo_version</th>\n",
              "      <th>neo_version_confidence</th>\n",
              "      <th>neo_vehicle_type</th>\n",
              "      <th>neo_body_type</th>\n",
              "      <th>neo_drivetrain</th>\n",
              "      <th>neo_powertrain_type</th>\n",
              "      <th>neo_fuel_type</th>\n",
              "      <th>...</th>\n",
              "      <th>dom_180</th>\n",
              "      <th>dom_active</th>\n",
              "      <th>in_transit</th>\n",
              "      <th>dos_active</th>\n",
              "      <th>mc_dealer_id</th>\n",
              "      <th>mc_location_id</th>\n",
              "      <th>mc_website_id</th>\n",
              "      <th>mc_rooftop_id</th>\n",
              "      <th>is_searchable</th>\n",
              "      <th>first_scraped_age</th>\n",
              "    </tr>\n",
              "  </thead>\n",
              "  <tbody>\n",
              "    <tr>\n",
              "      <th>0</th>\n",
              "      <td>37762.887143</td>\n",
              "      <td>23665.031879</td>\n",
              "      <td>27781.568732</td>\n",
              "      <td>26187.112913</td>\n",
              "      <td>26934.042205</td>\n",
              "      <td>28798.610838</td>\n",
              "      <td>28130.534725</td>\n",
              "      <td>30956.948061</td>\n",
              "      <td>24945.092482</td>\n",
              "      <td>23414.454325</td>\n",
              "      <td>...</td>\n",
              "      <td>6</td>\n",
              "      <td>6</td>\n",
              "      <td>0</td>\n",
              "      <td>4</td>\n",
              "      <td>1184440</td>\n",
              "      <td>1404346</td>\n",
              "      <td>11027708</td>\n",
              "      <td>874856</td>\n",
              "      <td>0</td>\n",
              "      <td>2.0</td>\n",
              "    </tr>\n",
              "    <tr>\n",
              "      <th>1</th>\n",
              "      <td>27980.160166</td>\n",
              "      <td>38460.002922</td>\n",
              "      <td>27781.568732</td>\n",
              "      <td>35526.611325</td>\n",
              "      <td>26934.042205</td>\n",
              "      <td>28798.610838</td>\n",
              "      <td>28130.534725</td>\n",
              "      <td>32772.88768</td>\n",
              "      <td>24945.092482</td>\n",
              "      <td>35110.522454</td>\n",
              "      <td>...</td>\n",
              "      <td>9</td>\n",
              "      <td>1</td>\n",
              "      <td>0</td>\n",
              "      <td>1</td>\n",
              "      <td>1192623</td>\n",
              "      <td>1345392</td>\n",
              "      <td>1004933</td>\n",
              "      <td>606236</td>\n",
              "      <td>0</td>\n",
              "      <td>5.0</td>\n",
              "    </tr>\n",
              "    <tr>\n",
              "      <th>2</th>\n",
              "      <td>26383.007296</td>\n",
              "      <td>18345.068382</td>\n",
              "      <td>27335.779413</td>\n",
              "      <td>18985.876546</td>\n",
              "      <td>26934.042205</td>\n",
              "      <td>28798.610838</td>\n",
              "      <td>28130.534725</td>\n",
              "      <td>30956.948061</td>\n",
              "      <td>24945.092482</td>\n",
              "      <td>23414.454325</td>\n",
              "      <td>...</td>\n",
              "      <td>34</td>\n",
              "      <td>34</td>\n",
              "      <td>0</td>\n",
              "      <td>24</td>\n",
              "      <td>1194275</td>\n",
              "      <td>1410271</td>\n",
              "      <td>1053281</td>\n",
              "      <td>868116</td>\n",
              "      <td>0</td>\n",
              "      <td>0.0</td>\n",
              "    </tr>\n",
              "    <tr>\n",
              "      <th>3</th>\n",
              "      <td>26383.007296</td>\n",
              "      <td>30239.964498</td>\n",
              "      <td>27781.568732</td>\n",
              "      <td>30310.328951</td>\n",
              "      <td>26934.042205</td>\n",
              "      <td>28798.610838</td>\n",
              "      <td>28130.534725</td>\n",
              "      <td>30956.948061</td>\n",
              "      <td>24945.092482</td>\n",
              "      <td>23414.454325</td>\n",
              "      <td>...</td>\n",
              "      <td>4</td>\n",
              "      <td>4</td>\n",
              "      <td>0</td>\n",
              "      <td>4</td>\n",
              "      <td>1142828</td>\n",
              "      <td>1401771</td>\n",
              "      <td>11023416</td>\n",
              "      <td>650237</td>\n",
              "      <td>0</td>\n",
              "      <td>5.0</td>\n",
              "    </tr>\n",
              "    <tr>\n",
              "      <th>4</th>\n",
              "      <td>40148.721622</td>\n",
              "      <td>37519.626717</td>\n",
              "      <td>27781.568732</td>\n",
              "      <td>37519.626717</td>\n",
              "      <td>26934.042205</td>\n",
              "      <td>28798.610838</td>\n",
              "      <td>28130.534725</td>\n",
              "      <td>30956.948061</td>\n",
              "      <td>30376.15229</td>\n",
              "      <td>35110.522454</td>\n",
              "      <td>...</td>\n",
              "      <td>138</td>\n",
              "      <td>138</td>\n",
              "      <td>0</td>\n",
              "      <td>16</td>\n",
              "      <td>1161131</td>\n",
              "      <td>1527806</td>\n",
              "      <td>10027637</td>\n",
              "      <td>725410</td>\n",
              "      <td>1</td>\n",
              "      <td>0.0</td>\n",
              "    </tr>\n",
              "    <tr>\n",
              "      <th>...</th>\n",
              "      <td>...</td>\n",
              "      <td>...</td>\n",
              "      <td>...</td>\n",
              "      <td>...</td>\n",
              "      <td>...</td>\n",
              "      <td>...</td>\n",
              "      <td>...</td>\n",
              "      <td>...</td>\n",
              "      <td>...</td>\n",
              "      <td>...</td>\n",
              "      <td>...</td>\n",
              "      <td>...</td>\n",
              "      <td>...</td>\n",
              "      <td>...</td>\n",
              "      <td>...</td>\n",
              "      <td>...</td>\n",
              "      <td>...</td>\n",
              "      <td>...</td>\n",
              "      <td>...</td>\n",
              "      <td>...</td>\n",
              "      <td>...</td>\n",
              "    </tr>\n",
              "    <tr>\n",
              "      <th>49995</th>\n",
              "      <td>25864.27103</td>\n",
              "      <td>23781.621441</td>\n",
              "      <td>27781.568732</td>\n",
              "      <td>23040.8429</td>\n",
              "      <td>26934.042205</td>\n",
              "      <td>23372.154663</td>\n",
              "      <td>22609.068977</td>\n",
              "      <td>20326.216083</td>\n",
              "      <td>24945.092482</td>\n",
              "      <td>23414.454325</td>\n",
              "      <td>...</td>\n",
              "      <td>40</td>\n",
              "      <td>40</td>\n",
              "      <td>0</td>\n",
              "      <td>40</td>\n",
              "      <td>1155660</td>\n",
              "      <td>1391082</td>\n",
              "      <td>1080226</td>\n",
              "      <td>627160</td>\n",
              "      <td>1</td>\n",
              "      <td>10.0</td>\n",
              "    </tr>\n",
              "    <tr>\n",
              "      <th>49996</th>\n",
              "      <td>40148.721622</td>\n",
              "      <td>25209.692173</td>\n",
              "      <td>27781.568732</td>\n",
              "      <td>31091.429245</td>\n",
              "      <td>26934.042205</td>\n",
              "      <td>28798.610838</td>\n",
              "      <td>28130.534725</td>\n",
              "      <td>30956.948061</td>\n",
              "      <td>48603.412112</td>\n",
              "      <td>35110.522454</td>\n",
              "      <td>...</td>\n",
              "      <td>21</td>\n",
              "      <td>21</td>\n",
              "      <td>0</td>\n",
              "      <td>21</td>\n",
              "      <td>1127285</td>\n",
              "      <td>1424767</td>\n",
              "      <td>1014348</td>\n",
              "      <td>253121</td>\n",
              "      <td>1</td>\n",
              "      <td>3.0</td>\n",
              "    </tr>\n",
              "    <tr>\n",
              "      <th>49997</th>\n",
              "      <td>26383.007296</td>\n",
              "      <td>20444.990215</td>\n",
              "      <td>21782.615072</td>\n",
              "      <td>21981.796063</td>\n",
              "      <td>26934.042205</td>\n",
              "      <td>23372.154663</td>\n",
              "      <td>22609.068977</td>\n",
              "      <td>20326.216083</td>\n",
              "      <td>24945.092482</td>\n",
              "      <td>23414.454325</td>\n",
              "      <td>...</td>\n",
              "      <td>177</td>\n",
              "      <td>177</td>\n",
              "      <td>0</td>\n",
              "      <td>172</td>\n",
              "      <td>1151493</td>\n",
              "      <td>1415404</td>\n",
              "      <td>11009002</td>\n",
              "      <td>812121</td>\n",
              "      <td>1</td>\n",
              "      <td>9.0</td>\n",
              "    </tr>\n",
              "    <tr>\n",
              "      <th>49998</th>\n",
              "      <td>26383.007296</td>\n",
              "      <td>22629.49965</td>\n",
              "      <td>27335.779413</td>\n",
              "      <td>26416.685728</td>\n",
              "      <td>26934.042205</td>\n",
              "      <td>23372.154663</td>\n",
              "      <td>30116.469682</td>\n",
              "      <td>32772.88768</td>\n",
              "      <td>24945.092482</td>\n",
              "      <td>23414.454325</td>\n",
              "      <td>...</td>\n",
              "      <td>11</td>\n",
              "      <td>11</td>\n",
              "      <td>0</td>\n",
              "      <td>6</td>\n",
              "      <td>1157084</td>\n",
              "      <td>1408378</td>\n",
              "      <td>1094168</td>\n",
              "      <td>814494</td>\n",
              "      <td>0</td>\n",
              "      <td>4.0</td>\n",
              "    </tr>\n",
              "    <tr>\n",
              "      <th>49999</th>\n",
              "      <td>26383.007296</td>\n",
              "      <td>22266.811574</td>\n",
              "      <td>21782.615072</td>\n",
              "      <td>19633.8367</td>\n",
              "      <td>26934.042205</td>\n",
              "      <td>28798.610838</td>\n",
              "      <td>28130.534725</td>\n",
              "      <td>20326.216083</td>\n",
              "      <td>24945.092482</td>\n",
              "      <td>23414.454325</td>\n",
              "      <td>...</td>\n",
              "      <td>52</td>\n",
              "      <td>52</td>\n",
              "      <td>0</td>\n",
              "      <td>52</td>\n",
              "      <td>1153991</td>\n",
              "      <td>1413418</td>\n",
              "      <td>1095318</td>\n",
              "      <td>924062</td>\n",
              "      <td>0</td>\n",
              "      <td>4.0</td>\n",
              "    </tr>\n",
              "  </tbody>\n",
              "</table>\n",
              "<p>50000 rows × 55 columns</p>\n",
              "</div>\n",
              "    <div class=\"colab-df-buttons\">\n",
              "\n",
              "  <div class=\"colab-df-container\">\n",
              "    <button class=\"colab-df-convert\" onclick=\"convertToInteractive('df-6b92dc49-2e6f-4c24-9256-55f971718feb')\"\n",
              "            title=\"Convert this dataframe to an interactive table.\"\n",
              "            style=\"display:none;\">\n",
              "\n",
              "  <svg xmlns=\"http://www.w3.org/2000/svg\" height=\"24px\" viewBox=\"0 -960 960 960\">\n",
              "    <path d=\"M120-120v-720h720v720H120Zm60-500h600v-160H180v160Zm220 220h160v-160H400v160Zm0 220h160v-160H400v160ZM180-400h160v-160H180v160Zm440 0h160v-160H620v160ZM180-180h160v-160H180v160Zm440 0h160v-160H620v160Z\"/>\n",
              "  </svg>\n",
              "    </button>\n",
              "\n",
              "  <style>\n",
              "    .colab-df-container {\n",
              "      display:flex;\n",
              "      gap: 12px;\n",
              "    }\n",
              "\n",
              "    .colab-df-convert {\n",
              "      background-color: #E8F0FE;\n",
              "      border: none;\n",
              "      border-radius: 50%;\n",
              "      cursor: pointer;\n",
              "      display: none;\n",
              "      fill: #1967D2;\n",
              "      height: 32px;\n",
              "      padding: 0 0 0 0;\n",
              "      width: 32px;\n",
              "    }\n",
              "\n",
              "    .colab-df-convert:hover {\n",
              "      background-color: #E2EBFA;\n",
              "      box-shadow: 0px 1px 2px rgba(60, 64, 67, 0.3), 0px 1px 3px 1px rgba(60, 64, 67, 0.15);\n",
              "      fill: #174EA6;\n",
              "    }\n",
              "\n",
              "    .colab-df-buttons div {\n",
              "      margin-bottom: 4px;\n",
              "    }\n",
              "\n",
              "    [theme=dark] .colab-df-convert {\n",
              "      background-color: #3B4455;\n",
              "      fill: #D2E3FC;\n",
              "    }\n",
              "\n",
              "    [theme=dark] .colab-df-convert:hover {\n",
              "      background-color: #434B5C;\n",
              "      box-shadow: 0px 1px 3px 1px rgba(0, 0, 0, 0.15);\n",
              "      filter: drop-shadow(0px 1px 2px rgba(0, 0, 0, 0.3));\n",
              "      fill: #FFFFFF;\n",
              "    }\n",
              "  </style>\n",
              "\n",
              "    <script>\n",
              "      const buttonEl =\n",
              "        document.querySelector('#df-6b92dc49-2e6f-4c24-9256-55f971718feb button.colab-df-convert');\n",
              "      buttonEl.style.display =\n",
              "        google.colab.kernel.accessAllowed ? 'block' : 'none';\n",
              "\n",
              "      async function convertToInteractive(key) {\n",
              "        const element = document.querySelector('#df-6b92dc49-2e6f-4c24-9256-55f971718feb');\n",
              "        const dataTable =\n",
              "          await google.colab.kernel.invokeFunction('convertToInteractive',\n",
              "                                                    [key], {});\n",
              "        if (!dataTable) return;\n",
              "\n",
              "        const docLinkHtml = 'Like what you see? Visit the ' +\n",
              "          '<a target=\"_blank\" href=https://colab.research.google.com/notebooks/data_table.ipynb>data table notebook</a>'\n",
              "          + ' to learn more about interactive tables.';\n",
              "        element.innerHTML = '';\n",
              "        dataTable['output_type'] = 'display_data';\n",
              "        await google.colab.output.renderOutput(dataTable, element);\n",
              "        const docLink = document.createElement('div');\n",
              "        docLink.innerHTML = docLinkHtml;\n",
              "        element.appendChild(docLink);\n",
              "      }\n",
              "    </script>\n",
              "  </div>\n",
              "\n",
              "\n",
              "<div id=\"df-6c16a0ac-7845-4728-bc90-ce11c17a5434\">\n",
              "  <button class=\"colab-df-quickchart\" onclick=\"quickchart('df-6c16a0ac-7845-4728-bc90-ce11c17a5434')\"\n",
              "            title=\"Suggest charts\"\n",
              "            style=\"display:none;\">\n",
              "\n",
              "<svg xmlns=\"http://www.w3.org/2000/svg\" height=\"24px\"viewBox=\"0 0 24 24\"\n",
              "     width=\"24px\">\n",
              "    <g>\n",
              "        <path d=\"M19 3H5c-1.1 0-2 .9-2 2v14c0 1.1.9 2 2 2h14c1.1 0 2-.9 2-2V5c0-1.1-.9-2-2-2zM9 17H7v-7h2v7zm4 0h-2V7h2v10zm4 0h-2v-4h2v4z\"/>\n",
              "    </g>\n",
              "</svg>\n",
              "  </button>\n",
              "\n",
              "<style>\n",
              "  .colab-df-quickchart {\n",
              "      --bg-color: #E8F0FE;\n",
              "      --fill-color: #1967D2;\n",
              "      --hover-bg-color: #E2EBFA;\n",
              "      --hover-fill-color: #174EA6;\n",
              "      --disabled-fill-color: #AAA;\n",
              "      --disabled-bg-color: #DDD;\n",
              "  }\n",
              "\n",
              "  [theme=dark] .colab-df-quickchart {\n",
              "      --bg-color: #3B4455;\n",
              "      --fill-color: #D2E3FC;\n",
              "      --hover-bg-color: #434B5C;\n",
              "      --hover-fill-color: #FFFFFF;\n",
              "      --disabled-bg-color: #3B4455;\n",
              "      --disabled-fill-color: #666;\n",
              "  }\n",
              "\n",
              "  .colab-df-quickchart {\n",
              "    background-color: var(--bg-color);\n",
              "    border: none;\n",
              "    border-radius: 50%;\n",
              "    cursor: pointer;\n",
              "    display: none;\n",
              "    fill: var(--fill-color);\n",
              "    height: 32px;\n",
              "    padding: 0;\n",
              "    width: 32px;\n",
              "  }\n",
              "\n",
              "  .colab-df-quickchart:hover {\n",
              "    background-color: var(--hover-bg-color);\n",
              "    box-shadow: 0 1px 2px rgba(60, 64, 67, 0.3), 0 1px 3px 1px rgba(60, 64, 67, 0.15);\n",
              "    fill: var(--button-hover-fill-color);\n",
              "  }\n",
              "\n",
              "  .colab-df-quickchart-complete:disabled,\n",
              "  .colab-df-quickchart-complete:disabled:hover {\n",
              "    background-color: var(--disabled-bg-color);\n",
              "    fill: var(--disabled-fill-color);\n",
              "    box-shadow: none;\n",
              "  }\n",
              "\n",
              "  .colab-df-spinner {\n",
              "    border: 2px solid var(--fill-color);\n",
              "    border-color: transparent;\n",
              "    border-bottom-color: var(--fill-color);\n",
              "    animation:\n",
              "      spin 1s steps(1) infinite;\n",
              "  }\n",
              "\n",
              "  @keyframes spin {\n",
              "    0% {\n",
              "      border-color: transparent;\n",
              "      border-bottom-color: var(--fill-color);\n",
              "      border-left-color: var(--fill-color);\n",
              "    }\n",
              "    20% {\n",
              "      border-color: transparent;\n",
              "      border-left-color: var(--fill-color);\n",
              "      border-top-color: var(--fill-color);\n",
              "    }\n",
              "    30% {\n",
              "      border-color: transparent;\n",
              "      border-left-color: var(--fill-color);\n",
              "      border-top-color: var(--fill-color);\n",
              "      border-right-color: var(--fill-color);\n",
              "    }\n",
              "    40% {\n",
              "      border-color: transparent;\n",
              "      border-right-color: var(--fill-color);\n",
              "      border-top-color: var(--fill-color);\n",
              "    }\n",
              "    60% {\n",
              "      border-color: transparent;\n",
              "      border-right-color: var(--fill-color);\n",
              "    }\n",
              "    80% {\n",
              "      border-color: transparent;\n",
              "      border-right-color: var(--fill-color);\n",
              "      border-bottom-color: var(--fill-color);\n",
              "    }\n",
              "    90% {\n",
              "      border-color: transparent;\n",
              "      border-bottom-color: var(--fill-color);\n",
              "    }\n",
              "  }\n",
              "</style>\n",
              "\n",
              "  <script>\n",
              "    async function quickchart(key) {\n",
              "      const quickchartButtonEl =\n",
              "        document.querySelector('#' + key + ' button');\n",
              "      quickchartButtonEl.disabled = true;  // To prevent multiple clicks.\n",
              "      quickchartButtonEl.classList.add('colab-df-spinner');\n",
              "      try {\n",
              "        const charts = await google.colab.kernel.invokeFunction(\n",
              "            'suggestCharts', [key], {});\n",
              "      } catch (error) {\n",
              "        console.error('Error during call to suggestCharts:', error);\n",
              "      }\n",
              "      quickchartButtonEl.classList.remove('colab-df-spinner');\n",
              "      quickchartButtonEl.classList.add('colab-df-quickchart-complete');\n",
              "    }\n",
              "    (() => {\n",
              "      let quickchartButtonEl =\n",
              "        document.querySelector('#df-6c16a0ac-7845-4728-bc90-ce11c17a5434 button');\n",
              "      quickchartButtonEl.style.display =\n",
              "        google.colab.kernel.accessAllowed ? 'block' : 'none';\n",
              "    })();\n",
              "  </script>\n",
              "</div>\n",
              "    </div>\n",
              "  </div>\n"
            ]
          },
          "metadata": {},
          "execution_count": 23
        }
      ]
    },
    {
      "cell_type": "code",
      "source": [
        "df_cleaned['price'].head()"
      ],
      "metadata": {
        "colab": {
          "base_uri": "https://localhost:8080/",
          "height": 241
        },
        "id": "kXbCnFj8I-7r",
        "executionInfo": {
          "status": "ok",
          "timestamp": 1729083447110,
          "user_tz": 240,
          "elapsed": 5,
          "user": {
            "displayName": "",
            "userId": ""
          }
        },
        "outputId": "0fe9a3fc-bc66-4a07-e24c-d24775beecea"
      },
      "execution_count": null,
      "outputs": [
        {
          "output_type": "execute_result",
          "data": {
            "text/plain": [
              "0    30998.0\n",
              "1    22900.0\n",
              "2    22968.0\n",
              "3    24522.0\n",
              "4    66998.0\n",
              "Name: price, dtype: Float64"
            ],
            "text/html": [
              "<div>\n",
              "<style scoped>\n",
              "    .dataframe tbody tr th:only-of-type {\n",
              "        vertical-align: middle;\n",
              "    }\n",
              "\n",
              "    .dataframe tbody tr th {\n",
              "        vertical-align: top;\n",
              "    }\n",
              "\n",
              "    .dataframe thead th {\n",
              "        text-align: right;\n",
              "    }\n",
              "</style>\n",
              "<table border=\"1\" class=\"dataframe\">\n",
              "  <thead>\n",
              "    <tr style=\"text-align: right;\">\n",
              "      <th></th>\n",
              "      <th>price</th>\n",
              "    </tr>\n",
              "  </thead>\n",
              "  <tbody>\n",
              "    <tr>\n",
              "      <th>0</th>\n",
              "      <td>30998.0</td>\n",
              "    </tr>\n",
              "    <tr>\n",
              "      <th>1</th>\n",
              "      <td>22900.0</td>\n",
              "    </tr>\n",
              "    <tr>\n",
              "      <th>2</th>\n",
              "      <td>22968.0</td>\n",
              "    </tr>\n",
              "    <tr>\n",
              "      <th>3</th>\n",
              "      <td>24522.0</td>\n",
              "    </tr>\n",
              "    <tr>\n",
              "      <th>4</th>\n",
              "      <td>66998.0</td>\n",
              "    </tr>\n",
              "  </tbody>\n",
              "</table>\n",
              "</div><br><label><b>dtype:</b> Float64</label>"
            ]
          },
          "metadata": {},
          "execution_count": 23
        }
      ]
    },
    {
      "cell_type": "code",
      "source": [
        "df_cleaned = df_cleaned.drop(columns =['mc_dealer_id',\n",
        "  'mc_location_id',\n",
        "  'mc_website_id',\n",
        "  'mc_rooftop_id',\n",
        "  'is_searchable'])"
      ],
      "metadata": {
        "id": "O0e1nrcLxS8X"
      },
      "execution_count": null,
      "outputs": []
    },
    {
      "cell_type": "code",
      "source": [
        "df_cleaned.isnull().sum()"
      ],
      "metadata": {
        "colab": {
          "base_uri": "https://localhost:8080/",
          "height": 1000
        },
        "id": "wa8P1usqxS_m",
        "executionInfo": {
          "status": "ok",
          "timestamp": 1729083462966,
          "user_tz": 240,
          "elapsed": 193,
          "user": {
            "displayName": "",
            "userId": ""
          }
        },
        "outputId": "89faaa4b-48e7-4846-b426-f36b6d8bda4e"
      },
      "execution_count": null,
      "outputs": [
        {
          "output_type": "execute_result",
          "data": {
            "text/plain": [
              "neo_listing_confidence           0\n",
              "neo_trim                         0\n",
              "neo_trim_confidence              0\n",
              "neo_version                      0\n",
              "neo_version_confidence           0\n",
              "neo_vehicle_type                 0\n",
              "neo_body_type                    0\n",
              "neo_drivetrain                   0\n",
              "neo_powertrain_type              0\n",
              "neo_fuel_type                    0\n",
              "neo_engine                       0\n",
              "neo_engine_block                 0\n",
              "neo_transmission                 0\n",
              "neo_manufacturer_code            0\n",
              "interior_color                   0\n",
              "base_interior_color              0\n",
              "neo_mfg_interior_color           0\n",
              "exterior_color                   0\n",
              "base_exterior_color              0\n",
              "neo_mfg_exterior_color           0\n",
              "neo_country                      0\n",
              "make_model                       0\n",
              "features                         0\n",
              "mc_category                      0\n",
              "neo_installed_options_details    0\n",
              "seller_type                      0\n",
              "listing_type                     0\n",
              "inventory_type                   0\n",
              "neo_high_value_features          0\n",
              "dealer_type                      0\n",
              "price                            0\n",
              "miles                            0\n",
              "neo_engine_size                  0\n",
              "neo_doors                        0\n",
              "neo_cylinders                    0\n",
              "neo_city_mpg                     0\n",
              "neo_highway_mpg                  0\n",
              "neo_width                        0\n",
              "neo_height                       0\n",
              "neo_length                       0\n",
              "neo_base_msrp                    0\n",
              "neo_installed_options_msrp       0\n",
              "neo_delivery_charges             0\n",
              "neo_combined_msrp                0\n",
              "dom                              0\n",
              "dom_180                          0\n",
              "dom_active                       0\n",
              "in_transit                       0\n",
              "dos_active                       0\n",
              "first_scraped_age                0\n",
              "dtype: int64"
            ],
            "text/html": [
              "<div>\n",
              "<style scoped>\n",
              "    .dataframe tbody tr th:only-of-type {\n",
              "        vertical-align: middle;\n",
              "    }\n",
              "\n",
              "    .dataframe tbody tr th {\n",
              "        vertical-align: top;\n",
              "    }\n",
              "\n",
              "    .dataframe thead th {\n",
              "        text-align: right;\n",
              "    }\n",
              "</style>\n",
              "<table border=\"1\" class=\"dataframe\">\n",
              "  <thead>\n",
              "    <tr style=\"text-align: right;\">\n",
              "      <th></th>\n",
              "      <th>0</th>\n",
              "    </tr>\n",
              "  </thead>\n",
              "  <tbody>\n",
              "    <tr>\n",
              "      <th>neo_listing_confidence</th>\n",
              "      <td>0</td>\n",
              "    </tr>\n",
              "    <tr>\n",
              "      <th>neo_trim</th>\n",
              "      <td>0</td>\n",
              "    </tr>\n",
              "    <tr>\n",
              "      <th>neo_trim_confidence</th>\n",
              "      <td>0</td>\n",
              "    </tr>\n",
              "    <tr>\n",
              "      <th>neo_version</th>\n",
              "      <td>0</td>\n",
              "    </tr>\n",
              "    <tr>\n",
              "      <th>neo_version_confidence</th>\n",
              "      <td>0</td>\n",
              "    </tr>\n",
              "    <tr>\n",
              "      <th>neo_vehicle_type</th>\n",
              "      <td>0</td>\n",
              "    </tr>\n",
              "    <tr>\n",
              "      <th>neo_body_type</th>\n",
              "      <td>0</td>\n",
              "    </tr>\n",
              "    <tr>\n",
              "      <th>neo_drivetrain</th>\n",
              "      <td>0</td>\n",
              "    </tr>\n",
              "    <tr>\n",
              "      <th>neo_powertrain_type</th>\n",
              "      <td>0</td>\n",
              "    </tr>\n",
              "    <tr>\n",
              "      <th>neo_fuel_type</th>\n",
              "      <td>0</td>\n",
              "    </tr>\n",
              "    <tr>\n",
              "      <th>neo_engine</th>\n",
              "      <td>0</td>\n",
              "    </tr>\n",
              "    <tr>\n",
              "      <th>neo_engine_block</th>\n",
              "      <td>0</td>\n",
              "    </tr>\n",
              "    <tr>\n",
              "      <th>neo_transmission</th>\n",
              "      <td>0</td>\n",
              "    </tr>\n",
              "    <tr>\n",
              "      <th>neo_manufacturer_code</th>\n",
              "      <td>0</td>\n",
              "    </tr>\n",
              "    <tr>\n",
              "      <th>interior_color</th>\n",
              "      <td>0</td>\n",
              "    </tr>\n",
              "    <tr>\n",
              "      <th>base_interior_color</th>\n",
              "      <td>0</td>\n",
              "    </tr>\n",
              "    <tr>\n",
              "      <th>neo_mfg_interior_color</th>\n",
              "      <td>0</td>\n",
              "    </tr>\n",
              "    <tr>\n",
              "      <th>exterior_color</th>\n",
              "      <td>0</td>\n",
              "    </tr>\n",
              "    <tr>\n",
              "      <th>base_exterior_color</th>\n",
              "      <td>0</td>\n",
              "    </tr>\n",
              "    <tr>\n",
              "      <th>neo_mfg_exterior_color</th>\n",
              "      <td>0</td>\n",
              "    </tr>\n",
              "    <tr>\n",
              "      <th>neo_country</th>\n",
              "      <td>0</td>\n",
              "    </tr>\n",
              "    <tr>\n",
              "      <th>make_model</th>\n",
              "      <td>0</td>\n",
              "    </tr>\n",
              "    <tr>\n",
              "      <th>features</th>\n",
              "      <td>0</td>\n",
              "    </tr>\n",
              "    <tr>\n",
              "      <th>mc_category</th>\n",
              "      <td>0</td>\n",
              "    </tr>\n",
              "    <tr>\n",
              "      <th>neo_installed_options_details</th>\n",
              "      <td>0</td>\n",
              "    </tr>\n",
              "    <tr>\n",
              "      <th>seller_type</th>\n",
              "      <td>0</td>\n",
              "    </tr>\n",
              "    <tr>\n",
              "      <th>listing_type</th>\n",
              "      <td>0</td>\n",
              "    </tr>\n",
              "    <tr>\n",
              "      <th>inventory_type</th>\n",
              "      <td>0</td>\n",
              "    </tr>\n",
              "    <tr>\n",
              "      <th>neo_high_value_features</th>\n",
              "      <td>0</td>\n",
              "    </tr>\n",
              "    <tr>\n",
              "      <th>dealer_type</th>\n",
              "      <td>0</td>\n",
              "    </tr>\n",
              "    <tr>\n",
              "      <th>price</th>\n",
              "      <td>0</td>\n",
              "    </tr>\n",
              "    <tr>\n",
              "      <th>miles</th>\n",
              "      <td>0</td>\n",
              "    </tr>\n",
              "    <tr>\n",
              "      <th>neo_engine_size</th>\n",
              "      <td>0</td>\n",
              "    </tr>\n",
              "    <tr>\n",
              "      <th>neo_doors</th>\n",
              "      <td>0</td>\n",
              "    </tr>\n",
              "    <tr>\n",
              "      <th>neo_cylinders</th>\n",
              "      <td>0</td>\n",
              "    </tr>\n",
              "    <tr>\n",
              "      <th>neo_city_mpg</th>\n",
              "      <td>0</td>\n",
              "    </tr>\n",
              "    <tr>\n",
              "      <th>neo_highway_mpg</th>\n",
              "      <td>0</td>\n",
              "    </tr>\n",
              "    <tr>\n",
              "      <th>neo_width</th>\n",
              "      <td>0</td>\n",
              "    </tr>\n",
              "    <tr>\n",
              "      <th>neo_height</th>\n",
              "      <td>0</td>\n",
              "    </tr>\n",
              "    <tr>\n",
              "      <th>neo_length</th>\n",
              "      <td>0</td>\n",
              "    </tr>\n",
              "    <tr>\n",
              "      <th>neo_base_msrp</th>\n",
              "      <td>0</td>\n",
              "    </tr>\n",
              "    <tr>\n",
              "      <th>neo_installed_options_msrp</th>\n",
              "      <td>0</td>\n",
              "    </tr>\n",
              "    <tr>\n",
              "      <th>neo_delivery_charges</th>\n",
              "      <td>0</td>\n",
              "    </tr>\n",
              "    <tr>\n",
              "      <th>neo_combined_msrp</th>\n",
              "      <td>0</td>\n",
              "    </tr>\n",
              "    <tr>\n",
              "      <th>dom</th>\n",
              "      <td>0</td>\n",
              "    </tr>\n",
              "    <tr>\n",
              "      <th>dom_180</th>\n",
              "      <td>0</td>\n",
              "    </tr>\n",
              "    <tr>\n",
              "      <th>dom_active</th>\n",
              "      <td>0</td>\n",
              "    </tr>\n",
              "    <tr>\n",
              "      <th>in_transit</th>\n",
              "      <td>0</td>\n",
              "    </tr>\n",
              "    <tr>\n",
              "      <th>dos_active</th>\n",
              "      <td>0</td>\n",
              "    </tr>\n",
              "    <tr>\n",
              "      <th>first_scraped_age</th>\n",
              "      <td>0</td>\n",
              "    </tr>\n",
              "  </tbody>\n",
              "</table>\n",
              "</div><br><label><b>dtype:</b> int64</label>"
            ]
          },
          "metadata": {},
          "execution_count": 26
        }
      ]
    },
    {
      "cell_type": "code",
      "source": [
        "# Check the data types of the columns\n",
        "print(df_cleaned.dtypes)\n"
      ],
      "metadata": {
        "colab": {
          "base_uri": "https://localhost:8080/"
        },
        "id": "5TJVolH3yckF",
        "executionInfo": {
          "status": "ok",
          "timestamp": 1729190934831,
          "user_tz": 240,
          "elapsed": 156,
          "user": {
            "displayName": "",
            "userId": ""
          }
        },
        "outputId": "ffc18db1-dc5c-458d-b7f1-68157d9de32a"
      },
      "execution_count": null,
      "outputs": [
        {
          "output_type": "stream",
          "name": "stdout",
          "text": [
            "neo_listing_confidence           Float64\n",
            "neo_trim                         Float64\n",
            "neo_trim_confidence              Float64\n",
            "neo_version                      Float64\n",
            "neo_version_confidence           Float64\n",
            "neo_vehicle_type                 Float64\n",
            "neo_body_type                    Float64\n",
            "neo_drivetrain                   Float64\n",
            "neo_powertrain_type              Float64\n",
            "neo_fuel_type                    Float64\n",
            "neo_engine                       Float64\n",
            "neo_engine_block                 Float64\n",
            "neo_transmission                 Float64\n",
            "neo_manufacturer_code            Float64\n",
            "interior_color                   Float64\n",
            "base_interior_color              Float64\n",
            "neo_mfg_interior_color           Float64\n",
            "exterior_color                   Float64\n",
            "base_exterior_color              Float64\n",
            "neo_mfg_exterior_color           Float64\n",
            "neo_country                      Float64\n",
            "make_model                       Float64\n",
            "features                         Float64\n",
            "mc_category                      Float64\n",
            "neo_installed_options_details    Float64\n",
            "seller_type                      Float64\n",
            "listing_type                     Float64\n",
            "inventory_type                   Float64\n",
            "neo_high_value_features          Float64\n",
            "dealer_type                      Float64\n",
            "price                            Float64\n",
            "miles                            Float64\n",
            "neo_engine_size                  Float64\n",
            "neo_doors                        Float64\n",
            "neo_cylinders                    Float64\n",
            "neo_city_mpg                     Float64\n",
            "neo_highway_mpg                  Float64\n",
            "neo_width                        Float64\n",
            "neo_height                       Float64\n",
            "neo_length                       Float64\n",
            "neo_base_msrp                    Float64\n",
            "neo_installed_options_msrp       Float64\n",
            "neo_delivery_charges             Float64\n",
            "neo_combined_msrp                Float64\n",
            "dom                                Int64\n",
            "dom_180                            Int64\n",
            "dom_active                         Int64\n",
            "in_transit                         Int64\n",
            "dos_active                         Int64\n",
            "first_scraped_age                Float64\n",
            "dtype: object\n"
          ]
        }
      ]
    },
    {
      "cell_type": "code",
      "source": [
        "df_cleaned.columns.shape"
      ],
      "metadata": {
        "colab": {
          "base_uri": "https://localhost:8080/"
        },
        "id": "UVayDSiQJGaB",
        "executionInfo": {
          "status": "ok",
          "timestamp": 1729190939019,
          "user_tz": 240,
          "elapsed": 144,
          "user": {
            "displayName": "",
            "userId": ""
          }
        },
        "outputId": "4e79c9b2-b0ec-4764-ebd7-6d6c5f9e202c"
      },
      "execution_count": null,
      "outputs": [
        {
          "output_type": "execute_result",
          "data": {
            "text/plain": [
              "(50,)"
            ]
          },
          "metadata": {},
          "execution_count": 26
        }
      ]
    },
    {
      "cell_type": "code",
      "source": [
        "df['price'].min"
      ],
      "metadata": {
        "colab": {
          "base_uri": "https://localhost:8080/",
          "height": 516
        },
        "id": "FEK3lQt-bErC",
        "executionInfo": {
          "status": "ok",
          "timestamp": 1729083780758,
          "user_tz": 240,
          "elapsed": 12857,
          "user": {
            "displayName": "",
            "userId": ""
          }
        },
        "outputId": "b74f4580-7100-4830-be1a-d24e60ae3881"
      },
      "execution_count": null,
      "outputs": [
        {
          "output_type": "display_data",
          "data": {
            "text/plain": [
              "<IPython.core.display.HTML object>"
            ],
            "text/html": [
              "Query job f4045a0b-7ee3-4561-bc49-2d5ebc7f918b is DONE. 350.1 MB processed. <a target=\"_blank\" href=\"https://console.cloud.google.com/bigquery?project=marketcheck-demo&j=bq:US:f4045a0b-7ee3-4561-bc49-2d5ebc7f918b&page=queryresults\">Open Job</a>"
            ]
          },
          "metadata": {}
        },
        {
          "output_type": "display_data",
          "data": {
            "text/plain": [
              "<IPython.core.display.HTML object>"
            ],
            "text/html": [
              "Query job d6c0a1f6-3f42-4b62-9210-6196fb6619e8 is DONE. 1.2 MB processed. <a target=\"_blank\" href=\"https://console.cloud.google.com/bigquery?project=marketcheck-demo&j=bq:US:d6c0a1f6-3f42-4b62-9210-6196fb6619e8&page=queryresults\">Open Job</a>"
            ]
          },
          "metadata": {}
        },
        {
          "output_type": "execute_result",
          "data": {
            "text/plain": [
              "<bound method Series.min of 0          30998.0\n",
              "1          22900.0\n",
              "2          22968.0\n",
              "3          24522.0\n",
              "4          66998.0\n",
              "5          31499.0\n",
              "6          37038.0\n",
              "7          22000.0\n",
              "8          18765.0\n",
              "9     26804.035882\n",
              "10         18420.0\n",
              "11         26225.0\n",
              "12         18999.0\n",
              "13         20636.0\n",
              "14         30996.0\n",
              "15    26804.035882\n",
              "16         12574.0\n",
              "17         30341.0\n",
              "18         29894.0\n",
              "19         20498.0\n",
              "20         30999.0\n",
              "21         30956.0\n",
              "22         14392.0\n",
              "23         31995.0\n",
              "24         38482.0\n",
              "Name: price, dtype: Float64>"
            ]
          },
          "metadata": {},
          "execution_count": 32
        }
      ]
    },
    {
      "cell_type": "code",
      "source": [
        "min = df['price'].min()\n",
        "max = df['price'].max()\n",
        "\n",
        "max, min"
      ],
      "metadata": {
        "colab": {
          "base_uri": "https://localhost:8080/",
          "height": 70
        },
        "id": "CmVCz0fwbJ7y",
        "executionInfo": {
          "status": "ok",
          "timestamp": 1729120189513,
          "user_tz": 240,
          "elapsed": 4327,
          "user": {
            "displayName": "",
            "userId": ""
          }
        },
        "outputId": "1c844549-822b-410f-bce0-4f626ba7932d"
      },
      "execution_count": null,
      "outputs": [
        {
          "output_type": "display_data",
          "data": {
            "text/plain": [
              "<IPython.core.display.HTML object>"
            ],
            "text/html": [
              "Query job 8f782b03-5083-4d8a-ab11-bc62924aa1e9 is DONE. 372.3 kB processed. <a target=\"_blank\" href=\"https://console.cloud.google.com/bigquery?project=marketcheck-demo&j=bq:US:8f782b03-5083-4d8a-ab11-bc62924aa1e9&page=queryresults\">Open Job</a>"
            ]
          },
          "metadata": {}
        },
        {
          "output_type": "display_data",
          "data": {
            "text/plain": [
              "<IPython.core.display.HTML object>"
            ],
            "text/html": [
              "Query job 0cbbc77e-a53e-4e56-863e-3f06302940ac is DONE. 0 Bytes processed. <a target=\"_blank\" href=\"https://console.cloud.google.com/bigquery?project=marketcheck-demo&j=bq:US:0cbbc77e-a53e-4e56-863e-3f06302940ac&page=queryresults\">Open Job</a>"
            ]
          },
          "metadata": {}
        },
        {
          "output_type": "execute_result",
          "data": {
            "text/plain": [
              "(99995.0, 5499.0)"
            ]
          },
          "metadata": {},
          "execution_count": 121
        }
      ]
    },
    {
      "cell_type": "code",
      "source": [
        "from pandas_gbq import to_gbq\n",
        "\n",
        "# Define your project ID and dataset\n",
        "project_id = 'marketcheck-demo'  # Replace with your GCP project ID\n",
        "dataset_id = 'demo'   # Replace with your dataset ID\n",
        "table_name = 'cleaned_marketcheck_data'    # Define the table name\n",
        "\n",
        "# Save df_pandas to BigQuery\n",
        "to_gbq(df_cleaned, f'{dataset_id}.{table_name}', project_id=project_id, if_exists='replace')"
      ],
      "metadata": {
        "colab": {
          "base_uri": "https://localhost:8080/"
        },
        "id": "9xQnv4yIJiEU",
        "executionInfo": {
          "status": "ok",
          "timestamp": 1729190959314,
          "user_tz": 240,
          "elapsed": 7055,
          "user": {
            "displayName": "",
            "userId": ""
          }
        },
        "outputId": "c3afd385-db13-4f45-8b8f-1df39ae46f16"
      },
      "execution_count": null,
      "outputs": [
        {
          "output_type": "stream",
          "name": "stdout",
          "text": [
            "WARNING: google.colab.auth.authenticate_user() is not supported in Colab Enterprise.\n"
          ]
        },
        {
          "output_type": "stream",
          "name": "stderr",
          "text": [
            "100%|██████████| 1/1 [00:00<00:00, 3292.23it/s]\n"
          ]
        }
      ]
    },
    {
      "cell_type": "code",
      "source": [
        "pip install xgboost scikit-learn google-cloud-aiplatform\n"
      ],
      "metadata": {
        "colab": {
          "base_uri": "https://localhost:8080/"
        },
        "id": "JD3jOC06aFRi",
        "executionInfo": {
          "status": "ok",
          "timestamp": 1729118036164,
          "user_tz": 240,
          "elapsed": 3618,
          "user": {
            "displayName": "",
            "userId": ""
          }
        },
        "outputId": "faa41924-e6be-41a4-a955-51aa01846c08"
      },
      "execution_count": null,
      "outputs": [
        {
          "output_type": "stream",
          "name": "stdout",
          "text": [
            "Requirement already satisfied: xgboost in /usr/local/lib/python3.10/dist-packages (2.1.1)\n",
            "Requirement already satisfied: scikit-learn in /usr/local/lib/python3.10/dist-packages (1.5.2)\n",
            "Requirement already satisfied: google-cloud-aiplatform in /usr/local/lib/python3.10/dist-packages (1.67.1)\n",
            "Requirement already satisfied: numpy in /usr/local/lib/python3.10/dist-packages (from xgboost) (1.26.4)\n",
            "Requirement already satisfied: nvidia-nccl-cu12 in /usr/local/lib/python3.10/dist-packages (from xgboost) (2.23.4)\n",
            "Requirement already satisfied: scipy in /usr/local/lib/python3.10/dist-packages (from xgboost) (1.13.1)\n",
            "Requirement already satisfied: joblib>=1.2.0 in /usr/local/lib/python3.10/dist-packages (from scikit-learn) (1.4.2)\n",
            "Requirement already satisfied: threadpoolctl>=3.1.0 in /usr/local/lib/python3.10/dist-packages (from scikit-learn) (3.5.0)\n",
            "Requirement already satisfied: google-api-core!=2.0.*,!=2.1.*,!=2.2.*,!=2.3.*,!=2.4.*,!=2.5.*,!=2.6.*,!=2.7.*,<3.0.0dev,>=1.34.1 in /usr/local/lib/python3.10/dist-packages (from google-api-core[grpc]!=2.0.*,!=2.1.*,!=2.2.*,!=2.3.*,!=2.4.*,!=2.5.*,!=2.6.*,!=2.7.*,<3.0.0dev,>=1.34.1->google-cloud-aiplatform) (2.19.2)\n",
            "Requirement already satisfied: google-auth<3.0.0dev,>=2.14.1 in /usr/local/lib/python3.10/dist-packages (from google-cloud-aiplatform) (2.27.0)\n",
            "Requirement already satisfied: proto-plus<2.0.0dev,>=1.22.3 in /usr/local/lib/python3.10/dist-packages (from google-cloud-aiplatform) (1.24.0)\n",
            "Requirement already satisfied: protobuf!=4.21.0,!=4.21.1,!=4.21.2,!=4.21.3,!=4.21.4,!=4.21.5,<6.0.0dev,>=3.20.2 in /usr/local/lib/python3.10/dist-packages (from google-cloud-aiplatform) (3.20.3)\n",
            "Requirement already satisfied: packaging>=14.3 in /usr/local/lib/python3.10/dist-packages (from google-cloud-aiplatform) (24.1)\n",
            "Requirement already satisfied: google-cloud-storage<3.0.0dev,>=1.32.0 in /usr/local/lib/python3.10/dist-packages (from google-cloud-aiplatform) (2.8.0)\n",
            "Requirement already satisfied: google-cloud-bigquery!=3.20.0,<4.0.0dev,>=1.15.0 in /usr/local/lib/python3.10/dist-packages (from google-cloud-aiplatform) (3.25.0)\n",
            "Requirement already satisfied: google-cloud-resource-manager<3.0.0dev,>=1.3.3 in /usr/local/lib/python3.10/dist-packages (from google-cloud-aiplatform) (1.12.5)\n",
            "Requirement already satisfied: shapely<3.0.0dev in /usr/local/lib/python3.10/dist-packages (from google-cloud-aiplatform) (2.0.6)\n",
            "Requirement already satisfied: pydantic<3 in /usr/local/lib/python3.10/dist-packages (from google-cloud-aiplatform) (2.9.2)\n",
            "Requirement already satisfied: docstring-parser<1 in /usr/local/lib/python3.10/dist-packages (from google-cloud-aiplatform) (0.16)\n",
            "Requirement already satisfied: googleapis-common-protos<2.0.dev0,>=1.56.2 in /usr/local/lib/python3.10/dist-packages (from google-api-core!=2.0.*,!=2.1.*,!=2.2.*,!=2.3.*,!=2.4.*,!=2.5.*,!=2.6.*,!=2.7.*,<3.0.0dev,>=1.34.1->google-api-core[grpc]!=2.0.*,!=2.1.*,!=2.2.*,!=2.3.*,!=2.4.*,!=2.5.*,!=2.6.*,!=2.7.*,<3.0.0dev,>=1.34.1->google-cloud-aiplatform) (1.65.0)\n",
            "Requirement already satisfied: requests<3.0.0.dev0,>=2.18.0 in /usr/local/lib/python3.10/dist-packages (from google-api-core!=2.0.*,!=2.1.*,!=2.2.*,!=2.3.*,!=2.4.*,!=2.5.*,!=2.6.*,!=2.7.*,<3.0.0dev,>=1.34.1->google-api-core[grpc]!=2.0.*,!=2.1.*,!=2.2.*,!=2.3.*,!=2.4.*,!=2.5.*,!=2.6.*,!=2.7.*,<3.0.0dev,>=1.34.1->google-cloud-aiplatform) (2.32.3)\n",
            "Requirement already satisfied: grpcio<2.0dev,>=1.33.2 in /usr/local/lib/python3.10/dist-packages (from google-api-core[grpc]!=2.0.*,!=2.1.*,!=2.2.*,!=2.3.*,!=2.4.*,!=2.5.*,!=2.6.*,!=2.7.*,<3.0.0dev,>=1.34.1->google-cloud-aiplatform) (1.64.1)\n",
            "Requirement already satisfied: grpcio-status<2.0.dev0,>=1.33.2 in /usr/local/lib/python3.10/dist-packages (from google-api-core[grpc]!=2.0.*,!=2.1.*,!=2.2.*,!=2.3.*,!=2.4.*,!=2.5.*,!=2.6.*,!=2.7.*,<3.0.0dev,>=1.34.1->google-cloud-aiplatform) (1.48.2)\n",
            "Requirement already satisfied: cachetools<6.0,>=2.0.0 in /usr/local/lib/python3.10/dist-packages (from google-auth<3.0.0dev,>=2.14.1->google-cloud-aiplatform) (5.5.0)\n",
            "Requirement already satisfied: pyasn1-modules>=0.2.1 in /usr/local/lib/python3.10/dist-packages (from google-auth<3.0.0dev,>=2.14.1->google-cloud-aiplatform) (0.4.1)\n",
            "Requirement already satisfied: rsa<5,>=3.1.4 in /usr/local/lib/python3.10/dist-packages (from google-auth<3.0.0dev,>=2.14.1->google-cloud-aiplatform) (4.9)\n",
            "Requirement already satisfied: google-cloud-core<3.0.0dev,>=1.6.0 in /usr/local/lib/python3.10/dist-packages (from google-cloud-bigquery!=3.20.0,<4.0.0dev,>=1.15.0->google-cloud-aiplatform) (2.4.1)\n",
            "Requirement already satisfied: google-resumable-media<3.0dev,>=0.6.0 in /usr/local/lib/python3.10/dist-packages (from google-cloud-bigquery!=3.20.0,<4.0.0dev,>=1.15.0->google-cloud-aiplatform) (2.7.2)\n",
            "Requirement already satisfied: python-dateutil<3.0dev,>=2.7.2 in /usr/local/lib/python3.10/dist-packages (from google-cloud-bigquery!=3.20.0,<4.0.0dev,>=1.15.0->google-cloud-aiplatform) (2.8.2)\n",
            "Requirement already satisfied: grpc-google-iam-v1<1.0.0dev,>=0.12.4 in /usr/local/lib/python3.10/dist-packages (from google-cloud-resource-manager<3.0.0dev,>=1.3.3->google-cloud-aiplatform) (0.13.1)\n",
            "Requirement already satisfied: annotated-types>=0.6.0 in /usr/local/lib/python3.10/dist-packages (from pydantic<3->google-cloud-aiplatform) (0.7.0)\n",
            "Requirement already satisfied: pydantic-core==2.23.4 in /usr/local/lib/python3.10/dist-packages (from pydantic<3->google-cloud-aiplatform) (2.23.4)\n",
            "Requirement already satisfied: typing-extensions>=4.6.1 in /usr/local/lib/python3.10/dist-packages (from pydantic<3->google-cloud-aiplatform) (4.12.2)\n",
            "Requirement already satisfied: google-crc32c<2.0dev,>=1.0 in /usr/local/lib/python3.10/dist-packages (from google-resumable-media<3.0dev,>=0.6.0->google-cloud-bigquery!=3.20.0,<4.0.0dev,>=1.15.0->google-cloud-aiplatform) (1.6.0)\n",
            "Requirement already satisfied: pyasn1<0.7.0,>=0.4.6 in /usr/local/lib/python3.10/dist-packages (from pyasn1-modules>=0.2.1->google-auth<3.0.0dev,>=2.14.1->google-cloud-aiplatform) (0.6.1)\n",
            "Requirement already satisfied: six>=1.5 in /usr/local/lib/python3.10/dist-packages (from python-dateutil<3.0dev,>=2.7.2->google-cloud-bigquery!=3.20.0,<4.0.0dev,>=1.15.0->google-cloud-aiplatform) (1.16.0)\n",
            "Requirement already satisfied: charset-normalizer<4,>=2 in /usr/local/lib/python3.10/dist-packages (from requests<3.0.0.dev0,>=2.18.0->google-api-core!=2.0.*,!=2.1.*,!=2.2.*,!=2.3.*,!=2.4.*,!=2.5.*,!=2.6.*,!=2.7.*,<3.0.0dev,>=1.34.1->google-api-core[grpc]!=2.0.*,!=2.1.*,!=2.2.*,!=2.3.*,!=2.4.*,!=2.5.*,!=2.6.*,!=2.7.*,<3.0.0dev,>=1.34.1->google-cloud-aiplatform) (3.3.2)\n",
            "Requirement already satisfied: idna<4,>=2.5 in /usr/local/lib/python3.10/dist-packages (from requests<3.0.0.dev0,>=2.18.0->google-api-core!=2.0.*,!=2.1.*,!=2.2.*,!=2.3.*,!=2.4.*,!=2.5.*,!=2.6.*,!=2.7.*,<3.0.0dev,>=1.34.1->google-api-core[grpc]!=2.0.*,!=2.1.*,!=2.2.*,!=2.3.*,!=2.4.*,!=2.5.*,!=2.6.*,!=2.7.*,<3.0.0dev,>=1.34.1->google-cloud-aiplatform) (3.10)\n",
            "Requirement already satisfied: urllib3<3,>=1.21.1 in /usr/local/lib/python3.10/dist-packages (from requests<3.0.0.dev0,>=2.18.0->google-api-core!=2.0.*,!=2.1.*,!=2.2.*,!=2.3.*,!=2.4.*,!=2.5.*,!=2.6.*,!=2.7.*,<3.0.0dev,>=1.34.1->google-api-core[grpc]!=2.0.*,!=2.1.*,!=2.2.*,!=2.3.*,!=2.4.*,!=2.5.*,!=2.6.*,!=2.7.*,<3.0.0dev,>=1.34.1->google-cloud-aiplatform) (2.2.3)\n",
            "Requirement already satisfied: certifi>=2017.4.17 in /usr/local/lib/python3.10/dist-packages (from requests<3.0.0.dev0,>=2.18.0->google-api-core!=2.0.*,!=2.1.*,!=2.2.*,!=2.3.*,!=2.4.*,!=2.5.*,!=2.6.*,!=2.7.*,<3.0.0dev,>=1.34.1->google-api-core[grpc]!=2.0.*,!=2.1.*,!=2.2.*,!=2.3.*,!=2.4.*,!=2.5.*,!=2.6.*,!=2.7.*,<3.0.0dev,>=1.34.1->google-cloud-aiplatform) (2024.8.30)\n"
          ]
        }
      ]
    },
    {
      "cell_type": "code",
      "source": [
        "!pip install scikit-learn\n"
      ],
      "metadata": {
        "colab": {
          "base_uri": "https://localhost:8080/"
        },
        "id": "Dw9l_3EPcgKZ",
        "executionInfo": {
          "status": "ok",
          "timestamp": 1729118042284,
          "user_tz": 240,
          "elapsed": 3838,
          "user": {
            "displayName": "",
            "userId": ""
          }
        },
        "outputId": "719da3d9-1508-4363-ea6f-f0239a71adcc"
      },
      "execution_count": null,
      "outputs": [
        {
          "output_type": "stream",
          "name": "stdout",
          "text": [
            "Requirement already satisfied: scikit-learn in /usr/local/lib/python3.10/dist-packages (1.5.2)\n",
            "Requirement already satisfied: numpy>=1.19.5 in /usr/local/lib/python3.10/dist-packages (from scikit-learn) (1.26.4)\n",
            "Requirement already satisfied: scipy>=1.6.0 in /usr/local/lib/python3.10/dist-packages (from scikit-learn) (1.13.1)\n",
            "Requirement already satisfied: joblib>=1.2.0 in /usr/local/lib/python3.10/dist-packages (from scikit-learn) (1.4.2)\n",
            "Requirement already satisfied: threadpoolctl>=3.1.0 in /usr/local/lib/python3.10/dist-packages (from scikit-learn) (3.5.0)\n"
          ]
        }
      ]
    },
    {
      "cell_type": "code",
      "source": [
        "import xgboost as xgb\n",
        "from sklearn.model_selection import train_test_split\n",
        "from sklearn.metrics import mean_squared_error, r2_score\n",
        "import pandas as pd\n",
        "import numpy as np\n",
        "import pickle\n",
        "from sklearn.preprocessing import StandardScaler\n",
        "from sklearn.model_selection import cross_val_score\n"
      ],
      "metadata": {
        "id": "SbC5Xmj9aFb7"
      },
      "execution_count": null,
      "outputs": []
    },
    {
      "cell_type": "code",
      "source": [
        "# Separate features and target variable\n",
        "X = df_cleaned.drop('price', axis=1)\n",
        "y = df_cleaned['price']"
      ],
      "metadata": {
        "id": "3Xo3Uu6qaFfM"
      },
      "execution_count": null,
      "outputs": []
    },
    {
      "cell_type": "code",
      "source": [
        "# Split the data into training and testing sets\n",
        "X_train, X_test, y_train, y_test = train_test_split(X, y, test_size=0.3, random_state=42)"
      ],
      "metadata": {
        "id": "OBroULU4aFii"
      },
      "execution_count": null,
      "outputs": []
    },
    {
      "cell_type": "code",
      "source": [
        "# Initialize the scaler\n",
        "scaler = StandardScaler()\n",
        "\n",
        "# Fit and transform the training data, and transform the test data\n",
        "X_train_scaled = scaler.fit_transform(X_train)\n",
        "X_test_scaled = scaler.transform(X_test)"
      ],
      "metadata": {
        "id": "MZrqaprTaFl6"
      },
      "execution_count": null,
      "outputs": []
    },
    {
      "cell_type": "code",
      "source": [
        "# Define the XGBoost regressor with custom parameters\n",
        "xg_reg = xgb.XGBRegressor(\n",
        "    objective='reg:squarederror',  # Use squarederror for regression problems\n",
        "    colsample_bytree=0.3,          # Fraction of columns to be randomly sampled for each tree\n",
        "    learning_rate=0.1,             # Learning rate (step size shrinkage)\n",
        "    max_depth=6,                   # Maximum depth of a tree\n",
        "    alpha=1,                      # L1 regularization term (Lasso)\n",
        "    min_child_weight=3,            # Minimum sum of instance weight (hessian) needed in a child\n",
        "    n_estimators=100               # Number of trees (boosting rounds)\n",
        ")\n",
        "\n",
        "# Perform cross-validation to determine the best n_estimators\n",
        "cv_scores = cross_val_score(xg_reg, X_train_scaled, y_train, cv=5, scoring='neg_mean_squared_error')\n",
        "\n",
        "# Print the mean of cross-validation scores\n",
        "print(f\"Mean cross-validation score (MSE): {-cv_scores.mean()}\")\n"
      ],
      "metadata": {
        "colab": {
          "base_uri": "https://localhost:8080/"
        },
        "id": "lhrRLpmNaFpr",
        "executionInfo": {
          "status": "ok",
          "timestamp": 1729118068198,
          "user_tz": 240,
          "elapsed": 19325,
          "user": {
            "displayName": "",
            "userId": ""
          }
        },
        "outputId": "845ea88a-c286-44a1-fdce-c8000c9459ab"
      },
      "execution_count": null,
      "outputs": [
        {
          "output_type": "stream",
          "name": "stdout",
          "text": [
            "Mean cross-validation score (MSE): 9275601.788533883\n"
          ]
        }
      ]
    },
    {
      "cell_type": "code",
      "source": [
        "import numpy as np\n",
        "\n",
        "rmse = np.sqrt(-cv_scores.mean())  # The negative sign because cross_val_score returns negative MSE\n",
        "print(f\"Mean cross-validation score (RMSE): {rmse}\")"
      ],
      "metadata": {
        "colab": {
          "base_uri": "https://localhost:8080/"
        },
        "id": "0HUPd_49aFsW",
        "executionInfo": {
          "status": "ok",
          "timestamp": 1729118070372,
          "user_tz": 240,
          "elapsed": 2,
          "user": {
            "displayName": "",
            "userId": ""
          }
        },
        "outputId": "66826c5a-6342-46e3-f2c5-2d503c5d863d"
      },
      "execution_count": null,
      "outputs": [
        {
          "output_type": "stream",
          "name": "stdout",
          "text": [
            "Mean cross-validation score (RMSE): 3045.5872649677735\n"
          ]
        }
      ]
    },
    {
      "cell_type": "code",
      "source": [
        "# Train the model on the scaled training data\n",
        "xg_reg.fit(X_train_scaled, y_train)"
      ],
      "metadata": {
        "colab": {
          "base_uri": "https://localhost:8080/",
          "height": 254
        },
        "id": "oxzN1jBBfj_x",
        "executionInfo": {
          "status": "ok",
          "timestamp": 1729118074292,
          "user_tz": 240,
          "elapsed": 1135,
          "user": {
            "displayName": "",
            "userId": ""
          }
        },
        "outputId": "10b795df-7cdc-4d5f-b7c3-03f00f822bd0"
      },
      "execution_count": null,
      "outputs": [
        {
          "output_type": "execute_result",
          "data": {
            "text/plain": [
              "XGBRegressor(alpha=1, base_score=None, booster=None, callbacks=None,\n",
              "             colsample_bylevel=None, colsample_bynode=None,\n",
              "             colsample_bytree=0.3, device=None, early_stopping_rounds=None,\n",
              "             enable_categorical=False, eval_metric=None, feature_types=None,\n",
              "             gamma=None, grow_policy=None, importance_type=None,\n",
              "             interaction_constraints=None, learning_rate=0.1, max_bin=None,\n",
              "             max_cat_threshold=None, max_cat_to_onehot=None,\n",
              "             max_delta_step=None, max_depth=6, max_leaves=None,\n",
              "             min_child_weight=3, missing=nan, monotone_constraints=None,\n",
              "             multi_strategy=None, n_estimators=100, n_jobs=None,\n",
              "             num_parallel_tree=None, ...)"
            ],
            "text/html": [
              "<style>#sk-container-id-3 {\n",
              "  /* Definition of color scheme common for light and dark mode */\n",
              "  --sklearn-color-text: black;\n",
              "  --sklearn-color-line: gray;\n",
              "  /* Definition of color scheme for unfitted estimators */\n",
              "  --sklearn-color-unfitted-level-0: #fff5e6;\n",
              "  --sklearn-color-unfitted-level-1: #f6e4d2;\n",
              "  --sklearn-color-unfitted-level-2: #ffe0b3;\n",
              "  --sklearn-color-unfitted-level-3: chocolate;\n",
              "  /* Definition of color scheme for fitted estimators */\n",
              "  --sklearn-color-fitted-level-0: #f0f8ff;\n",
              "  --sklearn-color-fitted-level-1: #d4ebff;\n",
              "  --sklearn-color-fitted-level-2: #b3dbfd;\n",
              "  --sklearn-color-fitted-level-3: cornflowerblue;\n",
              "\n",
              "  /* Specific color for light theme */\n",
              "  --sklearn-color-text-on-default-background: var(--sg-text-color, var(--theme-code-foreground, var(--jp-content-font-color1, black)));\n",
              "  --sklearn-color-background: var(--sg-background-color, var(--theme-background, var(--jp-layout-color0, white)));\n",
              "  --sklearn-color-border-box: var(--sg-text-color, var(--theme-code-foreground, var(--jp-content-font-color1, black)));\n",
              "  --sklearn-color-icon: #696969;\n",
              "\n",
              "  @media (prefers-color-scheme: dark) {\n",
              "    /* Redefinition of color scheme for dark theme */\n",
              "    --sklearn-color-text-on-default-background: var(--sg-text-color, var(--theme-code-foreground, var(--jp-content-font-color1, white)));\n",
              "    --sklearn-color-background: var(--sg-background-color, var(--theme-background, var(--jp-layout-color0, #111)));\n",
              "    --sklearn-color-border-box: var(--sg-text-color, var(--theme-code-foreground, var(--jp-content-font-color1, white)));\n",
              "    --sklearn-color-icon: #878787;\n",
              "  }\n",
              "}\n",
              "\n",
              "#sk-container-id-3 {\n",
              "  color: var(--sklearn-color-text);\n",
              "}\n",
              "\n",
              "#sk-container-id-3 pre {\n",
              "  padding: 0;\n",
              "}\n",
              "\n",
              "#sk-container-id-3 input.sk-hidden--visually {\n",
              "  border: 0;\n",
              "  clip: rect(1px 1px 1px 1px);\n",
              "  clip: rect(1px, 1px, 1px, 1px);\n",
              "  height: 1px;\n",
              "  margin: -1px;\n",
              "  overflow: hidden;\n",
              "  padding: 0;\n",
              "  position: absolute;\n",
              "  width: 1px;\n",
              "}\n",
              "\n",
              "#sk-container-id-3 div.sk-dashed-wrapped {\n",
              "  border: 1px dashed var(--sklearn-color-line);\n",
              "  margin: 0 0.4em 0.5em 0.4em;\n",
              "  box-sizing: border-box;\n",
              "  padding-bottom: 0.4em;\n",
              "  background-color: var(--sklearn-color-background);\n",
              "}\n",
              "\n",
              "#sk-container-id-3 div.sk-container {\n",
              "  /* jupyter's `normalize.less` sets `[hidden] { display: none; }`\n",
              "     but bootstrap.min.css set `[hidden] { display: none !important; }`\n",
              "     so we also need the `!important` here to be able to override the\n",
              "     default hidden behavior on the sphinx rendered scikit-learn.org.\n",
              "     See: https://github.com/scikit-learn/scikit-learn/issues/21755 */\n",
              "  display: inline-block !important;\n",
              "  position: relative;\n",
              "}\n",
              "\n",
              "#sk-container-id-3 div.sk-text-repr-fallback {\n",
              "  display: none;\n",
              "}\n",
              "\n",
              "div.sk-parallel-item,\n",
              "div.sk-serial,\n",
              "div.sk-item {\n",
              "  /* draw centered vertical line to link estimators */\n",
              "  background-image: linear-gradient(var(--sklearn-color-text-on-default-background), var(--sklearn-color-text-on-default-background));\n",
              "  background-size: 2px 100%;\n",
              "  background-repeat: no-repeat;\n",
              "  background-position: center center;\n",
              "}\n",
              "\n",
              "/* Parallel-specific style estimator block */\n",
              "\n",
              "#sk-container-id-3 div.sk-parallel-item::after {\n",
              "  content: \"\";\n",
              "  width: 100%;\n",
              "  border-bottom: 2px solid var(--sklearn-color-text-on-default-background);\n",
              "  flex-grow: 1;\n",
              "}\n",
              "\n",
              "#sk-container-id-3 div.sk-parallel {\n",
              "  display: flex;\n",
              "  align-items: stretch;\n",
              "  justify-content: center;\n",
              "  background-color: var(--sklearn-color-background);\n",
              "  position: relative;\n",
              "}\n",
              "\n",
              "#sk-container-id-3 div.sk-parallel-item {\n",
              "  display: flex;\n",
              "  flex-direction: column;\n",
              "}\n",
              "\n",
              "#sk-container-id-3 div.sk-parallel-item:first-child::after {\n",
              "  align-self: flex-end;\n",
              "  width: 50%;\n",
              "}\n",
              "\n",
              "#sk-container-id-3 div.sk-parallel-item:last-child::after {\n",
              "  align-self: flex-start;\n",
              "  width: 50%;\n",
              "}\n",
              "\n",
              "#sk-container-id-3 div.sk-parallel-item:only-child::after {\n",
              "  width: 0;\n",
              "}\n",
              "\n",
              "/* Serial-specific style estimator block */\n",
              "\n",
              "#sk-container-id-3 div.sk-serial {\n",
              "  display: flex;\n",
              "  flex-direction: column;\n",
              "  align-items: center;\n",
              "  background-color: var(--sklearn-color-background);\n",
              "  padding-right: 1em;\n",
              "  padding-left: 1em;\n",
              "}\n",
              "\n",
              "\n",
              "/* Toggleable style: style used for estimator/Pipeline/ColumnTransformer box that is\n",
              "clickable and can be expanded/collapsed.\n",
              "- Pipeline and ColumnTransformer use this feature and define the default style\n",
              "- Estimators will overwrite some part of the style using the `sk-estimator` class\n",
              "*/\n",
              "\n",
              "/* Pipeline and ColumnTransformer style (default) */\n",
              "\n",
              "#sk-container-id-3 div.sk-toggleable {\n",
              "  /* Default theme specific background. It is overwritten whether we have a\n",
              "  specific estimator or a Pipeline/ColumnTransformer */\n",
              "  background-color: var(--sklearn-color-background);\n",
              "}\n",
              "\n",
              "/* Toggleable label */\n",
              "#sk-container-id-3 label.sk-toggleable__label {\n",
              "  cursor: pointer;\n",
              "  display: block;\n",
              "  width: 100%;\n",
              "  margin-bottom: 0;\n",
              "  padding: 0.5em;\n",
              "  box-sizing: border-box;\n",
              "  text-align: center;\n",
              "}\n",
              "\n",
              "#sk-container-id-3 label.sk-toggleable__label-arrow:before {\n",
              "  /* Arrow on the left of the label */\n",
              "  content: \"▸\";\n",
              "  float: left;\n",
              "  margin-right: 0.25em;\n",
              "  color: var(--sklearn-color-icon);\n",
              "}\n",
              "\n",
              "#sk-container-id-3 label.sk-toggleable__label-arrow:hover:before {\n",
              "  color: var(--sklearn-color-text);\n",
              "}\n",
              "\n",
              "/* Toggleable content - dropdown */\n",
              "\n",
              "#sk-container-id-3 div.sk-toggleable__content {\n",
              "  max-height: 0;\n",
              "  max-width: 0;\n",
              "  overflow: hidden;\n",
              "  text-align: left;\n",
              "  /* unfitted */\n",
              "  background-color: var(--sklearn-color-unfitted-level-0);\n",
              "}\n",
              "\n",
              "#sk-container-id-3 div.sk-toggleable__content.fitted {\n",
              "  /* fitted */\n",
              "  background-color: var(--sklearn-color-fitted-level-0);\n",
              "}\n",
              "\n",
              "#sk-container-id-3 div.sk-toggleable__content pre {\n",
              "  margin: 0.2em;\n",
              "  border-radius: 0.25em;\n",
              "  color: var(--sklearn-color-text);\n",
              "  /* unfitted */\n",
              "  background-color: var(--sklearn-color-unfitted-level-0);\n",
              "}\n",
              "\n",
              "#sk-container-id-3 div.sk-toggleable__content.fitted pre {\n",
              "  /* unfitted */\n",
              "  background-color: var(--sklearn-color-fitted-level-0);\n",
              "}\n",
              "\n",
              "#sk-container-id-3 input.sk-toggleable__control:checked~div.sk-toggleable__content {\n",
              "  /* Expand drop-down */\n",
              "  max-height: 200px;\n",
              "  max-width: 100%;\n",
              "  overflow: auto;\n",
              "}\n",
              "\n",
              "#sk-container-id-3 input.sk-toggleable__control:checked~label.sk-toggleable__label-arrow:before {\n",
              "  content: \"▾\";\n",
              "}\n",
              "\n",
              "/* Pipeline/ColumnTransformer-specific style */\n",
              "\n",
              "#sk-container-id-3 div.sk-label input.sk-toggleable__control:checked~label.sk-toggleable__label {\n",
              "  color: var(--sklearn-color-text);\n",
              "  background-color: var(--sklearn-color-unfitted-level-2);\n",
              "}\n",
              "\n",
              "#sk-container-id-3 div.sk-label.fitted input.sk-toggleable__control:checked~label.sk-toggleable__label {\n",
              "  background-color: var(--sklearn-color-fitted-level-2);\n",
              "}\n",
              "\n",
              "/* Estimator-specific style */\n",
              "\n",
              "/* Colorize estimator box */\n",
              "#sk-container-id-3 div.sk-estimator input.sk-toggleable__control:checked~label.sk-toggleable__label {\n",
              "  /* unfitted */\n",
              "  background-color: var(--sklearn-color-unfitted-level-2);\n",
              "}\n",
              "\n",
              "#sk-container-id-3 div.sk-estimator.fitted input.sk-toggleable__control:checked~label.sk-toggleable__label {\n",
              "  /* fitted */\n",
              "  background-color: var(--sklearn-color-fitted-level-2);\n",
              "}\n",
              "\n",
              "#sk-container-id-3 div.sk-label label.sk-toggleable__label,\n",
              "#sk-container-id-3 div.sk-label label {\n",
              "  /* The background is the default theme color */\n",
              "  color: var(--sklearn-color-text-on-default-background);\n",
              "}\n",
              "\n",
              "/* On hover, darken the color of the background */\n",
              "#sk-container-id-3 div.sk-label:hover label.sk-toggleable__label {\n",
              "  color: var(--sklearn-color-text);\n",
              "  background-color: var(--sklearn-color-unfitted-level-2);\n",
              "}\n",
              "\n",
              "/* Label box, darken color on hover, fitted */\n",
              "#sk-container-id-3 div.sk-label.fitted:hover label.sk-toggleable__label.fitted {\n",
              "  color: var(--sklearn-color-text);\n",
              "  background-color: var(--sklearn-color-fitted-level-2);\n",
              "}\n",
              "\n",
              "/* Estimator label */\n",
              "\n",
              "#sk-container-id-3 div.sk-label label {\n",
              "  font-family: monospace;\n",
              "  font-weight: bold;\n",
              "  display: inline-block;\n",
              "  line-height: 1.2em;\n",
              "}\n",
              "\n",
              "#sk-container-id-3 div.sk-label-container {\n",
              "  text-align: center;\n",
              "}\n",
              "\n",
              "/* Estimator-specific */\n",
              "#sk-container-id-3 div.sk-estimator {\n",
              "  font-family: monospace;\n",
              "  border: 1px dotted var(--sklearn-color-border-box);\n",
              "  border-radius: 0.25em;\n",
              "  box-sizing: border-box;\n",
              "  margin-bottom: 0.5em;\n",
              "  /* unfitted */\n",
              "  background-color: var(--sklearn-color-unfitted-level-0);\n",
              "}\n",
              "\n",
              "#sk-container-id-3 div.sk-estimator.fitted {\n",
              "  /* fitted */\n",
              "  background-color: var(--sklearn-color-fitted-level-0);\n",
              "}\n",
              "\n",
              "/* on hover */\n",
              "#sk-container-id-3 div.sk-estimator:hover {\n",
              "  /* unfitted */\n",
              "  background-color: var(--sklearn-color-unfitted-level-2);\n",
              "}\n",
              "\n",
              "#sk-container-id-3 div.sk-estimator.fitted:hover {\n",
              "  /* fitted */\n",
              "  background-color: var(--sklearn-color-fitted-level-2);\n",
              "}\n",
              "\n",
              "/* Specification for estimator info (e.g. \"i\" and \"?\") */\n",
              "\n",
              "/* Common style for \"i\" and \"?\" */\n",
              "\n",
              ".sk-estimator-doc-link,\n",
              "a:link.sk-estimator-doc-link,\n",
              "a:visited.sk-estimator-doc-link {\n",
              "  float: right;\n",
              "  font-size: smaller;\n",
              "  line-height: 1em;\n",
              "  font-family: monospace;\n",
              "  background-color: var(--sklearn-color-background);\n",
              "  border-radius: 1em;\n",
              "  height: 1em;\n",
              "  width: 1em;\n",
              "  text-decoration: none !important;\n",
              "  margin-left: 1ex;\n",
              "  /* unfitted */\n",
              "  border: var(--sklearn-color-unfitted-level-1) 1pt solid;\n",
              "  color: var(--sklearn-color-unfitted-level-1);\n",
              "}\n",
              "\n",
              ".sk-estimator-doc-link.fitted,\n",
              "a:link.sk-estimator-doc-link.fitted,\n",
              "a:visited.sk-estimator-doc-link.fitted {\n",
              "  /* fitted */\n",
              "  border: var(--sklearn-color-fitted-level-1) 1pt solid;\n",
              "  color: var(--sklearn-color-fitted-level-1);\n",
              "}\n",
              "\n",
              "/* On hover */\n",
              "div.sk-estimator:hover .sk-estimator-doc-link:hover,\n",
              ".sk-estimator-doc-link:hover,\n",
              "div.sk-label-container:hover .sk-estimator-doc-link:hover,\n",
              ".sk-estimator-doc-link:hover {\n",
              "  /* unfitted */\n",
              "  background-color: var(--sklearn-color-unfitted-level-3);\n",
              "  color: var(--sklearn-color-background);\n",
              "  text-decoration: none;\n",
              "}\n",
              "\n",
              "div.sk-estimator.fitted:hover .sk-estimator-doc-link.fitted:hover,\n",
              ".sk-estimator-doc-link.fitted:hover,\n",
              "div.sk-label-container:hover .sk-estimator-doc-link.fitted:hover,\n",
              ".sk-estimator-doc-link.fitted:hover {\n",
              "  /* fitted */\n",
              "  background-color: var(--sklearn-color-fitted-level-3);\n",
              "  color: var(--sklearn-color-background);\n",
              "  text-decoration: none;\n",
              "}\n",
              "\n",
              "/* Span, style for the box shown on hovering the info icon */\n",
              ".sk-estimator-doc-link span {\n",
              "  display: none;\n",
              "  z-index: 9999;\n",
              "  position: relative;\n",
              "  font-weight: normal;\n",
              "  right: .2ex;\n",
              "  padding: .5ex;\n",
              "  margin: .5ex;\n",
              "  width: min-content;\n",
              "  min-width: 20ex;\n",
              "  max-width: 50ex;\n",
              "  color: var(--sklearn-color-text);\n",
              "  box-shadow: 2pt 2pt 4pt #999;\n",
              "  /* unfitted */\n",
              "  background: var(--sklearn-color-unfitted-level-0);\n",
              "  border: .5pt solid var(--sklearn-color-unfitted-level-3);\n",
              "}\n",
              "\n",
              ".sk-estimator-doc-link.fitted span {\n",
              "  /* fitted */\n",
              "  background: var(--sklearn-color-fitted-level-0);\n",
              "  border: var(--sklearn-color-fitted-level-3);\n",
              "}\n",
              "\n",
              ".sk-estimator-doc-link:hover span {\n",
              "  display: block;\n",
              "}\n",
              "\n",
              "/* \"?\"-specific style due to the `<a>` HTML tag */\n",
              "\n",
              "#sk-container-id-3 a.estimator_doc_link {\n",
              "  float: right;\n",
              "  font-size: 1rem;\n",
              "  line-height: 1em;\n",
              "  font-family: monospace;\n",
              "  background-color: var(--sklearn-color-background);\n",
              "  border-radius: 1rem;\n",
              "  height: 1rem;\n",
              "  width: 1rem;\n",
              "  text-decoration: none;\n",
              "  /* unfitted */\n",
              "  color: var(--sklearn-color-unfitted-level-1);\n",
              "  border: var(--sklearn-color-unfitted-level-1) 1pt solid;\n",
              "}\n",
              "\n",
              "#sk-container-id-3 a.estimator_doc_link.fitted {\n",
              "  /* fitted */\n",
              "  border: var(--sklearn-color-fitted-level-1) 1pt solid;\n",
              "  color: var(--sklearn-color-fitted-level-1);\n",
              "}\n",
              "\n",
              "/* On hover */\n",
              "#sk-container-id-3 a.estimator_doc_link:hover {\n",
              "  /* unfitted */\n",
              "  background-color: var(--sklearn-color-unfitted-level-3);\n",
              "  color: var(--sklearn-color-background);\n",
              "  text-decoration: none;\n",
              "}\n",
              "\n",
              "#sk-container-id-3 a.estimator_doc_link.fitted:hover {\n",
              "  /* fitted */\n",
              "  background-color: var(--sklearn-color-fitted-level-3);\n",
              "}\n",
              "</style><div id=\"sk-container-id-3\" class=\"sk-top-container\"><div class=\"sk-text-repr-fallback\"><pre>XGBRegressor(alpha=1, base_score=None, booster=None, callbacks=None,\n",
              "             colsample_bylevel=None, colsample_bynode=None,\n",
              "             colsample_bytree=0.3, device=None, early_stopping_rounds=None,\n",
              "             enable_categorical=False, eval_metric=None, feature_types=None,\n",
              "             gamma=None, grow_policy=None, importance_type=None,\n",
              "             interaction_constraints=None, learning_rate=0.1, max_bin=None,\n",
              "             max_cat_threshold=None, max_cat_to_onehot=None,\n",
              "             max_delta_step=None, max_depth=6, max_leaves=None,\n",
              "             min_child_weight=3, missing=nan, monotone_constraints=None,\n",
              "             multi_strategy=None, n_estimators=100, n_jobs=None,\n",
              "             num_parallel_tree=None, ...)</pre><b>In a Jupyter environment, please rerun this cell to show the HTML representation or trust the notebook. <br />On GitHub, the HTML representation is unable to render, please try loading this page with nbviewer.org.</b></div><div class=\"sk-container\" hidden><div class=\"sk-item\"><div class=\"sk-estimator fitted sk-toggleable\"><input class=\"sk-toggleable__control sk-hidden--visually\" id=\"sk-estimator-id-3\" type=\"checkbox\" checked><label for=\"sk-estimator-id-3\" class=\"sk-toggleable__label fitted sk-toggleable__label-arrow fitted\">&nbsp;XGBRegressor<span class=\"sk-estimator-doc-link fitted\">i<span>Fitted</span></span></label><div class=\"sk-toggleable__content fitted\"><pre>XGBRegressor(alpha=1, base_score=None, booster=None, callbacks=None,\n",
              "             colsample_bylevel=None, colsample_bynode=None,\n",
              "             colsample_bytree=0.3, device=None, early_stopping_rounds=None,\n",
              "             enable_categorical=False, eval_metric=None, feature_types=None,\n",
              "             gamma=None, grow_policy=None, importance_type=None,\n",
              "             interaction_constraints=None, learning_rate=0.1, max_bin=None,\n",
              "             max_cat_threshold=None, max_cat_to_onehot=None,\n",
              "             max_delta_step=None, max_depth=6, max_leaves=None,\n",
              "             min_child_weight=3, missing=nan, monotone_constraints=None,\n",
              "             multi_strategy=None, n_estimators=100, n_jobs=None,\n",
              "             num_parallel_tree=None, ...)</pre></div> </div></div></div></div>"
            ]
          },
          "metadata": {},
          "execution_count": 112
        }
      ]
    },
    {
      "cell_type": "code",
      "source": [
        "# Predicting on the test data\n",
        "y_pred = xg_reg.predict(X_test_scaled)\n",
        "\n",
        "# Calculate RMSE on test data\n",
        "from sklearn.metrics import mean_squared_error\n",
        "test_rmse = np.sqrt(mean_squared_error(y_test, y_pred))\n",
        "print(f\"Test RMSE: {test_rmse}\")\n",
        "\n",
        "# Calculate R² score\n",
        "r2 = r2_score(y_test, y_pred)\n",
        "print(f\"R² Score: {r2}\")"
      ],
      "metadata": {
        "colab": {
          "base_uri": "https://localhost:8080/"
        },
        "id": "7Nk_-oshf7AL",
        "executionInfo": {
          "status": "ok",
          "timestamp": 1729118076330,
          "user_tz": 240,
          "elapsed": 147,
          "user": {
            "displayName": "",
            "userId": ""
          }
        },
        "outputId": "85aacba7-1d58-4ecc-f218-b04d6e32d6db"
      },
      "execution_count": null,
      "outputs": [
        {
          "output_type": "stream",
          "name": "stdout",
          "text": [
            "Test RMSE: 2994.452804011457\n",
            "R² Score: 0.9539451599121094\n"
          ]
        }
      ]
    },
    {
      "cell_type": "code",
      "source": [],
      "metadata": {
        "id": "Z5O9fPNRrUqH"
      },
      "execution_count": null,
      "outputs": []
    },
    {
      "cell_type": "code",
      "source": [
        "import matplotlib.pyplot as plt\n",
        "\n",
        "# Get feature importance\n",
        "importance = xg_reg.feature_importances_\n"
      ],
      "metadata": {
        "id": "rNa_quxehPR2"
      },
      "execution_count": null,
      "outputs": []
    },
    {
      "cell_type": "code",
      "source": [
        "# Assuming X_train is the DataFrame used to train the model\n",
        "# Get the actual feature names\n",
        "actual_feature_names = X_train.columns.tolist()\n",
        "\n",
        "# Get feature importance from the XGBoost model\n",
        "feature_imp_dict = xg_reg.get_booster().get_score(importance_type='gain')\n",
        "\n",
        "# Create a DataFrame from the dictionary using the mapping\n",
        "df_feature_imp = pd.DataFrame.from_dict(feature_imp_dict, orient='index', columns=['importance']).reset_index()\n",
        "\n",
        "# Rename the index to actual feature names (mapping f0, f1, ... to actual names)\n",
        "df_feature_imp['feature'] = df_feature_imp['index'].apply(lambda x: actual_feature_names[int(x[1:])])\n",
        "\n",
        "# Drop the old index column\n",
        "df_feature_imp = df_feature_imp.drop(columns=['index'])\n",
        "\n",
        "# Rename columns for clarity\n",
        "df_feature_imp.columns = ['importance', 'feature']\n",
        "\n",
        "# Sort the DataFrame by importance in descending order\n",
        "df_feature_imp = df_feature_imp.sort_values(by='importance', ascending=False).reset_index(drop=True)\n",
        "\n",
        "# Calculate relative importance\n",
        "df_feature_imp['relative_importance'] = df_feature_imp.importance / df_feature_imp.importance.sum()\n",
        "\n",
        "# Print the DataFrame to verify feature names\n",
        "print(df_feature_imp)\n",
        "\n"
      ],
      "metadata": {
        "colab": {
          "base_uri": "https://localhost:8080/"
        },
        "id": "hsBQR9nfl1ey",
        "executionInfo": {
          "status": "ok",
          "timestamp": 1729118081862,
          "user_tz": 240,
          "elapsed": 140,
          "user": {
            "displayName": "",
            "userId": ""
          }
        },
        "outputId": "5bf68c1f-5c93-4e49-ff8d-72cdee7d55f7"
      },
      "execution_count": null,
      "outputs": [
        {
          "output_type": "stream",
          "name": "stdout",
          "text": [
            "      importance                        feature  relative_importance\n",
            "0   3.524568e+10        neo_high_value_features             0.253059\n",
            "1   1.996748e+10                       features             0.143364\n",
            "2   1.358990e+10                  neo_base_msrp             0.097574\n",
            "3   1.125345e+10  neo_installed_options_details             0.080798\n",
            "4   6.991821e+09                          miles             0.050200\n",
            "5   3.729180e+09           neo_delivery_charges             0.026775\n",
            "6   3.618109e+09                     make_model             0.025977\n",
            "7   3.582884e+09         neo_mfg_interior_color             0.025725\n",
            "8   3.431267e+09          neo_manufacturer_code             0.024636\n",
            "9   3.411720e+09              first_scraped_age             0.024496\n",
            "10  2.936559e+09                     neo_engine             0.021084\n",
            "11  2.759234e+09                       neo_trim             0.019811\n",
            "12  2.723886e+09              neo_combined_msrp             0.019557\n",
            "13  2.615492e+09                    neo_version             0.018779\n",
            "14  2.480535e+09                    neo_country             0.017810\n",
            "15  1.892396e+09                  neo_fuel_type             0.013587\n",
            "16  1.783409e+09               neo_transmission             0.012805\n",
            "17  1.649547e+09               neo_vehicle_type             0.011844\n",
            "18  1.580460e+09                  neo_cylinders             0.011347\n",
            "19  1.315308e+09         neo_version_confidence             0.009444\n",
            "20  1.270799e+09     neo_installed_options_msrp             0.009124\n",
            "21  1.137422e+09                neo_engine_size             0.008167\n",
            "22  1.047651e+09                 exterior_color             0.007522\n",
            "23  9.143542e+08               neo_engine_block             0.006565\n",
            "24  8.611256e+08            neo_powertrain_type             0.006183\n",
            "25  8.592605e+08         neo_listing_confidence             0.006169\n",
            "26  7.550453e+08         neo_mfg_exterior_color             0.005421\n",
            "27  6.895911e+08                      neo_width             0.004951\n",
            "28  5.561757e+08                 interior_color             0.003993\n",
            "29  4.780690e+08                   neo_city_mpg             0.003432\n",
            "30  4.655603e+08                 neo_drivetrain             0.003343\n",
            "31  4.379652e+08                    dealer_type             0.003145\n",
            "32  4.117297e+08                  neo_body_type             0.002956\n",
            "33  3.555649e+08                    mc_category             0.002553\n",
            "34  3.418708e+08            base_interior_color             0.002455\n",
            "35  2.975146e+08                neo_highway_mpg             0.002136\n",
            "36  2.539464e+08                     dos_active             0.001823\n",
            "37  2.507732e+08                     neo_length             0.001801\n",
            "38  2.322599e+08                        dom_180             0.001668\n",
            "39  2.127778e+08                     dom_active             0.001528\n",
            "40  2.127505e+08                            dom             0.001528\n",
            "41  2.082142e+08            neo_trim_confidence             0.001495\n",
            "42  2.080572e+08            base_exterior_color             0.001494\n",
            "43  1.656570e+08                     neo_height             0.001189\n",
            "44  9.609326e+07                      neo_doors             0.000690\n"
          ]
        }
      ]
    },
    {
      "cell_type": "code",
      "source": [
        "from pandas_gbq import to_gbq\n",
        "# Define your project ID and dataset\n",
        "project_id = 'marketcheck-demo'  # Replace with your GCP project ID\n",
        "dataset_id = 'demo'   # Replace with your dataset ID\n",
        "table_name = 'feature_importance_gain_marketcheck'    # Define the table name\n",
        "\n",
        "# Save feature importance DataFrame to BigQuery with schema\n",
        "to_gbq(\n",
        "    df_feature_imp,\n",
        "    f'{dataset_id}.{table_name}',  # Format: dataset.table\n",
        "    project_id=project_id,\n",
        "    if_exists='replace'  # Options: 'fail', 'replace', 'append # Add schema to ensure column names are recognized\n",
        ")"
      ],
      "metadata": {
        "colab": {
          "base_uri": "https://localhost:8080/"
        },
        "id": "r9EeC2-KjaFu",
        "executionInfo": {
          "status": "ok",
          "timestamp": 1729118110930,
          "user_tz": 240,
          "elapsed": 2912,
          "user": {
            "displayName": "",
            "userId": ""
          }
        },
        "outputId": "ecac16f4-8eaf-4383-9de9-2789725b3c37"
      },
      "execution_count": null,
      "outputs": [
        {
          "output_type": "stream",
          "name": "stderr",
          "text": [
            "100%|██████████| 1/1 [00:00<00:00, 6168.09it/s]\n"
          ]
        }
      ]
    },
    {
      "cell_type": "code",
      "source": [
        "import pickle\n",
        "\n",
        "with open('xgboost_model.pkl', 'wb') as f:\n",
        "    pickle.dump(xg_reg, f)\n"
      ],
      "metadata": {
        "id": "sNgJ-niknkcV"
      },
      "execution_count": null,
      "outputs": []
    },
    {
      "cell_type": "code",
      "source": [
        "# Save the model in XGBoost's native format\n",
        "xg_reg.save_model('xgb_model.json')"
      ],
      "metadata": {
        "id": "sqcfasIzcOBz"
      },
      "execution_count": null,
      "outputs": []
    },
    {
      "cell_type": "code",
      "source": [],
      "metadata": {
        "id": "wBJai4V-cOKG"
      },
      "execution_count": null,
      "outputs": []
    },
    {
      "cell_type": "code",
      "source": [
        "!gsutil cp xgboost_model.pkl gs://marketcheck-xgboost/path/to/model/\n"
      ],
      "metadata": {
        "colab": {
          "base_uri": "https://localhost:8080/"
        },
        "id": "9eQkK3dinkm_",
        "executionInfo": {
          "status": "ok",
          "timestamp": 1729118144500,
          "user_tz": 240,
          "elapsed": 2280,
          "user": {
            "displayName": "",
            "userId": ""
          }
        },
        "outputId": "3ed1a65f-2608-49c6-c86c-3fa66ec49aea"
      },
      "execution_count": null,
      "outputs": [
        {
          "output_type": "stream",
          "name": "stdout",
          "text": [
            "Copying file://xgboost_model.pkl [Content-Type=application/octet-stream]...\n",
            "/ [1 files][423.8 KiB/423.8 KiB]                                                \n",
            "Operation completed over 1 objects/423.8 KiB.                                    \n"
          ]
        }
      ]
    },
    {
      "cell_type": "code",
      "source": [
        "!pip install xgboost tensorflow\n",
        "\n",
        "import tensorflow as tf\n",
        "from tensorflow import keras\n",
        "from tensorflow.keras.layers import Layer"
      ],
      "metadata": {
        "colab": {
          "base_uri": "https://localhost:8080/"
        },
        "id": "33m338SQnkrM",
        "executionInfo": {
          "status": "ok",
          "timestamp": 1729098639427,
          "user_tz": 240,
          "elapsed": 4048,
          "user": {
            "displayName": "",
            "userId": ""
          }
        },
        "outputId": "9ca6b5d3-3d5e-4d72-d7b0-d6f9c1145f76"
      },
      "execution_count": null,
      "outputs": [
        {
          "output_type": "stream",
          "name": "stdout",
          "text": [
            "Requirement already satisfied: xgboost in /usr/local/lib/python3.10/dist-packages (2.1.1)\n",
            "Requirement already satisfied: tensorflow in /usr/local/lib/python3.10/dist-packages (2.17.0)\n",
            "Requirement already satisfied: numpy in /usr/local/lib/python3.10/dist-packages (from xgboost) (1.26.4)\n",
            "Requirement already satisfied: nvidia-nccl-cu12 in /usr/local/lib/python3.10/dist-packages (from xgboost) (2.23.4)\n",
            "Requirement already satisfied: scipy in /usr/local/lib/python3.10/dist-packages (from xgboost) (1.13.1)\n",
            "Requirement already satisfied: absl-py>=1.0.0 in /usr/local/lib/python3.10/dist-packages (from tensorflow) (1.4.0)\n",
            "Requirement already satisfied: astunparse>=1.6.0 in /usr/local/lib/python3.10/dist-packages (from tensorflow) (1.6.3)\n",
            "Requirement already satisfied: flatbuffers>=24.3.25 in /usr/local/lib/python3.10/dist-packages (from tensorflow) (24.3.25)\n",
            "Requirement already satisfied: gast!=0.5.0,!=0.5.1,!=0.5.2,>=0.2.1 in /usr/local/lib/python3.10/dist-packages (from tensorflow) (0.6.0)\n",
            "Requirement already satisfied: google-pasta>=0.1.1 in /usr/local/lib/python3.10/dist-packages (from tensorflow) (0.2.0)\n",
            "Requirement already satisfied: h5py>=3.10.0 in /usr/local/lib/python3.10/dist-packages (from tensorflow) (3.11.0)\n",
            "Requirement already satisfied: libclang>=13.0.0 in /usr/local/lib/python3.10/dist-packages (from tensorflow) (18.1.1)\n",
            "Requirement already satisfied: ml-dtypes<0.5.0,>=0.3.1 in /usr/local/lib/python3.10/dist-packages (from tensorflow) (0.4.1)\n",
            "Requirement already satisfied: opt-einsum>=2.3.2 in /usr/local/lib/python3.10/dist-packages (from tensorflow) (3.3.0)\n",
            "Requirement already satisfied: packaging in /usr/local/lib/python3.10/dist-packages (from tensorflow) (24.1)\n",
            "Requirement already satisfied: protobuf!=4.21.0,!=4.21.1,!=4.21.2,!=4.21.3,!=4.21.4,!=4.21.5,<5.0.0dev,>=3.20.3 in /usr/local/lib/python3.10/dist-packages (from tensorflow) (3.20.3)\n",
            "Requirement already satisfied: requests<3,>=2.21.0 in /usr/local/lib/python3.10/dist-packages (from tensorflow) (2.32.3)\n",
            "Requirement already satisfied: setuptools in /usr/local/lib/python3.10/dist-packages (from tensorflow) (69.5.1)\n",
            "Requirement already satisfied: six>=1.12.0 in /usr/local/lib/python3.10/dist-packages (from tensorflow) (1.16.0)\n",
            "Requirement already satisfied: termcolor>=1.1.0 in /usr/local/lib/python3.10/dist-packages (from tensorflow) (2.4.0)\n",
            "Requirement already satisfied: typing-extensions>=3.6.6 in /usr/local/lib/python3.10/dist-packages (from tensorflow) (4.12.2)\n",
            "Requirement already satisfied: wrapt>=1.11.0 in /usr/local/lib/python3.10/dist-packages (from tensorflow) (1.16.0)\n",
            "Requirement already satisfied: grpcio<2.0,>=1.24.3 in /usr/local/lib/python3.10/dist-packages (from tensorflow) (1.64.1)\n",
            "Requirement already satisfied: tensorboard<2.18,>=2.17 in /usr/local/lib/python3.10/dist-packages (from tensorflow) (2.17.0)\n",
            "Requirement already satisfied: keras>=3.2.0 in /usr/local/lib/python3.10/dist-packages (from tensorflow) (3.4.1)\n",
            "Requirement already satisfied: tensorflow-io-gcs-filesystem>=0.23.1 in /usr/local/lib/python3.10/dist-packages (from tensorflow) (0.37.1)\n",
            "Requirement already satisfied: wheel<1.0,>=0.23.0 in /usr/local/lib/python3.10/dist-packages (from astunparse>=1.6.0->tensorflow) (0.44.0)\n",
            "Requirement already satisfied: rich in /usr/local/lib/python3.10/dist-packages (from keras>=3.2.0->tensorflow) (13.8.1)\n",
            "Requirement already satisfied: namex in /usr/local/lib/python3.10/dist-packages (from keras>=3.2.0->tensorflow) (0.0.8)\n",
            "Requirement already satisfied: optree in /usr/local/lib/python3.10/dist-packages (from keras>=3.2.0->tensorflow) (0.12.1)\n",
            "Requirement already satisfied: charset-normalizer<4,>=2 in /usr/local/lib/python3.10/dist-packages (from requests<3,>=2.21.0->tensorflow) (3.3.2)\n",
            "Requirement already satisfied: idna<4,>=2.5 in /usr/local/lib/python3.10/dist-packages (from requests<3,>=2.21.0->tensorflow) (3.10)\n",
            "Requirement already satisfied: urllib3<3,>=1.21.1 in /usr/local/lib/python3.10/dist-packages (from requests<3,>=2.21.0->tensorflow) (2.2.3)\n",
            "Requirement already satisfied: certifi>=2017.4.17 in /usr/local/lib/python3.10/dist-packages (from requests<3,>=2.21.0->tensorflow) (2024.8.30)\n",
            "Requirement already satisfied: markdown>=2.6.8 in /usr/local/lib/python3.10/dist-packages (from tensorboard<2.18,>=2.17->tensorflow) (3.7)\n",
            "Requirement already satisfied: tensorboard-data-server<0.8.0,>=0.7.0 in /usr/local/lib/python3.10/dist-packages (from tensorboard<2.18,>=2.17->tensorflow) (0.7.2)\n",
            "Requirement already satisfied: werkzeug>=1.0.1 in /usr/local/lib/python3.10/dist-packages (from tensorboard<2.18,>=2.17->tensorflow) (3.0.4)\n",
            "Requirement already satisfied: MarkupSafe>=2.1.1 in /usr/local/lib/python3.10/dist-packages (from werkzeug>=1.0.1->tensorboard<2.18,>=2.17->tensorflow) (2.1.5)\n",
            "Requirement already satisfied: markdown-it-py>=2.2.0 in /usr/local/lib/python3.10/dist-packages (from rich->keras>=3.2.0->tensorflow) (3.0.0)\n",
            "Requirement already satisfied: pygments<3.0.0,>=2.13.0 in /usr/local/lib/python3.10/dist-packages (from rich->keras>=3.2.0->tensorflow) (2.18.0)\n",
            "Requirement already satisfied: mdurl~=0.1 in /usr/local/lib/python3.10/dist-packages (from markdown-it-py>=2.2.0->rich->keras>=3.2.0->tensorflow) (0.1.2)\n"
          ]
        }
      ]
    },
    {
      "cell_type": "code",
      "source": [
        "   import tensorflow as tf\n",
        "   import numpy as np\n",
        "\n",
        "   # Load XGBoost model\n",
        "   xg_reg = xgb.XGBRegressor()\n",
        "   xg_reg.load_model('xgb_model.json')\n",
        "\n",
        "   # Create a TensorFlow model with the same architecture\n",
        "   class XGBoostModel(tf.keras.Model):\n",
        "       def __init__(self):\n",
        "           super().__init__()\n",
        "           self.xg_reg = xg_reg\n",
        "\n",
        "       def call(self, inputs):\n",
        "           # Convert inputs to numpy array for XGBoost\n",
        "           inputs_np = inputs.numpy()\n",
        "           # Predict using XGBoost\n",
        "           predictions = self.xg_reg.predict(inputs_np)\n",
        "           # Convert predictions back to TensorFlow tensor\n",
        "           return tf.convert_to_tensor(predictions)\n",
        "\n",
        "   # Create an instance of the model\n",
        "   model = XGBoostModel()\n",
        "\n",
        "   # Save the model as a SavedModel\n",
        "   tf.saved_model.save(model, 'saved_model')\n"
      ],
      "metadata": {
        "id": "RmqkTPXfeTCG"
      },
      "execution_count": null,
      "outputs": []
    },
    {
      "cell_type": "code",
      "source": [
        "!gsutil cp -r saved_model gs://marketcheck_xgboost_savedmodel/path/to/model/"
      ],
      "metadata": {
        "colab": {
          "base_uri": "https://localhost:8080/"
        },
        "id": "WZm63zo4eS_p",
        "executionInfo": {
          "status": "ok",
          "timestamp": 1729118460139,
          "user_tz": 240,
          "elapsed": 3505,
          "user": {
            "displayName": "",
            "userId": ""
          }
        },
        "outputId": "ee73447b-7eca-474e-a9a9-8d92de7d0a4e"
      },
      "execution_count": null,
      "outputs": [
        {
          "output_type": "stream",
          "name": "stdout",
          "text": [
            "Copying file://saved_model/fingerprint.pb [Content-Type=application/octet-stream]...\n",
            "Copying file://saved_model/saved_model.pb [Content-Type=application/octet-stream]...\n",
            "Copying file://saved_model/variables/variables.data-00000-of-00001 [Content-Type=application/octet-stream]...\n",
            "Copying file://saved_model/variables/variables.index [Content-Type=application/octet-stream]...\n",
            "\\\n",
            "Operation completed over 4 objects/6.0 KiB.                                      \n"
          ]
        }
      ]
    }
  ]
}