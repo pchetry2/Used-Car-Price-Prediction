{
  "nbformat": 4,
  "nbformat_minor": 0,
  "metadata": {
    "colab": {
      "cell_execution_strategy": "setup",
      "provenance": [],
      "name": "Notebook main table"
    },
    "kernelspec": {
      "name": "python3",
      "display_name": "Python 3"
    },
    "language_info": {
      "name": "python"
    }
  },
  "cells": [
    {
      "cell_type": "markdown",
      "source": [
        "# Example 1: Query a table with SQL and magic commands"
      ],
      "metadata": {
        "id": "VI0xLxmm7HBa"
      }
    },
    {
      "cell_type": "code",
      "source": [
        "# Running this code will query a table in BigQuery and download\n",
        "# the results to a Pandas DataFrame named `results`.\n",
        "# Learn more here: https://cloud.google.com/bigquery/docs/visualize-jupyter\n",
        "\n",
        "%%bigquery results --project marketcheck-demo\n",
        "SELECT * FROM `marketcheck-demo.demo.used_neovin_inventory` #this table name was set based on the table you chose to query"
      ],
      "metadata": {
        "id": "7apwrP5jxUGW",
        "colab": {
          "base_uri": "https://localhost:8080/"
        },
        "executionInfo": {
          "status": "ok",
          "timestamp": 1729017916689,
          "user_tz": 240,
          "elapsed": 21564,
          "user": {
            "displayName": "",
            "userId": ""
          }
        },
        "outputId": "c4f9748c-8201-48f5-a336-833c0f77ec4a"
      },
      "execution_count": 7,
      "outputs": [
        {
          "output_type": "stream",
          "name": "stdout",
          "text": [
            "Executing query with job ID: c3000144-4964-4fe3-aa43-998e746367cc\n",
            "Query executing: 11.41s"
          ]
        },
        {
          "output_type": "stream",
          "name": "stderr",
          "text": [
            "\n",
            "ERROR:\n",
            " 403 GET https://bigquery.googleapis.com/bigquery/v2/projects/marketcheck-demo/queries/c3000144-4964-4fe3-aa43-998e746367cc?maxResults=0&location=US&prettyPrint=false: Response too large to return. Consider specifying a destination table in your job configuration. For more details, see https://cloud.google.com/bigquery/troubleshooting-errors\n",
            "\n",
            "Location: US\n",
            "Job ID: c3000144-4964-4fe3-aa43-998e746367cc\n",
            "\n"
          ]
        }
      ]
    },
    {
      "cell_type": "code",
      "source": [
        "# You can view the resulting Pandas DataFrame and work with using the Pandas library.\n",
        "# https://pandas.pydata.org/docs/getting_started/index.html#getting-started\n",
        "results"
      ],
      "metadata": {
        "id": "itFJzBFNr72l",
        "colab": {
          "base_uri": "https://localhost:8080/"
        },
        "executionInfo": {
          "status": "ok",
          "timestamp": 1729017916689,
          "user_tz": 240,
          "elapsed": 2,
          "user": {
            "displayName": "",
            "userId": ""
          }
        },
        "outputId": "38f4f510-a325-4340-9757-2c29f82b481f"
      },
      "execution_count": 8,
      "outputs": [
        {
          "output_type": "execute_result",
          "data": {
            "text/plain": [
              "QueryJob<project=marketcheck-demo, location=US, id=c3000144-4964-4fe3-aa43-998e746367cc>"
            ]
          },
          "metadata": {},
          "execution_count": 8
        }
      ]
    },
    {
      "cell_type": "markdown",
      "source": [
        "# Example 2: Query a table with BigQuery DataFrames"
      ],
      "metadata": {
        "id": "PYt5QGSf67N3"
      }
    },
    {
      "cell_type": "code",
      "source": [
        "# With BigQuery DataFrames, you can use many familiar Pandas methods, but the\n",
        "# processing happens BigQuery rather than the runtime, allowing you to work with larger\n",
        "# DataFrames that would otherwise not fit in the runtime memory.\n",
        "# Learn more here: https://cloud.google.com/python/docs/reference/bigframes/latest\n",
        "\n",
        "import bigframes.pandas as bf\n",
        "\n",
        "bf.options.bigquery.location = \"US\" #this variable is set based on the dataset you chose to query\n",
        "bf.options.bigquery.project = \"marketcheck-demo\" #this variable is set based on the dataset you chose to query"
      ],
      "metadata": {
        "id": "tJSfAiHycbAj",
        "executionInfo": {
          "status": "ok",
          "timestamp": 1729017918120,
          "user_tz": 240,
          "elapsed": 1432,
          "user": {
            "displayName": "",
            "userId": ""
          }
        }
      },
      "execution_count": 9,
      "outputs": []
    },
    {
      "cell_type": "code",
      "source": [
        "df = bf.read_gbq(\"marketcheck-demo.demo.used_neovin_inventory\") #this variable is set based on the dataset you chose to query"
      ],
      "metadata": {
        "id": "fUsQzlgjiA_G",
        "colab": {
          "base_uri": "https://localhost:8080/"
        },
        "executionInfo": {
          "status": "ok",
          "timestamp": 1729017920202,
          "user_tz": 240,
          "elapsed": 2084,
          "user": {
            "displayName": "",
            "userId": ""
          }
        },
        "outputId": "5f6741ef-c9e0-4320-a0f6-8ebcd8fc9b0f"
      },
      "execution_count": 10,
      "outputs": [
        {
          "output_type": "stream",
          "name": "stdout",
          "text": [
            "WARNING: google.colab.auth.authenticate_user() is not supported in Colab Enterprise.\n"
          ]
        }
      ]
    },
    {
      "cell_type": "code",
      "source": [
        "df.head()"
      ],
      "metadata": {
        "colab": {
          "base_uri": "https://localhost:8080/",
          "height": 585
        },
        "id": "V6DSuKhcsLAa",
        "executionInfo": {
          "status": "ok",
          "timestamp": 1729015068306,
          "user_tz": 240,
          "elapsed": 14514,
          "user": {
            "displayName": "",
            "userId": ""
          }
        },
        "outputId": "ff410563-3f0b-4bfa-e524-a976456f1b74"
      },
      "execution_count": 5,
      "outputs": [
        {
          "output_type": "display_data",
          "data": {
            "text/plain": [
              "<IPython.core.display.HTML object>"
            ],
            "text/html": [
              "Query job 5a6bde11-9b1a-49f7-a494-763d377d796f is DONE. 100.1 GB processed. <a target=\"_blank\" href=\"https://console.cloud.google.com/bigquery?project=marketcheck-demo&j=bq:US:5a6bde11-9b1a-49f7-a494-763d377d796f&page=queryresults\">Open Job</a>"
            ]
          },
          "metadata": {}
        },
        {
          "output_type": "display_data",
          "data": {
            "text/plain": [
              "<IPython.core.display.HTML object>"
            ],
            "text/html": [
              "Query job eaa17ae7-48c2-43a5-adce-bcb07e020533 is DONE. 98.3 kB processed. <a target=\"_blank\" href=\"https://console.cloud.google.com/bigquery?project=marketcheck-demo&j=bq:US:eaa17ae7-48c2-43a5-adce-bcb07e020533&page=queryresults\">Open Job</a>"
            ]
          },
          "metadata": {}
        },
        {
          "output_type": "execute_result",
          "data": {
            "text/plain": [
              "              id                vin                               heading  \\\n",
              "0  d18738e9-1e0a  1GYKNDRSXMZ222711  2021 CADILLAC XT5 Premium Luxury SUV   \n",
              "1  5ca7e8ae-5536  SADCJ2EX8PA711983         2023 Jaguar F-PACE P250 S SUV   \n",
              "2  2d577f8b-55ff  2HGFC2E88LH574195                2020 Honda Civic Sport   \n",
              "3  a5ea36a2-1421  5N1DL0MN5KC561502               Used 2019 INFINITI QX60   \n",
              "4  830aa08c-05e3  JTDEPMAE8NJ217879        Toyota Corolla LE 4D Sedan FWD   \n",
              "\n",
              "                                           more_info  price   msrp  miles  \\\n",
              "0  https://www.herbchambersalfaromeoofwarwick.com...  37998  37998  17510   \n",
              "1  https://www.herbchambersalfaromeoofboston.com/...   <NA>   <NA>   9999   \n",
              "2  https://www.darcars.com/used-Mt+Kisco-2020-Hon...  17750  20193  85764   \n",
              "3  http://www.evolutioncars.com/details-2019-infi...  20987  20987  52828   \n",
              "4  https://www.toyotaofnorthmiami.com/inventory/u...  17986  20775  35660   \n",
              "\n",
              "   stock_no                          neo_listing_confidence  neo_year  ...  \\\n",
              "0   CP25065                                  mc_build_specs      2021  ...   \n",
              "1  BP711983  mc_listings|used|dealer|independent|1|alt_opts      2023  ...   \n",
              "2   443202A         mc_listings|used|dealer|franchise|62008      2020  ...   \n",
              "3  KC561502           mc_listings|new|dealer|franchise|2393      2019  ...   \n",
              "4  T010405A                                  mc_build_specs      2022  ...   \n",
              "\n",
              "  mc_dealership_group_id mc_sub_dealership_group_id  mc_dealership_group_name  \\\n",
              "0                    119                        119        Herb Chambers Cos.   \n",
              "1                    119                        119        Herb Chambers Cos.   \n",
              "2                    145                        145  DARCARS Automotive Group   \n",
              "3                   <NA>                       <NA>                      <NA>   \n",
              "4                    239                        239            FRL Automotive   \n",
              "\n",
              "  mc_sub_dealership_group_name mc_dealer_id mc_location_id mc_website_id  \\\n",
              "0           Herb Chambers Cos.      1109639        1508322       1100764   \n",
              "1           Herb Chambers Cos.      1109210        1534436       1073659   \n",
              "2     DARCARS Automotive Group      1191786        1398068       1028668   \n",
              "3                         <NA>      1095490        1499362       1079429   \n",
              "4               FRL Automotive      1117653        1414234       1037960   \n",
              "\n",
              "  mc_rooftop_id mc_car_location_id is_searchable  \n",
              "0        750873            1386775             0  \n",
              "1        255536            1401104             0  \n",
              "2        311142            1399088             0  \n",
              "3        126461               <NA>             1  \n",
              "4        488538            1414234             1  \n",
              "\n",
              "[5 rows x 116 columns]"
            ],
            "text/html": [
              "<div>\n",
              "<style scoped>\n",
              "    .dataframe tbody tr th:only-of-type {\n",
              "        vertical-align: middle;\n",
              "    }\n",
              "\n",
              "    .dataframe tbody tr th {\n",
              "        vertical-align: top;\n",
              "    }\n",
              "\n",
              "    .dataframe thead th {\n",
              "        text-align: right;\n",
              "    }\n",
              "</style>\n",
              "<table border=\"1\" class=\"dataframe\">\n",
              "  <thead>\n",
              "    <tr style=\"text-align: right;\">\n",
              "      <th></th>\n",
              "      <th>id</th>\n",
              "      <th>vin</th>\n",
              "      <th>heading</th>\n",
              "      <th>more_info</th>\n",
              "      <th>price</th>\n",
              "      <th>msrp</th>\n",
              "      <th>miles</th>\n",
              "      <th>stock_no</th>\n",
              "      <th>neo_listing_confidence</th>\n",
              "      <th>neo_year</th>\n",
              "      <th>...</th>\n",
              "      <th>mc_dealership_group_id</th>\n",
              "      <th>mc_sub_dealership_group_id</th>\n",
              "      <th>mc_dealership_group_name</th>\n",
              "      <th>mc_sub_dealership_group_name</th>\n",
              "      <th>mc_dealer_id</th>\n",
              "      <th>mc_location_id</th>\n",
              "      <th>mc_website_id</th>\n",
              "      <th>mc_rooftop_id</th>\n",
              "      <th>mc_car_location_id</th>\n",
              "      <th>is_searchable</th>\n",
              "    </tr>\n",
              "  </thead>\n",
              "  <tbody>\n",
              "    <tr>\n",
              "      <th>0</th>\n",
              "      <td>d18738e9-1e0a</td>\n",
              "      <td>1GYKNDRSXMZ222711</td>\n",
              "      <td>2021 CADILLAC XT5 Premium Luxury SUV</td>\n",
              "      <td>https://www.herbchambersalfaromeoofwarwick.com...</td>\n",
              "      <td>37998</td>\n",
              "      <td>37998</td>\n",
              "      <td>17510</td>\n",
              "      <td>CP25065</td>\n",
              "      <td>mc_build_specs</td>\n",
              "      <td>2021</td>\n",
              "      <td>...</td>\n",
              "      <td>119</td>\n",
              "      <td>119</td>\n",
              "      <td>Herb Chambers Cos.</td>\n",
              "      <td>Herb Chambers Cos.</td>\n",
              "      <td>1109639</td>\n",
              "      <td>1508322</td>\n",
              "      <td>1100764</td>\n",
              "      <td>750873</td>\n",
              "      <td>1386775</td>\n",
              "      <td>0</td>\n",
              "    </tr>\n",
              "    <tr>\n",
              "      <th>1</th>\n",
              "      <td>5ca7e8ae-5536</td>\n",
              "      <td>SADCJ2EX8PA711983</td>\n",
              "      <td>2023 Jaguar F-PACE P250 S SUV</td>\n",
              "      <td>https://www.herbchambersalfaromeoofboston.com/...</td>\n",
              "      <td>&lt;NA&gt;</td>\n",
              "      <td>&lt;NA&gt;</td>\n",
              "      <td>9999</td>\n",
              "      <td>BP711983</td>\n",
              "      <td>mc_listings|used|dealer|independent|1|alt_opts</td>\n",
              "      <td>2023</td>\n",
              "      <td>...</td>\n",
              "      <td>119</td>\n",
              "      <td>119</td>\n",
              "      <td>Herb Chambers Cos.</td>\n",
              "      <td>Herb Chambers Cos.</td>\n",
              "      <td>1109210</td>\n",
              "      <td>1534436</td>\n",
              "      <td>1073659</td>\n",
              "      <td>255536</td>\n",
              "      <td>1401104</td>\n",
              "      <td>0</td>\n",
              "    </tr>\n",
              "    <tr>\n",
              "      <th>2</th>\n",
              "      <td>2d577f8b-55ff</td>\n",
              "      <td>2HGFC2E88LH574195</td>\n",
              "      <td>2020 Honda Civic Sport</td>\n",
              "      <td>https://www.darcars.com/used-Mt+Kisco-2020-Hon...</td>\n",
              "      <td>17750</td>\n",
              "      <td>20193</td>\n",
              "      <td>85764</td>\n",
              "      <td>443202A</td>\n",
              "      <td>mc_listings|used|dealer|franchise|62008</td>\n",
              "      <td>2020</td>\n",
              "      <td>...</td>\n",
              "      <td>145</td>\n",
              "      <td>145</td>\n",
              "      <td>DARCARS Automotive Group</td>\n",
              "      <td>DARCARS Automotive Group</td>\n",
              "      <td>1191786</td>\n",
              "      <td>1398068</td>\n",
              "      <td>1028668</td>\n",
              "      <td>311142</td>\n",
              "      <td>1399088</td>\n",
              "      <td>0</td>\n",
              "    </tr>\n",
              "    <tr>\n",
              "      <th>3</th>\n",
              "      <td>a5ea36a2-1421</td>\n",
              "      <td>5N1DL0MN5KC561502</td>\n",
              "      <td>Used 2019 INFINITI QX60</td>\n",
              "      <td>http://www.evolutioncars.com/details-2019-infi...</td>\n",
              "      <td>20987</td>\n",
              "      <td>20987</td>\n",
              "      <td>52828</td>\n",
              "      <td>KC561502</td>\n",
              "      <td>mc_listings|new|dealer|franchise|2393</td>\n",
              "      <td>2019</td>\n",
              "      <td>...</td>\n",
              "      <td>&lt;NA&gt;</td>\n",
              "      <td>&lt;NA&gt;</td>\n",
              "      <td>&lt;NA&gt;</td>\n",
              "      <td>&lt;NA&gt;</td>\n",
              "      <td>1095490</td>\n",
              "      <td>1499362</td>\n",
              "      <td>1079429</td>\n",
              "      <td>126461</td>\n",
              "      <td>&lt;NA&gt;</td>\n",
              "      <td>1</td>\n",
              "    </tr>\n",
              "    <tr>\n",
              "      <th>4</th>\n",
              "      <td>830aa08c-05e3</td>\n",
              "      <td>JTDEPMAE8NJ217879</td>\n",
              "      <td>Toyota Corolla LE 4D Sedan FWD</td>\n",
              "      <td>https://www.toyotaofnorthmiami.com/inventory/u...</td>\n",
              "      <td>17986</td>\n",
              "      <td>20775</td>\n",
              "      <td>35660</td>\n",
              "      <td>T010405A</td>\n",
              "      <td>mc_build_specs</td>\n",
              "      <td>2022</td>\n",
              "      <td>...</td>\n",
              "      <td>239</td>\n",
              "      <td>239</td>\n",
              "      <td>FRL Automotive</td>\n",
              "      <td>FRL Automotive</td>\n",
              "      <td>1117653</td>\n",
              "      <td>1414234</td>\n",
              "      <td>1037960</td>\n",
              "      <td>488538</td>\n",
              "      <td>1414234</td>\n",
              "      <td>1</td>\n",
              "    </tr>\n",
              "  </tbody>\n",
              "</table>\n",
              "<p>5 rows × 116 columns</p>\n",
              "</div>[5 rows x 116 columns in total]"
            ]
          },
          "metadata": {},
          "execution_count": 5
        }
      ]
    },
    {
      "cell_type": "code",
      "source": [
        "df.shape"
      ],
      "metadata": {
        "colab": {
          "base_uri": "https://localhost:8080/"
        },
        "id": "U402GEstsLEp",
        "executionInfo": {
          "status": "ok",
          "timestamp": 1729015071652,
          "user_tz": 240,
          "elapsed": 221,
          "user": {
            "displayName": "",
            "userId": ""
          }
        },
        "outputId": "a260f777-486d-4b25-9fea-c96b14a3caf7"
      },
      "execution_count": 6,
      "outputs": [
        {
          "output_type": "execute_result",
          "data": {
            "text/plain": [
              "(8376817, 116)"
            ]
          },
          "metadata": {},
          "execution_count": 6
        }
      ]
    },
    {
      "cell_type": "code",
      "source": [
        "df = df.dropna(subset=['price'], axis=0)\n"
      ],
      "metadata": {
        "id": "vUz5XnMzuAGO",
        "executionInfo": {
          "status": "ok",
          "timestamp": 1729017920202,
          "user_tz": 240,
          "elapsed": 2,
          "user": {
            "displayName": "",
            "userId": ""
          }
        }
      },
      "execution_count": 11,
      "outputs": []
    },
    {
      "cell_type": "code",
      "source": [
        "df.price = df.price.clip(lower=df.price.quantile(0.01), upper=df.price.quantile(0.99))\n"
      ],
      "metadata": {
        "colab": {
          "base_uri": "https://localhost:8080/",
          "height": 52
        },
        "id": "aHc7wtR_7N0e",
        "executionInfo": {
          "status": "ok",
          "timestamp": 1729017934999,
          "user_tz": 240,
          "elapsed": 14799,
          "user": {
            "displayName": "",
            "userId": ""
          }
        },
        "outputId": "237420d4-c9cd-49d9-ee06-8b41bb895c15"
      },
      "execution_count": 12,
      "outputs": [
        {
          "output_type": "display_data",
          "data": {
            "text/plain": [
              "<IPython.core.display.HTML object>"
            ],
            "text/html": [
              "Query job 33f5369e-6417-4426-924b-235b1d5cbe14 is DONE. 62.2 MB processed. <a target=\"_blank\" href=\"https://console.cloud.google.com/bigquery?project=marketcheck-demo&j=bq:US:33f5369e-6417-4426-924b-235b1d5cbe14&page=queryresults\">Open Job</a>"
            ]
          },
          "metadata": {}
        },
        {
          "output_type": "display_data",
          "data": {
            "text/plain": [
              "<IPython.core.display.HTML object>"
            ],
            "text/html": [
              "Query job b4bcdd0f-f653-496b-b0ff-7d7997a89691 is DONE. 62.2 MB processed. <a target=\"_blank\" href=\"https://console.cloud.google.com/bigquery?project=marketcheck-demo&j=bq:US:b4bcdd0f-f653-496b-b0ff-7d7997a89691&page=queryresults\">Open Job</a>"
            ]
          },
          "metadata": {}
        }
      ]
    },
    {
      "cell_type": "code",
      "source": [
        "df.price.min(),df.price.quantile(0.01), df.price.quantile(0.99), df.price.max()"
      ],
      "metadata": {
        "colab": {
          "base_uri": "https://localhost:8080/",
          "height": 104
        },
        "id": "Zj5nTn9Z6ksO",
        "executionInfo": {
          "status": "ok",
          "timestamp": 1729017956878,
          "user_tz": 240,
          "elapsed": 21881,
          "user": {
            "displayName": "",
            "userId": ""
          }
        },
        "outputId": "f7044206-0d48-4c0f-efc0-cc6f7ecd20d8"
      },
      "execution_count": 13,
      "outputs": [
        {
          "output_type": "display_data",
          "data": {
            "text/plain": [
              "<IPython.core.display.HTML object>"
            ],
            "text/html": [
              "Query job 290a57aa-e85e-4eac-8ffd-e5487641808f is DONE. 62.2 MB processed. <a target=\"_blank\" href=\"https://console.cloud.google.com/bigquery?project=marketcheck-demo&j=bq:US:290a57aa-e85e-4eac-8ffd-e5487641808f&page=queryresults\">Open Job</a>"
            ]
          },
          "metadata": {}
        },
        {
          "output_type": "display_data",
          "data": {
            "text/plain": [
              "<IPython.core.display.HTML object>"
            ],
            "text/html": [
              "Query job f0c9e210-c30e-4170-ae3d-d63eeee3e1fd is DONE. 62.2 MB processed. <a target=\"_blank\" href=\"https://console.cloud.google.com/bigquery?project=marketcheck-demo&j=bq:US:f0c9e210-c30e-4170-ae3d-d63eeee3e1fd&page=queryresults\">Open Job</a>"
            ]
          },
          "metadata": {}
        },
        {
          "output_type": "display_data",
          "data": {
            "text/plain": [
              "<IPython.core.display.HTML object>"
            ],
            "text/html": [
              "Query job 99e16ad4-124f-4ed6-8e47-af1b6ed2559a is DONE. 62.2 MB processed. <a target=\"_blank\" href=\"https://console.cloud.google.com/bigquery?project=marketcheck-demo&j=bq:US:99e16ad4-124f-4ed6-8e47-af1b6ed2559a&page=queryresults\">Open Job</a>"
            ]
          },
          "metadata": {}
        },
        {
          "output_type": "display_data",
          "data": {
            "text/plain": [
              "<IPython.core.display.HTML object>"
            ],
            "text/html": [
              "Query job bdf9005e-35b6-4352-992b-13c9ac937e02 is DONE. 62.2 MB processed. <a target=\"_blank\" href=\"https://console.cloud.google.com/bigquery?project=marketcheck-demo&j=bq:US:bdf9005e-35b6-4352-992b-13c9ac937e02&page=queryresults\">Open Job</a>"
            ]
          },
          "metadata": {}
        },
        {
          "output_type": "execute_result",
          "data": {
            "text/plain": [
              "(5499, 5499.0, 99999.0, 99999)"
            ]
          },
          "metadata": {},
          "execution_count": 13
        }
      ]
    },
    {
      "cell_type": "code",
      "source": [
        "df.price.min(),df.price.quantile(0.01), df.price.quantile(0.99), df.price.max()"
      ],
      "metadata": {
        "colab": {
          "base_uri": "https://localhost:8080/",
          "height": 104
        },
        "id": "FrQwdk9q7ka7",
        "executionInfo": {
          "status": "ok",
          "timestamp": 1729017978211,
          "user_tz": 240,
          "elapsed": 21336,
          "user": {
            "displayName": "",
            "userId": ""
          }
        },
        "outputId": "d4c09887-0a53-44bf-a9bb-af567233057a"
      },
      "execution_count": 14,
      "outputs": [
        {
          "output_type": "display_data",
          "data": {
            "text/plain": [
              "<IPython.core.display.HTML object>"
            ],
            "text/html": [
              "Query job f61671b1-5082-4fb9-bb6f-79bd8ae8fc1c is DONE. 62.2 MB processed. <a target=\"_blank\" href=\"https://console.cloud.google.com/bigquery?project=marketcheck-demo&j=bq:US:f61671b1-5082-4fb9-bb6f-79bd8ae8fc1c&page=queryresults\">Open Job</a>"
            ]
          },
          "metadata": {}
        },
        {
          "output_type": "display_data",
          "data": {
            "text/plain": [
              "<IPython.core.display.HTML object>"
            ],
            "text/html": [
              "Query job bef8e337-7bcd-4dec-8bb7-43a782f259d9 is DONE. 62.2 MB processed. <a target=\"_blank\" href=\"https://console.cloud.google.com/bigquery?project=marketcheck-demo&j=bq:US:bef8e337-7bcd-4dec-8bb7-43a782f259d9&page=queryresults\">Open Job</a>"
            ]
          },
          "metadata": {}
        },
        {
          "output_type": "display_data",
          "data": {
            "text/plain": [
              "<IPython.core.display.HTML object>"
            ],
            "text/html": [
              "Query job bd194b3e-130b-46f2-a89b-03ab4ba0eb11 is DONE. 62.2 MB processed. <a target=\"_blank\" href=\"https://console.cloud.google.com/bigquery?project=marketcheck-demo&j=bq:US:bd194b3e-130b-46f2-a89b-03ab4ba0eb11&page=queryresults\">Open Job</a>"
            ]
          },
          "metadata": {}
        },
        {
          "output_type": "display_data",
          "data": {
            "text/plain": [
              "<IPython.core.display.HTML object>"
            ],
            "text/html": [
              "Query job ec0347fa-d9ad-48cf-b39a-1166e67471c2 is DONE. 62.2 MB processed. <a target=\"_blank\" href=\"https://console.cloud.google.com/bigquery?project=marketcheck-demo&j=bq:US:ec0347fa-d9ad-48cf-b39a-1166e67471c2&page=queryresults\">Open Job</a>"
            ]
          },
          "metadata": {}
        },
        {
          "output_type": "execute_result",
          "data": {
            "text/plain": [
              "(5499, 5499.0, 99999.0, 99999)"
            ]
          },
          "metadata": {},
          "execution_count": 14
        }
      ]
    },
    {
      "cell_type": "code",
      "source": [
        "df.price.dtype"
      ],
      "metadata": {
        "colab": {
          "base_uri": "https://localhost:8080/"
        },
        "id": "KMoouMBeuLx4",
        "executionInfo": {
          "status": "ok",
          "timestamp": 1729017978211,
          "user_tz": 240,
          "elapsed": 6,
          "user": {
            "displayName": "",
            "userId": ""
          }
        },
        "outputId": "8d1bc776-1f8c-436a-91f1-d8a71e7aeec8"
      },
      "execution_count": 15,
      "outputs": [
        {
          "output_type": "execute_result",
          "data": {
            "text/plain": [
              "Int64Dtype()"
            ]
          },
          "metadata": {},
          "execution_count": 15
        }
      ]
    },
    {
      "cell_type": "code",
      "source": [
        "df[df.price.isna()]"
      ],
      "metadata": {
        "colab": {
          "base_uri": "https://localhost:8080/",
          "height": 151
        },
        "id": "3uTtTqWnuyGr",
        "executionInfo": {
          "status": "ok",
          "timestamp": 1729017993014,
          "user_tz": 240,
          "elapsed": 14807,
          "user": {
            "displayName": "",
            "userId": ""
          }
        },
        "outputId": "60d1517b-7c74-4137-a0ff-d25d271368fe"
      },
      "execution_count": 16,
      "outputs": [
        {
          "output_type": "display_data",
          "data": {
            "text/plain": [
              "<IPython.core.display.HTML object>"
            ],
            "text/html": [
              "Query job 4b73d773-b688-4972-8e22-5bfffa3316b0 is DONE. 100.1 GB processed. <a target=\"_blank\" href=\"https://console.cloud.google.com/bigquery?project=marketcheck-demo&j=bq:US:4b73d773-b688-4972-8e22-5bfffa3316b0&page=queryresults\">Open Job</a>"
            ]
          },
          "metadata": {}
        },
        {
          "output_type": "display_data",
          "data": {
            "text/plain": [
              "<IPython.core.display.HTML object>"
            ],
            "text/html": [
              "Query job 1ce70d3c-5ede-45fa-98e4-ac484e57306d is DONE. 0 Bytes processed. <a target=\"_blank\" href=\"https://console.cloud.google.com/bigquery?project=marketcheck-demo&j=bq:US:1ce70d3c-5ede-45fa-98e4-ac484e57306d&page=queryresults\">Open Job</a>"
            ]
          },
          "metadata": {}
        },
        {
          "output_type": "execute_result",
          "data": {
            "text/plain": [
              "Empty DataFrame\n",
              "Columns: [id, vin, heading, more_info, price, msrp, miles, stock_no, neo_listing_confidence, neo_year, neo_make, neo_model, neo_trim, neo_trim_confidence, neo_version, neo_version_confidence, neo_vehicle_type, neo_body_type, neo_body_subtype, neo_drivetrain, neo_powertrain_type, neo_fuel_type, neo_engine, neo_engine_block, neo_engine_size, neo_transmission, neo_doors, neo_cylinders, neo_city_mpg, neo_highway_mpg, neo_weight, neo_width, neo_height, neo_length, neo_manufacturer_code, neo_package_code, neo_package_description, neo_base_msrp, neo_installed_options_msrp, neo_delivery_charges, neo_combined_msrp, interior_color, base_interior_color, neo_mfg_interior_color, exterior_color, base_exterior_color, neo_mfg_exterior_color, is_certified, is_transfer, taxonomy_vin, model_code, scraped_at, status_date, first_scraped_at, source, seller_name, street, city, state, zip, latitude, longitude, country, neo_country, seller_phone, seller_email, seller_type, listing_type, inventory_type, dealer_type, car_seller_name, car_address, car_street, car_city, car_state, car_zip, car_latitude, car_longitude, seller_comments, options, features, neo_options_packages, neo_installed_options_details, neo_high_value_features, photo_links, photo_url, dom, dom_180, dom_active, currency_indicator, miles_indicator, carfax_1_owner, carfax_clean_title, loan_term, loan_apr, l_down_pay, l_emi, f_down_pay, f_down_pay_per, f_emi, ...]\n",
              "Index: []\n",
              "\n",
              "[0 rows x 116 columns]"
            ],
            "text/html": [
              "<div>\n",
              "<style scoped>\n",
              "    .dataframe tbody tr th:only-of-type {\n",
              "        vertical-align: middle;\n",
              "    }\n",
              "\n",
              "    .dataframe tbody tr th {\n",
              "        vertical-align: top;\n",
              "    }\n",
              "\n",
              "    .dataframe thead th {\n",
              "        text-align: right;\n",
              "    }\n",
              "</style>\n",
              "<table border=\"1\" class=\"dataframe\">\n",
              "  <thead>\n",
              "    <tr style=\"text-align: right;\">\n",
              "      <th></th>\n",
              "      <th>id</th>\n",
              "      <th>vin</th>\n",
              "      <th>heading</th>\n",
              "      <th>more_info</th>\n",
              "      <th>price</th>\n",
              "      <th>msrp</th>\n",
              "      <th>miles</th>\n",
              "      <th>stock_no</th>\n",
              "      <th>neo_listing_confidence</th>\n",
              "      <th>neo_year</th>\n",
              "      <th>...</th>\n",
              "      <th>mc_dealership_group_id</th>\n",
              "      <th>mc_sub_dealership_group_id</th>\n",
              "      <th>mc_dealership_group_name</th>\n",
              "      <th>mc_sub_dealership_group_name</th>\n",
              "      <th>mc_dealer_id</th>\n",
              "      <th>mc_location_id</th>\n",
              "      <th>mc_website_id</th>\n",
              "      <th>mc_rooftop_id</th>\n",
              "      <th>mc_car_location_id</th>\n",
              "      <th>is_searchable</th>\n",
              "    </tr>\n",
              "  </thead>\n",
              "  <tbody>\n",
              "  </tbody>\n",
              "</table>\n",
              "<p>0 rows × 116 columns</p>\n",
              "</div>[0 rows x 116 columns in total]"
            ]
          },
          "metadata": {},
          "execution_count": 16
        }
      ]
    },
    {
      "cell_type": "code",
      "source": [
        "import pandas as pd\n"
      ],
      "metadata": {
        "id": "qWb8OhbTZWn-",
        "executionInfo": {
          "status": "ok",
          "timestamp": 1729017993014,
          "user_tz": 240,
          "elapsed": 5,
          "user": {
            "displayName": "",
            "userId": ""
          }
        }
      },
      "execution_count": 17,
      "outputs": []
    },
    {
      "cell_type": "code",
      "source": [],
      "metadata": {
        "id": "D6svspPXzVIA"
      },
      "execution_count": null,
      "outputs": []
    },
    {
      "cell_type": "code",
      "source": [
        "df.head(2)"
      ],
      "metadata": {
        "id": "lwBNE-Nvz6Eq"
      },
      "execution_count": null,
      "outputs": []
    },
    {
      "cell_type": "code",
      "source": [
        "for col_ in"
      ],
      "metadata": {
        "id": "XuNcdrY-0Fo7"
      },
      "execution_count": null,
      "outputs": []
    },
    {
      "cell_type": "code",
      "source": [
        "for col_ in df.columns"
      ],
      "metadata": {
        "id": "7MlA5fIX0Gqe"
      },
      "execution_count": null,
      "outputs": []
    },
    {
      "cell_type": "code",
      "source": [],
      "metadata": {
        "id": "45GGs_Xsz6Jj"
      },
      "execution_count": null,
      "outputs": []
    },
    {
      "cell_type": "code",
      "source": [
        "from sklearn.model_selection import train_test_split"
      ],
      "metadata": {
        "id": "H50AiwonsyG5"
      },
      "execution_count": null,
      "outputs": []
    },
    {
      "cell_type": "code",
      "source": [
        "X_train, X_test, y_train, y_test = train_test_split(df.drop(columns='price', axis=1), df.price,\n",
        "                                                    test_size=0.02, random_state=42, stratify=df.price)\n"
      ],
      "metadata": {
        "colab": {
          "base_uri": "https://localhost:8080/",
          "height": 630
        },
        "id": "YspoWai2tChe",
        "executionInfo": {
          "status": "error",
          "timestamp": 1728874594981,
          "user_tz": 240,
          "elapsed": 2398,
          "user": {
            "displayName": "",
            "userId": ""
          }
        },
        "outputId": "24c5a700-7bc1-451c-d984-aea87e49dce2"
      },
      "execution_count": null,
      "outputs": [
        {
          "output_type": "display_data",
          "data": {
            "text/plain": [
              "<IPython.core.display.HTML object>"
            ],
            "text/html": [
              "Query job 3f11afd3-8d58-486c-8059-48ed6fb309d0 is DONE. 62.2 MB processed. <a target=\"_blank\" href=\"https://console.cloud.google.com/bigquery?project=marketcheck-demo&j=bq:US:3f11afd3-8d58-486c-8059-48ed6fb309d0&page=queryresults\">Open Job</a>"
            ]
          },
          "metadata": {}
        },
        {
          "output_type": "display_data",
          "data": {
            "text/plain": [
              "<IPython.core.display.HTML object>"
            ],
            "text/html": [
              "Query job 382ff571-d646-4ae8-8646-95a3c50aa88b is DONE. 62.2 MB processed. <a target=\"_blank\" href=\"https://console.cloud.google.com/bigquery?project=marketcheck-demo&j=bq:US:382ff571-d646-4ae8-8646-95a3c50aa88b&page=queryresults\">Open Job</a>"
            ]
          },
          "metadata": {}
        },
        {
          "output_type": "error",
          "ename": "ValueError",
          "evalue": "\nUnexpected data type None. The following\n        str dtypes are supppted: 'boolean','Float64','Int64',\n        'int64[pyarrow]','string','string[pyarrow]',\n        'timestamp[us, tz=UTC][pyarrow]','timestamp[us][pyarrow]',\n        'date32[day][pyarrow]','time64[us][pyarrow]'.\n        The following pandas.ExtensionDtype are supported:\n        pandas.BooleanDtype(), pandas.Float64Dtype(),\n        pandas.Int64Dtype(), pandas.StringDtype(storage=\"pyarrow\"),\n        pd.ArrowDtype(pa.date32()), pd.ArrowDtype(pa.time64(\"us\")),\n        pd.ArrowDtype(pa.timestamp(\"us\")),\n        pd.ArrowDtype(pa.timestamp(\"us\", tz=\"UTC\")).\nShare your usecase with the BigQuery DataFrames team at the https://bit.ly/bigframes-feedback survey.You are currently running BigFrames version 1.19.0\n",
          "traceback": [
            "\u001b[0;31m---------------------------------------------------------------------------\u001b[0m",
            "\u001b[0;31mValueError\u001b[0m                                Traceback (most recent call last)",
            "\u001b[0;32m<ipython-input-69-b17f0c72a19b>\u001b[0m in \u001b[0;36m<cell line: 1>\u001b[0;34m()\u001b[0m\n\u001b[0;32m----> 1\u001b[0;31m X_train, X_test, y_train, y_test = train_test_split(df.drop(columns='price', axis=1), df.price,\n\u001b[0m\u001b[1;32m      2\u001b[0m                                                     test_size=0.02, random_state=42, stratify=df.price)\n",
            "\u001b[0;32m/usr/local/lib/python3.10/dist-packages/sklearn/utils/_param_validation.py\u001b[0m in \u001b[0;36mwrapper\u001b[0;34m(*args, **kwargs)\u001b[0m\n\u001b[1;32m    211\u001b[0m                     )\n\u001b[1;32m    212\u001b[0m                 ):\n\u001b[0;32m--> 213\u001b[0;31m                     \u001b[0;32mreturn\u001b[0m \u001b[0mfunc\u001b[0m\u001b[0;34m(\u001b[0m\u001b[0;34m*\u001b[0m\u001b[0margs\u001b[0m\u001b[0;34m,\u001b[0m \u001b[0;34m**\u001b[0m\u001b[0mkwargs\u001b[0m\u001b[0;34m)\u001b[0m\u001b[0;34m\u001b[0m\u001b[0;34m\u001b[0m\u001b[0m\n\u001b[0m\u001b[1;32m    214\u001b[0m             \u001b[0;32mexcept\u001b[0m \u001b[0mInvalidParameterError\u001b[0m \u001b[0;32mas\u001b[0m \u001b[0me\u001b[0m\u001b[0;34m:\u001b[0m\u001b[0;34m\u001b[0m\u001b[0;34m\u001b[0m\u001b[0m\n\u001b[1;32m    215\u001b[0m                 \u001b[0;31m# When the function is just a wrapper around an estimator, we allow\u001b[0m\u001b[0;34m\u001b[0m\u001b[0;34m\u001b[0m\u001b[0m\n",
            "\u001b[0;32m/usr/local/lib/python3.10/dist-packages/sklearn/model_selection/_split.py\u001b[0m in \u001b[0;36mtrain_test_split\u001b[0;34m(test_size, train_size, random_state, shuffle, stratify, *arrays)\u001b[0m\n\u001b[1;32m   2804\u001b[0m         \u001b[0mcv\u001b[0m \u001b[0;34m=\u001b[0m \u001b[0mCVClass\u001b[0m\u001b[0;34m(\u001b[0m\u001b[0mtest_size\u001b[0m\u001b[0;34m=\u001b[0m\u001b[0mn_test\u001b[0m\u001b[0;34m,\u001b[0m \u001b[0mtrain_size\u001b[0m\u001b[0;34m=\u001b[0m\u001b[0mn_train\u001b[0m\u001b[0;34m,\u001b[0m \u001b[0mrandom_state\u001b[0m\u001b[0;34m=\u001b[0m\u001b[0mrandom_state\u001b[0m\u001b[0;34m)\u001b[0m\u001b[0;34m\u001b[0m\u001b[0;34m\u001b[0m\u001b[0m\n\u001b[1;32m   2805\u001b[0m \u001b[0;34m\u001b[0m\u001b[0m\n\u001b[0;32m-> 2806\u001b[0;31m         \u001b[0mtrain\u001b[0m\u001b[0;34m,\u001b[0m \u001b[0mtest\u001b[0m \u001b[0;34m=\u001b[0m \u001b[0mnext\u001b[0m\u001b[0;34m(\u001b[0m\u001b[0mcv\u001b[0m\u001b[0;34m.\u001b[0m\u001b[0msplit\u001b[0m\u001b[0;34m(\u001b[0m\u001b[0mX\u001b[0m\u001b[0;34m=\u001b[0m\u001b[0marrays\u001b[0m\u001b[0;34m[\u001b[0m\u001b[0;36m0\u001b[0m\u001b[0;34m]\u001b[0m\u001b[0;34m,\u001b[0m \u001b[0my\u001b[0m\u001b[0;34m=\u001b[0m\u001b[0mstratify\u001b[0m\u001b[0;34m)\u001b[0m\u001b[0;34m)\u001b[0m\u001b[0;34m\u001b[0m\u001b[0;34m\u001b[0m\u001b[0m\n\u001b[0m\u001b[1;32m   2807\u001b[0m \u001b[0;34m\u001b[0m\u001b[0m\n\u001b[1;32m   2808\u001b[0m     \u001b[0mtrain\u001b[0m\u001b[0;34m,\u001b[0m \u001b[0mtest\u001b[0m \u001b[0;34m=\u001b[0m \u001b[0mensure_common_namespace_device\u001b[0m\u001b[0;34m(\u001b[0m\u001b[0marrays\u001b[0m\u001b[0;34m[\u001b[0m\u001b[0;36m0\u001b[0m\u001b[0;34m]\u001b[0m\u001b[0;34m,\u001b[0m \u001b[0mtrain\u001b[0m\u001b[0;34m,\u001b[0m \u001b[0mtest\u001b[0m\u001b[0;34m)\u001b[0m\u001b[0;34m\u001b[0m\u001b[0;34m\u001b[0m\u001b[0m\n",
            "\u001b[0;32m/usr/local/lib/python3.10/dist-packages/sklearn/model_selection/_split.py\u001b[0m in \u001b[0;36msplit\u001b[0;34m(self, X, y, groups)\u001b[0m\n\u001b[1;32m   2337\u001b[0m                 \u001b[0mUserWarning\u001b[0m\u001b[0;34m,\u001b[0m\u001b[0;34m\u001b[0m\u001b[0;34m\u001b[0m\u001b[0m\n\u001b[1;32m   2338\u001b[0m             )\n\u001b[0;32m-> 2339\u001b[0;31m         \u001b[0my\u001b[0m \u001b[0;34m=\u001b[0m \u001b[0mcheck_array\u001b[0m\u001b[0;34m(\u001b[0m\u001b[0my\u001b[0m\u001b[0;34m,\u001b[0m \u001b[0minput_name\u001b[0m\u001b[0;34m=\u001b[0m\u001b[0;34m\"y\"\u001b[0m\u001b[0;34m,\u001b[0m \u001b[0mensure_2d\u001b[0m\u001b[0;34m=\u001b[0m\u001b[0;32mFalse\u001b[0m\u001b[0;34m,\u001b[0m \u001b[0mdtype\u001b[0m\u001b[0;34m=\u001b[0m\u001b[0;32mNone\u001b[0m\u001b[0;34m)\u001b[0m\u001b[0;34m\u001b[0m\u001b[0;34m\u001b[0m\u001b[0m\n\u001b[0m\u001b[1;32m   2340\u001b[0m         \u001b[0;32mreturn\u001b[0m \u001b[0msuper\u001b[0m\u001b[0;34m(\u001b[0m\u001b[0;34m)\u001b[0m\u001b[0;34m.\u001b[0m\u001b[0msplit\u001b[0m\u001b[0;34m(\u001b[0m\u001b[0mX\u001b[0m\u001b[0;34m,\u001b[0m \u001b[0my\u001b[0m\u001b[0;34m,\u001b[0m \u001b[0mgroups\u001b[0m\u001b[0;34m)\u001b[0m\u001b[0;34m\u001b[0m\u001b[0;34m\u001b[0m\u001b[0m\n\u001b[1;32m   2341\u001b[0m \u001b[0;34m\u001b[0m\u001b[0m\n",
            "\u001b[0;32m/usr/local/lib/python3.10/dist-packages/sklearn/utils/validation.py\u001b[0m in \u001b[0;36mcheck_array\u001b[0;34m(array, accept_sparse, accept_large_sparse, dtype, order, copy, force_writeable, force_all_finite, ensure_2d, allow_nd, ensure_min_samples, ensure_min_features, estimator, input_name)\u001b[0m\n\u001b[1;32m   1010\u001b[0m                     \u001b[0marray\u001b[0m \u001b[0;34m=\u001b[0m \u001b[0mxp\u001b[0m\u001b[0;34m.\u001b[0m\u001b[0mastype\u001b[0m\u001b[0;34m(\u001b[0m\u001b[0marray\u001b[0m\u001b[0;34m,\u001b[0m \u001b[0mdtype\u001b[0m\u001b[0;34m,\u001b[0m \u001b[0mcopy\u001b[0m\u001b[0;34m=\u001b[0m\u001b[0;32mFalse\u001b[0m\u001b[0;34m)\u001b[0m\u001b[0;34m\u001b[0m\u001b[0;34m\u001b[0m\u001b[0m\n\u001b[1;32m   1011\u001b[0m                 \u001b[0;32melse\u001b[0m\u001b[0;34m:\u001b[0m\u001b[0;34m\u001b[0m\u001b[0;34m\u001b[0m\u001b[0m\n\u001b[0;32m-> 1012\u001b[0;31m                     \u001b[0marray\u001b[0m \u001b[0;34m=\u001b[0m \u001b[0m_asarray_with_order\u001b[0m\u001b[0;34m(\u001b[0m\u001b[0marray\u001b[0m\u001b[0;34m,\u001b[0m \u001b[0morder\u001b[0m\u001b[0;34m=\u001b[0m\u001b[0morder\u001b[0m\u001b[0;34m,\u001b[0m \u001b[0mdtype\u001b[0m\u001b[0;34m=\u001b[0m\u001b[0mdtype\u001b[0m\u001b[0;34m,\u001b[0m \u001b[0mxp\u001b[0m\u001b[0;34m=\u001b[0m\u001b[0mxp\u001b[0m\u001b[0;34m)\u001b[0m\u001b[0;34m\u001b[0m\u001b[0;34m\u001b[0m\u001b[0m\n\u001b[0m\u001b[1;32m   1013\u001b[0m             \u001b[0;32mexcept\u001b[0m \u001b[0mComplexWarning\u001b[0m \u001b[0;32mas\u001b[0m \u001b[0mcomplex_warning\u001b[0m\u001b[0;34m:\u001b[0m\u001b[0;34m\u001b[0m\u001b[0;34m\u001b[0m\u001b[0m\n\u001b[1;32m   1014\u001b[0m                 raise ValueError(\n",
            "\u001b[0;32m/usr/local/lib/python3.10/dist-packages/sklearn/utils/_array_api.py\u001b[0m in \u001b[0;36m_asarray_with_order\u001b[0;34m(array, dtype, order, copy, xp, device)\u001b[0m\n\u001b[1;32m    743\u001b[0m             \u001b[0marray\u001b[0m \u001b[0;34m=\u001b[0m \u001b[0mnumpy\u001b[0m\u001b[0;34m.\u001b[0m\u001b[0marray\u001b[0m\u001b[0;34m(\u001b[0m\u001b[0marray\u001b[0m\u001b[0;34m,\u001b[0m \u001b[0morder\u001b[0m\u001b[0;34m=\u001b[0m\u001b[0morder\u001b[0m\u001b[0;34m,\u001b[0m \u001b[0mdtype\u001b[0m\u001b[0;34m=\u001b[0m\u001b[0mdtype\u001b[0m\u001b[0;34m)\u001b[0m\u001b[0;34m\u001b[0m\u001b[0;34m\u001b[0m\u001b[0m\n\u001b[1;32m    744\u001b[0m         \u001b[0;32melse\u001b[0m\u001b[0;34m:\u001b[0m\u001b[0;34m\u001b[0m\u001b[0;34m\u001b[0m\u001b[0m\n\u001b[0;32m--> 745\u001b[0;31m             \u001b[0marray\u001b[0m \u001b[0;34m=\u001b[0m \u001b[0mnumpy\u001b[0m\u001b[0;34m.\u001b[0m\u001b[0masarray\u001b[0m\u001b[0;34m(\u001b[0m\u001b[0marray\u001b[0m\u001b[0;34m,\u001b[0m \u001b[0morder\u001b[0m\u001b[0;34m=\u001b[0m\u001b[0morder\u001b[0m\u001b[0;34m,\u001b[0m \u001b[0mdtype\u001b[0m\u001b[0;34m=\u001b[0m\u001b[0mdtype\u001b[0m\u001b[0;34m)\u001b[0m\u001b[0;34m\u001b[0m\u001b[0;34m\u001b[0m\u001b[0m\n\u001b[0m\u001b[1;32m    746\u001b[0m \u001b[0;34m\u001b[0m\u001b[0m\n\u001b[1;32m    747\u001b[0m         \u001b[0;31m# At this point array is a NumPy ndarray. We convert it to an array\u001b[0m\u001b[0;34m\u001b[0m\u001b[0;34m\u001b[0m\u001b[0m\n",
            "\u001b[0;32m/usr/local/lib/python3.10/dist-packages/bigframes/core/log_adapter.py\u001b[0m in \u001b[0;36mwrapper\u001b[0;34m(*args, **kwargs)\u001b[0m\n\u001b[1;32m     54\u001b[0m \u001b[0;34m\u001b[0m\u001b[0m\n\u001b[1;32m     55\u001b[0m         \u001b[0;32mtry\u001b[0m\u001b[0;34m:\u001b[0m\u001b[0;34m\u001b[0m\u001b[0;34m\u001b[0m\u001b[0m\n\u001b[0;32m---> 56\u001b[0;31m             \u001b[0;32mreturn\u001b[0m \u001b[0mmethod\u001b[0m\u001b[0;34m(\u001b[0m\u001b[0;34m*\u001b[0m\u001b[0margs\u001b[0m\u001b[0;34m,\u001b[0m \u001b[0;34m**\u001b[0m\u001b[0mkwargs\u001b[0m\u001b[0;34m)\u001b[0m\u001b[0;34m\u001b[0m\u001b[0;34m\u001b[0m\u001b[0m\n\u001b[0m\u001b[1;32m     57\u001b[0m         \u001b[0;32mfinally\u001b[0m\u001b[0;34m:\u001b[0m\u001b[0;34m\u001b[0m\u001b[0;34m\u001b[0m\u001b[0m\n\u001b[1;32m     58\u001b[0m             \u001b[0m_call_stack\u001b[0m\u001b[0;34m.\u001b[0m\u001b[0mpop\u001b[0m\u001b[0;34m(\u001b[0m\u001b[0;34m)\u001b[0m\u001b[0;34m\u001b[0m\u001b[0;34m\u001b[0m\u001b[0m\n",
            "\u001b[0;32m/usr/local/lib/python3.10/dist-packages/bigframes/series.py\u001b[0m in \u001b[0;36m__array__\u001b[0;34m(self, dtype)\u001b[0m\n\u001b[1;32m   1696\u001b[0m \u001b[0;34m\u001b[0m\u001b[0m\n\u001b[1;32m   1697\u001b[0m     \u001b[0;32mdef\u001b[0m \u001b[0m__array__\u001b[0m\u001b[0;34m(\u001b[0m\u001b[0mself\u001b[0m\u001b[0;34m,\u001b[0m \u001b[0mdtype\u001b[0m\u001b[0;34m=\u001b[0m\u001b[0;32mNone\u001b[0m\u001b[0;34m)\u001b[0m \u001b[0;34m->\u001b[0m \u001b[0mnumpy\u001b[0m\u001b[0;34m.\u001b[0m\u001b[0mndarray\u001b[0m\u001b[0;34m:\u001b[0m\u001b[0;34m\u001b[0m\u001b[0;34m\u001b[0m\u001b[0m\n\u001b[0;32m-> 1698\u001b[0;31m         \u001b[0;32mreturn\u001b[0m \u001b[0mself\u001b[0m\u001b[0;34m.\u001b[0m\u001b[0mto_numpy\u001b[0m\u001b[0;34m(\u001b[0m\u001b[0mdtype\u001b[0m\u001b[0;34m=\u001b[0m\u001b[0mdtype\u001b[0m\u001b[0;34m)\u001b[0m\u001b[0;34m\u001b[0m\u001b[0;34m\u001b[0m\u001b[0m\n\u001b[0m\u001b[1;32m   1699\u001b[0m \u001b[0;34m\u001b[0m\u001b[0m\n\u001b[1;32m   1700\u001b[0m     \u001b[0m__array__\u001b[0m\u001b[0;34m.\u001b[0m\u001b[0m__doc__\u001b[0m \u001b[0;34m=\u001b[0m \u001b[0minspect\u001b[0m\u001b[0;34m.\u001b[0m\u001b[0mgetdoc\u001b[0m\u001b[0;34m(\u001b[0m\u001b[0mvendored_pandas_series\u001b[0m\u001b[0;34m.\u001b[0m\u001b[0mSeries\u001b[0m\u001b[0;34m.\u001b[0m\u001b[0m__array__\u001b[0m\u001b[0;34m)\u001b[0m\u001b[0;34m\u001b[0m\u001b[0;34m\u001b[0m\u001b[0m\n",
            "\u001b[0;32m/usr/local/lib/python3.10/dist-packages/bigframes/core/log_adapter.py\u001b[0m in \u001b[0;36mwrapper\u001b[0;34m(*args, **kwargs)\u001b[0m\n\u001b[1;32m     54\u001b[0m \u001b[0;34m\u001b[0m\u001b[0m\n\u001b[1;32m     55\u001b[0m         \u001b[0;32mtry\u001b[0m\u001b[0;34m:\u001b[0m\u001b[0;34m\u001b[0m\u001b[0;34m\u001b[0m\u001b[0m\n\u001b[0;32m---> 56\u001b[0;31m             \u001b[0;32mreturn\u001b[0m \u001b[0mmethod\u001b[0m\u001b[0;34m(\u001b[0m\u001b[0;34m*\u001b[0m\u001b[0margs\u001b[0m\u001b[0;34m,\u001b[0m \u001b[0;34m**\u001b[0m\u001b[0mkwargs\u001b[0m\u001b[0;34m)\u001b[0m\u001b[0;34m\u001b[0m\u001b[0;34m\u001b[0m\u001b[0m\n\u001b[0m\u001b[1;32m     57\u001b[0m         \u001b[0;32mfinally\u001b[0m\u001b[0;34m:\u001b[0m\u001b[0;34m\u001b[0m\u001b[0;34m\u001b[0m\u001b[0m\n\u001b[1;32m     58\u001b[0m             \u001b[0m_call_stack\u001b[0m\u001b[0;34m.\u001b[0m\u001b[0mpop\u001b[0m\u001b[0;34m(\u001b[0m\u001b[0;34m)\u001b[0m\u001b[0;34m\u001b[0m\u001b[0;34m\u001b[0m\u001b[0m\n",
            "\u001b[0;32m/usr/local/lib/python3.10/dist-packages/bigframes/series.py\u001b[0m in \u001b[0;36mto_numpy\u001b[0;34m(self, dtype, copy, na_value, **kwargs)\u001b[0m\n\u001b[1;32m   1693\u001b[0m         \u001b[0mself\u001b[0m\u001b[0;34m,\u001b[0m \u001b[0mdtype\u001b[0m\u001b[0;34m=\u001b[0m\u001b[0;32mNone\u001b[0m\u001b[0;34m,\u001b[0m \u001b[0mcopy\u001b[0m\u001b[0;34m=\u001b[0m\u001b[0;32mFalse\u001b[0m\u001b[0;34m,\u001b[0m \u001b[0mna_value\u001b[0m\u001b[0;34m=\u001b[0m\u001b[0;32mNone\u001b[0m\u001b[0;34m,\u001b[0m \u001b[0;34m**\u001b[0m\u001b[0mkwargs\u001b[0m\u001b[0;34m\u001b[0m\u001b[0;34m\u001b[0m\u001b[0m\n\u001b[1;32m   1694\u001b[0m     ) -> numpy.ndarray:\n\u001b[0;32m-> 1695\u001b[0;31m         \u001b[0;32mreturn\u001b[0m \u001b[0mself\u001b[0m\u001b[0;34m.\u001b[0m\u001b[0mto_pandas\u001b[0m\u001b[0;34m(\u001b[0m\u001b[0;34m)\u001b[0m\u001b[0;34m.\u001b[0m\u001b[0mto_numpy\u001b[0m\u001b[0;34m(\u001b[0m\u001b[0mdtype\u001b[0m\u001b[0;34m,\u001b[0m \u001b[0mcopy\u001b[0m\u001b[0;34m,\u001b[0m \u001b[0mna_value\u001b[0m\u001b[0;34m,\u001b[0m \u001b[0;34m**\u001b[0m\u001b[0mkwargs\u001b[0m\u001b[0;34m)\u001b[0m\u001b[0;34m\u001b[0m\u001b[0;34m\u001b[0m\u001b[0m\n\u001b[0m\u001b[1;32m   1696\u001b[0m \u001b[0;34m\u001b[0m\u001b[0m\n\u001b[1;32m   1697\u001b[0m     \u001b[0;32mdef\u001b[0m \u001b[0m__array__\u001b[0m\u001b[0;34m(\u001b[0m\u001b[0mself\u001b[0m\u001b[0;34m,\u001b[0m \u001b[0mdtype\u001b[0m\u001b[0;34m=\u001b[0m\u001b[0;32mNone\u001b[0m\u001b[0;34m)\u001b[0m \u001b[0;34m->\u001b[0m \u001b[0mnumpy\u001b[0m\u001b[0;34m.\u001b[0m\u001b[0mndarray\u001b[0m\u001b[0;34m:\u001b[0m\u001b[0;34m\u001b[0m\u001b[0;34m\u001b[0m\u001b[0m\n",
            "\u001b[0;32m/usr/local/lib/python3.10/dist-packages/bigframes/core/log_adapter.py\u001b[0m in \u001b[0;36mwrapper\u001b[0;34m(*args, **kwargs)\u001b[0m\n\u001b[1;32m     54\u001b[0m \u001b[0;34m\u001b[0m\u001b[0m\n\u001b[1;32m     55\u001b[0m         \u001b[0;32mtry\u001b[0m\u001b[0;34m:\u001b[0m\u001b[0;34m\u001b[0m\u001b[0;34m\u001b[0m\u001b[0m\n\u001b[0;32m---> 56\u001b[0;31m             \u001b[0;32mreturn\u001b[0m \u001b[0mmethod\u001b[0m\u001b[0;34m(\u001b[0m\u001b[0;34m*\u001b[0m\u001b[0margs\u001b[0m\u001b[0;34m,\u001b[0m \u001b[0;34m**\u001b[0m\u001b[0mkwargs\u001b[0m\u001b[0;34m)\u001b[0m\u001b[0;34m\u001b[0m\u001b[0;34m\u001b[0m\u001b[0m\n\u001b[0m\u001b[1;32m     57\u001b[0m         \u001b[0;32mfinally\u001b[0m\u001b[0;34m:\u001b[0m\u001b[0;34m\u001b[0m\u001b[0;34m\u001b[0m\u001b[0m\n\u001b[1;32m     58\u001b[0m             \u001b[0m_call_stack\u001b[0m\u001b[0;34m.\u001b[0m\u001b[0mpop\u001b[0m\u001b[0;34m(\u001b[0m\u001b[0;34m)\u001b[0m\u001b[0;34m\u001b[0m\u001b[0;34m\u001b[0m\u001b[0m\n",
            "\u001b[0;32m/usr/local/lib/python3.10/dist-packages/bigframes/series.py\u001b[0m in \u001b[0;36mto_pandas\u001b[0;34m(self, max_download_size, sampling_method, random_state, ordered)\u001b[0m\n\u001b[1;32m    364\u001b[0m                 \u001b[0;32mis\u001b[0m \u001b[0;32mnot\u001b[0m \u001b[0mexceeded\u001b[0m\u001b[0;34m;\u001b[0m \u001b[0motherwise\u001b[0m\u001b[0;34m,\u001b[0m \u001b[0ma\u001b[0m \u001b[0mpandas\u001b[0m \u001b[0mSeries\u001b[0m \u001b[0;32mwith\u001b[0m \u001b[0mdownsampled\u001b[0m \u001b[0mrows\u001b[0m \u001b[0mof\u001b[0m \u001b[0mthe\u001b[0m \u001b[0mDataFrame\u001b[0m\u001b[0;34m.\u001b[0m\u001b[0;34m\u001b[0m\u001b[0;34m\u001b[0m\u001b[0m\n\u001b[1;32m    365\u001b[0m         \"\"\"\n\u001b[0;32m--> 366\u001b[0;31m         df, query_job = self._block.to_pandas(\n\u001b[0m\u001b[1;32m    367\u001b[0m             \u001b[0mmax_download_size\u001b[0m\u001b[0;34m=\u001b[0m\u001b[0mmax_download_size\u001b[0m\u001b[0;34m,\u001b[0m\u001b[0;34m\u001b[0m\u001b[0;34m\u001b[0m\u001b[0m\n\u001b[1;32m    368\u001b[0m             \u001b[0msampling_method\u001b[0m\u001b[0;34m=\u001b[0m\u001b[0msampling_method\u001b[0m\u001b[0;34m,\u001b[0m\u001b[0;34m\u001b[0m\u001b[0;34m\u001b[0m\u001b[0m\n",
            "\u001b[0;32m/usr/local/lib/python3.10/dist-packages/bigframes/core/blocks.py\u001b[0m in \u001b[0;36mto_pandas\u001b[0;34m(self, max_download_size, sampling_method, random_state, ordered)\u001b[0m\n\u001b[1;32m    549\u001b[0m             \u001b[0msampling\u001b[0m \u001b[0;34m=\u001b[0m \u001b[0msampling\u001b[0m\u001b[0;34m.\u001b[0m\u001b[0mwith_disabled\u001b[0m\u001b[0;34m(\u001b[0m\u001b[0;34m)\u001b[0m\u001b[0;34m\u001b[0m\u001b[0;34m\u001b[0m\u001b[0m\n\u001b[1;32m    550\u001b[0m \u001b[0;34m\u001b[0m\u001b[0m\n\u001b[0;32m--> 551\u001b[0;31m         df, query_job = self._materialize_local(\n\u001b[0m\u001b[1;32m    552\u001b[0m             materialize_options=MaterializationOptions(\n\u001b[1;32m    553\u001b[0m                 \u001b[0mdownsampling\u001b[0m\u001b[0;34m=\u001b[0m\u001b[0msampling\u001b[0m\u001b[0;34m,\u001b[0m \u001b[0mordered\u001b[0m\u001b[0;34m=\u001b[0m\u001b[0mordered\u001b[0m\u001b[0;34m\u001b[0m\u001b[0;34m\u001b[0m\u001b[0m\n",
            "\u001b[0;32m/usr/local/lib/python3.10/dist-packages/bigframes/core/blocks.py\u001b[0m in \u001b[0;36m_materialize_local\u001b[0;34m(self, materialize_options)\u001b[0m\n\u001b[1;32m    609\u001b[0m         \u001b[0;34m\"\"\"Run query and download results as a pandas DataFrame. Return the total number of results as well.\"\"\"\u001b[0m\u001b[0;34m\u001b[0m\u001b[0;34m\u001b[0m\u001b[0m\n\u001b[1;32m    610\u001b[0m         \u001b[0;31m# TODO(swast): Allow for dry run and timeout.\u001b[0m\u001b[0;34m\u001b[0m\u001b[0;34m\u001b[0m\u001b[0m\n\u001b[0;32m--> 611\u001b[0;31m         _, query_job = self.session._execute(\n\u001b[0m\u001b[1;32m    612\u001b[0m             \u001b[0mself\u001b[0m\u001b[0;34m.\u001b[0m\u001b[0mexpr\u001b[0m\u001b[0;34m,\u001b[0m \u001b[0mordered\u001b[0m\u001b[0;34m=\u001b[0m\u001b[0mmaterialize_options\u001b[0m\u001b[0;34m.\u001b[0m\u001b[0mordered\u001b[0m\u001b[0;34m\u001b[0m\u001b[0;34m\u001b[0m\u001b[0m\n\u001b[1;32m    613\u001b[0m         )\n",
            "\u001b[0;32m/usr/local/lib/python3.10/dist-packages/bigframes/session/__init__.py\u001b[0m in \u001b[0;36m_execute\u001b[0;34m(self, array_value, ordered, col_id_overrides, use_explicit_destination)\u001b[0m\n\u001b[1;32m   1381\u001b[0m         \u001b[0muse_explicit_destination\u001b[0m\u001b[0;34m:\u001b[0m \u001b[0mbool\u001b[0m \u001b[0;34m=\u001b[0m \u001b[0;32mFalse\u001b[0m\u001b[0;34m,\u001b[0m\u001b[0;34m\u001b[0m\u001b[0;34m\u001b[0m\u001b[0m\n\u001b[1;32m   1382\u001b[0m     ) -> tuple[bigquery.table.RowIterator, bigquery.QueryJob]:\n\u001b[0;32m-> 1383\u001b[0;31m         return self._executor.execute(\n\u001b[0m\u001b[1;32m   1384\u001b[0m             \u001b[0marray_value\u001b[0m\u001b[0;34m,\u001b[0m\u001b[0;34m\u001b[0m\u001b[0;34m\u001b[0m\u001b[0m\n\u001b[1;32m   1385\u001b[0m             \u001b[0mordered\u001b[0m\u001b[0;34m=\u001b[0m\u001b[0mordered\u001b[0m\u001b[0;34m,\u001b[0m\u001b[0;34m\u001b[0m\u001b[0;34m\u001b[0m\u001b[0m\n",
            "\u001b[0;32m/usr/local/lib/python3.10/dist-packages/bigframes/session/executor.py\u001b[0m in \u001b[0;36mexecute\u001b[0;34m(self, array_value, ordered, col_id_overrides, use_explicit_destination)\u001b[0m\n\u001b[1;32m    113\u001b[0m             \u001b[0mself\u001b[0m\u001b[0;34m.\u001b[0m\u001b[0m_simplify_with_caching\u001b[0m\u001b[0;34m(\u001b[0m\u001b[0marray_value\u001b[0m\u001b[0;34m)\u001b[0m\u001b[0;34m\u001b[0m\u001b[0;34m\u001b[0m\u001b[0m\n\u001b[1;32m    114\u001b[0m \u001b[0;34m\u001b[0m\u001b[0m\n\u001b[0;32m--> 115\u001b[0;31m         sql = self.to_sql(\n\u001b[0m\u001b[1;32m    116\u001b[0m             \u001b[0marray_value\u001b[0m\u001b[0;34m,\u001b[0m \u001b[0mordered\u001b[0m\u001b[0;34m=\u001b[0m\u001b[0mordered\u001b[0m\u001b[0;34m,\u001b[0m \u001b[0mcol_id_overrides\u001b[0m\u001b[0;34m=\u001b[0m\u001b[0mcol_id_overrides\u001b[0m\u001b[0;34m\u001b[0m\u001b[0;34m\u001b[0m\u001b[0m\n\u001b[1;32m    117\u001b[0m         )\n",
            "\u001b[0;32m/usr/local/lib/python3.10/dist-packages/bigframes/session/executor.py\u001b[0m in \u001b[0;36mto_sql\u001b[0;34m(self, array_value, offset_column, col_id_overrides, ordered, enable_cache)\u001b[0m\n\u001b[1;32m     94\u001b[0m         )\n\u001b[1;32m     95\u001b[0m         \u001b[0;32mif\u001b[0m \u001b[0mordered\u001b[0m\u001b[0;34m:\u001b[0m\u001b[0;34m\u001b[0m\u001b[0;34m\u001b[0m\u001b[0m\n\u001b[0;32m---> 96\u001b[0;31m             return self.compiler.compile_ordered(\n\u001b[0m\u001b[1;32m     97\u001b[0m                 \u001b[0mnode\u001b[0m\u001b[0;34m,\u001b[0m \u001b[0mcol_id_overrides\u001b[0m\u001b[0;34m=\u001b[0m\u001b[0mcol_id_overrides\u001b[0m\u001b[0;34m\u001b[0m\u001b[0;34m\u001b[0m\u001b[0m\n\u001b[1;32m     98\u001b[0m             )\n",
            "\u001b[0;32m/usr/local/lib/python3.10/dist-packages/bigframes/core/compile/api.py\u001b[0m in \u001b[0;36mcompile_ordered\u001b[0;34m(self, node, col_id_overrides)\u001b[0m\n\u001b[1;32m     54\u001b[0m     ) -> str:\n\u001b[1;32m     55\u001b[0m         \u001b[0;34m\"\"\"Compile node into sql where rows are sorted with ORDER BY.\"\"\"\u001b[0m\u001b[0;34m\u001b[0m\u001b[0;34m\u001b[0m\u001b[0m\n\u001b[0;32m---> 56\u001b[0;31m         return self._compiler.compile_ordered_ir(node).to_sql(\n\u001b[0m\u001b[1;32m     57\u001b[0m             \u001b[0mcol_id_overrides\u001b[0m\u001b[0;34m=\u001b[0m\u001b[0mcol_id_overrides\u001b[0m\u001b[0;34m,\u001b[0m \u001b[0mordered\u001b[0m\u001b[0;34m=\u001b[0m\u001b[0;32mTrue\u001b[0m\u001b[0;34m\u001b[0m\u001b[0;34m\u001b[0m\u001b[0m\n\u001b[1;32m     58\u001b[0m         )\n",
            "\u001b[0;32m/usr/local/lib/python3.10/dist-packages/bigframes/core/compile/compiler.py\u001b[0m in \u001b[0;36mcompile_ordered_ir\u001b[0;34m(self, node)\u001b[0m\n\u001b[1;32m     46\u001b[0m \u001b[0;34m\u001b[0m\u001b[0m\n\u001b[1;32m     47\u001b[0m     \u001b[0;32mdef\u001b[0m \u001b[0mcompile_ordered_ir\u001b[0m\u001b[0;34m(\u001b[0m\u001b[0mself\u001b[0m\u001b[0;34m,\u001b[0m \u001b[0mnode\u001b[0m\u001b[0;34m:\u001b[0m \u001b[0mnodes\u001b[0m\u001b[0;34m.\u001b[0m\u001b[0mBigFrameNode\u001b[0m\u001b[0;34m)\u001b[0m \u001b[0;34m->\u001b[0m \u001b[0mcompiled\u001b[0m\u001b[0;34m.\u001b[0m\u001b[0mOrderedIR\u001b[0m\u001b[0;34m:\u001b[0m\u001b[0;34m\u001b[0m\u001b[0;34m\u001b[0m\u001b[0m\n\u001b[0;32m---> 48\u001b[0;31m         \u001b[0mir\u001b[0m \u001b[0;34m=\u001b[0m \u001b[0mtyping\u001b[0m\u001b[0;34m.\u001b[0m\u001b[0mcast\u001b[0m\u001b[0;34m(\u001b[0m\u001b[0mcompiled\u001b[0m\u001b[0;34m.\u001b[0m\u001b[0mOrderedIR\u001b[0m\u001b[0;34m,\u001b[0m \u001b[0mself\u001b[0m\u001b[0;34m.\u001b[0m\u001b[0mcompile_node\u001b[0m\u001b[0;34m(\u001b[0m\u001b[0mnode\u001b[0m\u001b[0;34m,\u001b[0m \u001b[0;32mTrue\u001b[0m\u001b[0;34m)\u001b[0m\u001b[0;34m)\u001b[0m\u001b[0;34m\u001b[0m\u001b[0;34m\u001b[0m\u001b[0m\n\u001b[0m\u001b[1;32m     49\u001b[0m         \u001b[0;32mif\u001b[0m \u001b[0mself\u001b[0m\u001b[0;34m.\u001b[0m\u001b[0mstrict\u001b[0m\u001b[0;34m:\u001b[0m\u001b[0;34m\u001b[0m\u001b[0;34m\u001b[0m\u001b[0m\n\u001b[1;32m     50\u001b[0m             \u001b[0;32massert\u001b[0m \u001b[0mir\u001b[0m\u001b[0;34m.\u001b[0m\u001b[0mhas_total_order\u001b[0m\u001b[0;34m\u001b[0m\u001b[0;34m\u001b[0m\u001b[0m\n",
            "\u001b[0;32m/usr/local/lib/python3.10/dist-packages/bigframes/core/compile/compiler.py\u001b[0m in \u001b[0;36mcompile_node\u001b[0;34m(self, node, ordered)\u001b[0m\n\u001b[1;32m     65\u001b[0m     ) -> compiled.UnorderedIR | compiled.OrderedIR:\n\u001b[1;32m     66\u001b[0m         \u001b[0;34m\"\"\"Compile node into CompileArrayValue. Caches result.\"\"\"\u001b[0m\u001b[0;34m\u001b[0m\u001b[0;34m\u001b[0m\u001b[0m\n\u001b[0;32m---> 67\u001b[0;31m         \u001b[0;32mreturn\u001b[0m \u001b[0mself\u001b[0m\u001b[0;34m.\u001b[0m\u001b[0m_compile_node\u001b[0m\u001b[0;34m(\u001b[0m\u001b[0mnode\u001b[0m\u001b[0;34m,\u001b[0m \u001b[0mordered\u001b[0m\u001b[0;34m)\u001b[0m\u001b[0;34m\u001b[0m\u001b[0;34m\u001b[0m\u001b[0m\n\u001b[0m\u001b[1;32m     68\u001b[0m \u001b[0;34m\u001b[0m\u001b[0m\n\u001b[1;32m     69\u001b[0m     \u001b[0;34m@\u001b[0m\u001b[0mfunctools\u001b[0m\u001b[0;34m.\u001b[0m\u001b[0msingledispatchmethod\u001b[0m\u001b[0;34m\u001b[0m\u001b[0;34m\u001b[0m\u001b[0m\n",
            "\u001b[0;32m/usr/lib/python3.10/functools.py\u001b[0m in \u001b[0;36m_method\u001b[0;34m(*args, **kwargs)\u001b[0m\n\u001b[1;32m    924\u001b[0m         \u001b[0;32mdef\u001b[0m \u001b[0m_method\u001b[0m\u001b[0;34m(\u001b[0m\u001b[0;34m*\u001b[0m\u001b[0margs\u001b[0m\u001b[0;34m,\u001b[0m \u001b[0;34m**\u001b[0m\u001b[0mkwargs\u001b[0m\u001b[0;34m)\u001b[0m\u001b[0;34m:\u001b[0m\u001b[0;34m\u001b[0m\u001b[0;34m\u001b[0m\u001b[0m\n\u001b[1;32m    925\u001b[0m             \u001b[0mmethod\u001b[0m \u001b[0;34m=\u001b[0m \u001b[0mself\u001b[0m\u001b[0;34m.\u001b[0m\u001b[0mdispatcher\u001b[0m\u001b[0;34m.\u001b[0m\u001b[0mdispatch\u001b[0m\u001b[0;34m(\u001b[0m\u001b[0margs\u001b[0m\u001b[0;34m[\u001b[0m\u001b[0;36m0\u001b[0m\u001b[0;34m]\u001b[0m\u001b[0;34m.\u001b[0m\u001b[0m__class__\u001b[0m\u001b[0;34m)\u001b[0m\u001b[0;34m\u001b[0m\u001b[0;34m\u001b[0m\u001b[0m\n\u001b[0;32m--> 926\u001b[0;31m             \u001b[0;32mreturn\u001b[0m \u001b[0mmethod\u001b[0m\u001b[0;34m.\u001b[0m\u001b[0m__get__\u001b[0m\u001b[0;34m(\u001b[0m\u001b[0mobj\u001b[0m\u001b[0;34m,\u001b[0m \u001b[0mcls\u001b[0m\u001b[0;34m)\u001b[0m\u001b[0;34m(\u001b[0m\u001b[0;34m*\u001b[0m\u001b[0margs\u001b[0m\u001b[0;34m,\u001b[0m \u001b[0;34m**\u001b[0m\u001b[0mkwargs\u001b[0m\u001b[0;34m)\u001b[0m\u001b[0;34m\u001b[0m\u001b[0;34m\u001b[0m\u001b[0m\n\u001b[0m\u001b[1;32m    927\u001b[0m \u001b[0;34m\u001b[0m\u001b[0m\n\u001b[1;32m    928\u001b[0m         \u001b[0m_method\u001b[0m\u001b[0;34m.\u001b[0m\u001b[0m__isabstractmethod__\u001b[0m \u001b[0;34m=\u001b[0m \u001b[0mself\u001b[0m\u001b[0;34m.\u001b[0m\u001b[0m__isabstractmethod__\u001b[0m\u001b[0;34m\u001b[0m\u001b[0;34m\u001b[0m\u001b[0m\n",
            "\u001b[0;32m/usr/local/lib/python3.10/dist-packages/bigframes/core/compile/compiler.py\u001b[0m in \u001b[0;36mcompile_selection\u001b[0;34m(self, node, ordered)\u001b[0m\n\u001b[1;32m    284\u001b[0m     \u001b[0;34m@\u001b[0m\u001b[0m_compile_node\u001b[0m\u001b[0;34m.\u001b[0m\u001b[0mregister\u001b[0m\u001b[0;34m\u001b[0m\u001b[0;34m\u001b[0m\u001b[0m\n\u001b[1;32m    285\u001b[0m     \u001b[0;32mdef\u001b[0m \u001b[0mcompile_selection\u001b[0m\u001b[0;34m(\u001b[0m\u001b[0mself\u001b[0m\u001b[0;34m,\u001b[0m \u001b[0mnode\u001b[0m\u001b[0;34m:\u001b[0m \u001b[0mnodes\u001b[0m\u001b[0;34m.\u001b[0m\u001b[0mSelectionNode\u001b[0m\u001b[0;34m,\u001b[0m \u001b[0mordered\u001b[0m\u001b[0;34m:\u001b[0m \u001b[0mbool\u001b[0m \u001b[0;34m=\u001b[0m \u001b[0;32mTrue\u001b[0m\u001b[0;34m)\u001b[0m\u001b[0;34m:\u001b[0m\u001b[0;34m\u001b[0m\u001b[0;34m\u001b[0m\u001b[0m\n\u001b[0;32m--> 286\u001b[0;31m         \u001b[0mresult\u001b[0m \u001b[0;34m=\u001b[0m \u001b[0mself\u001b[0m\u001b[0;34m.\u001b[0m\u001b[0mcompile_node\u001b[0m\u001b[0;34m(\u001b[0m\u001b[0mnode\u001b[0m\u001b[0;34m.\u001b[0m\u001b[0mchild\u001b[0m\u001b[0;34m,\u001b[0m \u001b[0mordered\u001b[0m\u001b[0;34m)\u001b[0m\u001b[0;34m\u001b[0m\u001b[0;34m\u001b[0m\u001b[0m\n\u001b[0m\u001b[1;32m    287\u001b[0m         \u001b[0;32mreturn\u001b[0m \u001b[0mresult\u001b[0m\u001b[0;34m.\u001b[0m\u001b[0mselection\u001b[0m\u001b[0;34m(\u001b[0m\u001b[0mnode\u001b[0m\u001b[0;34m.\u001b[0m\u001b[0minput_output_pairs\u001b[0m\u001b[0;34m)\u001b[0m\u001b[0;34m\u001b[0m\u001b[0;34m\u001b[0m\u001b[0m\n\u001b[1;32m    288\u001b[0m \u001b[0;34m\u001b[0m\u001b[0m\n",
            "\u001b[0;32m/usr/local/lib/python3.10/dist-packages/bigframes/core/compile/compiler.py\u001b[0m in \u001b[0;36mcompile_node\u001b[0;34m(self, node, ordered)\u001b[0m\n\u001b[1;32m     65\u001b[0m     ) -> compiled.UnorderedIR | compiled.OrderedIR:\n\u001b[1;32m     66\u001b[0m         \u001b[0;34m\"\"\"Compile node into CompileArrayValue. Caches result.\"\"\"\u001b[0m\u001b[0;34m\u001b[0m\u001b[0;34m\u001b[0m\u001b[0m\n\u001b[0;32m---> 67\u001b[0;31m         \u001b[0;32mreturn\u001b[0m \u001b[0mself\u001b[0m\u001b[0;34m.\u001b[0m\u001b[0m_compile_node\u001b[0m\u001b[0;34m(\u001b[0m\u001b[0mnode\u001b[0m\u001b[0;34m,\u001b[0m \u001b[0mordered\u001b[0m\u001b[0;34m)\u001b[0m\u001b[0;34m\u001b[0m\u001b[0;34m\u001b[0m\u001b[0m\n\u001b[0m\u001b[1;32m     68\u001b[0m \u001b[0;34m\u001b[0m\u001b[0m\n\u001b[1;32m     69\u001b[0m     \u001b[0;34m@\u001b[0m\u001b[0mfunctools\u001b[0m\u001b[0;34m.\u001b[0m\u001b[0msingledispatchmethod\u001b[0m\u001b[0;34m\u001b[0m\u001b[0;34m\u001b[0m\u001b[0m\n",
            "\u001b[0;32m/usr/lib/python3.10/functools.py\u001b[0m in \u001b[0;36m_method\u001b[0;34m(*args, **kwargs)\u001b[0m\n\u001b[1;32m    924\u001b[0m         \u001b[0;32mdef\u001b[0m \u001b[0m_method\u001b[0m\u001b[0;34m(\u001b[0m\u001b[0;34m*\u001b[0m\u001b[0margs\u001b[0m\u001b[0;34m,\u001b[0m \u001b[0;34m**\u001b[0m\u001b[0mkwargs\u001b[0m\u001b[0;34m)\u001b[0m\u001b[0;34m:\u001b[0m\u001b[0;34m\u001b[0m\u001b[0;34m\u001b[0m\u001b[0m\n\u001b[1;32m    925\u001b[0m             \u001b[0mmethod\u001b[0m \u001b[0;34m=\u001b[0m \u001b[0mself\u001b[0m\u001b[0;34m.\u001b[0m\u001b[0mdispatcher\u001b[0m\u001b[0;34m.\u001b[0m\u001b[0mdispatch\u001b[0m\u001b[0;34m(\u001b[0m\u001b[0margs\u001b[0m\u001b[0;34m[\u001b[0m\u001b[0;36m0\u001b[0m\u001b[0;34m]\u001b[0m\u001b[0;34m.\u001b[0m\u001b[0m__class__\u001b[0m\u001b[0;34m)\u001b[0m\u001b[0;34m\u001b[0m\u001b[0;34m\u001b[0m\u001b[0m\n\u001b[0;32m--> 926\u001b[0;31m             \u001b[0;32mreturn\u001b[0m \u001b[0mmethod\u001b[0m\u001b[0;34m.\u001b[0m\u001b[0m__get__\u001b[0m\u001b[0;34m(\u001b[0m\u001b[0mobj\u001b[0m\u001b[0;34m,\u001b[0m \u001b[0mcls\u001b[0m\u001b[0;34m)\u001b[0m\u001b[0;34m(\u001b[0m\u001b[0;34m*\u001b[0m\u001b[0margs\u001b[0m\u001b[0;34m,\u001b[0m \u001b[0;34m**\u001b[0m\u001b[0mkwargs\u001b[0m\u001b[0;34m)\u001b[0m\u001b[0;34m\u001b[0m\u001b[0;34m\u001b[0m\u001b[0m\n\u001b[0m\u001b[1;32m    927\u001b[0m \u001b[0;34m\u001b[0m\u001b[0m\n\u001b[1;32m    928\u001b[0m         \u001b[0m_method\u001b[0m\u001b[0;34m.\u001b[0m\u001b[0m__isabstractmethod__\u001b[0m \u001b[0;34m=\u001b[0m \u001b[0mself\u001b[0m\u001b[0;34m.\u001b[0m\u001b[0m__isabstractmethod__\u001b[0m\u001b[0;34m\u001b[0m\u001b[0;34m\u001b[0m\u001b[0m\n",
            "\u001b[0;32m/usr/local/lib/python3.10/dist-packages/bigframes/core/compile/compiler.py\u001b[0m in \u001b[0;36mcompile_selection\u001b[0;34m(self, node, ordered)\u001b[0m\n\u001b[1;32m    284\u001b[0m     \u001b[0;34m@\u001b[0m\u001b[0m_compile_node\u001b[0m\u001b[0;34m.\u001b[0m\u001b[0mregister\u001b[0m\u001b[0;34m\u001b[0m\u001b[0;34m\u001b[0m\u001b[0m\n\u001b[1;32m    285\u001b[0m     \u001b[0;32mdef\u001b[0m \u001b[0mcompile_selection\u001b[0m\u001b[0;34m(\u001b[0m\u001b[0mself\u001b[0m\u001b[0;34m,\u001b[0m \u001b[0mnode\u001b[0m\u001b[0;34m:\u001b[0m \u001b[0mnodes\u001b[0m\u001b[0;34m.\u001b[0m\u001b[0mSelectionNode\u001b[0m\u001b[0;34m,\u001b[0m \u001b[0mordered\u001b[0m\u001b[0;34m:\u001b[0m \u001b[0mbool\u001b[0m \u001b[0;34m=\u001b[0m \u001b[0;32mTrue\u001b[0m\u001b[0;34m)\u001b[0m\u001b[0;34m:\u001b[0m\u001b[0;34m\u001b[0m\u001b[0;34m\u001b[0m\u001b[0m\n\u001b[0;32m--> 286\u001b[0;31m         \u001b[0mresult\u001b[0m \u001b[0;34m=\u001b[0m \u001b[0mself\u001b[0m\u001b[0;34m.\u001b[0m\u001b[0mcompile_node\u001b[0m\u001b[0;34m(\u001b[0m\u001b[0mnode\u001b[0m\u001b[0;34m.\u001b[0m\u001b[0mchild\u001b[0m\u001b[0;34m,\u001b[0m \u001b[0mordered\u001b[0m\u001b[0;34m)\u001b[0m\u001b[0;34m\u001b[0m\u001b[0;34m\u001b[0m\u001b[0m\n\u001b[0m\u001b[1;32m    287\u001b[0m         \u001b[0;32mreturn\u001b[0m \u001b[0mresult\u001b[0m\u001b[0;34m.\u001b[0m\u001b[0mselection\u001b[0m\u001b[0;34m(\u001b[0m\u001b[0mnode\u001b[0m\u001b[0;34m.\u001b[0m\u001b[0minput_output_pairs\u001b[0m\u001b[0;34m)\u001b[0m\u001b[0;34m\u001b[0m\u001b[0;34m\u001b[0m\u001b[0m\n\u001b[1;32m    288\u001b[0m \u001b[0;34m\u001b[0m\u001b[0m\n",
            "\u001b[0;32m/usr/local/lib/python3.10/dist-packages/bigframes/core/compile/compiler.py\u001b[0m in \u001b[0;36mcompile_node\u001b[0;34m(self, node, ordered)\u001b[0m\n\u001b[1;32m     65\u001b[0m     ) -> compiled.UnorderedIR | compiled.OrderedIR:\n\u001b[1;32m     66\u001b[0m         \u001b[0;34m\"\"\"Compile node into CompileArrayValue. Caches result.\"\"\"\u001b[0m\u001b[0;34m\u001b[0m\u001b[0;34m\u001b[0m\u001b[0m\n\u001b[0;32m---> 67\u001b[0;31m         \u001b[0;32mreturn\u001b[0m \u001b[0mself\u001b[0m\u001b[0;34m.\u001b[0m\u001b[0m_compile_node\u001b[0m\u001b[0;34m(\u001b[0m\u001b[0mnode\u001b[0m\u001b[0;34m,\u001b[0m \u001b[0mordered\u001b[0m\u001b[0;34m)\u001b[0m\u001b[0;34m\u001b[0m\u001b[0;34m\u001b[0m\u001b[0m\n\u001b[0m\u001b[1;32m     68\u001b[0m \u001b[0;34m\u001b[0m\u001b[0m\n\u001b[1;32m     69\u001b[0m     \u001b[0;34m@\u001b[0m\u001b[0mfunctools\u001b[0m\u001b[0;34m.\u001b[0m\u001b[0msingledispatchmethod\u001b[0m\u001b[0;34m\u001b[0m\u001b[0;34m\u001b[0m\u001b[0m\n",
            "\u001b[0;32m/usr/lib/python3.10/functools.py\u001b[0m in \u001b[0;36m_method\u001b[0;34m(*args, **kwargs)\u001b[0m\n\u001b[1;32m    924\u001b[0m         \u001b[0;32mdef\u001b[0m \u001b[0m_method\u001b[0m\u001b[0;34m(\u001b[0m\u001b[0;34m*\u001b[0m\u001b[0margs\u001b[0m\u001b[0;34m,\u001b[0m \u001b[0;34m**\u001b[0m\u001b[0mkwargs\u001b[0m\u001b[0;34m)\u001b[0m\u001b[0;34m:\u001b[0m\u001b[0;34m\u001b[0m\u001b[0;34m\u001b[0m\u001b[0m\n\u001b[1;32m    925\u001b[0m             \u001b[0mmethod\u001b[0m \u001b[0;34m=\u001b[0m \u001b[0mself\u001b[0m\u001b[0;34m.\u001b[0m\u001b[0mdispatcher\u001b[0m\u001b[0;34m.\u001b[0m\u001b[0mdispatch\u001b[0m\u001b[0;34m(\u001b[0m\u001b[0margs\u001b[0m\u001b[0;34m[\u001b[0m\u001b[0;36m0\u001b[0m\u001b[0;34m]\u001b[0m\u001b[0;34m.\u001b[0m\u001b[0m__class__\u001b[0m\u001b[0;34m)\u001b[0m\u001b[0;34m\u001b[0m\u001b[0;34m\u001b[0m\u001b[0m\n\u001b[0;32m--> 926\u001b[0;31m             \u001b[0;32mreturn\u001b[0m \u001b[0mmethod\u001b[0m\u001b[0;34m.\u001b[0m\u001b[0m__get__\u001b[0m\u001b[0;34m(\u001b[0m\u001b[0mobj\u001b[0m\u001b[0;34m,\u001b[0m \u001b[0mcls\u001b[0m\u001b[0;34m)\u001b[0m\u001b[0;34m(\u001b[0m\u001b[0;34m*\u001b[0m\u001b[0margs\u001b[0m\u001b[0;34m,\u001b[0m \u001b[0;34m**\u001b[0m\u001b[0mkwargs\u001b[0m\u001b[0;34m)\u001b[0m\u001b[0;34m\u001b[0m\u001b[0;34m\u001b[0m\u001b[0m\n\u001b[0m\u001b[1;32m    927\u001b[0m \u001b[0;34m\u001b[0m\u001b[0m\n\u001b[1;32m    928\u001b[0m         \u001b[0m_method\u001b[0m\u001b[0;34m.\u001b[0m\u001b[0m__isabstractmethod__\u001b[0m \u001b[0;34m=\u001b[0m \u001b[0mself\u001b[0m\u001b[0;34m.\u001b[0m\u001b[0m__isabstractmethod__\u001b[0m\u001b[0;34m\u001b[0m\u001b[0;34m\u001b[0m\u001b[0m\n",
            "\u001b[0;32m/usr/local/lib/python3.10/dist-packages/bigframes/core/compile/compiler.py\u001b[0m in \u001b[0;36mcompile_selection\u001b[0;34m(self, node, ordered)\u001b[0m\n\u001b[1;32m    284\u001b[0m     \u001b[0;34m@\u001b[0m\u001b[0m_compile_node\u001b[0m\u001b[0;34m.\u001b[0m\u001b[0mregister\u001b[0m\u001b[0;34m\u001b[0m\u001b[0;34m\u001b[0m\u001b[0m\n\u001b[1;32m    285\u001b[0m     \u001b[0;32mdef\u001b[0m \u001b[0mcompile_selection\u001b[0m\u001b[0;34m(\u001b[0m\u001b[0mself\u001b[0m\u001b[0;34m,\u001b[0m \u001b[0mnode\u001b[0m\u001b[0;34m:\u001b[0m \u001b[0mnodes\u001b[0m\u001b[0;34m.\u001b[0m\u001b[0mSelectionNode\u001b[0m\u001b[0;34m,\u001b[0m \u001b[0mordered\u001b[0m\u001b[0;34m:\u001b[0m \u001b[0mbool\u001b[0m \u001b[0;34m=\u001b[0m \u001b[0;32mTrue\u001b[0m\u001b[0;34m)\u001b[0m\u001b[0;34m:\u001b[0m\u001b[0;34m\u001b[0m\u001b[0;34m\u001b[0m\u001b[0m\n\u001b[0;32m--> 286\u001b[0;31m         \u001b[0mresult\u001b[0m \u001b[0;34m=\u001b[0m \u001b[0mself\u001b[0m\u001b[0;34m.\u001b[0m\u001b[0mcompile_node\u001b[0m\u001b[0;34m(\u001b[0m\u001b[0mnode\u001b[0m\u001b[0;34m.\u001b[0m\u001b[0mchild\u001b[0m\u001b[0;34m,\u001b[0m \u001b[0mordered\u001b[0m\u001b[0;34m)\u001b[0m\u001b[0;34m\u001b[0m\u001b[0;34m\u001b[0m\u001b[0m\n\u001b[0m\u001b[1;32m    287\u001b[0m         \u001b[0;32mreturn\u001b[0m \u001b[0mresult\u001b[0m\u001b[0;34m.\u001b[0m\u001b[0mselection\u001b[0m\u001b[0;34m(\u001b[0m\u001b[0mnode\u001b[0m\u001b[0;34m.\u001b[0m\u001b[0minput_output_pairs\u001b[0m\u001b[0;34m)\u001b[0m\u001b[0;34m\u001b[0m\u001b[0;34m\u001b[0m\u001b[0m\n\u001b[1;32m    288\u001b[0m \u001b[0;34m\u001b[0m\u001b[0m\n",
            "\u001b[0;32m/usr/local/lib/python3.10/dist-packages/bigframes/core/compile/compiler.py\u001b[0m in \u001b[0;36mcompile_node\u001b[0;34m(self, node, ordered)\u001b[0m\n\u001b[1;32m     65\u001b[0m     ) -> compiled.UnorderedIR | compiled.OrderedIR:\n\u001b[1;32m     66\u001b[0m         \u001b[0;34m\"\"\"Compile node into CompileArrayValue. Caches result.\"\"\"\u001b[0m\u001b[0;34m\u001b[0m\u001b[0;34m\u001b[0m\u001b[0m\n\u001b[0;32m---> 67\u001b[0;31m         \u001b[0;32mreturn\u001b[0m \u001b[0mself\u001b[0m\u001b[0;34m.\u001b[0m\u001b[0m_compile_node\u001b[0m\u001b[0;34m(\u001b[0m\u001b[0mnode\u001b[0m\u001b[0;34m,\u001b[0m \u001b[0mordered\u001b[0m\u001b[0;34m)\u001b[0m\u001b[0;34m\u001b[0m\u001b[0;34m\u001b[0m\u001b[0m\n\u001b[0m\u001b[1;32m     68\u001b[0m \u001b[0;34m\u001b[0m\u001b[0m\n\u001b[1;32m     69\u001b[0m     \u001b[0;34m@\u001b[0m\u001b[0mfunctools\u001b[0m\u001b[0;34m.\u001b[0m\u001b[0msingledispatchmethod\u001b[0m\u001b[0;34m\u001b[0m\u001b[0;34m\u001b[0m\u001b[0m\n",
            "\u001b[0;32m/usr/lib/python3.10/functools.py\u001b[0m in \u001b[0;36m_method\u001b[0;34m(*args, **kwargs)\u001b[0m\n\u001b[1;32m    924\u001b[0m         \u001b[0;32mdef\u001b[0m \u001b[0m_method\u001b[0m\u001b[0;34m(\u001b[0m\u001b[0;34m*\u001b[0m\u001b[0margs\u001b[0m\u001b[0;34m,\u001b[0m \u001b[0;34m**\u001b[0m\u001b[0mkwargs\u001b[0m\u001b[0;34m)\u001b[0m\u001b[0;34m:\u001b[0m\u001b[0;34m\u001b[0m\u001b[0;34m\u001b[0m\u001b[0m\n\u001b[1;32m    925\u001b[0m             \u001b[0mmethod\u001b[0m \u001b[0;34m=\u001b[0m \u001b[0mself\u001b[0m\u001b[0;34m.\u001b[0m\u001b[0mdispatcher\u001b[0m\u001b[0;34m.\u001b[0m\u001b[0mdispatch\u001b[0m\u001b[0;34m(\u001b[0m\u001b[0margs\u001b[0m\u001b[0;34m[\u001b[0m\u001b[0;36m0\u001b[0m\u001b[0;34m]\u001b[0m\u001b[0;34m.\u001b[0m\u001b[0m__class__\u001b[0m\u001b[0;34m)\u001b[0m\u001b[0;34m\u001b[0m\u001b[0;34m\u001b[0m\u001b[0m\n\u001b[0;32m--> 926\u001b[0;31m             \u001b[0;32mreturn\u001b[0m \u001b[0mmethod\u001b[0m\u001b[0;34m.\u001b[0m\u001b[0m__get__\u001b[0m\u001b[0;34m(\u001b[0m\u001b[0mobj\u001b[0m\u001b[0;34m,\u001b[0m \u001b[0mcls\u001b[0m\u001b[0;34m)\u001b[0m\u001b[0;34m(\u001b[0m\u001b[0;34m*\u001b[0m\u001b[0margs\u001b[0m\u001b[0;34m,\u001b[0m \u001b[0;34m**\u001b[0m\u001b[0mkwargs\u001b[0m\u001b[0;34m)\u001b[0m\u001b[0;34m\u001b[0m\u001b[0;34m\u001b[0m\u001b[0m\n\u001b[0m\u001b[1;32m    927\u001b[0m \u001b[0;34m\u001b[0m\u001b[0m\n\u001b[1;32m    928\u001b[0m         \u001b[0m_method\u001b[0m\u001b[0;34m.\u001b[0m\u001b[0m__isabstractmethod__\u001b[0m \u001b[0;34m=\u001b[0m \u001b[0mself\u001b[0m\u001b[0;34m.\u001b[0m\u001b[0m__isabstractmethod__\u001b[0m\u001b[0;34m\u001b[0m\u001b[0;34m\u001b[0m\u001b[0m\n",
            "\u001b[0;32m/usr/local/lib/python3.10/dist-packages/bigframes/core/compile/compiler.py\u001b[0m in \u001b[0;36mcompile_projection\u001b[0;34m(self, node, ordered)\u001b[0m\n\u001b[1;32m    290\u001b[0m     \u001b[0;32mdef\u001b[0m \u001b[0mcompile_projection\u001b[0m\u001b[0;34m(\u001b[0m\u001b[0mself\u001b[0m\u001b[0;34m,\u001b[0m \u001b[0mnode\u001b[0m\u001b[0;34m:\u001b[0m \u001b[0mnodes\u001b[0m\u001b[0;34m.\u001b[0m\u001b[0mProjectionNode\u001b[0m\u001b[0;34m,\u001b[0m \u001b[0mordered\u001b[0m\u001b[0;34m:\u001b[0m \u001b[0mbool\u001b[0m \u001b[0;34m=\u001b[0m \u001b[0;32mTrue\u001b[0m\u001b[0;34m)\u001b[0m\u001b[0;34m:\u001b[0m\u001b[0;34m\u001b[0m\u001b[0;34m\u001b[0m\u001b[0m\n\u001b[1;32m    291\u001b[0m         \u001b[0mresult\u001b[0m \u001b[0;34m=\u001b[0m \u001b[0mself\u001b[0m\u001b[0;34m.\u001b[0m\u001b[0mcompile_node\u001b[0m\u001b[0;34m(\u001b[0m\u001b[0mnode\u001b[0m\u001b[0;34m.\u001b[0m\u001b[0mchild\u001b[0m\u001b[0;34m,\u001b[0m \u001b[0mordered\u001b[0m\u001b[0;34m)\u001b[0m\u001b[0;34m\u001b[0m\u001b[0;34m\u001b[0m\u001b[0m\n\u001b[0;32m--> 292\u001b[0;31m         \u001b[0;32mreturn\u001b[0m \u001b[0mresult\u001b[0m\u001b[0;34m.\u001b[0m\u001b[0mprojection\u001b[0m\u001b[0;34m(\u001b[0m\u001b[0mnode\u001b[0m\u001b[0;34m.\u001b[0m\u001b[0massignments\u001b[0m\u001b[0;34m)\u001b[0m\u001b[0;34m\u001b[0m\u001b[0;34m\u001b[0m\u001b[0m\n\u001b[0m\u001b[1;32m    293\u001b[0m \u001b[0;34m\u001b[0m\u001b[0m\n\u001b[1;32m    294\u001b[0m     \u001b[0;34m@\u001b[0m\u001b[0m_compile_node\u001b[0m\u001b[0;34m.\u001b[0m\u001b[0mregister\u001b[0m\u001b[0;34m\u001b[0m\u001b[0;34m\u001b[0m\u001b[0m\n",
            "\u001b[0;32m/usr/local/lib/python3.10/dist-packages/bigframes/core/compile/compiled.py\u001b[0m in \u001b[0;36mprojection\u001b[0;34m(self, expression_id_pairs)\u001b[0m\n\u001b[1;32m    134\u001b[0m         \u001b[0;34m\"\"\"Apply an expression to the ArrayValue and assign the output to a column.\"\"\"\u001b[0m\u001b[0;34m\u001b[0m\u001b[0;34m\u001b[0m\u001b[0m\n\u001b[1;32m    135\u001b[0m         \u001b[0mbindings\u001b[0m \u001b[0;34m=\u001b[0m \u001b[0;34m{\u001b[0m\u001b[0mcol\u001b[0m\u001b[0;34m:\u001b[0m \u001b[0mself\u001b[0m\u001b[0;34m.\u001b[0m\u001b[0m_get_ibis_column\u001b[0m\u001b[0;34m(\u001b[0m\u001b[0mcol\u001b[0m\u001b[0;34m)\u001b[0m \u001b[0;32mfor\u001b[0m \u001b[0mcol\u001b[0m \u001b[0;32min\u001b[0m \u001b[0mself\u001b[0m\u001b[0;34m.\u001b[0m\u001b[0mcolumn_ids\u001b[0m\u001b[0;34m}\u001b[0m\u001b[0;34m\u001b[0m\u001b[0;34m\u001b[0m\u001b[0m\n\u001b[0;32m--> 136\u001b[0;31m         new_values = [\n\u001b[0m\u001b[1;32m    137\u001b[0m             \u001b[0mop_compiler\u001b[0m\u001b[0;34m.\u001b[0m\u001b[0mcompile_expression\u001b[0m\u001b[0;34m(\u001b[0m\u001b[0mexpression\u001b[0m\u001b[0;34m,\u001b[0m \u001b[0mbindings\u001b[0m\u001b[0;34m)\u001b[0m\u001b[0;34m.\u001b[0m\u001b[0mname\u001b[0m\u001b[0;34m(\u001b[0m\u001b[0mid\u001b[0m\u001b[0;34m)\u001b[0m\u001b[0;34m\u001b[0m\u001b[0;34m\u001b[0m\u001b[0m\n\u001b[1;32m    138\u001b[0m             \u001b[0;32mfor\u001b[0m \u001b[0mexpression\u001b[0m\u001b[0;34m,\u001b[0m \u001b[0mid\u001b[0m \u001b[0;32min\u001b[0m \u001b[0mexpression_id_pairs\u001b[0m\u001b[0;34m\u001b[0m\u001b[0;34m\u001b[0m\u001b[0m\n",
            "\u001b[0;32m/usr/local/lib/python3.10/dist-packages/bigframes/core/compile/compiled.py\u001b[0m in \u001b[0;36m<listcomp>\u001b[0;34m(.0)\u001b[0m\n\u001b[1;32m    135\u001b[0m         \u001b[0mbindings\u001b[0m \u001b[0;34m=\u001b[0m \u001b[0;34m{\u001b[0m\u001b[0mcol\u001b[0m\u001b[0;34m:\u001b[0m \u001b[0mself\u001b[0m\u001b[0;34m.\u001b[0m\u001b[0m_get_ibis_column\u001b[0m\u001b[0;34m(\u001b[0m\u001b[0mcol\u001b[0m\u001b[0;34m)\u001b[0m \u001b[0;32mfor\u001b[0m \u001b[0mcol\u001b[0m \u001b[0;32min\u001b[0m \u001b[0mself\u001b[0m\u001b[0;34m.\u001b[0m\u001b[0mcolumn_ids\u001b[0m\u001b[0;34m}\u001b[0m\u001b[0;34m\u001b[0m\u001b[0;34m\u001b[0m\u001b[0m\n\u001b[1;32m    136\u001b[0m         new_values = [\n\u001b[0;32m--> 137\u001b[0;31m             \u001b[0mop_compiler\u001b[0m\u001b[0;34m.\u001b[0m\u001b[0mcompile_expression\u001b[0m\u001b[0;34m(\u001b[0m\u001b[0mexpression\u001b[0m\u001b[0;34m,\u001b[0m \u001b[0mbindings\u001b[0m\u001b[0;34m)\u001b[0m\u001b[0;34m.\u001b[0m\u001b[0mname\u001b[0m\u001b[0;34m(\u001b[0m\u001b[0mid\u001b[0m\u001b[0;34m)\u001b[0m\u001b[0;34m\u001b[0m\u001b[0;34m\u001b[0m\u001b[0m\n\u001b[0m\u001b[1;32m    138\u001b[0m             \u001b[0;32mfor\u001b[0m \u001b[0mexpression\u001b[0m\u001b[0;34m,\u001b[0m \u001b[0mid\u001b[0m \u001b[0;32min\u001b[0m \u001b[0mexpression_id_pairs\u001b[0m\u001b[0;34m\u001b[0m\u001b[0;34m\u001b[0m\u001b[0m\n\u001b[1;32m    139\u001b[0m         ]\n",
            "\u001b[0;32m/usr/lib/python3.10/functools.py\u001b[0m in \u001b[0;36m_method\u001b[0;34m(*args, **kwargs)\u001b[0m\n\u001b[1;32m    924\u001b[0m         \u001b[0;32mdef\u001b[0m \u001b[0m_method\u001b[0m\u001b[0;34m(\u001b[0m\u001b[0;34m*\u001b[0m\u001b[0margs\u001b[0m\u001b[0;34m,\u001b[0m \u001b[0;34m**\u001b[0m\u001b[0mkwargs\u001b[0m\u001b[0;34m)\u001b[0m\u001b[0;34m:\u001b[0m\u001b[0;34m\u001b[0m\u001b[0;34m\u001b[0m\u001b[0m\n\u001b[1;32m    925\u001b[0m             \u001b[0mmethod\u001b[0m \u001b[0;34m=\u001b[0m \u001b[0mself\u001b[0m\u001b[0;34m.\u001b[0m\u001b[0mdispatcher\u001b[0m\u001b[0;34m.\u001b[0m\u001b[0mdispatch\u001b[0m\u001b[0;34m(\u001b[0m\u001b[0margs\u001b[0m\u001b[0;34m[\u001b[0m\u001b[0;36m0\u001b[0m\u001b[0;34m]\u001b[0m\u001b[0;34m.\u001b[0m\u001b[0m__class__\u001b[0m\u001b[0;34m)\u001b[0m\u001b[0;34m\u001b[0m\u001b[0;34m\u001b[0m\u001b[0m\n\u001b[0;32m--> 926\u001b[0;31m             \u001b[0;32mreturn\u001b[0m \u001b[0mmethod\u001b[0m\u001b[0;34m.\u001b[0m\u001b[0m__get__\u001b[0m\u001b[0;34m(\u001b[0m\u001b[0mobj\u001b[0m\u001b[0;34m,\u001b[0m \u001b[0mcls\u001b[0m\u001b[0;34m)\u001b[0m\u001b[0;34m(\u001b[0m\u001b[0;34m*\u001b[0m\u001b[0margs\u001b[0m\u001b[0;34m,\u001b[0m \u001b[0;34m**\u001b[0m\u001b[0mkwargs\u001b[0m\u001b[0;34m)\u001b[0m\u001b[0;34m\u001b[0m\u001b[0;34m\u001b[0m\u001b[0m\n\u001b[0m\u001b[1;32m    927\u001b[0m \u001b[0;34m\u001b[0m\u001b[0m\n\u001b[1;32m    928\u001b[0m         \u001b[0m_method\u001b[0m\u001b[0;34m.\u001b[0m\u001b[0m__isabstractmethod__\u001b[0m \u001b[0;34m=\u001b[0m \u001b[0mself\u001b[0m\u001b[0;34m.\u001b[0m\u001b[0m__isabstractmethod__\u001b[0m\u001b[0;34m\u001b[0m\u001b[0;34m\u001b[0m\u001b[0m\n",
            "\u001b[0;32m/usr/local/lib/python3.10/dist-packages/bigframes/core/compile/scalar_op_compiler.py\u001b[0m in \u001b[0;36m_\u001b[0;34m(self, expression, bindings)\u001b[0m\n\u001b[1;32m    105\u001b[0m             \u001b[0;32mfor\u001b[0m \u001b[0msub_expr\u001b[0m \u001b[0;32min\u001b[0m \u001b[0mexpression\u001b[0m\u001b[0;34m.\u001b[0m\u001b[0minputs\u001b[0m\u001b[0;34m\u001b[0m\u001b[0;34m\u001b[0m\u001b[0m\n\u001b[1;32m    106\u001b[0m         ]\n\u001b[0;32m--> 107\u001b[0;31m         \u001b[0;32mreturn\u001b[0m \u001b[0mself\u001b[0m\u001b[0;34m.\u001b[0m\u001b[0mcompile_row_op\u001b[0m\u001b[0;34m(\u001b[0m\u001b[0mexpression\u001b[0m\u001b[0;34m.\u001b[0m\u001b[0mop\u001b[0m\u001b[0;34m,\u001b[0m \u001b[0minputs\u001b[0m\u001b[0;34m)\u001b[0m\u001b[0;34m\u001b[0m\u001b[0;34m\u001b[0m\u001b[0m\n\u001b[0m\u001b[1;32m    108\u001b[0m \u001b[0;34m\u001b[0m\u001b[0m\n\u001b[1;32m    109\u001b[0m     def compile_row_op(\n",
            "\u001b[0;32m/usr/local/lib/python3.10/dist-packages/bigframes/core/compile/scalar_op_compiler.py\u001b[0m in \u001b[0;36mcompile_row_op\u001b[0;34m(self, op, inputs)\u001b[0m\n\u001b[1;32m    111\u001b[0m     ) -> ibis_types.Value:\n\u001b[1;32m    112\u001b[0m         \u001b[0mimpl\u001b[0m \u001b[0;34m=\u001b[0m \u001b[0mself\u001b[0m\u001b[0;34m.\u001b[0m\u001b[0m_registry\u001b[0m\u001b[0;34m[\u001b[0m\u001b[0mop\u001b[0m\u001b[0;34m.\u001b[0m\u001b[0mname\u001b[0m\u001b[0;34m]\u001b[0m\u001b[0;34m\u001b[0m\u001b[0;34m\u001b[0m\u001b[0m\n\u001b[0;32m--> 113\u001b[0;31m         \u001b[0;32mreturn\u001b[0m \u001b[0mimpl\u001b[0m\u001b[0;34m(\u001b[0m\u001b[0minputs\u001b[0m\u001b[0;34m,\u001b[0m \u001b[0mop\u001b[0m\u001b[0;34m)\u001b[0m\u001b[0;34m\u001b[0m\u001b[0;34m\u001b[0m\u001b[0m\n\u001b[0m\u001b[1;32m    114\u001b[0m \u001b[0;34m\u001b[0m\u001b[0m\n\u001b[1;32m    115\u001b[0m     def register_unary_op(\n",
            "\u001b[0;32m/usr/local/lib/python3.10/dist-packages/bigframes/core/compile/scalar_op_compiler.py\u001b[0m in \u001b[0;36mnormalized_impl\u001b[0;34m(args, op)\u001b[0m\n\u001b[1;32m    133\u001b[0m             \u001b[0;32mdef\u001b[0m \u001b[0mnormalized_impl\u001b[0m\u001b[0;34m(\u001b[0m\u001b[0margs\u001b[0m\u001b[0;34m:\u001b[0m \u001b[0mtyping\u001b[0m\u001b[0;34m.\u001b[0m\u001b[0mSequence\u001b[0m\u001b[0;34m[\u001b[0m\u001b[0mibis_types\u001b[0m\u001b[0;34m.\u001b[0m\u001b[0mValue\u001b[0m\u001b[0;34m]\u001b[0m\u001b[0;34m,\u001b[0m \u001b[0mop\u001b[0m\u001b[0;34m:\u001b[0m \u001b[0mops\u001b[0m\u001b[0;34m.\u001b[0m\u001b[0mRowOp\u001b[0m\u001b[0;34m)\u001b[0m\u001b[0;34m:\u001b[0m\u001b[0;34m\u001b[0m\u001b[0;34m\u001b[0m\u001b[0m\n\u001b[1;32m    134\u001b[0m                 \u001b[0;32mif\u001b[0m \u001b[0mpass_op\u001b[0m\u001b[0;34m:\u001b[0m\u001b[0;34m\u001b[0m\u001b[0;34m\u001b[0m\u001b[0m\n\u001b[0;32m--> 135\u001b[0;31m                     \u001b[0;32mreturn\u001b[0m \u001b[0mimpl\u001b[0m\u001b[0;34m(\u001b[0m\u001b[0margs\u001b[0m\u001b[0;34m[\u001b[0m\u001b[0;36m0\u001b[0m\u001b[0;34m]\u001b[0m\u001b[0;34m,\u001b[0m \u001b[0mop\u001b[0m\u001b[0;34m)\u001b[0m\u001b[0;34m\u001b[0m\u001b[0;34m\u001b[0m\u001b[0m\n\u001b[0m\u001b[1;32m    136\u001b[0m                 \u001b[0;32melse\u001b[0m\u001b[0;34m:\u001b[0m\u001b[0;34m\u001b[0m\u001b[0;34m\u001b[0m\u001b[0m\n\u001b[1;32m    137\u001b[0m                     \u001b[0;32mreturn\u001b[0m \u001b[0mimpl\u001b[0m\u001b[0;34m(\u001b[0m\u001b[0margs\u001b[0m\u001b[0;34m[\u001b[0m\u001b[0;36m0\u001b[0m\u001b[0;34m]\u001b[0m\u001b[0;34m)\u001b[0m\u001b[0;34m\u001b[0m\u001b[0;34m\u001b[0m\u001b[0m\n",
            "\u001b[0;32m/usr/local/lib/python3.10/dist-packages/bigframes/core/compile/scalar_op_compiler.py\u001b[0m in \u001b[0;36mastype_op_impl\u001b[0;34m(x, op)\u001b[0m\n\u001b[1;32m    783\u001b[0m \u001b[0;34m@\u001b[0m\u001b[0mscalar_op_compiler\u001b[0m\u001b[0;34m.\u001b[0m\u001b[0mregister_unary_op\u001b[0m\u001b[0;34m(\u001b[0m\u001b[0mops\u001b[0m\u001b[0;34m.\u001b[0m\u001b[0mAsTypeOp\u001b[0m\u001b[0;34m,\u001b[0m \u001b[0mpass_op\u001b[0m\u001b[0;34m=\u001b[0m\u001b[0;32mTrue\u001b[0m\u001b[0;34m)\u001b[0m\u001b[0;34m\u001b[0m\u001b[0;34m\u001b[0m\u001b[0m\n\u001b[1;32m    784\u001b[0m \u001b[0;32mdef\u001b[0m \u001b[0mastype_op_impl\u001b[0m\u001b[0;34m(\u001b[0m\u001b[0mx\u001b[0m\u001b[0;34m:\u001b[0m \u001b[0mibis_types\u001b[0m\u001b[0;34m.\u001b[0m\u001b[0mValue\u001b[0m\u001b[0;34m,\u001b[0m \u001b[0mop\u001b[0m\u001b[0;34m:\u001b[0m \u001b[0mops\u001b[0m\u001b[0;34m.\u001b[0m\u001b[0mAsTypeOp\u001b[0m\u001b[0;34m)\u001b[0m\u001b[0;34m:\u001b[0m\u001b[0;34m\u001b[0m\u001b[0;34m\u001b[0m\u001b[0m\n\u001b[0;32m--> 785\u001b[0;31m     to_type = bigframes.core.compile.ibis_types.bigframes_dtype_to_ibis_dtype(\n\u001b[0m\u001b[1;32m    786\u001b[0m         \u001b[0mop\u001b[0m\u001b[0;34m.\u001b[0m\u001b[0mto_type\u001b[0m\u001b[0;34m\u001b[0m\u001b[0;34m\u001b[0m\u001b[0m\n\u001b[1;32m    787\u001b[0m     )\n",
            "\u001b[0;32m/usr/local/lib/python3.10/dist-packages/bigframes/core/compile/ibis_types.py\u001b[0m in \u001b[0;36mbigframes_dtype_to_ibis_dtype\u001b[0;34m(bigframes_dtype)\u001b[0m\n\u001b[1;32m    247\u001b[0m \u001b[0;34m\u001b[0m\u001b[0m\n\u001b[1;32m    248\u001b[0m     \u001b[0;32melse\u001b[0m\u001b[0;34m:\u001b[0m\u001b[0;34m\u001b[0m\u001b[0;34m\u001b[0m\u001b[0m\n\u001b[0;32m--> 249\u001b[0;31m         raise ValueError(\n\u001b[0m\u001b[1;32m    250\u001b[0m             textwrap.dedent(\n\u001b[1;32m    251\u001b[0m                 f\"\"\"\n",
            "\u001b[0;31mValueError\u001b[0m: \nUnexpected data type None. The following\n        str dtypes are supppted: 'boolean','Float64','Int64',\n        'int64[pyarrow]','string','string[pyarrow]',\n        'timestamp[us, tz=UTC][pyarrow]','timestamp[us][pyarrow]',\n        'date32[day][pyarrow]','time64[us][pyarrow]'.\n        The following pandas.ExtensionDtype are supported:\n        pandas.BooleanDtype(), pandas.Float64Dtype(),\n        pandas.Int64Dtype(), pandas.StringDtype(storage=\"pyarrow\"),\n        pd.ArrowDtype(pa.date32()), pd.ArrowDtype(pa.time64(\"us\")),\n        pd.ArrowDtype(pa.timestamp(\"us\")),\n        pd.ArrowDtype(pa.timestamp(\"us\", tz=\"UTC\")).\nShare your usecase with the BigQuery DataFrames team at the https://bit.ly/bigframes-feedback survey.You are currently running BigFrames version 1.19.0\n"
          ]
        }
      ]
    },
    {
      "cell_type": "code",
      "source": [
        "8376817*0.02"
      ],
      "metadata": {
        "id": "0-MJc8XctPlQ",
        "colab": {
          "base_uri": "https://localhost:8080/"
        },
        "executionInfo": {
          "status": "ok",
          "timestamp": 1729015177182,
          "user_tz": 240,
          "elapsed": 179,
          "user": {
            "displayName": "",
            "userId": ""
          }
        },
        "outputId": "686f3573-6279-4688-cd31-3855747b7bd5"
      },
      "execution_count": 14,
      "outputs": [
        {
          "output_type": "execute_result",
          "data": {
            "text/plain": [
              "167536.34"
            ]
          },
          "metadata": {},
          "execution_count": 14
        }
      ]
    },
    {
      "cell_type": "code",
      "source": [
        "import pandas as pd\n",
        "\n",
        "frs_ = list()\n",
        "for col_ in df.columns:\n",
        "  frs_.append(len(df.dropna(subset=[col_], axis=0))/len(df))\n",
        "  print(col_)\n",
        "\n",
        "df_fillrate = pd.DataFrame({'column': list(df.columns), 'fillrate': frs_})\n"
      ],
      "metadata": {
        "colab": {
          "base_uri": "https://localhost:8080/",
          "height": 1000
        },
        "id": "UgJnaHTFsaFf",
        "executionInfo": {
          "status": "ok",
          "timestamp": 1729018228128,
          "user_tz": 240,
          "elapsed": 235117,
          "user": {
            "displayName": "",
            "userId": ""
          }
        },
        "outputId": "e6c4187c-aa75-4aa8-af5f-a28c0122c0e4"
      },
      "execution_count": 18,
      "outputs": [
        {
          "output_type": "display_data",
          "data": {
            "text/plain": [
              "<IPython.core.display.HTML object>"
            ],
            "text/html": [
              "Query job 44c5f3ac-04ab-4725-b113-4d10805977ee is DONE. 187.9 MB processed. <a target=\"_blank\" href=\"https://console.cloud.google.com/bigquery?project=marketcheck-demo&j=bq:US:44c5f3ac-04ab-4725-b113-4d10805977ee&page=queryresults\">Open Job</a>"
            ]
          },
          "metadata": {}
        },
        {
          "output_type": "display_data",
          "data": {
            "text/plain": [
              "<IPython.core.display.HTML object>"
            ],
            "text/html": [
              "Query job a065c53a-665c-4a42-851d-69625abf1131 is DONE. 62.2 MB processed. <a target=\"_blank\" href=\"https://console.cloud.google.com/bigquery?project=marketcheck-demo&j=bq:US:a065c53a-665c-4a42-851d-69625abf1131&page=queryresults\">Open Job</a>"
            ]
          },
          "metadata": {}
        },
        {
          "output_type": "stream",
          "name": "stdout",
          "text": [
            "id\n"
          ]
        },
        {
          "output_type": "display_data",
          "data": {
            "text/plain": [
              "<IPython.core.display.HTML object>"
            ],
            "text/html": [
              "Query job 6720ca00-3553-4361-9730-4ce6b1dda3cc is DONE. 221.4 MB processed. <a target=\"_blank\" href=\"https://console.cloud.google.com/bigquery?project=marketcheck-demo&j=bq:US:6720ca00-3553-4361-9730-4ce6b1dda3cc&page=queryresults\">Open Job</a>"
            ]
          },
          "metadata": {}
        },
        {
          "output_type": "stream",
          "name": "stdout",
          "text": [
            "vin\n"
          ]
        },
        {
          "output_type": "display_data",
          "data": {
            "text/plain": [
              "<IPython.core.display.HTML object>"
            ],
            "text/html": [
              "Query job f727f2e7-ba64-4958-b6d9-31d6bb99c01f is DONE. 352.3 MB processed. <a target=\"_blank\" href=\"https://console.cloud.google.com/bigquery?project=marketcheck-demo&j=bq:US:f727f2e7-ba64-4958-b6d9-31d6bb99c01f&page=queryresults\">Open Job</a>"
            ]
          },
          "metadata": {}
        },
        {
          "output_type": "stream",
          "name": "stdout",
          "text": [
            "heading\n"
          ]
        },
        {
          "output_type": "display_data",
          "data": {
            "text/plain": [
              "<IPython.core.display.HTML object>"
            ],
            "text/html": [
              "Query job e7a00646-5a90-492a-9295-16f7bf6d6f80 is DONE. 922.4 MB processed. <a target=\"_blank\" href=\"https://console.cloud.google.com/bigquery?project=marketcheck-demo&j=bq:US:e7a00646-5a90-492a-9295-16f7bf6d6f80&page=queryresults\">Open Job</a>"
            ]
          },
          "metadata": {}
        },
        {
          "output_type": "stream",
          "name": "stdout",
          "text": [
            "more_info\n"
          ]
        },
        {
          "output_type": "display_data",
          "data": {
            "text/plain": [
              "<IPython.core.display.HTML object>"
            ],
            "text/html": [
              "Query job 6cfd70a7-6c3c-4daf-ba00-f8708b8148b0 is DONE. 62.2 MB processed. <a target=\"_blank\" href=\"https://console.cloud.google.com/bigquery?project=marketcheck-demo&j=bq:US:6cfd70a7-6c3c-4daf-ba00-f8708b8148b0&page=queryresults\">Open Job</a>"
            ]
          },
          "metadata": {}
        },
        {
          "output_type": "stream",
          "name": "stdout",
          "text": [
            "price\n"
          ]
        },
        {
          "output_type": "display_data",
          "data": {
            "text/plain": [
              "<IPython.core.display.HTML object>"
            ],
            "text/html": [
              "Query job 0a6e55cb-730f-437c-b52c-d0348a8b8afa is DONE. 124.5 MB processed. <a target=\"_blank\" href=\"https://console.cloud.google.com/bigquery?project=marketcheck-demo&j=bq:US:0a6e55cb-730f-437c-b52c-d0348a8b8afa&page=queryresults\">Open Job</a>"
            ]
          },
          "metadata": {}
        },
        {
          "output_type": "stream",
          "name": "stdout",
          "text": [
            "msrp\n"
          ]
        },
        {
          "output_type": "display_data",
          "data": {
            "text/plain": [
              "<IPython.core.display.HTML object>"
            ],
            "text/html": [
              "Query job 94dd491a-2151-4ed2-b9ad-15d74ee85a86 is DONE. 128.1 MB processed. <a target=\"_blank\" href=\"https://console.cloud.google.com/bigquery?project=marketcheck-demo&j=bq:US:94dd491a-2151-4ed2-b9ad-15d74ee85a86&page=queryresults\">Open Job</a>"
            ]
          },
          "metadata": {}
        },
        {
          "output_type": "stream",
          "name": "stdout",
          "text": [
            "miles\n"
          ]
        },
        {
          "output_type": "display_data",
          "data": {
            "text/plain": [
              "<IPython.core.display.HTML object>"
            ],
            "text/html": [
              "Query job 3a45acea-a26d-48dd-a535-e63b58ec4bf7 is DONE. 132.6 MB processed. <a target=\"_blank\" href=\"https://console.cloud.google.com/bigquery?project=marketcheck-demo&j=bq:US:3a45acea-a26d-48dd-a535-e63b58ec4bf7&page=queryresults\">Open Job</a>"
            ]
          },
          "metadata": {}
        },
        {
          "output_type": "stream",
          "name": "stdout",
          "text": [
            "stock_no\n"
          ]
        },
        {
          "output_type": "display_data",
          "data": {
            "text/plain": [
              "<IPython.core.display.HTML object>"
            ],
            "text/html": [
              "Query job 44717a35-2f13-42e6-8d57-210707bb8299 is DONE. 277.4 MB processed. <a target=\"_blank\" href=\"https://console.cloud.google.com/bigquery?project=marketcheck-demo&j=bq:US:44717a35-2f13-42e6-8d57-210707bb8299&page=queryresults\">Open Job</a>"
            ]
          },
          "metadata": {}
        },
        {
          "output_type": "stream",
          "name": "stdout",
          "text": [
            "neo_listing_confidence\n"
          ]
        },
        {
          "output_type": "display_data",
          "data": {
            "text/plain": [
              "<IPython.core.display.HTML object>"
            ],
            "text/html": [
              "Query job 2c15704b-24ef-40e9-a8d9-44e327661479 is DONE. 129.2 MB processed. <a target=\"_blank\" href=\"https://console.cloud.google.com/bigquery?project=marketcheck-demo&j=bq:US:2c15704b-24ef-40e9-a8d9-44e327661479&page=queryresults\">Open Job</a>"
            ]
          },
          "metadata": {}
        },
        {
          "output_type": "stream",
          "name": "stdout",
          "text": [
            "neo_year\n"
          ]
        },
        {
          "output_type": "display_data",
          "data": {
            "text/plain": [
              "<IPython.core.display.HTML object>"
            ],
            "text/html": [
              "Query job ceb30799-1470-4cc8-bcc1-21b263651b78 is DONE. 128.0 MB processed. <a target=\"_blank\" href=\"https://console.cloud.google.com/bigquery?project=marketcheck-demo&j=bq:US:ceb30799-1470-4cc8-bcc1-21b263651b78&page=queryresults\">Open Job</a>"
            ]
          },
          "metadata": {}
        },
        {
          "output_type": "stream",
          "name": "stdout",
          "text": [
            "neo_make\n"
          ]
        },
        {
          "output_type": "display_data",
          "data": {
            "text/plain": [
              "<IPython.core.display.HTML object>"
            ],
            "text/html": [
              "Query job c2188b33-a6b0-4cff-a8bf-786b819e624d is DONE. 143.0 MB processed. <a target=\"_blank\" href=\"https://console.cloud.google.com/bigquery?project=marketcheck-demo&j=bq:US:c2188b33-a6b0-4cff-a8bf-786b819e624d&page=queryresults\">Open Job</a>"
            ]
          },
          "metadata": {}
        },
        {
          "output_type": "stream",
          "name": "stdout",
          "text": [
            "neo_model\n"
          ]
        },
        {
          "output_type": "display_data",
          "data": {
            "text/plain": [
              "<IPython.core.display.HTML object>"
            ],
            "text/html": [
              "Query job eed0cad9-b312-45b1-8fdf-218c634cc7a7 is DONE. 123.2 MB processed. <a target=\"_blank\" href=\"https://console.cloud.google.com/bigquery?project=marketcheck-demo&j=bq:US:eed0cad9-b312-45b1-8fdf-218c634cc7a7&page=queryresults\">Open Job</a>"
            ]
          },
          "metadata": {}
        },
        {
          "output_type": "stream",
          "name": "stdout",
          "text": [
            "neo_trim\n"
          ]
        },
        {
          "output_type": "display_data",
          "data": {
            "text/plain": [
              "<IPython.core.display.HTML object>"
            ],
            "text/html": [
              "Query job dc3aec78-8539-4510-aa81-5092458fbe1c is DONE. 231.0 MB processed. <a target=\"_blank\" href=\"https://console.cloud.google.com/bigquery?project=marketcheck-demo&j=bq:US:dc3aec78-8539-4510-aa81-5092458fbe1c&page=queryresults\">Open Job</a>"
            ]
          },
          "metadata": {}
        },
        {
          "output_type": "stream",
          "name": "stdout",
          "text": [
            "neo_trim_confidence\n"
          ]
        },
        {
          "output_type": "display_data",
          "data": {
            "text/plain": [
              "<IPython.core.display.HTML object>"
            ],
            "text/html": [
              "Query job 4ece4de1-8b51-4ea8-97b2-6aa337904a2b is DONE. 196.1 MB processed. <a target=\"_blank\" href=\"https://console.cloud.google.com/bigquery?project=marketcheck-demo&j=bq:US:4ece4de1-8b51-4ea8-97b2-6aa337904a2b&page=queryresults\">Open Job</a>"
            ]
          },
          "metadata": {}
        },
        {
          "output_type": "stream",
          "name": "stdout",
          "text": [
            "neo_version\n"
          ]
        },
        {
          "output_type": "display_data",
          "data": {
            "text/plain": [
              "<IPython.core.display.HTML object>"
            ],
            "text/html": [
              "Query job 2a337127-4635-43c1-b3ca-ce81003df550 is DONE. 138.2 MB processed. <a target=\"_blank\" href=\"https://console.cloud.google.com/bigquery?project=marketcheck-demo&j=bq:US:2a337127-4635-43c1-b3ca-ce81003df550&page=queryresults\">Open Job</a>"
            ]
          },
          "metadata": {}
        },
        {
          "output_type": "stream",
          "name": "stdout",
          "text": [
            "neo_version_confidence\n"
          ]
        },
        {
          "output_type": "display_data",
          "data": {
            "text/plain": [
              "<IPython.core.display.HTML object>"
            ],
            "text/html": [
              "Query job 28ebd6bc-1ac2-448b-a619-24124d190a60 is DONE. 115.3 MB processed. <a target=\"_blank\" href=\"https://console.cloud.google.com/bigquery?project=marketcheck-demo&j=bq:US:28ebd6bc-1ac2-448b-a619-24124d190a60&page=queryresults\">Open Job</a>"
            ]
          },
          "metadata": {}
        },
        {
          "output_type": "stream",
          "name": "stdout",
          "text": [
            "neo_vehicle_type\n"
          ]
        },
        {
          "output_type": "display_data",
          "data": {
            "text/plain": [
              "<IPython.core.display.HTML object>"
            ],
            "text/html": [
              "Query job 621b9a69-8c64-4cd4-acbf-0cc1dcfef826 is DONE. 115.9 MB processed. <a target=\"_blank\" href=\"https://console.cloud.google.com/bigquery?project=marketcheck-demo&j=bq:US:621b9a69-8c64-4cd4-acbf-0cc1dcfef826&page=queryresults\">Open Job</a>"
            ]
          },
          "metadata": {}
        },
        {
          "output_type": "stream",
          "name": "stdout",
          "text": [
            "neo_body_type\n"
          ]
        },
        {
          "output_type": "display_data",
          "data": {
            "text/plain": [
              "<IPython.core.display.HTML object>"
            ],
            "text/html": [
              "Query job 2038371d-be7d-4f4b-80ab-0d125f51bf7f is DONE. 72.0 MB processed. <a target=\"_blank\" href=\"https://console.cloud.google.com/bigquery?project=marketcheck-demo&j=bq:US:2038371d-be7d-4f4b-80ab-0d125f51bf7f&page=queryresults\">Open Job</a>"
            ]
          },
          "metadata": {}
        },
        {
          "output_type": "stream",
          "name": "stdout",
          "text": [
            "neo_body_subtype\n"
          ]
        },
        {
          "output_type": "display_data",
          "data": {
            "text/plain": [
              "<IPython.core.display.HTML object>"
            ],
            "text/html": [
              "Query job 5fee75db-b797-4eb3-8fea-6ea0af7828f0 is DONE. 103.4 MB processed. <a target=\"_blank\" href=\"https://console.cloud.google.com/bigquery?project=marketcheck-demo&j=bq:US:5fee75db-b797-4eb3-8fea-6ea0af7828f0&page=queryresults\">Open Job</a>"
            ]
          },
          "metadata": {}
        },
        {
          "output_type": "stream",
          "name": "stdout",
          "text": [
            "neo_drivetrain\n"
          ]
        },
        {
          "output_type": "display_data",
          "data": {
            "text/plain": [
              "<IPython.core.display.HTML object>"
            ],
            "text/html": [
              "Query job 9b52d69e-5e4b-44c7-b00f-49133077caf2 is DONE. 153.7 MB processed. <a target=\"_blank\" href=\"https://console.cloud.google.com/bigquery?project=marketcheck-demo&j=bq:US:9b52d69e-5e4b-44c7-b00f-49133077caf2&page=queryresults\">Open Job</a>"
            ]
          },
          "metadata": {}
        },
        {
          "output_type": "stream",
          "name": "stdout",
          "text": [
            "neo_powertrain_type\n"
          ]
        },
        {
          "output_type": "display_data",
          "data": {
            "text/plain": [
              "<IPython.core.display.HTML object>"
            ],
            "text/html": [
              "Query job c9a1c0ec-d14d-40bd-b00e-2912f092253a is DONE. 161.7 MB processed. <a target=\"_blank\" href=\"https://console.cloud.google.com/bigquery?project=marketcheck-demo&j=bq:US:c9a1c0ec-d14d-40bd-b00e-2912f092253a&page=queryresults\">Open Job</a>"
            ]
          },
          "metadata": {}
        },
        {
          "output_type": "stream",
          "name": "stdout",
          "text": [
            "neo_fuel_type\n"
          ]
        },
        {
          "output_type": "display_data",
          "data": {
            "text/plain": [
              "<IPython.core.display.HTML object>"
            ],
            "text/html": [
              "Query job f5a74304-4988-41b4-bcb1-d12eb1a8ebd9 is DONE. 135.3 MB processed. <a target=\"_blank\" href=\"https://console.cloud.google.com/bigquery?project=marketcheck-demo&j=bq:US:f5a74304-4988-41b4-bcb1-d12eb1a8ebd9&page=queryresults\">Open Job</a>"
            ]
          },
          "metadata": {}
        },
        {
          "output_type": "stream",
          "name": "stdout",
          "text": [
            "neo_engine\n"
          ]
        },
        {
          "output_type": "display_data",
          "data": {
            "text/plain": [
              "<IPython.core.display.HTML object>"
            ],
            "text/html": [
              "Query job 86773b86-561b-4c7f-a8dc-871544e9911d is DONE. 86.8 MB processed. <a target=\"_blank\" href=\"https://console.cloud.google.com/bigquery?project=marketcheck-demo&j=bq:US:86773b86-561b-4c7f-a8dc-871544e9911d&page=queryresults\">Open Job</a>"
            ]
          },
          "metadata": {}
        },
        {
          "output_type": "stream",
          "name": "stdout",
          "text": [
            "neo_engine_block\n"
          ]
        },
        {
          "output_type": "display_data",
          "data": {
            "text/plain": [
              "<IPython.core.display.HTML object>"
            ],
            "text/html": [
              "Query job 4b0e27cf-308a-46ee-9545-8ed5fec5bb03 is DONE. 127.8 MB processed. <a target=\"_blank\" href=\"https://console.cloud.google.com/bigquery?project=marketcheck-demo&j=bq:US:4b0e27cf-308a-46ee-9545-8ed5fec5bb03&page=queryresults\">Open Job</a>"
            ]
          },
          "metadata": {}
        },
        {
          "output_type": "stream",
          "name": "stdout",
          "text": [
            "neo_engine_size\n"
          ]
        },
        {
          "output_type": "display_data",
          "data": {
            "text/plain": [
              "<IPython.core.display.HTML object>"
            ],
            "text/html": [
              "Query job b6331b4b-7e2e-42cb-8384-3a549d496da4 is DONE. 145.4 MB processed. <a target=\"_blank\" href=\"https://console.cloud.google.com/bigquery?project=marketcheck-demo&j=bq:US:b6331b4b-7e2e-42cb-8384-3a549d496da4&page=queryresults\">Open Job</a>"
            ]
          },
          "metadata": {}
        },
        {
          "output_type": "stream",
          "name": "stdout",
          "text": [
            "neo_transmission\n"
          ]
        },
        {
          "output_type": "display_data",
          "data": {
            "text/plain": [
              "<IPython.core.display.HTML object>"
            ],
            "text/html": [
              "Query job 6a115886-4578-4e29-9aa2-398c58261e8c is DONE. 128.1 MB processed. <a target=\"_blank\" href=\"https://console.cloud.google.com/bigquery?project=marketcheck-demo&j=bq:US:6a115886-4578-4e29-9aa2-398c58261e8c&page=queryresults\">Open Job</a>"
            ]
          },
          "metadata": {}
        },
        {
          "output_type": "stream",
          "name": "stdout",
          "text": [
            "neo_doors\n"
          ]
        },
        {
          "output_type": "display_data",
          "data": {
            "text/plain": [
              "<IPython.core.display.HTML object>"
            ],
            "text/html": [
              "Query job 0979b211-b859-4d09-8619-c99fe019c9a1 is DONE. 127.7 MB processed. <a target=\"_blank\" href=\"https://console.cloud.google.com/bigquery?project=marketcheck-demo&j=bq:US:0979b211-b859-4d09-8619-c99fe019c9a1&page=queryresults\">Open Job</a>"
            ]
          },
          "metadata": {}
        },
        {
          "output_type": "stream",
          "name": "stdout",
          "text": [
            "neo_cylinders\n"
          ]
        },
        {
          "output_type": "display_data",
          "data": {
            "text/plain": [
              "<IPython.core.display.HTML object>"
            ],
            "text/html": [
              "Query job 0eee81ff-cef8-4e47-82f0-6eba576608f4 is DONE. 124.2 MB processed. <a target=\"_blank\" href=\"https://console.cloud.google.com/bigquery?project=marketcheck-demo&j=bq:US:0eee81ff-cef8-4e47-82f0-6eba576608f4&page=queryresults\">Open Job</a>"
            ]
          },
          "metadata": {}
        },
        {
          "output_type": "stream",
          "name": "stdout",
          "text": [
            "neo_city_mpg\n"
          ]
        },
        {
          "output_type": "display_data",
          "data": {
            "text/plain": [
              "<IPython.core.display.HTML object>"
            ],
            "text/html": [
              "Query job dcd8e8f2-b432-46c0-9e1c-629cc33c2393 is DONE. 124.2 MB processed. <a target=\"_blank\" href=\"https://console.cloud.google.com/bigquery?project=marketcheck-demo&j=bq:US:dcd8e8f2-b432-46c0-9e1c-629cc33c2393&page=queryresults\">Open Job</a>"
            ]
          },
          "metadata": {}
        },
        {
          "output_type": "stream",
          "name": "stdout",
          "text": [
            "neo_highway_mpg\n"
          ]
        },
        {
          "output_type": "display_data",
          "data": {
            "text/plain": [
              "<IPython.core.display.HTML object>"
            ],
            "text/html": [
              "Query job 9cd4f061-dddc-418d-9475-a2a56d8d82ae is DONE. 101.9 MB processed. <a target=\"_blank\" href=\"https://console.cloud.google.com/bigquery?project=marketcheck-demo&j=bq:US:9cd4f061-dddc-418d-9475-a2a56d8d82ae&page=queryresults\">Open Job</a>"
            ]
          },
          "metadata": {}
        },
        {
          "output_type": "stream",
          "name": "stdout",
          "text": [
            "neo_weight\n"
          ]
        },
        {
          "output_type": "display_data",
          "data": {
            "text/plain": [
              "<IPython.core.display.HTML object>"
            ],
            "text/html": [
              "Query job 56814409-dde0-4204-8323-0d0a60ac7366 is DONE. 126.6 MB processed. <a target=\"_blank\" href=\"https://console.cloud.google.com/bigquery?project=marketcheck-demo&j=bq:US:56814409-dde0-4204-8323-0d0a60ac7366&page=queryresults\">Open Job</a>"
            ]
          },
          "metadata": {}
        },
        {
          "output_type": "stream",
          "name": "stdout",
          "text": [
            "neo_width\n"
          ]
        },
        {
          "output_type": "display_data",
          "data": {
            "text/plain": [
              "<IPython.core.display.HTML object>"
            ],
            "text/html": [
              "Query job 1a518880-6bee-4edd-8c8c-4e282c50150c is DONE. 127.8 MB processed. <a target=\"_blank\" href=\"https://console.cloud.google.com/bigquery?project=marketcheck-demo&j=bq:US:1a518880-6bee-4edd-8c8c-4e282c50150c&page=queryresults\">Open Job</a>"
            ]
          },
          "metadata": {}
        },
        {
          "output_type": "stream",
          "name": "stdout",
          "text": [
            "neo_height\n"
          ]
        },
        {
          "output_type": "display_data",
          "data": {
            "text/plain": [
              "<IPython.core.display.HTML object>"
            ],
            "text/html": [
              "Query job 19abef8e-b77e-4fab-bc94-637470141e01 is DONE. 128.1 MB processed. <a target=\"_blank\" href=\"https://console.cloud.google.com/bigquery?project=marketcheck-demo&j=bq:US:19abef8e-b77e-4fab-bc94-637470141e01&page=queryresults\">Open Job</a>"
            ]
          },
          "metadata": {}
        },
        {
          "output_type": "stream",
          "name": "stdout",
          "text": [
            "neo_length\n"
          ]
        },
        {
          "output_type": "display_data",
          "data": {
            "text/plain": [
              "<IPython.core.display.HTML object>"
            ],
            "text/html": [
              "Query job 8e83a7c7-dded-472f-b809-29c1b4a7f2b6 is DONE. 141.0 MB processed. <a target=\"_blank\" href=\"https://console.cloud.google.com/bigquery?project=marketcheck-demo&j=bq:US:8e83a7c7-dded-472f-b809-29c1b4a7f2b6&page=queryresults\">Open Job</a>"
            ]
          },
          "metadata": {}
        },
        {
          "output_type": "stream",
          "name": "stdout",
          "text": [
            "neo_manufacturer_code\n"
          ]
        },
        {
          "output_type": "display_data",
          "data": {
            "text/plain": [
              "<IPython.core.display.HTML object>"
            ],
            "text/html": [
              "Query job f792227a-de80-4fb5-8045-6a7da99979ec is DONE. 71.7 MB processed. <a target=\"_blank\" href=\"https://console.cloud.google.com/bigquery?project=marketcheck-demo&j=bq:US:f792227a-de80-4fb5-8045-6a7da99979ec&page=queryresults\">Open Job</a>"
            ]
          },
          "metadata": {}
        },
        {
          "output_type": "stream",
          "name": "stdout",
          "text": [
            "neo_package_code\n"
          ]
        },
        {
          "output_type": "display_data",
          "data": {
            "text/plain": [
              "<IPython.core.display.HTML object>"
            ],
            "text/html": [
              "Query job bc79cdac-d971-40b9-af91-1932031ffdb0 is DONE. 62.2 MB processed. <a target=\"_blank\" href=\"https://console.cloud.google.com/bigquery?project=marketcheck-demo&j=bq:US:bc79cdac-d971-40b9-af91-1932031ffdb0&page=queryresults\">Open Job</a>"
            ]
          },
          "metadata": {}
        },
        {
          "output_type": "stream",
          "name": "stdout",
          "text": [
            "neo_package_description\n"
          ]
        },
        {
          "output_type": "display_data",
          "data": {
            "text/plain": [
              "<IPython.core.display.HTML object>"
            ],
            "text/html": [
              "Query job 26787b1d-b7a5-403c-80b6-39b04ff1c8d2 is DONE. 128.1 MB processed. <a target=\"_blank\" href=\"https://console.cloud.google.com/bigquery?project=marketcheck-demo&j=bq:US:26787b1d-b7a5-403c-80b6-39b04ff1c8d2&page=queryresults\">Open Job</a>"
            ]
          },
          "metadata": {}
        },
        {
          "output_type": "stream",
          "name": "stdout",
          "text": [
            "neo_base_msrp\n"
          ]
        },
        {
          "output_type": "display_data",
          "data": {
            "text/plain": [
              "<IPython.core.display.HTML object>"
            ],
            "text/html": [
              "Query job eb393d64-7ec4-43d5-9963-a3a2b7dccd45 is DONE. 128.1 MB processed. <a target=\"_blank\" href=\"https://console.cloud.google.com/bigquery?project=marketcheck-demo&j=bq:US:eb393d64-7ec4-43d5-9963-a3a2b7dccd45&page=queryresults\">Open Job</a>"
            ]
          },
          "metadata": {}
        },
        {
          "output_type": "stream",
          "name": "stdout",
          "text": [
            "neo_installed_options_msrp\n"
          ]
        },
        {
          "output_type": "display_data",
          "data": {
            "text/plain": [
              "<IPython.core.display.HTML object>"
            ],
            "text/html": [
              "Query job 8706295e-893a-4db6-9258-04df03c9f9c6 is DONE. 128.1 MB processed. <a target=\"_blank\" href=\"https://console.cloud.google.com/bigquery?project=marketcheck-demo&j=bq:US:8706295e-893a-4db6-9258-04df03c9f9c6&page=queryresults\">Open Job</a>"
            ]
          },
          "metadata": {}
        },
        {
          "output_type": "stream",
          "name": "stdout",
          "text": [
            "neo_delivery_charges\n"
          ]
        },
        {
          "output_type": "display_data",
          "data": {
            "text/plain": [
              "<IPython.core.display.HTML object>"
            ],
            "text/html": [
              "Query job 2eb08afa-81dc-4392-87b8-79a764b9f2f3 is DONE. 128.1 MB processed. <a target=\"_blank\" href=\"https://console.cloud.google.com/bigquery?project=marketcheck-demo&j=bq:US:2eb08afa-81dc-4392-87b8-79a764b9f2f3&page=queryresults\">Open Job</a>"
            ]
          },
          "metadata": {}
        },
        {
          "output_type": "stream",
          "name": "stdout",
          "text": [
            "neo_combined_msrp\n"
          ]
        },
        {
          "output_type": "display_data",
          "data": {
            "text/plain": [
              "<IPython.core.display.HTML object>"
            ],
            "text/html": [
              "Query job d9a05921-b547-4a43-b42e-4e4ccdee1938 is DONE. 144.2 MB processed. <a target=\"_blank\" href=\"https://console.cloud.google.com/bigquery?project=marketcheck-demo&j=bq:US:d9a05921-b547-4a43-b42e-4e4ccdee1938&page=queryresults\">Open Job</a>"
            ]
          },
          "metadata": {}
        },
        {
          "output_type": "stream",
          "name": "stdout",
          "text": [
            "interior_color\n"
          ]
        },
        {
          "output_type": "display_data",
          "data": {
            "text/plain": [
              "<IPython.core.display.HTML object>"
            ],
            "text/html": [
              "Query job 2256c036-a7e6-4a81-a3c0-f18778110327 is DONE. 111.9 MB processed. <a target=\"_blank\" href=\"https://console.cloud.google.com/bigquery?project=marketcheck-demo&j=bq:US:2256c036-a7e6-4a81-a3c0-f18778110327&page=queryresults\">Open Job</a>"
            ]
          },
          "metadata": {}
        },
        {
          "output_type": "stream",
          "name": "stdout",
          "text": [
            "base_interior_color\n"
          ]
        },
        {
          "output_type": "display_data",
          "data": {
            "text/plain": [
              "<IPython.core.display.HTML object>"
            ],
            "text/html": [
              "Query job 09fcd35e-3924-43e1-8c9d-a38acdbf9673 is DONE. 690.2 MB processed. <a target=\"_blank\" href=\"https://console.cloud.google.com/bigquery?project=marketcheck-demo&j=bq:US:09fcd35e-3924-43e1-8c9d-a38acdbf9673&page=queryresults\">Open Job</a>"
            ]
          },
          "metadata": {}
        },
        {
          "output_type": "stream",
          "name": "stdout",
          "text": [
            "neo_mfg_interior_color\n"
          ]
        },
        {
          "output_type": "display_data",
          "data": {
            "text/plain": [
              "<IPython.core.display.HTML object>"
            ],
            "text/html": [
              "Query job 78076520-6329-44a5-a131-1154e506ed1e is DONE. 183.1 MB processed. <a target=\"_blank\" href=\"https://console.cloud.google.com/bigquery?project=marketcheck-demo&j=bq:US:78076520-6329-44a5-a131-1154e506ed1e&page=queryresults\">Open Job</a>"
            ]
          },
          "metadata": {}
        },
        {
          "output_type": "stream",
          "name": "stdout",
          "text": [
            "exterior_color\n"
          ]
        },
        {
          "output_type": "display_data",
          "data": {
            "text/plain": [
              "<IPython.core.display.HTML object>"
            ],
            "text/html": [
              "Query job 6adb206b-949f-4c85-a0d8-a2b0910d74ae is DONE. 115.7 MB processed. <a target=\"_blank\" href=\"https://console.cloud.google.com/bigquery?project=marketcheck-demo&j=bq:US:6adb206b-949f-4c85-a0d8-a2b0910d74ae&page=queryresults\">Open Job</a>"
            ]
          },
          "metadata": {}
        },
        {
          "output_type": "stream",
          "name": "stdout",
          "text": [
            "base_exterior_color\n"
          ]
        },
        {
          "output_type": "display_data",
          "data": {
            "text/plain": [
              "<IPython.core.display.HTML object>"
            ],
            "text/html": [
              "Query job 38ae49a5-734d-4f6d-b8df-0259d267fb92 is DONE. 784.9 MB processed. <a target=\"_blank\" href=\"https://console.cloud.google.com/bigquery?project=marketcheck-demo&j=bq:US:38ae49a5-734d-4f6d-b8df-0259d267fb92&page=queryresults\">Open Job</a>"
            ]
          },
          "metadata": {}
        },
        {
          "output_type": "stream",
          "name": "stdout",
          "text": [
            "neo_mfg_exterior_color\n"
          ]
        },
        {
          "output_type": "display_data",
          "data": {
            "text/plain": [
              "<IPython.core.display.HTML object>"
            ],
            "text/html": [
              "Query job 0e249a3f-9551-40ab-8ad3-7840043f7393 is DONE. 69.0 MB processed. <a target=\"_blank\" href=\"https://console.cloud.google.com/bigquery?project=marketcheck-demo&j=bq:US:0e249a3f-9551-40ab-8ad3-7840043f7393&page=queryresults\">Open Job</a>"
            ]
          },
          "metadata": {}
        },
        {
          "output_type": "stream",
          "name": "stdout",
          "text": [
            "is_certified\n"
          ]
        },
        {
          "output_type": "display_data",
          "data": {
            "text/plain": [
              "<IPython.core.display.HTML object>"
            ],
            "text/html": [
              "Query job 54de1d4a-8222-441b-8d21-3f28f045e1b5 is DONE. 62.2 MB processed. <a target=\"_blank\" href=\"https://console.cloud.google.com/bigquery?project=marketcheck-demo&j=bq:US:54de1d4a-8222-441b-8d21-3f28f045e1b5&page=queryresults\">Open Job</a>"
            ]
          },
          "metadata": {}
        },
        {
          "output_type": "stream",
          "name": "stdout",
          "text": [
            "is_transfer\n"
          ]
        },
        {
          "output_type": "display_data",
          "data": {
            "text/plain": [
              "<IPython.core.display.HTML object>"
            ],
            "text/html": [
              "Query job c77e4c76-b488-4ebf-99fc-209293136cdf is DONE. 162.7 MB processed. <a target=\"_blank\" href=\"https://console.cloud.google.com/bigquery?project=marketcheck-demo&j=bq:US:c77e4c76-b488-4ebf-99fc-209293136cdf&page=queryresults\">Open Job</a>"
            ]
          },
          "metadata": {}
        },
        {
          "output_type": "stream",
          "name": "stdout",
          "text": [
            "taxonomy_vin\n"
          ]
        },
        {
          "output_type": "display_data",
          "data": {
            "text/plain": [
              "<IPython.core.display.HTML object>"
            ],
            "text/html": [
              "Query job 7b3fbd28-f398-4b2a-a6b2-12cf862e7569 is DONE. 69.9 MB processed. <a target=\"_blank\" href=\"https://console.cloud.google.com/bigquery?project=marketcheck-demo&j=bq:US:7b3fbd28-f398-4b2a-a6b2-12cf862e7569&page=queryresults\">Open Job</a>"
            ]
          },
          "metadata": {}
        },
        {
          "output_type": "stream",
          "name": "stdout",
          "text": [
            "model_code\n"
          ]
        },
        {
          "output_type": "display_data",
          "data": {
            "text/plain": [
              "<IPython.core.display.HTML object>"
            ],
            "text/html": [
              "Query job ac65c85b-2aea-4ea6-8f4a-ee064e3c24a0 is DONE. 129.2 MB processed. <a target=\"_blank\" href=\"https://console.cloud.google.com/bigquery?project=marketcheck-demo&j=bq:US:ac65c85b-2aea-4ea6-8f4a-ee064e3c24a0&page=queryresults\">Open Job</a>"
            ]
          },
          "metadata": {}
        },
        {
          "output_type": "stream",
          "name": "stdout",
          "text": [
            "scraped_at\n"
          ]
        },
        {
          "output_type": "display_data",
          "data": {
            "text/plain": [
              "<IPython.core.display.HTML object>"
            ],
            "text/html": [
              "Query job f04c9437-9e56-4e58-8619-3901769f481b is DONE. 129.2 MB processed. <a target=\"_blank\" href=\"https://console.cloud.google.com/bigquery?project=marketcheck-demo&j=bq:US:f04c9437-9e56-4e58-8619-3901769f481b&page=queryresults\">Open Job</a>"
            ]
          },
          "metadata": {}
        },
        {
          "output_type": "stream",
          "name": "stdout",
          "text": [
            "status_date\n"
          ]
        },
        {
          "output_type": "display_data",
          "data": {
            "text/plain": [
              "<IPython.core.display.HTML object>"
            ],
            "text/html": [
              "Query job 529cf86d-baaa-4630-8ed2-8c7c6efe464a is DONE. 129.2 MB processed. <a target=\"_blank\" href=\"https://console.cloud.google.com/bigquery?project=marketcheck-demo&j=bq:US:529cf86d-baaa-4630-8ed2-8c7c6efe464a&page=queryresults\">Open Job</a>"
            ]
          },
          "metadata": {}
        },
        {
          "output_type": "stream",
          "name": "stdout",
          "text": [
            "first_scraped_at\n"
          ]
        },
        {
          "output_type": "display_data",
          "data": {
            "text/plain": [
              "<IPython.core.display.HTML object>"
            ],
            "text/html": [
              "Query job 1e04c70f-ff1c-4892-9f84-f0da215bf95f is DONE. 249.0 MB processed. <a target=\"_blank\" href=\"https://console.cloud.google.com/bigquery?project=marketcheck-demo&j=bq:US:1e04c70f-ff1c-4892-9f84-f0da215bf95f&page=queryresults\">Open Job</a>"
            ]
          },
          "metadata": {}
        },
        {
          "output_type": "stream",
          "name": "stdout",
          "text": [
            "source\n"
          ]
        },
        {
          "output_type": "display_data",
          "data": {
            "text/plain": [
              "<IPython.core.display.HTML object>"
            ],
            "text/html": [
              "Query job 9e99d285-11bb-4e9f-9edf-539e98d6caee is DONE. 264.0 MB processed. <a target=\"_blank\" href=\"https://console.cloud.google.com/bigquery?project=marketcheck-demo&j=bq:US:9e99d285-11bb-4e9f-9edf-539e98d6caee&page=queryresults\">Open Job</a>"
            ]
          },
          "metadata": {}
        },
        {
          "output_type": "stream",
          "name": "stdout",
          "text": [
            "seller_name\n"
          ]
        },
        {
          "output_type": "display_data",
          "data": {
            "text/plain": [
              "<IPython.core.display.HTML object>"
            ],
            "text/html": [
              "Query job f3b59f3d-dfe9-444e-b1ea-84ccca856ff3 is DONE. 239.7 MB processed. <a target=\"_blank\" href=\"https://console.cloud.google.com/bigquery?project=marketcheck-demo&j=bq:US:f3b59f3d-dfe9-444e-b1ea-84ccca856ff3&page=queryresults\">Open Job</a>"
            ]
          },
          "metadata": {}
        },
        {
          "output_type": "stream",
          "name": "stdout",
          "text": [
            "street\n"
          ]
        },
        {
          "output_type": "display_data",
          "data": {
            "text/plain": [
              "<IPython.core.display.HTML object>"
            ],
            "text/html": [
              "Query job 4996489d-d6d4-4f21-8c3b-5e6b1a1cd388 is DONE. 152.4 MB processed. <a target=\"_blank\" href=\"https://console.cloud.google.com/bigquery?project=marketcheck-demo&j=bq:US:4996489d-d6d4-4f21-8c3b-5e6b1a1cd388&page=queryresults\">Open Job</a>"
            ]
          },
          "metadata": {}
        },
        {
          "output_type": "stream",
          "name": "stdout",
          "text": [
            "city\n"
          ]
        },
        {
          "output_type": "display_data",
          "data": {
            "text/plain": [
              "<IPython.core.display.HTML object>"
            ],
            "text/html": [
              "Query job a1f2c23d-625f-44c0-a9bd-e2ffa929e189 is DONE. 95.7 MB processed. <a target=\"_blank\" href=\"https://console.cloud.google.com/bigquery?project=marketcheck-demo&j=bq:US:a1f2c23d-625f-44c0-a9bd-e2ffa929e189&page=queryresults\">Open Job</a>"
            ]
          },
          "metadata": {}
        },
        {
          "output_type": "stream",
          "name": "stdout",
          "text": [
            "state\n"
          ]
        },
        {
          "output_type": "display_data",
          "data": {
            "text/plain": [
              "<IPython.core.display.HTML object>"
            ],
            "text/html": [
              "Query job 2d651f87-087a-40f8-ac5a-cb174d3fa84a is DONE. 129.2 MB processed. <a target=\"_blank\" href=\"https://console.cloud.google.com/bigquery?project=marketcheck-demo&j=bq:US:2d651f87-087a-40f8-ac5a-cb174d3fa84a&page=queryresults\">Open Job</a>"
            ]
          },
          "metadata": {}
        },
        {
          "output_type": "stream",
          "name": "stdout",
          "text": [
            "zip\n"
          ]
        },
        {
          "output_type": "display_data",
          "data": {
            "text/plain": [
              "<IPython.core.display.HTML object>"
            ],
            "text/html": [
              "Query job 4e3c1153-f219-440d-a835-7f9afc5156aa is DONE. 129.2 MB processed. <a target=\"_blank\" href=\"https://console.cloud.google.com/bigquery?project=marketcheck-demo&j=bq:US:4e3c1153-f219-440d-a835-7f9afc5156aa&page=queryresults\">Open Job</a>"
            ]
          },
          "metadata": {}
        },
        {
          "output_type": "stream",
          "name": "stdout",
          "text": [
            "latitude\n"
          ]
        },
        {
          "output_type": "display_data",
          "data": {
            "text/plain": [
              "<IPython.core.display.HTML object>"
            ],
            "text/html": [
              "Query job fcb44078-ed8d-4efe-821e-1ecb218dd608 is DONE. 129.2 MB processed. <a target=\"_blank\" href=\"https://console.cloud.google.com/bigquery?project=marketcheck-demo&j=bq:US:fcb44078-ed8d-4efe-821e-1ecb218dd608&page=queryresults\">Open Job</a>"
            ]
          },
          "metadata": {}
        },
        {
          "output_type": "stream",
          "name": "stdout",
          "text": [
            "longitude\n"
          ]
        },
        {
          "output_type": "display_data",
          "data": {
            "text/plain": [
              "<IPython.core.display.HTML object>"
            ],
            "text/html": [
              "Query job 34fc3c07-dbbc-4308-8f4d-f1074c6e67f8 is DONE. 95.7 MB processed. <a target=\"_blank\" href=\"https://console.cloud.google.com/bigquery?project=marketcheck-demo&j=bq:US:34fc3c07-dbbc-4308-8f4d-f1074c6e67f8&page=queryresults\">Open Job</a>"
            ]
          },
          "metadata": {}
        },
        {
          "output_type": "stream",
          "name": "stdout",
          "text": [
            "country\n"
          ]
        },
        {
          "output_type": "display_data",
          "data": {
            "text/plain": [
              "<IPython.core.display.HTML object>"
            ],
            "text/html": [
              "Query job e1efd1f5-d7e1-4988-b11e-1cbcbe8a0a24 is DONE. 103.3 MB processed. <a target=\"_blank\" href=\"https://console.cloud.google.com/bigquery?project=marketcheck-demo&j=bq:US:e1efd1f5-d7e1-4988-b11e-1cbcbe8a0a24&page=queryresults\">Open Job</a>"
            ]
          },
          "metadata": {}
        },
        {
          "output_type": "stream",
          "name": "stdout",
          "text": [
            "neo_country\n"
          ]
        },
        {
          "output_type": "display_data",
          "data": {
            "text/plain": [
              "<IPython.core.display.HTML object>"
            ],
            "text/html": [
              "Query job 42684e61-0a4d-4361-a822-410d3339e235 is DONE. 181.7 MB processed. <a target=\"_blank\" href=\"https://console.cloud.google.com/bigquery?project=marketcheck-demo&j=bq:US:42684e61-0a4d-4361-a822-410d3339e235&page=queryresults\">Open Job</a>"
            ]
          },
          "metadata": {}
        },
        {
          "output_type": "stream",
          "name": "stdout",
          "text": [
            "seller_phone\n"
          ]
        },
        {
          "output_type": "display_data",
          "data": {
            "text/plain": [
              "<IPython.core.display.HTML object>"
            ],
            "text/html": [
              "Query job 4a824ad8-7c75-46ee-a8a1-dff9865515f2 is DONE. 164.4 MB processed. <a target=\"_blank\" href=\"https://console.cloud.google.com/bigquery?project=marketcheck-demo&j=bq:US:4a824ad8-7c75-46ee-a8a1-dff9865515f2&page=queryresults\">Open Job</a>"
            ]
          },
          "metadata": {}
        },
        {
          "output_type": "stream",
          "name": "stdout",
          "text": [
            "seller_email\n"
          ]
        },
        {
          "output_type": "display_data",
          "data": {
            "text/plain": [
              "<IPython.core.display.HTML object>"
            ],
            "text/html": [
              "Query job 743244ed-3188-47a6-82ee-c5a06f2de38c is DONE. 129.2 MB processed. <a target=\"_blank\" href=\"https://console.cloud.google.com/bigquery?project=marketcheck-demo&j=bq:US:743244ed-3188-47a6-82ee-c5a06f2de38c&page=queryresults\">Open Job</a>"
            ]
          },
          "metadata": {}
        },
        {
          "output_type": "stream",
          "name": "stdout",
          "text": [
            "seller_type\n"
          ]
        },
        {
          "output_type": "display_data",
          "data": {
            "text/plain": [
              "<IPython.core.display.HTML object>"
            ],
            "text/html": [
              "Query job 13303aa3-2b0e-4a62-9a99-34e6894bf0e0 is DONE. 129.2 MB processed. <a target=\"_blank\" href=\"https://console.cloud.google.com/bigquery?project=marketcheck-demo&j=bq:US:13303aa3-2b0e-4a62-9a99-34e6894bf0e0&page=queryresults\">Open Job</a>"
            ]
          },
          "metadata": {}
        },
        {
          "output_type": "stream",
          "name": "stdout",
          "text": [
            "listing_type\n"
          ]
        },
        {
          "output_type": "display_data",
          "data": {
            "text/plain": [
              "<IPython.core.display.HTML object>"
            ],
            "text/html": [
              "Query job 12af8319-1cdd-47c4-9e1e-95c0a7541db4 is DONE. 112.5 MB processed. <a target=\"_blank\" href=\"https://console.cloud.google.com/bigquery?project=marketcheck-demo&j=bq:US:12af8319-1cdd-47c4-9e1e-95c0a7541db4&page=queryresults\">Open Job</a>"
            ]
          },
          "metadata": {}
        },
        {
          "output_type": "stream",
          "name": "stdout",
          "text": [
            "inventory_type\n"
          ]
        },
        {
          "output_type": "display_data",
          "data": {
            "text/plain": [
              "<IPython.core.display.HTML object>"
            ],
            "text/html": [
              "Query job aa66947c-109a-4891-8f28-8f7e6a75cd59 is DONE. 157.9 MB processed. <a target=\"_blank\" href=\"https://console.cloud.google.com/bigquery?project=marketcheck-demo&j=bq:US:aa66947c-109a-4891-8f28-8f7e6a75cd59&page=queryresults\">Open Job</a>"
            ]
          },
          "metadata": {}
        },
        {
          "output_type": "stream",
          "name": "stdout",
          "text": [
            "dealer_type\n"
          ]
        },
        {
          "output_type": "display_data",
          "data": {
            "text/plain": [
              "<IPython.core.display.HTML object>"
            ],
            "text/html": [
              "Query job 8c60e49f-03e0-441e-8e9b-f88a92c5b52f is DONE. 183.7 MB processed. <a target=\"_blank\" href=\"https://console.cloud.google.com/bigquery?project=marketcheck-demo&j=bq:US:8c60e49f-03e0-441e-8e9b-f88a92c5b52f&page=queryresults\">Open Job</a>"
            ]
          },
          "metadata": {}
        },
        {
          "output_type": "stream",
          "name": "stdout",
          "text": [
            "car_seller_name\n"
          ]
        },
        {
          "output_type": "display_data",
          "data": {
            "text/plain": [
              "<IPython.core.display.HTML object>"
            ],
            "text/html": [
              "Query job aedb7201-9820-4159-b6c3-f39a5da71ad9 is DONE. 197.7 MB processed. <a target=\"_blank\" href=\"https://console.cloud.google.com/bigquery?project=marketcheck-demo&j=bq:US:aedb7201-9820-4159-b6c3-f39a5da71ad9&page=queryresults\">Open Job</a>"
            ]
          },
          "metadata": {}
        },
        {
          "output_type": "stream",
          "name": "stdout",
          "text": [
            "car_address\n"
          ]
        },
        {
          "output_type": "display_data",
          "data": {
            "text/plain": [
              "<IPython.core.display.HTML object>"
            ],
            "text/html": [
              "Query job 971cd5df-0353-46e9-946e-83aa0d7bbcf2 is DONE. 144.3 MB processed. <a target=\"_blank\" href=\"https://console.cloud.google.com/bigquery?project=marketcheck-demo&j=bq:US:971cd5df-0353-46e9-946e-83aa0d7bbcf2&page=queryresults\">Open Job</a>"
            ]
          },
          "metadata": {}
        },
        {
          "output_type": "stream",
          "name": "stdout",
          "text": [
            "car_street\n"
          ]
        },
        {
          "output_type": "display_data",
          "data": {
            "text/plain": [
              "<IPython.core.display.HTML object>"
            ],
            "text/html": [
              "Query job 5f29a8a2-c6e8-4326-a5d3-324c3390a215 is DONE. 107.5 MB processed. <a target=\"_blank\" href=\"https://console.cloud.google.com/bigquery?project=marketcheck-demo&j=bq:US:5f29a8a2-c6e8-4326-a5d3-324c3390a215&page=queryresults\">Open Job</a>"
            ]
          },
          "metadata": {}
        },
        {
          "output_type": "stream",
          "name": "stdout",
          "text": [
            "car_city\n"
          ]
        },
        {
          "output_type": "display_data",
          "data": {
            "text/plain": [
              "<IPython.core.display.HTML object>"
            ],
            "text/html": [
              "Query job 65901324-1d1b-421d-9bf9-5ecbc8c910c8 is DONE. 79.4 MB processed. <a target=\"_blank\" href=\"https://console.cloud.google.com/bigquery?project=marketcheck-demo&j=bq:US:65901324-1d1b-421d-9bf9-5ecbc8c910c8&page=queryresults\">Open Job</a>"
            ]
          },
          "metadata": {}
        },
        {
          "output_type": "stream",
          "name": "stdout",
          "text": [
            "car_state\n"
          ]
        },
        {
          "output_type": "display_data",
          "data": {
            "text/plain": [
              "<IPython.core.display.HTML object>"
            ],
            "text/html": [
              "Query job 6ef2c0a2-7a07-4a2a-80c8-4d00a7773483 is DONE. 95.3 MB processed. <a target=\"_blank\" href=\"https://console.cloud.google.com/bigquery?project=marketcheck-demo&j=bq:US:6ef2c0a2-7a07-4a2a-80c8-4d00a7773483&page=queryresults\">Open Job</a>"
            ]
          },
          "metadata": {}
        },
        {
          "output_type": "stream",
          "name": "stdout",
          "text": [
            "car_zip\n"
          ]
        },
        {
          "output_type": "display_data",
          "data": {
            "text/plain": [
              "<IPython.core.display.HTML object>"
            ],
            "text/html": [
              "Query job 8870f4ec-e294-443e-8122-ceda68b76505 is DONE. 94.9 MB processed. <a target=\"_blank\" href=\"https://console.cloud.google.com/bigquery?project=marketcheck-demo&j=bq:US:8870f4ec-e294-443e-8122-ceda68b76505&page=queryresults\">Open Job</a>"
            ]
          },
          "metadata": {}
        },
        {
          "output_type": "stream",
          "name": "stdout",
          "text": [
            "car_latitude\n"
          ]
        },
        {
          "output_type": "display_data",
          "data": {
            "text/plain": [
              "<IPython.core.display.HTML object>"
            ],
            "text/html": [
              "Query job 28432053-59c9-4f3a-83fd-be3f32c81971 is DONE. 94.9 MB processed. <a target=\"_blank\" href=\"https://console.cloud.google.com/bigquery?project=marketcheck-demo&j=bq:US:28432053-59c9-4f3a-83fd-be3f32c81971&page=queryresults\">Open Job</a>"
            ]
          },
          "metadata": {}
        },
        {
          "output_type": "stream",
          "name": "stdout",
          "text": [
            "car_longitude\n"
          ]
        },
        {
          "output_type": "display_data",
          "data": {
            "text/plain": [
              "<IPython.core.display.HTML object>"
            ],
            "text/html": [
              "Query job 72bbca5f-a1b4-4920-9841-969cc2d3e4cc is DONE. 8.3 GB processed. <a target=\"_blank\" href=\"https://console.cloud.google.com/bigquery?project=marketcheck-demo&j=bq:US:72bbca5f-a1b4-4920-9841-969cc2d3e4cc&page=queryresults\">Open Job</a>"
            ]
          },
          "metadata": {}
        },
        {
          "output_type": "stream",
          "name": "stdout",
          "text": [
            "seller_comments\n"
          ]
        },
        {
          "output_type": "display_data",
          "data": {
            "text/plain": [
              "<IPython.core.display.HTML object>"
            ],
            "text/html": [
              "Query job 1b6f90d5-4099-4fa0-8593-f26b7d2cdaf0 is DONE. 3.9 GB processed. <a target=\"_blank\" href=\"https://console.cloud.google.com/bigquery?project=marketcheck-demo&j=bq:US:1b6f90d5-4099-4fa0-8593-f26b7d2cdaf0&page=queryresults\">Open Job</a>"
            ]
          },
          "metadata": {}
        },
        {
          "output_type": "stream",
          "name": "stdout",
          "text": [
            "options\n"
          ]
        },
        {
          "output_type": "display_data",
          "data": {
            "text/plain": [
              "<IPython.core.display.HTML object>"
            ],
            "text/html": [
              "Query job 28b7cb3c-55bd-4264-b96f-7c1487aee74a is DONE. 35.4 GB processed. <a target=\"_blank\" href=\"https://console.cloud.google.com/bigquery?project=marketcheck-demo&j=bq:US:28b7cb3c-55bd-4264-b96f-7c1487aee74a&page=queryresults\">Open Job</a>"
            ]
          },
          "metadata": {}
        },
        {
          "output_type": "stream",
          "name": "stdout",
          "text": [
            "features\n"
          ]
        },
        {
          "output_type": "display_data",
          "data": {
            "text/plain": [
              "<IPython.core.display.HTML object>"
            ],
            "text/html": [
              "Query job 521a8158-a1d7-43da-9f4b-25ee7785c922 is DONE. 166.2 MB processed. <a target=\"_blank\" href=\"https://console.cloud.google.com/bigquery?project=marketcheck-demo&j=bq:US:521a8158-a1d7-43da-9f4b-25ee7785c922&page=queryresults\">Open Job</a>"
            ]
          },
          "metadata": {}
        },
        {
          "output_type": "stream",
          "name": "stdout",
          "text": [
            "neo_options_packages\n"
          ]
        },
        {
          "output_type": "display_data",
          "data": {
            "text/plain": [
              "<IPython.core.display.HTML object>"
            ],
            "text/html": [
              "Query job b0408622-2f08-45ba-bb8f-cb6bd5c198ce is DONE. 2.5 GB processed. <a target=\"_blank\" href=\"https://console.cloud.google.com/bigquery?project=marketcheck-demo&j=bq:US:b0408622-2f08-45ba-bb8f-cb6bd5c198ce&page=queryresults\">Open Job</a>"
            ]
          },
          "metadata": {}
        },
        {
          "output_type": "stream",
          "name": "stdout",
          "text": [
            "neo_installed_options_details\n"
          ]
        },
        {
          "output_type": "display_data",
          "data": {
            "text/plain": [
              "<IPython.core.display.HTML object>"
            ],
            "text/html": [
              "Query job f028c4ac-0230-4234-a1d6-3ff3e692d4a4 is DONE. 18.6 GB processed. <a target=\"_blank\" href=\"https://console.cloud.google.com/bigquery?project=marketcheck-demo&j=bq:US:f028c4ac-0230-4234-a1d6-3ff3e692d4a4&page=queryresults\">Open Job</a>"
            ]
          },
          "metadata": {}
        },
        {
          "output_type": "stream",
          "name": "stdout",
          "text": [
            "neo_high_value_features\n"
          ]
        },
        {
          "output_type": "display_data",
          "data": {
            "text/plain": [
              "<IPython.core.display.HTML object>"
            ],
            "text/html": [
              "Query job 4e14196c-6699-4752-b385-203a09012037 is DONE. 21.5 GB processed. <a target=\"_blank\" href=\"https://console.cloud.google.com/bigquery?project=marketcheck-demo&j=bq:US:4e14196c-6699-4752-b385-203a09012037&page=queryresults\">Open Job</a>"
            ]
          },
          "metadata": {}
        },
        {
          "output_type": "stream",
          "name": "stdout",
          "text": [
            "photo_links\n"
          ]
        },
        {
          "output_type": "display_data",
          "data": {
            "text/plain": [
              "<IPython.core.display.HTML object>"
            ],
            "text/html": [
              "Query job 93ee56d8-5f00-40d3-8fc5-6c4c158a302c is DONE. 928.2 MB processed. <a target=\"_blank\" href=\"https://console.cloud.google.com/bigquery?project=marketcheck-demo&j=bq:US:93ee56d8-5f00-40d3-8fc5-6c4c158a302c&page=queryresults\">Open Job</a>"
            ]
          },
          "metadata": {}
        },
        {
          "output_type": "stream",
          "name": "stdout",
          "text": [
            "photo_url\n"
          ]
        },
        {
          "output_type": "display_data",
          "data": {
            "text/plain": [
              "<IPython.core.display.HTML object>"
            ],
            "text/html": [
              "Query job a2c3879f-a2ac-4414-832d-bfdc61f6dadf is DONE. 129.2 MB processed. <a target=\"_blank\" href=\"https://console.cloud.google.com/bigquery?project=marketcheck-demo&j=bq:US:a2c3879f-a2ac-4414-832d-bfdc61f6dadf&page=queryresults\">Open Job</a>"
            ]
          },
          "metadata": {}
        },
        {
          "output_type": "stream",
          "name": "stdout",
          "text": [
            "dom\n"
          ]
        },
        {
          "output_type": "display_data",
          "data": {
            "text/plain": [
              "<IPython.core.display.HTML object>"
            ],
            "text/html": [
              "Query job 1c481acc-5f6a-4e4f-b337-b3dcc6d40ed1 is DONE. 129.2 MB processed. <a target=\"_blank\" href=\"https://console.cloud.google.com/bigquery?project=marketcheck-demo&j=bq:US:1c481acc-5f6a-4e4f-b337-b3dcc6d40ed1&page=queryresults\">Open Job</a>"
            ]
          },
          "metadata": {}
        },
        {
          "output_type": "stream",
          "name": "stdout",
          "text": [
            "dom_180\n"
          ]
        },
        {
          "output_type": "display_data",
          "data": {
            "text/plain": [
              "<IPython.core.display.HTML object>"
            ],
            "text/html": [
              "Query job 9b322aea-a26e-4b2f-947b-e53e9d870147 is DONE. 129.2 MB processed. <a target=\"_blank\" href=\"https://console.cloud.google.com/bigquery?project=marketcheck-demo&j=bq:US:9b322aea-a26e-4b2f-947b-e53e9d870147&page=queryresults\">Open Job</a>"
            ]
          },
          "metadata": {}
        },
        {
          "output_type": "stream",
          "name": "stdout",
          "text": [
            "dom_active\n"
          ]
        },
        {
          "output_type": "display_data",
          "data": {
            "text/plain": [
              "<IPython.core.display.HTML object>"
            ],
            "text/html": [
              "Query job 6d95020e-815c-49ef-904b-4ea775691908 is DONE. 101.1 MB processed. <a target=\"_blank\" href=\"https://console.cloud.google.com/bigquery?project=marketcheck-demo&j=bq:US:6d95020e-815c-49ef-904b-4ea775691908&page=queryresults\">Open Job</a>"
            ]
          },
          "metadata": {}
        },
        {
          "output_type": "stream",
          "name": "stdout",
          "text": [
            "currency_indicator\n"
          ]
        },
        {
          "output_type": "display_data",
          "data": {
            "text/plain": [
              "<IPython.core.display.HTML object>"
            ],
            "text/html": [
              "Query job 72929110-1f17-4f5b-809e-b32982192633 is DONE. 119.9 MB processed. <a target=\"_blank\" href=\"https://console.cloud.google.com/bigquery?project=marketcheck-demo&j=bq:US:72929110-1f17-4f5b-809e-b32982192633&page=queryresults\">Open Job</a>"
            ]
          },
          "metadata": {}
        },
        {
          "output_type": "stream",
          "name": "stdout",
          "text": [
            "miles_indicator\n"
          ]
        },
        {
          "output_type": "display_data",
          "data": {
            "text/plain": [
              "<IPython.core.display.HTML object>"
            ],
            "text/html": [
              "Query job a8547612-226d-43ba-9c6f-ee3c6a78020f is DONE. 125.1 MB processed. <a target=\"_blank\" href=\"https://console.cloud.google.com/bigquery?project=marketcheck-demo&j=bq:US:a8547612-226d-43ba-9c6f-ee3c6a78020f&page=queryresults\">Open Job</a>"
            ]
          },
          "metadata": {}
        },
        {
          "output_type": "stream",
          "name": "stdout",
          "text": [
            "carfax_1_owner\n"
          ]
        },
        {
          "output_type": "display_data",
          "data": {
            "text/plain": [
              "<IPython.core.display.HTML object>"
            ],
            "text/html": [
              "Query job ddc0ac97-fe5b-4b42-9a76-0726da1e6c9f is DONE. 124.3 MB processed. <a target=\"_blank\" href=\"https://console.cloud.google.com/bigquery?project=marketcheck-demo&j=bq:US:ddc0ac97-fe5b-4b42-9a76-0726da1e6c9f&page=queryresults\">Open Job</a>"
            ]
          },
          "metadata": {}
        },
        {
          "output_type": "stream",
          "name": "stdout",
          "text": [
            "carfax_clean_title\n"
          ]
        },
        {
          "output_type": "display_data",
          "data": {
            "text/plain": [
              "<IPython.core.display.HTML object>"
            ],
            "text/html": [
              "Query job 6ba66f57-c93a-47f9-ad92-d626684f4149 is DONE. 63.6 MB processed. <a target=\"_blank\" href=\"https://console.cloud.google.com/bigquery?project=marketcheck-demo&j=bq:US:6ba66f57-c93a-47f9-ad92-d626684f4149&page=queryresults\">Open Job</a>"
            ]
          },
          "metadata": {}
        },
        {
          "output_type": "stream",
          "name": "stdout",
          "text": [
            "loan_term\n"
          ]
        },
        {
          "output_type": "display_data",
          "data": {
            "text/plain": [
              "<IPython.core.display.HTML object>"
            ],
            "text/html": [
              "Query job cb73c8ab-fd36-4ebd-b5bc-77fe5f580818 is DONE. 63.6 MB processed. <a target=\"_blank\" href=\"https://console.cloud.google.com/bigquery?project=marketcheck-demo&j=bq:US:cb73c8ab-fd36-4ebd-b5bc-77fe5f580818&page=queryresults\">Open Job</a>"
            ]
          },
          "metadata": {}
        },
        {
          "output_type": "stream",
          "name": "stdout",
          "text": [
            "loan_apr\n"
          ]
        },
        {
          "output_type": "display_data",
          "data": {
            "text/plain": [
              "<IPython.core.display.HTML object>"
            ],
            "text/html": [
              "Query job 749b4f52-5ace-4390-ab2f-8b2d2a35628b is DONE. 62.2 MB processed. <a target=\"_blank\" href=\"https://console.cloud.google.com/bigquery?project=marketcheck-demo&j=bq:US:749b4f52-5ace-4390-ab2f-8b2d2a35628b&page=queryresults\">Open Job</a>"
            ]
          },
          "metadata": {}
        },
        {
          "output_type": "stream",
          "name": "stdout",
          "text": [
            "l_down_pay\n"
          ]
        },
        {
          "output_type": "display_data",
          "data": {
            "text/plain": [
              "<IPython.core.display.HTML object>"
            ],
            "text/html": [
              "Query job daf2e39c-b98f-4fc7-86fa-d9a6b3aad0fc is DONE. 62.3 MB processed. <a target=\"_blank\" href=\"https://console.cloud.google.com/bigquery?project=marketcheck-demo&j=bq:US:daf2e39c-b98f-4fc7-86fa-d9a6b3aad0fc&page=queryresults\">Open Job</a>"
            ]
          },
          "metadata": {}
        },
        {
          "output_type": "stream",
          "name": "stdout",
          "text": [
            "l_emi\n"
          ]
        },
        {
          "output_type": "display_data",
          "data": {
            "text/plain": [
              "<IPython.core.display.HTML object>"
            ],
            "text/html": [
              "Query job 55df3c59-fc74-4d46-bc41-d0aaecf178bd is DONE. 63.7 MB processed. <a target=\"_blank\" href=\"https://console.cloud.google.com/bigquery?project=marketcheck-demo&j=bq:US:55df3c59-fc74-4d46-bc41-d0aaecf178bd&page=queryresults\">Open Job</a>"
            ]
          },
          "metadata": {}
        },
        {
          "output_type": "stream",
          "name": "stdout",
          "text": [
            "f_down_pay\n"
          ]
        },
        {
          "output_type": "display_data",
          "data": {
            "text/plain": [
              "<IPython.core.display.HTML object>"
            ],
            "text/html": [
              "Query job 0258b3a1-b109-4e59-b9a9-69a093bfa3cd is DONE. 62.2 MB processed. <a target=\"_blank\" href=\"https://console.cloud.google.com/bigquery?project=marketcheck-demo&j=bq:US:0258b3a1-b109-4e59-b9a9-69a093bfa3cd&page=queryresults\">Open Job</a>"
            ]
          },
          "metadata": {}
        },
        {
          "output_type": "stream",
          "name": "stdout",
          "text": [
            "f_down_pay_per\n"
          ]
        },
        {
          "output_type": "display_data",
          "data": {
            "text/plain": [
              "<IPython.core.display.HTML object>"
            ],
            "text/html": [
              "Query job 87627eb6-fc29-4d2c-bcfb-738224984705 is DONE. 63.4 MB processed. <a target=\"_blank\" href=\"https://console.cloud.google.com/bigquery?project=marketcheck-demo&j=bq:US:87627eb6-fc29-4d2c-bcfb-738224984705&page=queryresults\">Open Job</a>"
            ]
          },
          "metadata": {}
        },
        {
          "output_type": "stream",
          "name": "stdout",
          "text": [
            "f_emi\n"
          ]
        },
        {
          "output_type": "display_data",
          "data": {
            "text/plain": [
              "<IPython.core.display.HTML object>"
            ],
            "text/html": [
              "Query job 6adb0f07-01ef-4e24-9c0e-350b7f29ec9a is DONE. 62.2 MB processed. <a target=\"_blank\" href=\"https://console.cloud.google.com/bigquery?project=marketcheck-demo&j=bq:US:6adb0f07-01ef-4e24-9c0e-350b7f29ec9a&page=queryresults\">Open Job</a>"
            ]
          },
          "metadata": {}
        },
        {
          "output_type": "stream",
          "name": "stdout",
          "text": [
            "lease_term\n"
          ]
        },
        {
          "output_type": "display_data",
          "data": {
            "text/plain": [
              "<IPython.core.display.HTML object>"
            ],
            "text/html": [
              "Query job 09696991-37dc-44bd-8a68-a82d07455f9b is DONE. 129.2 MB processed. <a target=\"_blank\" href=\"https://console.cloud.google.com/bigquery?project=marketcheck-demo&j=bq:US:09696991-37dc-44bd-8a68-a82d07455f9b&page=queryresults\">Open Job</a>"
            ]
          },
          "metadata": {}
        },
        {
          "output_type": "stream",
          "name": "stdout",
          "text": [
            "in_transit\n"
          ]
        },
        {
          "output_type": "display_data",
          "data": {
            "text/plain": [
              "<IPython.core.display.HTML object>"
            ],
            "text/html": [
              "Query job 460b042c-d87f-4f8d-a1e1-2fab5e59478b is DONE. 62.6 MB processed. <a target=\"_blank\" href=\"https://console.cloud.google.com/bigquery?project=marketcheck-demo&j=bq:US:460b042c-d87f-4f8d-a1e1-2fab5e59478b&page=queryresults\">Open Job</a>"
            ]
          },
          "metadata": {}
        },
        {
          "output_type": "stream",
          "name": "stdout",
          "text": [
            "in_transit_at\n"
          ]
        },
        {
          "output_type": "display_data",
          "data": {
            "text/plain": [
              "<IPython.core.display.HTML object>"
            ],
            "text/html": [
              "Query job 08631bd6-356b-46a5-b892-a201b3fe4954 is DONE. 62.6 MB processed. <a target=\"_blank\" href=\"https://console.cloud.google.com/bigquery?project=marketcheck-demo&j=bq:US:08631bd6-356b-46a5-b892-a201b3fe4954&page=queryresults\">Open Job</a>"
            ]
          },
          "metadata": {}
        },
        {
          "output_type": "stream",
          "name": "stdout",
          "text": [
            "in_transit_days\n"
          ]
        },
        {
          "output_type": "display_data",
          "data": {
            "text/plain": [
              "<IPython.core.display.HTML object>"
            ],
            "text/html": [
              "Query job 8172a7c8-3297-42ae-9368-c975b756e26b is DONE. 129.2 MB processed. <a target=\"_blank\" href=\"https://console.cloud.google.com/bigquery?project=marketcheck-demo&j=bq:US:8172a7c8-3297-42ae-9368-c975b756e26b&page=queryresults\">Open Job</a>"
            ]
          },
          "metadata": {}
        },
        {
          "output_type": "stream",
          "name": "stdout",
          "text": [
            "dos_active\n"
          ]
        },
        {
          "output_type": "display_data",
          "data": {
            "text/plain": [
              "<IPython.core.display.HTML object>"
            ],
            "text/html": [
              "Query job 9bf49ec8-6999-4a40-add0-c4d6f85c289d is DONE. 133.9 MB processed. <a target=\"_blank\" href=\"https://console.cloud.google.com/bigquery?project=marketcheck-demo&j=bq:US:9bf49ec8-6999-4a40-add0-c4d6f85c289d&page=queryresults\">Open Job</a>"
            ]
          },
          "metadata": {}
        },
        {
          "output_type": "stream",
          "name": "stdout",
          "text": [
            "mc_category\n"
          ]
        },
        {
          "output_type": "display_data",
          "data": {
            "text/plain": [
              "<IPython.core.display.HTML object>"
            ],
            "text/html": [
              "Query job ffaf155a-4ebb-4bce-b72c-a687b6f9c1d2 is DONE. 90.8 MB processed. <a target=\"_blank\" href=\"https://console.cloud.google.com/bigquery?project=marketcheck-demo&j=bq:US:ffaf155a-4ebb-4bce-b72c-a687b6f9c1d2&page=queryresults\">Open Job</a>"
            ]
          },
          "metadata": {}
        },
        {
          "output_type": "stream",
          "name": "stdout",
          "text": [
            "mc_dealership_group_id\n"
          ]
        },
        {
          "output_type": "display_data",
          "data": {
            "text/plain": [
              "<IPython.core.display.HTML object>"
            ],
            "text/html": [
              "Query job e51630d9-2562-45be-897c-20249d0c2654 is DONE. 90.8 MB processed. <a target=\"_blank\" href=\"https://console.cloud.google.com/bigquery?project=marketcheck-demo&j=bq:US:e51630d9-2562-45be-897c-20249d0c2654&page=queryresults\">Open Job</a>"
            ]
          },
          "metadata": {}
        },
        {
          "output_type": "stream",
          "name": "stdout",
          "text": [
            "mc_sub_dealership_group_id\n"
          ]
        },
        {
          "output_type": "display_data",
          "data": {
            "text/plain": [
              "<IPython.core.display.HTML object>"
            ],
            "text/html": [
              "Query job 95877cf3-3a2a-4993-b67b-a1b1cc5ea198 is DONE. 145.6 MB processed. <a target=\"_blank\" href=\"https://console.cloud.google.com/bigquery?project=marketcheck-demo&j=bq:US:95877cf3-3a2a-4993-b67b-a1b1cc5ea198&page=queryresults\">Open Job</a>"
            ]
          },
          "metadata": {}
        },
        {
          "output_type": "stream",
          "name": "stdout",
          "text": [
            "mc_dealership_group_name\n"
          ]
        },
        {
          "output_type": "display_data",
          "data": {
            "text/plain": [
              "<IPython.core.display.HTML object>"
            ],
            "text/html": [
              "Query job f834039d-9a79-495a-b331-c8148aa9702f is DONE. 148.3 MB processed. <a target=\"_blank\" href=\"https://console.cloud.google.com/bigquery?project=marketcheck-demo&j=bq:US:f834039d-9a79-495a-b331-c8148aa9702f&page=queryresults\">Open Job</a>"
            ]
          },
          "metadata": {}
        },
        {
          "output_type": "stream",
          "name": "stdout",
          "text": [
            "mc_sub_dealership_group_name\n"
          ]
        },
        {
          "output_type": "display_data",
          "data": {
            "text/plain": [
              "<IPython.core.display.HTML object>"
            ],
            "text/html": [
              "Query job 8c3e68d4-5d70-4aed-8cea-fc710659dfd3 is DONE. 129.2 MB processed. <a target=\"_blank\" href=\"https://console.cloud.google.com/bigquery?project=marketcheck-demo&j=bq:US:8c3e68d4-5d70-4aed-8cea-fc710659dfd3&page=queryresults\">Open Job</a>"
            ]
          },
          "metadata": {}
        },
        {
          "output_type": "stream",
          "name": "stdout",
          "text": [
            "mc_dealer_id\n"
          ]
        },
        {
          "output_type": "display_data",
          "data": {
            "text/plain": [
              "<IPython.core.display.HTML object>"
            ],
            "text/html": [
              "Query job 022a5d4e-9393-4e19-acdf-756a61b632e8 is DONE. 129.2 MB processed. <a target=\"_blank\" href=\"https://console.cloud.google.com/bigquery?project=marketcheck-demo&j=bq:US:022a5d4e-9393-4e19-acdf-756a61b632e8&page=queryresults\">Open Job</a>"
            ]
          },
          "metadata": {}
        },
        {
          "output_type": "stream",
          "name": "stdout",
          "text": [
            "mc_location_id\n"
          ]
        },
        {
          "output_type": "display_data",
          "data": {
            "text/plain": [
              "<IPython.core.display.HTML object>"
            ],
            "text/html": [
              "Query job bbbcfd37-fba9-4f96-b714-8a7b875ee9d3 is DONE. 129.2 MB processed. <a target=\"_blank\" href=\"https://console.cloud.google.com/bigquery?project=marketcheck-demo&j=bq:US:bbbcfd37-fba9-4f96-b714-8a7b875ee9d3&page=queryresults\">Open Job</a>"
            ]
          },
          "metadata": {}
        },
        {
          "output_type": "stream",
          "name": "stdout",
          "text": [
            "mc_website_id\n"
          ]
        },
        {
          "output_type": "display_data",
          "data": {
            "text/plain": [
              "<IPython.core.display.HTML object>"
            ],
            "text/html": [
              "Query job 7fac401c-2ee0-4d11-8ea6-af1661cfb439 is DONE. 129.2 MB processed. <a target=\"_blank\" href=\"https://console.cloud.google.com/bigquery?project=marketcheck-demo&j=bq:US:7fac401c-2ee0-4d11-8ea6-af1661cfb439&page=queryresults\">Open Job</a>"
            ]
          },
          "metadata": {}
        },
        {
          "output_type": "stream",
          "name": "stdout",
          "text": [
            "mc_rooftop_id\n"
          ]
        },
        {
          "output_type": "display_data",
          "data": {
            "text/plain": [
              "<IPython.core.display.HTML object>"
            ],
            "text/html": [
              "Query job fea2bb3b-06cc-4350-968f-d07eb494ae59 is DONE. 94.7 MB processed. <a target=\"_blank\" href=\"https://console.cloud.google.com/bigquery?project=marketcheck-demo&j=bq:US:fea2bb3b-06cc-4350-968f-d07eb494ae59&page=queryresults\">Open Job</a>"
            ]
          },
          "metadata": {}
        },
        {
          "output_type": "stream",
          "name": "stdout",
          "text": [
            "mc_car_location_id\n"
          ]
        },
        {
          "output_type": "display_data",
          "data": {
            "text/plain": [
              "<IPython.core.display.HTML object>"
            ],
            "text/html": [
              "Query job a67bcdd6-b75a-479a-9d49-fb8b5c86590a is DONE. 129.2 MB processed. <a target=\"_blank\" href=\"https://console.cloud.google.com/bigquery?project=marketcheck-demo&j=bq:US:a67bcdd6-b75a-479a-9d49-fb8b5c86590a&page=queryresults\">Open Job</a>"
            ]
          },
          "metadata": {}
        },
        {
          "output_type": "stream",
          "name": "stdout",
          "text": [
            "is_searchable\n"
          ]
        }
      ]
    },
    {
      "cell_type": "code",
      "source": [
        "df_fillrate.head()"
      ],
      "metadata": {
        "colab": {
          "base_uri": "https://localhost:8080/",
          "height": 206
        },
        "id": "cIsk1lrfZfO2",
        "executionInfo": {
          "status": "ok",
          "timestamp": 1729015430084,
          "user_tz": 240,
          "elapsed": 209,
          "user": {
            "displayName": "",
            "userId": ""
          }
        },
        "outputId": "a6fd94e8-02f0-4dd2-882a-fb5c1ac557a8"
      },
      "execution_count": 16,
      "outputs": [
        {
          "output_type": "execute_result",
          "data": {
            "text/plain": [
              "      column  fillrate\n",
              "0         id  1.000000\n",
              "1        vin  1.000000\n",
              "2    heading  0.999591\n",
              "3  more_info  1.000000\n",
              "4      price  1.000000"
            ],
            "text/html": [
              "\n",
              "  <div id=\"df-552df508-687c-46b6-b668-8946f8b418e4\" class=\"colab-df-container\">\n",
              "    <div>\n",
              "<style scoped>\n",
              "    .dataframe tbody tr th:only-of-type {\n",
              "        vertical-align: middle;\n",
              "    }\n",
              "\n",
              "    .dataframe tbody tr th {\n",
              "        vertical-align: top;\n",
              "    }\n",
              "\n",
              "    .dataframe thead th {\n",
              "        text-align: right;\n",
              "    }\n",
              "</style>\n",
              "<table border=\"1\" class=\"dataframe\">\n",
              "  <thead>\n",
              "    <tr style=\"text-align: right;\">\n",
              "      <th></th>\n",
              "      <th>column</th>\n",
              "      <th>fillrate</th>\n",
              "    </tr>\n",
              "  </thead>\n",
              "  <tbody>\n",
              "    <tr>\n",
              "      <th>0</th>\n",
              "      <td>id</td>\n",
              "      <td>1.000000</td>\n",
              "    </tr>\n",
              "    <tr>\n",
              "      <th>1</th>\n",
              "      <td>vin</td>\n",
              "      <td>1.000000</td>\n",
              "    </tr>\n",
              "    <tr>\n",
              "      <th>2</th>\n",
              "      <td>heading</td>\n",
              "      <td>0.999591</td>\n",
              "    </tr>\n",
              "    <tr>\n",
              "      <th>3</th>\n",
              "      <td>more_info</td>\n",
              "      <td>1.000000</td>\n",
              "    </tr>\n",
              "    <tr>\n",
              "      <th>4</th>\n",
              "      <td>price</td>\n",
              "      <td>1.000000</td>\n",
              "    </tr>\n",
              "  </tbody>\n",
              "</table>\n",
              "</div>\n",
              "    <div class=\"colab-df-buttons\">\n",
              "\n",
              "  <div class=\"colab-df-container\">\n",
              "    <button class=\"colab-df-convert\" onclick=\"convertToInteractive('df-552df508-687c-46b6-b668-8946f8b418e4')\"\n",
              "            title=\"Convert this dataframe to an interactive table.\"\n",
              "            style=\"display:none;\">\n",
              "\n",
              "  <svg xmlns=\"http://www.w3.org/2000/svg\" height=\"24px\" viewBox=\"0 -960 960 960\">\n",
              "    <path d=\"M120-120v-720h720v720H120Zm60-500h600v-160H180v160Zm220 220h160v-160H400v160Zm0 220h160v-160H400v160ZM180-400h160v-160H180v160Zm440 0h160v-160H620v160ZM180-180h160v-160H180v160Zm440 0h160v-160H620v160Z\"/>\n",
              "  </svg>\n",
              "    </button>\n",
              "\n",
              "  <style>\n",
              "    .colab-df-container {\n",
              "      display:flex;\n",
              "      gap: 12px;\n",
              "    }\n",
              "\n",
              "    .colab-df-convert {\n",
              "      background-color: #E8F0FE;\n",
              "      border: none;\n",
              "      border-radius: 50%;\n",
              "      cursor: pointer;\n",
              "      display: none;\n",
              "      fill: #1967D2;\n",
              "      height: 32px;\n",
              "      padding: 0 0 0 0;\n",
              "      width: 32px;\n",
              "    }\n",
              "\n",
              "    .colab-df-convert:hover {\n",
              "      background-color: #E2EBFA;\n",
              "      box-shadow: 0px 1px 2px rgba(60, 64, 67, 0.3), 0px 1px 3px 1px rgba(60, 64, 67, 0.15);\n",
              "      fill: #174EA6;\n",
              "    }\n",
              "\n",
              "    .colab-df-buttons div {\n",
              "      margin-bottom: 4px;\n",
              "    }\n",
              "\n",
              "    [theme=dark] .colab-df-convert {\n",
              "      background-color: #3B4455;\n",
              "      fill: #D2E3FC;\n",
              "    }\n",
              "\n",
              "    [theme=dark] .colab-df-convert:hover {\n",
              "      background-color: #434B5C;\n",
              "      box-shadow: 0px 1px 3px 1px rgba(0, 0, 0, 0.15);\n",
              "      filter: drop-shadow(0px 1px 2px rgba(0, 0, 0, 0.3));\n",
              "      fill: #FFFFFF;\n",
              "    }\n",
              "  </style>\n",
              "\n",
              "    <script>\n",
              "      const buttonEl =\n",
              "        document.querySelector('#df-552df508-687c-46b6-b668-8946f8b418e4 button.colab-df-convert');\n",
              "      buttonEl.style.display =\n",
              "        google.colab.kernel.accessAllowed ? 'block' : 'none';\n",
              "\n",
              "      async function convertToInteractive(key) {\n",
              "        const element = document.querySelector('#df-552df508-687c-46b6-b668-8946f8b418e4');\n",
              "        const dataTable =\n",
              "          await google.colab.kernel.invokeFunction('convertToInteractive',\n",
              "                                                    [key], {});\n",
              "        if (!dataTable) return;\n",
              "\n",
              "        const docLinkHtml = 'Like what you see? Visit the ' +\n",
              "          '<a target=\"_blank\" href=https://colab.research.google.com/notebooks/data_table.ipynb>data table notebook</a>'\n",
              "          + ' to learn more about interactive tables.';\n",
              "        element.innerHTML = '';\n",
              "        dataTable['output_type'] = 'display_data';\n",
              "        await google.colab.output.renderOutput(dataTable, element);\n",
              "        const docLink = document.createElement('div');\n",
              "        docLink.innerHTML = docLinkHtml;\n",
              "        element.appendChild(docLink);\n",
              "      }\n",
              "    </script>\n",
              "  </div>\n",
              "\n",
              "\n",
              "<div id=\"df-ab8e62b5-f279-4d07-b0a2-91fb35c8ff1c\">\n",
              "  <button class=\"colab-df-quickchart\" onclick=\"quickchart('df-ab8e62b5-f279-4d07-b0a2-91fb35c8ff1c')\"\n",
              "            title=\"Suggest charts\"\n",
              "            style=\"display:none;\">\n",
              "\n",
              "<svg xmlns=\"http://www.w3.org/2000/svg\" height=\"24px\"viewBox=\"0 0 24 24\"\n",
              "     width=\"24px\">\n",
              "    <g>\n",
              "        <path d=\"M19 3H5c-1.1 0-2 .9-2 2v14c0 1.1.9 2 2 2h14c1.1 0 2-.9 2-2V5c0-1.1-.9-2-2-2zM9 17H7v-7h2v7zm4 0h-2V7h2v10zm4 0h-2v-4h2v4z\"/>\n",
              "    </g>\n",
              "</svg>\n",
              "  </button>\n",
              "\n",
              "<style>\n",
              "  .colab-df-quickchart {\n",
              "      --bg-color: #E8F0FE;\n",
              "      --fill-color: #1967D2;\n",
              "      --hover-bg-color: #E2EBFA;\n",
              "      --hover-fill-color: #174EA6;\n",
              "      --disabled-fill-color: #AAA;\n",
              "      --disabled-bg-color: #DDD;\n",
              "  }\n",
              "\n",
              "  [theme=dark] .colab-df-quickchart {\n",
              "      --bg-color: #3B4455;\n",
              "      --fill-color: #D2E3FC;\n",
              "      --hover-bg-color: #434B5C;\n",
              "      --hover-fill-color: #FFFFFF;\n",
              "      --disabled-bg-color: #3B4455;\n",
              "      --disabled-fill-color: #666;\n",
              "  }\n",
              "\n",
              "  .colab-df-quickchart {\n",
              "    background-color: var(--bg-color);\n",
              "    border: none;\n",
              "    border-radius: 50%;\n",
              "    cursor: pointer;\n",
              "    display: none;\n",
              "    fill: var(--fill-color);\n",
              "    height: 32px;\n",
              "    padding: 0;\n",
              "    width: 32px;\n",
              "  }\n",
              "\n",
              "  .colab-df-quickchart:hover {\n",
              "    background-color: var(--hover-bg-color);\n",
              "    box-shadow: 0 1px 2px rgba(60, 64, 67, 0.3), 0 1px 3px 1px rgba(60, 64, 67, 0.15);\n",
              "    fill: var(--button-hover-fill-color);\n",
              "  }\n",
              "\n",
              "  .colab-df-quickchart-complete:disabled,\n",
              "  .colab-df-quickchart-complete:disabled:hover {\n",
              "    background-color: var(--disabled-bg-color);\n",
              "    fill: var(--disabled-fill-color);\n",
              "    box-shadow: none;\n",
              "  }\n",
              "\n",
              "  .colab-df-spinner {\n",
              "    border: 2px solid var(--fill-color);\n",
              "    border-color: transparent;\n",
              "    border-bottom-color: var(--fill-color);\n",
              "    animation:\n",
              "      spin 1s steps(1) infinite;\n",
              "  }\n",
              "\n",
              "  @keyframes spin {\n",
              "    0% {\n",
              "      border-color: transparent;\n",
              "      border-bottom-color: var(--fill-color);\n",
              "      border-left-color: var(--fill-color);\n",
              "    }\n",
              "    20% {\n",
              "      border-color: transparent;\n",
              "      border-left-color: var(--fill-color);\n",
              "      border-top-color: var(--fill-color);\n",
              "    }\n",
              "    30% {\n",
              "      border-color: transparent;\n",
              "      border-left-color: var(--fill-color);\n",
              "      border-top-color: var(--fill-color);\n",
              "      border-right-color: var(--fill-color);\n",
              "    }\n",
              "    40% {\n",
              "      border-color: transparent;\n",
              "      border-right-color: var(--fill-color);\n",
              "      border-top-color: var(--fill-color);\n",
              "    }\n",
              "    60% {\n",
              "      border-color: transparent;\n",
              "      border-right-color: var(--fill-color);\n",
              "    }\n",
              "    80% {\n",
              "      border-color: transparent;\n",
              "      border-right-color: var(--fill-color);\n",
              "      border-bottom-color: var(--fill-color);\n",
              "    }\n",
              "    90% {\n",
              "      border-color: transparent;\n",
              "      border-bottom-color: var(--fill-color);\n",
              "    }\n",
              "  }\n",
              "</style>\n",
              "\n",
              "  <script>\n",
              "    async function quickchart(key) {\n",
              "      const quickchartButtonEl =\n",
              "        document.querySelector('#' + key + ' button');\n",
              "      quickchartButtonEl.disabled = true;  // To prevent multiple clicks.\n",
              "      quickchartButtonEl.classList.add('colab-df-spinner');\n",
              "      try {\n",
              "        const charts = await google.colab.kernel.invokeFunction(\n",
              "            'suggestCharts', [key], {});\n",
              "      } catch (error) {\n",
              "        console.error('Error during call to suggestCharts:', error);\n",
              "      }\n",
              "      quickchartButtonEl.classList.remove('colab-df-spinner');\n",
              "      quickchartButtonEl.classList.add('colab-df-quickchart-complete');\n",
              "    }\n",
              "    (() => {\n",
              "      let quickchartButtonEl =\n",
              "        document.querySelector('#df-ab8e62b5-f279-4d07-b0a2-91fb35c8ff1c button');\n",
              "      quickchartButtonEl.style.display =\n",
              "        google.colab.kernel.accessAllowed ? 'block' : 'none';\n",
              "    })();\n",
              "  </script>\n",
              "</div>\n",
              "    </div>\n",
              "  </div>\n"
            ]
          },
          "metadata": {},
          "execution_count": 16
        }
      ]
    },
    {
      "cell_type": "code",
      "source": [
        "cols_to_drop = list(df_fillrate[df_fillrate.fillrate < 0.8].column)\n"
      ],
      "metadata": {
        "id": "ogDZPFx-ZioB",
        "executionInfo": {
          "status": "ok",
          "timestamp": 1729018228275,
          "user_tz": 240,
          "elapsed": 4,
          "user": {
            "displayName": "",
            "userId": ""
          }
        }
      },
      "execution_count": 19,
      "outputs": []
    },
    {
      "cell_type": "code",
      "source": [
        "pd.set_option('display.max_colwidth', 500)"
      ],
      "metadata": {
        "id": "CPmOphur1iAd",
        "executionInfo": {
          "status": "ok",
          "timestamp": 1729018228275,
          "user_tz": 240,
          "elapsed": 3,
          "user": {
            "displayName": "",
            "userId": ""
          }
        }
      },
      "execution_count": 20,
      "outputs": []
    },
    {
      "cell_type": "code",
      "source": [
        "from pandas_gbq import read_gbq"
      ],
      "metadata": {
        "id": "ohYivJex4fND",
        "executionInfo": {
          "status": "ok",
          "timestamp": 1729018228275,
          "user_tz": 240,
          "elapsed": 3,
          "user": {
            "displayName": "",
            "userId": ""
          }
        }
      },
      "execution_count": 21,
      "outputs": []
    },
    {
      "cell_type": "code",
      "source": [
        "# Directly read a table into a DataFrame\n",
        "df_drop = read_gbq(\"SELECT * FROM `demo.additional_cols_delete`\", project_id='marketcheck-demo')\n",
        "\n",
        "df_drop.head()"
      ],
      "metadata": {
        "colab": {
          "base_uri": "https://localhost:8080/",
          "height": 166
        },
        "id": "0ss2JvNV4KIs",
        "executionInfo": {
          "status": "ok",
          "timestamp": 1729018228828,
          "user_tz": 240,
          "elapsed": 556,
          "user": {
            "displayName": "",
            "userId": ""
          }
        },
        "outputId": "04747f82-db5c-4531-861f-cc6b4d11baf2"
      },
      "execution_count": 22,
      "outputs": [
        {
          "output_type": "stream",
          "name": "stdout",
          "text": [
            "WARNING: google.colab.auth.authenticate_user() is not supported in Colab Enterprise.\n",
            "Downloading: 100%|\u001b[32m██████████\u001b[0m|\n"
          ]
        },
        {
          "output_type": "execute_result",
          "data": {
            "text/plain": [
              "  string_field_0 string_field_1 string_field_2 string_field_3 string_field_4  \\\n",
              "0             id            vin        heading      more_info           msrp   \n",
              "\n",
              "  string_field_5 string_field_6 string_field_7 string_field_8 string_field_9  \\\n",
              "0   taxonomy_vin     model_code     scraped_at    status_date         source   \n",
              "\n",
              "   ... string_field_24 string_field_25 string_field_26 string_field_27  \\\n",
              "0  ...       car_state         car_zip    car_latitude   car_longitude   \n",
              "\n",
              "   string_field_28 string_field_29 string_field_30 string_field_31  \\\n",
              "0  seller_comments         options     photo_links       photo_url   \n",
              "\n",
              "      string_field_32  string_field_33  \n",
              "0  currency_indicator  miles_indicator  \n",
              "\n",
              "[1 rows x 34 columns]"
            ],
            "text/html": [
              "\n",
              "  <div id=\"df-3c82c945-30d9-4f0b-accf-27feeb440f6c\" class=\"colab-df-container\">\n",
              "    <div>\n",
              "<style scoped>\n",
              "    .dataframe tbody tr th:only-of-type {\n",
              "        vertical-align: middle;\n",
              "    }\n",
              "\n",
              "    .dataframe tbody tr th {\n",
              "        vertical-align: top;\n",
              "    }\n",
              "\n",
              "    .dataframe thead th {\n",
              "        text-align: right;\n",
              "    }\n",
              "</style>\n",
              "<table border=\"1\" class=\"dataframe\">\n",
              "  <thead>\n",
              "    <tr style=\"text-align: right;\">\n",
              "      <th></th>\n",
              "      <th>string_field_0</th>\n",
              "      <th>string_field_1</th>\n",
              "      <th>string_field_2</th>\n",
              "      <th>string_field_3</th>\n",
              "      <th>string_field_4</th>\n",
              "      <th>string_field_5</th>\n",
              "      <th>string_field_6</th>\n",
              "      <th>string_field_7</th>\n",
              "      <th>string_field_8</th>\n",
              "      <th>string_field_9</th>\n",
              "      <th>...</th>\n",
              "      <th>string_field_24</th>\n",
              "      <th>string_field_25</th>\n",
              "      <th>string_field_26</th>\n",
              "      <th>string_field_27</th>\n",
              "      <th>string_field_28</th>\n",
              "      <th>string_field_29</th>\n",
              "      <th>string_field_30</th>\n",
              "      <th>string_field_31</th>\n",
              "      <th>string_field_32</th>\n",
              "      <th>string_field_33</th>\n",
              "    </tr>\n",
              "  </thead>\n",
              "  <tbody>\n",
              "    <tr>\n",
              "      <th>0</th>\n",
              "      <td>id</td>\n",
              "      <td>vin</td>\n",
              "      <td>heading</td>\n",
              "      <td>more_info</td>\n",
              "      <td>msrp</td>\n",
              "      <td>taxonomy_vin</td>\n",
              "      <td>model_code</td>\n",
              "      <td>scraped_at</td>\n",
              "      <td>status_date</td>\n",
              "      <td>source</td>\n",
              "      <td>...</td>\n",
              "      <td>car_state</td>\n",
              "      <td>car_zip</td>\n",
              "      <td>car_latitude</td>\n",
              "      <td>car_longitude</td>\n",
              "      <td>seller_comments</td>\n",
              "      <td>options</td>\n",
              "      <td>photo_links</td>\n",
              "      <td>photo_url</td>\n",
              "      <td>currency_indicator</td>\n",
              "      <td>miles_indicator</td>\n",
              "    </tr>\n",
              "  </tbody>\n",
              "</table>\n",
              "<p>1 rows × 34 columns</p>\n",
              "</div>\n",
              "    <div class=\"colab-df-buttons\">\n",
              "\n",
              "  <div class=\"colab-df-container\">\n",
              "    <button class=\"colab-df-convert\" onclick=\"convertToInteractive('df-3c82c945-30d9-4f0b-accf-27feeb440f6c')\"\n",
              "            title=\"Convert this dataframe to an interactive table.\"\n",
              "            style=\"display:none;\">\n",
              "\n",
              "  <svg xmlns=\"http://www.w3.org/2000/svg\" height=\"24px\" viewBox=\"0 -960 960 960\">\n",
              "    <path d=\"M120-120v-720h720v720H120Zm60-500h600v-160H180v160Zm220 220h160v-160H400v160Zm0 220h160v-160H400v160ZM180-400h160v-160H180v160Zm440 0h160v-160H620v160ZM180-180h160v-160H180v160Zm440 0h160v-160H620v160Z\"/>\n",
              "  </svg>\n",
              "    </button>\n",
              "\n",
              "  <style>\n",
              "    .colab-df-container {\n",
              "      display:flex;\n",
              "      gap: 12px;\n",
              "    }\n",
              "\n",
              "    .colab-df-convert {\n",
              "      background-color: #E8F0FE;\n",
              "      border: none;\n",
              "      border-radius: 50%;\n",
              "      cursor: pointer;\n",
              "      display: none;\n",
              "      fill: #1967D2;\n",
              "      height: 32px;\n",
              "      padding: 0 0 0 0;\n",
              "      width: 32px;\n",
              "    }\n",
              "\n",
              "    .colab-df-convert:hover {\n",
              "      background-color: #E2EBFA;\n",
              "      box-shadow: 0px 1px 2px rgba(60, 64, 67, 0.3), 0px 1px 3px 1px rgba(60, 64, 67, 0.15);\n",
              "      fill: #174EA6;\n",
              "    }\n",
              "\n",
              "    .colab-df-buttons div {\n",
              "      margin-bottom: 4px;\n",
              "    }\n",
              "\n",
              "    [theme=dark] .colab-df-convert {\n",
              "      background-color: #3B4455;\n",
              "      fill: #D2E3FC;\n",
              "    }\n",
              "\n",
              "    [theme=dark] .colab-df-convert:hover {\n",
              "      background-color: #434B5C;\n",
              "      box-shadow: 0px 1px 3px 1px rgba(0, 0, 0, 0.15);\n",
              "      filter: drop-shadow(0px 1px 2px rgba(0, 0, 0, 0.3));\n",
              "      fill: #FFFFFF;\n",
              "    }\n",
              "  </style>\n",
              "\n",
              "    <script>\n",
              "      const buttonEl =\n",
              "        document.querySelector('#df-3c82c945-30d9-4f0b-accf-27feeb440f6c button.colab-df-convert');\n",
              "      buttonEl.style.display =\n",
              "        google.colab.kernel.accessAllowed ? 'block' : 'none';\n",
              "\n",
              "      async function convertToInteractive(key) {\n",
              "        const element = document.querySelector('#df-3c82c945-30d9-4f0b-accf-27feeb440f6c');\n",
              "        const dataTable =\n",
              "          await google.colab.kernel.invokeFunction('convertToInteractive',\n",
              "                                                    [key], {});\n",
              "        if (!dataTable) return;\n",
              "\n",
              "        const docLinkHtml = 'Like what you see? Visit the ' +\n",
              "          '<a target=\"_blank\" href=https://colab.research.google.com/notebooks/data_table.ipynb>data table notebook</a>'\n",
              "          + ' to learn more about interactive tables.';\n",
              "        element.innerHTML = '';\n",
              "        dataTable['output_type'] = 'display_data';\n",
              "        await google.colab.output.renderOutput(dataTable, element);\n",
              "        const docLink = document.createElement('div');\n",
              "        docLink.innerHTML = docLinkHtml;\n",
              "        element.appendChild(docLink);\n",
              "      }\n",
              "    </script>\n",
              "  </div>\n",
              "\n",
              "    </div>\n",
              "  </div>\n"
            ]
          },
          "metadata": {},
          "execution_count": 22
        }
      ]
    },
    {
      "cell_type": "code",
      "source": [
        "addn_cols_to_drop = list(df_drop.iloc[0, :].values)\n",
        "cols_to_drop = list(set(cols_to_drop+addn_cols_to_drop))\n",
        "df = df.drop(columns=cols_to_drop, axis=1)\n",
        "continuous_var = df.dtypes"
      ],
      "metadata": {
        "id": "ipWw_klm8EK7",
        "executionInfo": {
          "status": "ok",
          "timestamp": 1729018228828,
          "user_tz": 240,
          "elapsed": 5,
          "user": {
            "displayName": "",
            "userId": ""
          }
        }
      },
      "execution_count": 23,
      "outputs": []
    },
    {
      "cell_type": "code",
      "source": [
        "cols_to_drop"
      ],
      "metadata": {
        "colab": {
          "base_uri": "https://localhost:8080/"
        },
        "id": "TY-31-ZD8ENh",
        "executionInfo": {
          "status": "ok",
          "timestamp": 1729018228828,
          "user_tz": 240,
          "elapsed": 4,
          "user": {
            "displayName": "",
            "userId": ""
          }
        },
        "outputId": "5edf0912-ba0f-4234-da57-570cb75c1142"
      },
      "execution_count": 24,
      "outputs": [
        {
          "output_type": "execute_result",
          "data": {
            "text/plain": [
              "['f_down_pay',\n",
              " 'mc_dealership_group_id',\n",
              " 'mc_car_location_id',\n",
              " 'is_certified',\n",
              " 'neo_package_code',\n",
              " 'seller_name',\n",
              " 'in_transit_days',\n",
              " 'photo_url',\n",
              " 'currency_indicator',\n",
              " 'neo_weight',\n",
              " 'mc_dealership_group_name',\n",
              " 'car_state',\n",
              " 'car_street',\n",
              " 'more_info',\n",
              " 'is_transfer',\n",
              " 'heading',\n",
              " 'latitude',\n",
              " 'lease_term',\n",
              " 'car_zip',\n",
              " 'loan_apr',\n",
              " 'longitude',\n",
              " 'source',\n",
              " 'car_longitude',\n",
              " 'car_latitude',\n",
              " 'status_date',\n",
              " 'scraped_at',\n",
              " 'street',\n",
              " 'loan_term',\n",
              " 'seller_email',\n",
              " 'seller_phone',\n",
              " 'mc_sub_dealership_group_name',\n",
              " 'options',\n",
              " 'state',\n",
              " 'neo_body_subtype',\n",
              " 'car_city',\n",
              " 'neo_options_packages',\n",
              " 'in_transit_at',\n",
              " 'taxonomy_vin',\n",
              " 'city',\n",
              " 'car_seller_name',\n",
              " 'country',\n",
              " 'photo_links',\n",
              " 'l_down_pay',\n",
              " 'f_emi',\n",
              " 'neo_package_description',\n",
              " 'miles_indicator',\n",
              " 'model_code',\n",
              " 'vin',\n",
              " 'car_address',\n",
              " 'l_emi',\n",
              " 'mc_sub_dealership_group_id',\n",
              " 'zip',\n",
              " 'seller_comments',\n",
              " 'f_down_pay_per',\n",
              " 'id',\n",
              " 'msrp']"
            ]
          },
          "metadata": {},
          "execution_count": 24
        }
      ]
    },
    {
      "cell_type": "code",
      "source": [
        "df.head(2)"
      ],
      "metadata": {
        "colab": {
          "base_uri": "https://localhost:8080/",
          "height": 248
        },
        "id": "H_3T9fOe1kJw",
        "executionInfo": {
          "status": "ok",
          "timestamp": 1729018251805,
          "user_tz": 240,
          "elapsed": 22980,
          "user": {
            "displayName": "",
            "userId": ""
          }
        },
        "outputId": "00361acf-a1e5-42b4-b7a7-fcedc0631c80"
      },
      "execution_count": 25,
      "outputs": [
        {
          "output_type": "display_data",
          "data": {
            "text/plain": [
              "<IPython.core.display.HTML object>"
            ],
            "text/html": [
              "Query job ede9b78a-dff7-4734-95f2-1ecd7d6266c4 is DONE. 100.1 GB processed. <a target=\"_blank\" href=\"https://console.cloud.google.com/bigquery?project=marketcheck-demo&j=bq:US:ede9b78a-dff7-4734-95f2-1ecd7d6266c4&page=queryresults\">Open Job</a>"
            ]
          },
          "metadata": {}
        },
        {
          "output_type": "display_data",
          "data": {
            "text/plain": [
              "<IPython.core.display.HTML object>"
            ],
            "text/html": [
              "Query job 39ee1016-47c1-4ef3-992e-420b81aac793 is DONE. 47.0 kB processed. <a target=\"_blank\" href=\"https://console.cloud.google.com/bigquery?project=marketcheck-demo&j=bq:US:39ee1016-47c1-4ef3-992e-420b81aac793&page=queryresults\">Open Job</a>"
            ]
          },
          "metadata": {}
        },
        {
          "output_type": "execute_result",
          "data": {
            "text/plain": [
              "   price  miles stock_no                   neo_listing_confidence  neo_year  \\\n",
              "0  37998  17510  CP25065                           mc_build_specs      2021   \n",
              "2  17750  85764  443202A  mc_listings|used|dealer|franchise|62008      2020   \n",
              "\n",
              "   neo_make neo_model        neo_trim neo_trim_confidence         neo_version  \\\n",
              "0  Cadillac       XT5  Premium Luxury           spec_data  AWD Premium Luxury   \n",
              "2     Honda     Civic           Sport           spec_data               Sport   \n",
              "\n",
              "   ... carfax_1_owner carfax_clean_title in_transit dos_active  \\\n",
              "0  ...              0                  0          0         15   \n",
              "2  ...              1                  0          0          7   \n",
              "\n",
              "        mc_category mc_dealer_id mc_location_id mc_website_id  mc_rooftop_id  \\\n",
              "0            Dealer      1109639        1508322       1100764         750873   \n",
              "2  Dealership Group      1191786        1398068       1028668         311142   \n",
              "\n",
              "  is_searchable  \n",
              "0             0  \n",
              "2             0  \n",
              "\n",
              "[2 rows x 60 columns]"
            ],
            "text/html": [
              "<div>\n",
              "<style scoped>\n",
              "    .dataframe tbody tr th:only-of-type {\n",
              "        vertical-align: middle;\n",
              "    }\n",
              "\n",
              "    .dataframe tbody tr th {\n",
              "        vertical-align: top;\n",
              "    }\n",
              "\n",
              "    .dataframe thead th {\n",
              "        text-align: right;\n",
              "    }\n",
              "</style>\n",
              "<table border=\"1\" class=\"dataframe\">\n",
              "  <thead>\n",
              "    <tr style=\"text-align: right;\">\n",
              "      <th></th>\n",
              "      <th>price</th>\n",
              "      <th>miles</th>\n",
              "      <th>stock_no</th>\n",
              "      <th>neo_listing_confidence</th>\n",
              "      <th>neo_year</th>\n",
              "      <th>neo_make</th>\n",
              "      <th>neo_model</th>\n",
              "      <th>neo_trim</th>\n",
              "      <th>neo_trim_confidence</th>\n",
              "      <th>neo_version</th>\n",
              "      <th>...</th>\n",
              "      <th>carfax_1_owner</th>\n",
              "      <th>carfax_clean_title</th>\n",
              "      <th>in_transit</th>\n",
              "      <th>dos_active</th>\n",
              "      <th>mc_category</th>\n",
              "      <th>mc_dealer_id</th>\n",
              "      <th>mc_location_id</th>\n",
              "      <th>mc_website_id</th>\n",
              "      <th>mc_rooftop_id</th>\n",
              "      <th>is_searchable</th>\n",
              "    </tr>\n",
              "  </thead>\n",
              "  <tbody>\n",
              "    <tr>\n",
              "      <th>0</th>\n",
              "      <td>37998</td>\n",
              "      <td>17510</td>\n",
              "      <td>CP25065</td>\n",
              "      <td>mc_build_specs</td>\n",
              "      <td>2021</td>\n",
              "      <td>Cadillac</td>\n",
              "      <td>XT5</td>\n",
              "      <td>Premium Luxury</td>\n",
              "      <td>spec_data</td>\n",
              "      <td>AWD Premium Luxury</td>\n",
              "      <td>...</td>\n",
              "      <td>0</td>\n",
              "      <td>0</td>\n",
              "      <td>0</td>\n",
              "      <td>15</td>\n",
              "      <td>Dealer</td>\n",
              "      <td>1109639</td>\n",
              "      <td>1508322</td>\n",
              "      <td>1100764</td>\n",
              "      <td>750873</td>\n",
              "      <td>0</td>\n",
              "    </tr>\n",
              "    <tr>\n",
              "      <th>2</th>\n",
              "      <td>17750</td>\n",
              "      <td>85764</td>\n",
              "      <td>443202A</td>\n",
              "      <td>mc_listings|used|dealer|franchise|62008</td>\n",
              "      <td>2020</td>\n",
              "      <td>Honda</td>\n",
              "      <td>Civic</td>\n",
              "      <td>Sport</td>\n",
              "      <td>spec_data</td>\n",
              "      <td>Sport</td>\n",
              "      <td>...</td>\n",
              "      <td>1</td>\n",
              "      <td>0</td>\n",
              "      <td>0</td>\n",
              "      <td>7</td>\n",
              "      <td>Dealership Group</td>\n",
              "      <td>1191786</td>\n",
              "      <td>1398068</td>\n",
              "      <td>1028668</td>\n",
              "      <td>311142</td>\n",
              "      <td>0</td>\n",
              "    </tr>\n",
              "  </tbody>\n",
              "</table>\n",
              "<p>2 rows × 60 columns</p>\n",
              "</div>[2 rows x 60 columns in total]"
            ]
          },
          "metadata": {},
          "execution_count": 25
        }
      ]
    },
    {
      "cell_type": "code",
      "source": [
        "continuous_vars = df.select_dtypes(include=['int64', 'float64']).columns.tolist()\n",
        "print(\"Continuous Variables:\", continuous_vars)\n",
        "\n",
        "# Step 2: Create a new DataFrame with these continuous variables and their records/values\n",
        "continuous_df = df[continuous_vars]\n",
        "continuous_df.head()"
      ],
      "metadata": {
        "colab": {
          "base_uri": "https://localhost:8080/",
          "height": 325
        },
        "id": "xH4zce8t1oFH",
        "executionInfo": {
          "status": "ok",
          "timestamp": 1729018282659,
          "user_tz": 240,
          "elapsed": 30858,
          "user": {
            "displayName": "",
            "userId": ""
          }
        },
        "outputId": "33f97dbf-59d8-431e-c834-88ed8cfe5d6a"
      },
      "execution_count": 26,
      "outputs": [
        {
          "output_type": "stream",
          "name": "stdout",
          "text": [
            "Continuous Variables: ['price', 'miles', 'neo_year', 'neo_engine_size', 'neo_doors', 'neo_cylinders', 'neo_city_mpg', 'neo_highway_mpg', 'neo_width', 'neo_height', 'neo_length', 'neo_base_msrp', 'neo_installed_options_msrp', 'neo_delivery_charges', 'neo_combined_msrp', 'dom', 'dom_180', 'dom_active', 'carfax_1_owner', 'carfax_clean_title', 'in_transit', 'dos_active', 'mc_dealer_id', 'mc_location_id', 'mc_website_id', 'mc_rooftop_id', 'is_searchable']\n"
          ]
        },
        {
          "output_type": "display_data",
          "data": {
            "text/plain": [
              "<IPython.core.display.HTML object>"
            ],
            "text/html": [
              "Query job 958d6a95-afd4-412c-8f32-ca784d8fb337 is DONE. 100.1 GB processed. <a target=\"_blank\" href=\"https://console.cloud.google.com/bigquery?project=marketcheck-demo&j=bq:US:958d6a95-afd4-412c-8f32-ca784d8fb337&page=queryresults\">Open Job</a>"
            ]
          },
          "metadata": {}
        },
        {
          "output_type": "display_data",
          "data": {
            "text/plain": [
              "<IPython.core.display.HTML object>"
            ],
            "text/html": [
              "Query job 15a9222a-678d-4a47-85f3-0a4c6a6860d7 is DONE. 1.2 kB processed. <a target=\"_blank\" href=\"https://console.cloud.google.com/bigquery?project=marketcheck-demo&j=bq:US:15a9222a-678d-4a47-85f3-0a4c6a6860d7&page=queryresults\">Open Job</a>"
            ]
          },
          "metadata": {}
        },
        {
          "output_type": "execute_result",
          "data": {
            "text/plain": [
              "   price  miles  neo_year  neo_engine_size  neo_doors  neo_cylinders  \\\n",
              "0  37998  17510      2021              3.6          5              6   \n",
              "2  17750  85764      2020              2.0          4              4   \n",
              "3  20987  52828      2019              3.5          5              6   \n",
              "4  17986  35660      2022              1.8          4              4   \n",
              "5  16648  94164      2021              2.0          4              4   \n",
              "\n",
              "   neo_city_mpg  neo_highway_mpg  neo_width  neo_height  ...  dom_active  \\\n",
              "0            21               26       74.9        66.1  ...          16   \n",
              "2            25               35       70.9        55.7  ...           9   \n",
              "3            20               27       77.2        68.6  ...          66   \n",
              "4            30               38       70.1        56.5  ...          58   \n",
              "5            29               39       71.5        56.9  ...         123   \n",
              "\n",
              "   carfax_1_owner  carfax_clean_title  in_transit  dos_active  mc_dealer_id  \\\n",
              "0               0                   0           0          15       1109639   \n",
              "2               1                   0           0           7       1191786   \n",
              "3               0                   0           0          66       1095490   \n",
              "4               1                   0           0          58       1117653   \n",
              "5               0                   0           0         123       1141514   \n",
              "\n",
              "   mc_location_id  mc_website_id  mc_rooftop_id  is_searchable  \n",
              "0         1508322        1100764         750873              0  \n",
              "2         1398068        1028668         311142              0  \n",
              "3         1499362        1079429         126461              1  \n",
              "4         1414234        1037960         488538              1  \n",
              "5         1415310       11016285         517180              1  \n",
              "\n",
              "[5 rows x 27 columns]"
            ],
            "text/html": [
              "<div>\n",
              "<style scoped>\n",
              "    .dataframe tbody tr th:only-of-type {\n",
              "        vertical-align: middle;\n",
              "    }\n",
              "\n",
              "    .dataframe tbody tr th {\n",
              "        vertical-align: top;\n",
              "    }\n",
              "\n",
              "    .dataframe thead th {\n",
              "        text-align: right;\n",
              "    }\n",
              "</style>\n",
              "<table border=\"1\" class=\"dataframe\">\n",
              "  <thead>\n",
              "    <tr style=\"text-align: right;\">\n",
              "      <th></th>\n",
              "      <th>price</th>\n",
              "      <th>miles</th>\n",
              "      <th>neo_year</th>\n",
              "      <th>neo_engine_size</th>\n",
              "      <th>neo_doors</th>\n",
              "      <th>neo_cylinders</th>\n",
              "      <th>neo_city_mpg</th>\n",
              "      <th>neo_highway_mpg</th>\n",
              "      <th>neo_width</th>\n",
              "      <th>neo_height</th>\n",
              "      <th>...</th>\n",
              "      <th>dom_active</th>\n",
              "      <th>carfax_1_owner</th>\n",
              "      <th>carfax_clean_title</th>\n",
              "      <th>in_transit</th>\n",
              "      <th>dos_active</th>\n",
              "      <th>mc_dealer_id</th>\n",
              "      <th>mc_location_id</th>\n",
              "      <th>mc_website_id</th>\n",
              "      <th>mc_rooftop_id</th>\n",
              "      <th>is_searchable</th>\n",
              "    </tr>\n",
              "  </thead>\n",
              "  <tbody>\n",
              "    <tr>\n",
              "      <th>0</th>\n",
              "      <td>37998</td>\n",
              "      <td>17510</td>\n",
              "      <td>2021</td>\n",
              "      <td>3.6</td>\n",
              "      <td>5</td>\n",
              "      <td>6</td>\n",
              "      <td>21</td>\n",
              "      <td>26</td>\n",
              "      <td>74.9</td>\n",
              "      <td>66.1</td>\n",
              "      <td>...</td>\n",
              "      <td>16</td>\n",
              "      <td>0</td>\n",
              "      <td>0</td>\n",
              "      <td>0</td>\n",
              "      <td>15</td>\n",
              "      <td>1109639</td>\n",
              "      <td>1508322</td>\n",
              "      <td>1100764</td>\n",
              "      <td>750873</td>\n",
              "      <td>0</td>\n",
              "    </tr>\n",
              "    <tr>\n",
              "      <th>2</th>\n",
              "      <td>17750</td>\n",
              "      <td>85764</td>\n",
              "      <td>2020</td>\n",
              "      <td>2.0</td>\n",
              "      <td>4</td>\n",
              "      <td>4</td>\n",
              "      <td>25</td>\n",
              "      <td>35</td>\n",
              "      <td>70.9</td>\n",
              "      <td>55.7</td>\n",
              "      <td>...</td>\n",
              "      <td>9</td>\n",
              "      <td>1</td>\n",
              "      <td>0</td>\n",
              "      <td>0</td>\n",
              "      <td>7</td>\n",
              "      <td>1191786</td>\n",
              "      <td>1398068</td>\n",
              "      <td>1028668</td>\n",
              "      <td>311142</td>\n",
              "      <td>0</td>\n",
              "    </tr>\n",
              "    <tr>\n",
              "      <th>3</th>\n",
              "      <td>20987</td>\n",
              "      <td>52828</td>\n",
              "      <td>2019</td>\n",
              "      <td>3.5</td>\n",
              "      <td>5</td>\n",
              "      <td>6</td>\n",
              "      <td>20</td>\n",
              "      <td>27</td>\n",
              "      <td>77.2</td>\n",
              "      <td>68.6</td>\n",
              "      <td>...</td>\n",
              "      <td>66</td>\n",
              "      <td>0</td>\n",
              "      <td>0</td>\n",
              "      <td>0</td>\n",
              "      <td>66</td>\n",
              "      <td>1095490</td>\n",
              "      <td>1499362</td>\n",
              "      <td>1079429</td>\n",
              "      <td>126461</td>\n",
              "      <td>1</td>\n",
              "    </tr>\n",
              "    <tr>\n",
              "      <th>4</th>\n",
              "      <td>17986</td>\n",
              "      <td>35660</td>\n",
              "      <td>2022</td>\n",
              "      <td>1.8</td>\n",
              "      <td>4</td>\n",
              "      <td>4</td>\n",
              "      <td>30</td>\n",
              "      <td>38</td>\n",
              "      <td>70.1</td>\n",
              "      <td>56.5</td>\n",
              "      <td>...</td>\n",
              "      <td>58</td>\n",
              "      <td>1</td>\n",
              "      <td>0</td>\n",
              "      <td>0</td>\n",
              "      <td>58</td>\n",
              "      <td>1117653</td>\n",
              "      <td>1414234</td>\n",
              "      <td>1037960</td>\n",
              "      <td>488538</td>\n",
              "      <td>1</td>\n",
              "    </tr>\n",
              "    <tr>\n",
              "      <th>5</th>\n",
              "      <td>16648</td>\n",
              "      <td>94164</td>\n",
              "      <td>2021</td>\n",
              "      <td>2.0</td>\n",
              "      <td>4</td>\n",
              "      <td>4</td>\n",
              "      <td>29</td>\n",
              "      <td>39</td>\n",
              "      <td>71.5</td>\n",
              "      <td>56.9</td>\n",
              "      <td>...</td>\n",
              "      <td>123</td>\n",
              "      <td>0</td>\n",
              "      <td>0</td>\n",
              "      <td>0</td>\n",
              "      <td>123</td>\n",
              "      <td>1141514</td>\n",
              "      <td>1415310</td>\n",
              "      <td>11016285</td>\n",
              "      <td>517180</td>\n",
              "      <td>1</td>\n",
              "    </tr>\n",
              "  </tbody>\n",
              "</table>\n",
              "<p>5 rows × 27 columns</p>\n",
              "</div>[5 rows x 27 columns in total]"
            ]
          },
          "metadata": {},
          "execution_count": 26
        }
      ]
    },
    {
      "cell_type": "code",
      "source": [
        "continuous_vars = df.select_dtypes(include=['int64', 'float64', 'number']).columns.tolist()\n",
        "print(\"Continuous Variables:\", continuous_vars)"
      ],
      "metadata": {
        "id": "drXiYKf588lR",
        "colab": {
          "base_uri": "https://localhost:8080/"
        },
        "executionInfo": {
          "status": "ok",
          "timestamp": 1729018286864,
          "user_tz": 240,
          "elapsed": 160,
          "user": {
            "displayName": "",
            "userId": ""
          }
        },
        "outputId": "02a1d4a5-be14-4528-c1ab-449495361b11"
      },
      "execution_count": 28,
      "outputs": [
        {
          "output_type": "stream",
          "name": "stdout",
          "text": [
            "Continuous Variables: ['price', 'miles', 'neo_year', 'neo_engine_size', 'neo_doors', 'neo_cylinders', 'neo_city_mpg', 'neo_highway_mpg', 'neo_width', 'neo_height', 'neo_length', 'neo_base_msrp', 'neo_installed_options_msrp', 'neo_delivery_charges', 'neo_combined_msrp', 'dom', 'dom_180', 'dom_active', 'carfax_1_owner', 'carfax_clean_title', 'in_transit', 'dos_active', 'mc_dealer_id', 'mc_location_id', 'mc_website_id', 'mc_rooftop_id', 'is_searchable']\n"
          ]
        }
      ]
    },
    {
      "cell_type": "code",
      "source": [
        "df[continuous_vars].isnull().sum()"
      ],
      "metadata": {
        "id": "Yq4yIwN51oJR",
        "colab": {
          "base_uri": "https://localhost:8080/",
          "height": 572
        },
        "executionInfo": {
          "status": "ok",
          "timestamp": 1729018295890,
          "user_tz": 240,
          "elapsed": 6276,
          "user": {
            "displayName": "",
            "userId": ""
          }
        },
        "outputId": "dc68242a-2be1-4ba9-d363-97e42b9b1dc8"
      },
      "execution_count": 29,
      "outputs": [
        {
          "output_type": "stream",
          "name": "stderr",
          "text": [
            "/usr/local/lib/python3.10/dist-packages/bigframes/core/blocks.py:126: NullIndexPreviewWarning: Creating object with Null Index. Null Index is a preview feature.\n",
            "  warnings.warn(\n"
          ]
        },
        {
          "output_type": "display_data",
          "data": {
            "text/plain": [
              "<IPython.core.display.HTML object>"
            ],
            "text/html": [
              "Query job 8ed518c1-a3b7-44fd-a177-9be492538a1f is DONE. 1.8 GB processed. <a target=\"_blank\" href=\"https://console.cloud.google.com/bigquery?project=marketcheck-demo&j=bq:US:8ed518c1-a3b7-44fd-a177-9be492538a1f&page=queryresults\">Open Job</a>"
            ]
          },
          "metadata": {}
        },
        {
          "output_type": "display_data",
          "data": {
            "text/plain": [
              "<IPython.core.display.HTML object>"
            ],
            "text/html": [
              "Query job 59e913f6-9656-4733-8c06-018b6cf6c940 is DONE. 810 Bytes processed. <a target=\"_blank\" href=\"https://console.cloud.google.com/bigquery?project=marketcheck-demo&j=bq:US:59e913f6-9656-4733-8c06-018b6cf6c940&page=queryresults\">Open Job</a>"
            ]
          },
          "metadata": {}
        },
        {
          "output_type": "execute_result",
          "data": {
            "text/plain": [
              "price                              0\n",
              "miles                          93428\n",
              "neo_year                          16\n",
              "neo_engine_size               169324\n",
              "neo_doors                     115545\n",
              "neo_cylinders                 172309\n",
              "neo_city_mpg                  572540\n",
              "neo_highway_mpg               572480\n",
              "neo_width                     301411\n",
              "neo_height                    151587\n",
              "neo_length                    126589\n",
              "neo_base_msrp                 115764\n",
              "neo_installed_options_msrp    115545\n",
              "neo_delivery_charges          121122\n",
              "neo_combined_msrp             115545\n",
              "dom                                0\n",
              "dom_180                            0\n",
              "dom_active                         0\n",
              "carfax_1_owner                471658\n",
              "carfax_clean_title            570582\n",
              "in_transit                         0\n",
              "dos_active                         0\n",
              "mc_dealer_id                       0\n",
              "mc_location_id                     0\n",
              "mc_website_id                      0\n",
              "dtype: Int64"
            ]
          },
          "metadata": {},
          "execution_count": 29
        }
      ]
    },
    {
      "cell_type": "code",
      "source": [
        "missing_category = df[continuous_vars].isnull().sum()\n",
        "print(\"Missing Values Count:\\n\", missing_category)\n",
        "\n",
        "# Step 3: Fill missing values with the mean of each respective column\n",
        "for var in continuous_vars:\n",
        "    df[var].fillna(df[var].mean())\n",
        "\n",
        "\n"
      ],
      "metadata": {
        "id": "MBjGZUkZ1oHI",
        "colab": {
          "base_uri": "https://localhost:8080/",
          "height": 1000
        },
        "executionInfo": {
          "status": "ok",
          "timestamp": 1729018411082,
          "user_tz": 240,
          "elapsed": 98290,
          "user": {
            "displayName": "",
            "userId": ""
          }
        },
        "outputId": "af69fd32-dc23-487b-ff17-db68fac1973a"
      },
      "execution_count": 30,
      "outputs": [
        {
          "output_type": "stream",
          "name": "stderr",
          "text": [
            "/usr/local/lib/python3.10/dist-packages/bigframes/core/blocks.py:126: NullIndexPreviewWarning: Creating object with Null Index. Null Index is a preview feature.\n",
            "  warnings.warn(\n"
          ]
        },
        {
          "output_type": "stream",
          "name": "stdout",
          "text": [
            "Missing Values Count:\n",
            " "
          ]
        },
        {
          "output_type": "display_data",
          "data": {
            "text/plain": [
              "<IPython.core.display.HTML object>"
            ],
            "text/html": [
              "Query job 6c043672-f68b-4e4d-9d21-422d0955b6ce is DONE. 1.8 GB processed. <a target=\"_blank\" href=\"https://console.cloud.google.com/bigquery?project=marketcheck-demo&j=bq:US:6c043672-f68b-4e4d-9d21-422d0955b6ce&page=queryresults\">Open Job</a>"
            ]
          },
          "metadata": {}
        },
        {
          "output_type": "display_data",
          "data": {
            "text/plain": [
              "<IPython.core.display.HTML object>"
            ],
            "text/html": [
              "Query job 9f6d4487-3729-45bc-a22c-d5b68d007dd1 is DONE. 810 Bytes processed. <a target=\"_blank\" href=\"https://console.cloud.google.com/bigquery?project=marketcheck-demo&j=bq:US:9f6d4487-3729-45bc-a22c-d5b68d007dd1&page=queryresults\">Open Job</a>"
            ]
          },
          "metadata": {}
        },
        {
          "output_type": "stream",
          "name": "stdout",
          "text": [
            "price                              0\n",
            "miles                          93428\n",
            "neo_year                          16\n",
            "neo_engine_size               169324\n",
            "neo_doors                     115545\n",
            "neo_cylinders                 172309\n",
            "neo_city_mpg                  572540\n",
            "neo_highway_mpg               572480\n",
            "neo_width                     301411\n",
            "neo_height                    151587\n",
            "neo_length                    126589\n",
            "neo_base_msrp                 115764\n",
            "neo_installed_options_msrp    115545\n",
            "neo_delivery_charges          121122\n",
            "neo_combined_msrp             115545\n",
            "dom                                0\n",
            "dom_180                            0\n",
            "dom_active                         0\n",
            "carfax_1_owner                471658\n",
            "carfax_clean_title            570582\n",
            "in_transit                         0\n",
            "dos_active                         0\n",
            "mc_dealer_id                       0\n",
            "mc_location_id                     0\n",
            "mc_website_id                      0\n",
            "dtype: Int64\n"
          ]
        },
        {
          "output_type": "display_data",
          "data": {
            "text/plain": [
              "<IPython.core.display.HTML object>"
            ],
            "text/html": [
              "Query job dc046e53-014b-43b4-9c52-068cb723d9c7 is DONE. 62.2 MB processed. <a target=\"_blank\" href=\"https://console.cloud.google.com/bigquery?project=marketcheck-demo&j=bq:US:dc046e53-014b-43b4-9c52-068cb723d9c7&page=queryresults\">Open Job</a>"
            ]
          },
          "metadata": {}
        },
        {
          "output_type": "display_data",
          "data": {
            "text/plain": [
              "<IPython.core.display.HTML object>"
            ],
            "text/html": [
              "Query job 1f8a07cf-8221-4659-8c51-4e0b51f3b233 is DONE. 128.1 MB processed. <a target=\"_blank\" href=\"https://console.cloud.google.com/bigquery?project=marketcheck-demo&j=bq:US:1f8a07cf-8221-4659-8c51-4e0b51f3b233&page=queryresults\">Open Job</a>"
            ]
          },
          "metadata": {}
        },
        {
          "output_type": "display_data",
          "data": {
            "text/plain": [
              "<IPython.core.display.HTML object>"
            ],
            "text/html": [
              "Query job 7ff0fb3b-e618-4374-ba0c-aa1bf4770b2b is DONE. 129.2 MB processed. <a target=\"_blank\" href=\"https://console.cloud.google.com/bigquery?project=marketcheck-demo&j=bq:US:7ff0fb3b-e618-4374-ba0c-aa1bf4770b2b&page=queryresults\">Open Job</a>"
            ]
          },
          "metadata": {}
        },
        {
          "output_type": "display_data",
          "data": {
            "text/plain": [
              "<IPython.core.display.HTML object>"
            ],
            "text/html": [
              "Query job 2d660cb2-38fb-4a29-a958-037481120c88 is DONE. 127.8 MB processed. <a target=\"_blank\" href=\"https://console.cloud.google.com/bigquery?project=marketcheck-demo&j=bq:US:2d660cb2-38fb-4a29-a958-037481120c88&page=queryresults\">Open Job</a>"
            ]
          },
          "metadata": {}
        },
        {
          "output_type": "display_data",
          "data": {
            "text/plain": [
              "<IPython.core.display.HTML object>"
            ],
            "text/html": [
              "Query job caa28b6a-abe2-475e-8370-9143396d9485 is DONE. 128.1 MB processed. <a target=\"_blank\" href=\"https://console.cloud.google.com/bigquery?project=marketcheck-demo&j=bq:US:caa28b6a-abe2-475e-8370-9143396d9485&page=queryresults\">Open Job</a>"
            ]
          },
          "metadata": {}
        },
        {
          "output_type": "display_data",
          "data": {
            "text/plain": [
              "<IPython.core.display.HTML object>"
            ],
            "text/html": [
              "Query job 60cd9a7e-3c57-47f0-976f-67535ace1ced is DONE. 127.7 MB processed. <a target=\"_blank\" href=\"https://console.cloud.google.com/bigquery?project=marketcheck-demo&j=bq:US:60cd9a7e-3c57-47f0-976f-67535ace1ced&page=queryresults\">Open Job</a>"
            ]
          },
          "metadata": {}
        },
        {
          "output_type": "display_data",
          "data": {
            "text/plain": [
              "<IPython.core.display.HTML object>"
            ],
            "text/html": [
              "Query job 8f0a8fc5-8cdd-4ae6-acdf-83eab850ddd7 is DONE. 124.2 MB processed. <a target=\"_blank\" href=\"https://console.cloud.google.com/bigquery?project=marketcheck-demo&j=bq:US:8f0a8fc5-8cdd-4ae6-acdf-83eab850ddd7&page=queryresults\">Open Job</a>"
            ]
          },
          "metadata": {}
        },
        {
          "output_type": "display_data",
          "data": {
            "text/plain": [
              "<IPython.core.display.HTML object>"
            ],
            "text/html": [
              "Query job 63415f1b-2f98-45cd-b0b0-c09aca92a6e2 is DONE. 124.2 MB processed. <a target=\"_blank\" href=\"https://console.cloud.google.com/bigquery?project=marketcheck-demo&j=bq:US:63415f1b-2f98-45cd-b0b0-c09aca92a6e2&page=queryresults\">Open Job</a>"
            ]
          },
          "metadata": {}
        },
        {
          "output_type": "display_data",
          "data": {
            "text/plain": [
              "<IPython.core.display.HTML object>"
            ],
            "text/html": [
              "Query job 9a6d1f4d-b692-4b67-a9cc-08c46ec92ab3 is DONE. 126.6 MB processed. <a target=\"_blank\" href=\"https://console.cloud.google.com/bigquery?project=marketcheck-demo&j=bq:US:9a6d1f4d-b692-4b67-a9cc-08c46ec92ab3&page=queryresults\">Open Job</a>"
            ]
          },
          "metadata": {}
        },
        {
          "output_type": "display_data",
          "data": {
            "text/plain": [
              "<IPython.core.display.HTML object>"
            ],
            "text/html": [
              "Query job 567ccbda-245d-4286-bc24-86bc47b16d60 is DONE. 127.8 MB processed. <a target=\"_blank\" href=\"https://console.cloud.google.com/bigquery?project=marketcheck-demo&j=bq:US:567ccbda-245d-4286-bc24-86bc47b16d60&page=queryresults\">Open Job</a>"
            ]
          },
          "metadata": {}
        },
        {
          "output_type": "display_data",
          "data": {
            "text/plain": [
              "<IPython.core.display.HTML object>"
            ],
            "text/html": [
              "Query job 9e9bcb1d-6b69-4d14-b7a0-b7ba0988ba9a is DONE. 128.1 MB processed. <a target=\"_blank\" href=\"https://console.cloud.google.com/bigquery?project=marketcheck-demo&j=bq:US:9e9bcb1d-6b69-4d14-b7a0-b7ba0988ba9a&page=queryresults\">Open Job</a>"
            ]
          },
          "metadata": {}
        },
        {
          "output_type": "display_data",
          "data": {
            "text/plain": [
              "<IPython.core.display.HTML object>"
            ],
            "text/html": [
              "Query job 8a378315-cf86-4497-be1d-e9237c75feb1 is DONE. 128.1 MB processed. <a target=\"_blank\" href=\"https://console.cloud.google.com/bigquery?project=marketcheck-demo&j=bq:US:8a378315-cf86-4497-be1d-e9237c75feb1&page=queryresults\">Open Job</a>"
            ]
          },
          "metadata": {}
        },
        {
          "output_type": "display_data",
          "data": {
            "text/plain": [
              "<IPython.core.display.HTML object>"
            ],
            "text/html": [
              "Query job 31a24ab2-b0d0-4d8c-bf4f-e8acf6442f4f is DONE. 128.1 MB processed. <a target=\"_blank\" href=\"https://console.cloud.google.com/bigquery?project=marketcheck-demo&j=bq:US:31a24ab2-b0d0-4d8c-bf4f-e8acf6442f4f&page=queryresults\">Open Job</a>"
            ]
          },
          "metadata": {}
        },
        {
          "output_type": "display_data",
          "data": {
            "text/plain": [
              "<IPython.core.display.HTML object>"
            ],
            "text/html": [
              "Query job b5654fad-c0c9-4abc-bfc1-35d27235f91e is DONE. 128.1 MB processed. <a target=\"_blank\" href=\"https://console.cloud.google.com/bigquery?project=marketcheck-demo&j=bq:US:b5654fad-c0c9-4abc-bfc1-35d27235f91e&page=queryresults\">Open Job</a>"
            ]
          },
          "metadata": {}
        },
        {
          "output_type": "display_data",
          "data": {
            "text/plain": [
              "<IPython.core.display.HTML object>"
            ],
            "text/html": [
              "Query job 497f35bc-431b-4a53-9f0e-5a5a70e2957b is DONE. 128.1 MB processed. <a target=\"_blank\" href=\"https://console.cloud.google.com/bigquery?project=marketcheck-demo&j=bq:US:497f35bc-431b-4a53-9f0e-5a5a70e2957b&page=queryresults\">Open Job</a>"
            ]
          },
          "metadata": {}
        },
        {
          "output_type": "display_data",
          "data": {
            "text/plain": [
              "<IPython.core.display.HTML object>"
            ],
            "text/html": [
              "Query job 4bc2e93f-e9d2-4276-a298-76cc655da0c3 is DONE. 129.2 MB processed. <a target=\"_blank\" href=\"https://console.cloud.google.com/bigquery?project=marketcheck-demo&j=bq:US:4bc2e93f-e9d2-4276-a298-76cc655da0c3&page=queryresults\">Open Job</a>"
            ]
          },
          "metadata": {}
        },
        {
          "output_type": "display_data",
          "data": {
            "text/plain": [
              "<IPython.core.display.HTML object>"
            ],
            "text/html": [
              "Query job b727e81e-6557-46f1-874e-cc7674cedf87 is DONE. 129.2 MB processed. <a target=\"_blank\" href=\"https://console.cloud.google.com/bigquery?project=marketcheck-demo&j=bq:US:b727e81e-6557-46f1-874e-cc7674cedf87&page=queryresults\">Open Job</a>"
            ]
          },
          "metadata": {}
        },
        {
          "output_type": "display_data",
          "data": {
            "text/plain": [
              "<IPython.core.display.HTML object>"
            ],
            "text/html": [
              "Query job 1ab511ca-b962-4e3a-8fec-c117798cbf6f is DONE. 129.2 MB processed. <a target=\"_blank\" href=\"https://console.cloud.google.com/bigquery?project=marketcheck-demo&j=bq:US:1ab511ca-b962-4e3a-8fec-c117798cbf6f&page=queryresults\">Open Job</a>"
            ]
          },
          "metadata": {}
        },
        {
          "output_type": "display_data",
          "data": {
            "text/plain": [
              "<IPython.core.display.HTML object>"
            ],
            "text/html": [
              "Query job 40ed8e5f-3ea6-409a-bdda-d8d0cf1f4fc1 is DONE. 125.1 MB processed. <a target=\"_blank\" href=\"https://console.cloud.google.com/bigquery?project=marketcheck-demo&j=bq:US:40ed8e5f-3ea6-409a-bdda-d8d0cf1f4fc1&page=queryresults\">Open Job</a>"
            ]
          },
          "metadata": {}
        },
        {
          "output_type": "display_data",
          "data": {
            "text/plain": [
              "<IPython.core.display.HTML object>"
            ],
            "text/html": [
              "Query job f6d62bea-3793-4f0e-a3b7-6e3b5ad6c2c6 is DONE. 124.3 MB processed. <a target=\"_blank\" href=\"https://console.cloud.google.com/bigquery?project=marketcheck-demo&j=bq:US:f6d62bea-3793-4f0e-a3b7-6e3b5ad6c2c6&page=queryresults\">Open Job</a>"
            ]
          },
          "metadata": {}
        },
        {
          "output_type": "display_data",
          "data": {
            "text/plain": [
              "<IPython.core.display.HTML object>"
            ],
            "text/html": [
              "Query job 83f67e0e-d956-45be-882f-cd9194c2adc1 is DONE. 129.2 MB processed. <a target=\"_blank\" href=\"https://console.cloud.google.com/bigquery?project=marketcheck-demo&j=bq:US:83f67e0e-d956-45be-882f-cd9194c2adc1&page=queryresults\">Open Job</a>"
            ]
          },
          "metadata": {}
        },
        {
          "output_type": "display_data",
          "data": {
            "text/plain": [
              "<IPython.core.display.HTML object>"
            ],
            "text/html": [
              "Query job 7dedfb5c-96bf-4c1e-bacc-eac9be42ce88 is DONE. 129.2 MB processed. <a target=\"_blank\" href=\"https://console.cloud.google.com/bigquery?project=marketcheck-demo&j=bq:US:7dedfb5c-96bf-4c1e-bacc-eac9be42ce88&page=queryresults\">Open Job</a>"
            ]
          },
          "metadata": {}
        },
        {
          "output_type": "display_data",
          "data": {
            "text/plain": [
              "<IPython.core.display.HTML object>"
            ],
            "text/html": [
              "Query job fe5bfec7-fe1f-4062-ab9c-d79d9fa7a075 is DONE. 129.2 MB processed. <a target=\"_blank\" href=\"https://console.cloud.google.com/bigquery?project=marketcheck-demo&j=bq:US:fe5bfec7-fe1f-4062-ab9c-d79d9fa7a075&page=queryresults\">Open Job</a>"
            ]
          },
          "metadata": {}
        },
        {
          "output_type": "display_data",
          "data": {
            "text/plain": [
              "<IPython.core.display.HTML object>"
            ],
            "text/html": [
              "Query job f831c7a8-c8f4-4391-90ec-27abe3bc4855 is DONE. 129.2 MB processed. <a target=\"_blank\" href=\"https://console.cloud.google.com/bigquery?project=marketcheck-demo&j=bq:US:f831c7a8-c8f4-4391-90ec-27abe3bc4855&page=queryresults\">Open Job</a>"
            ]
          },
          "metadata": {}
        },
        {
          "output_type": "display_data",
          "data": {
            "text/plain": [
              "<IPython.core.display.HTML object>"
            ],
            "text/html": [
              "Query job d76a282c-0062-433d-bdbb-5cb83c0c20c4 is DONE. 129.2 MB processed. <a target=\"_blank\" href=\"https://console.cloud.google.com/bigquery?project=marketcheck-demo&j=bq:US:d76a282c-0062-433d-bdbb-5cb83c0c20c4&page=queryresults\">Open Job</a>"
            ]
          },
          "metadata": {}
        },
        {
          "output_type": "display_data",
          "data": {
            "text/plain": [
              "<IPython.core.display.HTML object>"
            ],
            "text/html": [
              "Query job 50292d37-ed8d-468e-ba3d-bc4ed55b4b20 is DONE. 129.2 MB processed. <a target=\"_blank\" href=\"https://console.cloud.google.com/bigquery?project=marketcheck-demo&j=bq:US:50292d37-ed8d-468e-ba3d-bc4ed55b4b20&page=queryresults\">Open Job</a>"
            ]
          },
          "metadata": {}
        },
        {
          "output_type": "display_data",
          "data": {
            "text/plain": [
              "<IPython.core.display.HTML object>"
            ],
            "text/html": [
              "Query job 3d5bd221-a372-4b83-be05-0a99f98ba2e0 is DONE. 129.2 MB processed. <a target=\"_blank\" href=\"https://console.cloud.google.com/bigquery?project=marketcheck-demo&j=bq:US:3d5bd221-a372-4b83-be05-0a99f98ba2e0&page=queryresults\">Open Job</a>"
            ]
          },
          "metadata": {}
        }
      ]
    },
    {
      "cell_type": "code",
      "source": [
        "missing_category_after = df[continuous_vars].isnull().sum()\n",
        "print(\"\\nMissing Values Count After Imputation:\\n\", missing_category_after)"
      ],
      "metadata": {
        "colab": {
          "base_uri": "https://localhost:8080/",
          "height": 625
        },
        "id": "9muySpyBdiE5",
        "executionInfo": {
          "status": "ok",
          "timestamp": 1729017446913,
          "user_tz": 240,
          "elapsed": 6089,
          "user": {
            "displayName": "",
            "userId": ""
          }
        },
        "outputId": "050d12dc-aa71-4b8c-83a5-a56e2f4d7d61"
      },
      "execution_count": 26,
      "outputs": [
        {
          "output_type": "stream",
          "name": "stderr",
          "text": [
            "/usr/local/lib/python3.10/dist-packages/bigframes/core/blocks.py:126: NullIndexPreviewWarning: Creating object with Null Index. Null Index is a preview feature.\n",
            "  warnings.warn(\n"
          ]
        },
        {
          "output_type": "stream",
          "name": "stdout",
          "text": [
            "\n",
            "Missing Values Count After Imputation:\n",
            " "
          ]
        },
        {
          "output_type": "display_data",
          "data": {
            "text/plain": [
              "<IPython.core.display.HTML object>"
            ],
            "text/html": [
              "Query job d907f206-8e03-4b13-bf98-812732ac571b is DONE. 1.6 GB processed. <a target=\"_blank\" href=\"https://console.cloud.google.com/bigquery?project=marketcheck-demo&j=bq:US:d907f206-8e03-4b13-bf98-812732ac571b&page=queryresults\">Open Job</a>"
            ]
          },
          "metadata": {}
        },
        {
          "output_type": "display_data",
          "data": {
            "text/plain": [
              "<IPython.core.display.HTML object>"
            ],
            "text/html": [
              "Query job 971a4237-522e-4961-ad4d-089ec552745f is DONE. 810 Bytes processed. <a target=\"_blank\" href=\"https://console.cloud.google.com/bigquery?project=marketcheck-demo&j=bq:US:971a4237-522e-4961-ad4d-089ec552745f&page=queryresults\">Open Job</a>"
            ]
          },
          "metadata": {}
        },
        {
          "output_type": "stream",
          "name": "stdout",
          "text": [
            "price                              0\n",
            "miles                          93428\n",
            "neo_year                          16\n",
            "neo_engine_size               169324\n",
            "neo_doors                     115545\n",
            "neo_cylinders                 172309\n",
            "neo_city_mpg                  572540\n",
            "neo_highway_mpg               572480\n",
            "neo_width                     301411\n",
            "neo_height                    151587\n",
            "neo_length                    126589\n",
            "neo_base_msrp                 115764\n",
            "neo_installed_options_msrp    115545\n",
            "neo_delivery_charges          121122\n",
            "neo_combined_msrp             115545\n",
            "dom                                0\n",
            "dom_180                            0\n",
            "dom_active                         0\n",
            "carfax_1_owner                471658\n",
            "carfax_clean_title            570582\n",
            "in_transit                         0\n",
            "dos_active                         0\n",
            "mc_dealer_id                       0\n",
            "mc_location_id                     0\n",
            "mc_website_id                      0\n",
            "dtype: Int64\n"
          ]
        }
      ]
    },
    {
      "cell_type": "code",
      "source": [
        "\n",
        "for var in continuous_vars:\n",
        "    df[var] = df[var].fillna(df[var].mean())\n",
        "\n",
        "# Step 2: Check for remaining missing values\n",
        "remaining_missing = df.isnull().sum()\n",
        "print(\"\\nRemaining Missing Values Count After Filling with Mean:\")\n",
        "print(remaining_missing[remaining_missing > 0])"
      ],
      "metadata": {
        "colab": {
          "base_uri": "https://localhost:8080/",
          "height": 1000
        },
        "id": "-8U6ZHXKcBGf",
        "executionInfo": {
          "status": "ok",
          "timestamp": 1729018523858,
          "user_tz": 240,
          "elapsed": 101966,
          "user": {
            "displayName": "",
            "userId": ""
          }
        },
        "outputId": "876c5099-6d89-4a9d-c7b4-86a7f386edcb"
      },
      "execution_count": 31,
      "outputs": [
        {
          "output_type": "display_data",
          "data": {
            "text/plain": [
              "<IPython.core.display.HTML object>"
            ],
            "text/html": [
              "Query job f8929622-0f63-49a0-b552-1bb27e30d49a is DONE. 62.2 MB processed. <a target=\"_blank\" href=\"https://console.cloud.google.com/bigquery?project=marketcheck-demo&j=bq:US:f8929622-0f63-49a0-b552-1bb27e30d49a&page=queryresults\">Open Job</a>"
            ]
          },
          "metadata": {}
        },
        {
          "output_type": "display_data",
          "data": {
            "text/plain": [
              "<IPython.core.display.HTML object>"
            ],
            "text/html": [
              "Query job 9e88f5f0-07ee-4fb0-8862-7dd2b1d549de is DONE. 128.1 MB processed. <a target=\"_blank\" href=\"https://console.cloud.google.com/bigquery?project=marketcheck-demo&j=bq:US:9e88f5f0-07ee-4fb0-8862-7dd2b1d549de&page=queryresults\">Open Job</a>"
            ]
          },
          "metadata": {}
        },
        {
          "output_type": "display_data",
          "data": {
            "text/plain": [
              "<IPython.core.display.HTML object>"
            ],
            "text/html": [
              "Query job 68a007fd-8d76-4bd4-8095-3a9699c854a5 is DONE. 129.2 MB processed. <a target=\"_blank\" href=\"https://console.cloud.google.com/bigquery?project=marketcheck-demo&j=bq:US:68a007fd-8d76-4bd4-8095-3a9699c854a5&page=queryresults\">Open Job</a>"
            ]
          },
          "metadata": {}
        },
        {
          "output_type": "display_data",
          "data": {
            "text/plain": [
              "<IPython.core.display.HTML object>"
            ],
            "text/html": [
              "Query job 61256f8e-bb37-42b6-80a8-67c8cdd580dd is DONE. 127.8 MB processed. <a target=\"_blank\" href=\"https://console.cloud.google.com/bigquery?project=marketcheck-demo&j=bq:US:61256f8e-bb37-42b6-80a8-67c8cdd580dd&page=queryresults\">Open Job</a>"
            ]
          },
          "metadata": {}
        },
        {
          "output_type": "display_data",
          "data": {
            "text/plain": [
              "<IPython.core.display.HTML object>"
            ],
            "text/html": [
              "Query job c6b3ff0a-adfc-4fa1-90a8-ae760fc8084f is DONE. 128.1 MB processed. <a target=\"_blank\" href=\"https://console.cloud.google.com/bigquery?project=marketcheck-demo&j=bq:US:c6b3ff0a-adfc-4fa1-90a8-ae760fc8084f&page=queryresults\">Open Job</a>"
            ]
          },
          "metadata": {}
        },
        {
          "output_type": "display_data",
          "data": {
            "text/plain": [
              "<IPython.core.display.HTML object>"
            ],
            "text/html": [
              "Query job fa992f30-f9b6-4d9f-87de-05df4a6c650d is DONE. 127.7 MB processed. <a target=\"_blank\" href=\"https://console.cloud.google.com/bigquery?project=marketcheck-demo&j=bq:US:fa992f30-f9b6-4d9f-87de-05df4a6c650d&page=queryresults\">Open Job</a>"
            ]
          },
          "metadata": {}
        },
        {
          "output_type": "display_data",
          "data": {
            "text/plain": [
              "<IPython.core.display.HTML object>"
            ],
            "text/html": [
              "Query job 17dedece-fd78-4ca0-8bc2-6c108f9c94fd is DONE. 124.2 MB processed. <a target=\"_blank\" href=\"https://console.cloud.google.com/bigquery?project=marketcheck-demo&j=bq:US:17dedece-fd78-4ca0-8bc2-6c108f9c94fd&page=queryresults\">Open Job</a>"
            ]
          },
          "metadata": {}
        },
        {
          "output_type": "display_data",
          "data": {
            "text/plain": [
              "<IPython.core.display.HTML object>"
            ],
            "text/html": [
              "Query job 13242c6a-2adc-4231-a29a-35604f27bd84 is DONE. 124.2 MB processed. <a target=\"_blank\" href=\"https://console.cloud.google.com/bigquery?project=marketcheck-demo&j=bq:US:13242c6a-2adc-4231-a29a-35604f27bd84&page=queryresults\">Open Job</a>"
            ]
          },
          "metadata": {}
        },
        {
          "output_type": "display_data",
          "data": {
            "text/plain": [
              "<IPython.core.display.HTML object>"
            ],
            "text/html": [
              "Query job 8ca25ba9-6b71-426e-8bea-9d52422ce9b3 is DONE. 126.6 MB processed. <a target=\"_blank\" href=\"https://console.cloud.google.com/bigquery?project=marketcheck-demo&j=bq:US:8ca25ba9-6b71-426e-8bea-9d52422ce9b3&page=queryresults\">Open Job</a>"
            ]
          },
          "metadata": {}
        },
        {
          "output_type": "display_data",
          "data": {
            "text/plain": [
              "<IPython.core.display.HTML object>"
            ],
            "text/html": [
              "Query job b797eb49-f116-41cc-8b05-0d7dc1432d82 is DONE. 127.8 MB processed. <a target=\"_blank\" href=\"https://console.cloud.google.com/bigquery?project=marketcheck-demo&j=bq:US:b797eb49-f116-41cc-8b05-0d7dc1432d82&page=queryresults\">Open Job</a>"
            ]
          },
          "metadata": {}
        },
        {
          "output_type": "display_data",
          "data": {
            "text/plain": [
              "<IPython.core.display.HTML object>"
            ],
            "text/html": [
              "Query job a08bc812-f616-4e73-9782-d18af0ec5d87 is DONE. 128.1 MB processed. <a target=\"_blank\" href=\"https://console.cloud.google.com/bigquery?project=marketcheck-demo&j=bq:US:a08bc812-f616-4e73-9782-d18af0ec5d87&page=queryresults\">Open Job</a>"
            ]
          },
          "metadata": {}
        },
        {
          "output_type": "display_data",
          "data": {
            "text/plain": [
              "<IPython.core.display.HTML object>"
            ],
            "text/html": [
              "Query job 98edf92f-b829-4684-8cb1-20565d96adf4 is DONE. 128.1 MB processed. <a target=\"_blank\" href=\"https://console.cloud.google.com/bigquery?project=marketcheck-demo&j=bq:US:98edf92f-b829-4684-8cb1-20565d96adf4&page=queryresults\">Open Job</a>"
            ]
          },
          "metadata": {}
        },
        {
          "output_type": "display_data",
          "data": {
            "text/plain": [
              "<IPython.core.display.HTML object>"
            ],
            "text/html": [
              "Query job 72118224-04f2-4e61-8ae7-c06bce2cb33c is DONE. 128.1 MB processed. <a target=\"_blank\" href=\"https://console.cloud.google.com/bigquery?project=marketcheck-demo&j=bq:US:72118224-04f2-4e61-8ae7-c06bce2cb33c&page=queryresults\">Open Job</a>"
            ]
          },
          "metadata": {}
        },
        {
          "output_type": "display_data",
          "data": {
            "text/plain": [
              "<IPython.core.display.HTML object>"
            ],
            "text/html": [
              "Query job 896cadb3-9f50-40b4-881b-5aadc3897086 is DONE. 128.1 MB processed. <a target=\"_blank\" href=\"https://console.cloud.google.com/bigquery?project=marketcheck-demo&j=bq:US:896cadb3-9f50-40b4-881b-5aadc3897086&page=queryresults\">Open Job</a>"
            ]
          },
          "metadata": {}
        },
        {
          "output_type": "display_data",
          "data": {
            "text/plain": [
              "<IPython.core.display.HTML object>"
            ],
            "text/html": [
              "Query job e0b9b067-6dba-4851-856a-3b642aa7c5c3 is DONE. 128.1 MB processed. <a target=\"_blank\" href=\"https://console.cloud.google.com/bigquery?project=marketcheck-demo&j=bq:US:e0b9b067-6dba-4851-856a-3b642aa7c5c3&page=queryresults\">Open Job</a>"
            ]
          },
          "metadata": {}
        },
        {
          "output_type": "display_data",
          "data": {
            "text/plain": [
              "<IPython.core.display.HTML object>"
            ],
            "text/html": [
              "Query job ef96ef76-144f-4915-af17-6fa0992004d3 is DONE. 129.2 MB processed. <a target=\"_blank\" href=\"https://console.cloud.google.com/bigquery?project=marketcheck-demo&j=bq:US:ef96ef76-144f-4915-af17-6fa0992004d3&page=queryresults\">Open Job</a>"
            ]
          },
          "metadata": {}
        },
        {
          "output_type": "display_data",
          "data": {
            "text/plain": [
              "<IPython.core.display.HTML object>"
            ],
            "text/html": [
              "Query job ae42a95f-6818-4d8a-85fd-eafa754ff9e7 is DONE. 129.2 MB processed. <a target=\"_blank\" href=\"https://console.cloud.google.com/bigquery?project=marketcheck-demo&j=bq:US:ae42a95f-6818-4d8a-85fd-eafa754ff9e7&page=queryresults\">Open Job</a>"
            ]
          },
          "metadata": {}
        },
        {
          "output_type": "display_data",
          "data": {
            "text/plain": [
              "<IPython.core.display.HTML object>"
            ],
            "text/html": [
              "Query job 6f297448-4812-45c8-a935-30c83d4c80a6 is DONE. 129.2 MB processed. <a target=\"_blank\" href=\"https://console.cloud.google.com/bigquery?project=marketcheck-demo&j=bq:US:6f297448-4812-45c8-a935-30c83d4c80a6&page=queryresults\">Open Job</a>"
            ]
          },
          "metadata": {}
        },
        {
          "output_type": "display_data",
          "data": {
            "text/plain": [
              "<IPython.core.display.HTML object>"
            ],
            "text/html": [
              "Query job ce41d4b0-2f0e-4570-9919-d79401ad0d6b is DONE. 125.1 MB processed. <a target=\"_blank\" href=\"https://console.cloud.google.com/bigquery?project=marketcheck-demo&j=bq:US:ce41d4b0-2f0e-4570-9919-d79401ad0d6b&page=queryresults\">Open Job</a>"
            ]
          },
          "metadata": {}
        },
        {
          "output_type": "display_data",
          "data": {
            "text/plain": [
              "<IPython.core.display.HTML object>"
            ],
            "text/html": [
              "Query job 7feaaaac-e8ed-4e1f-9259-28d34191e8d7 is DONE. 124.3 MB processed. <a target=\"_blank\" href=\"https://console.cloud.google.com/bigquery?project=marketcheck-demo&j=bq:US:7feaaaac-e8ed-4e1f-9259-28d34191e8d7&page=queryresults\">Open Job</a>"
            ]
          },
          "metadata": {}
        },
        {
          "output_type": "display_data",
          "data": {
            "text/plain": [
              "<IPython.core.display.HTML object>"
            ],
            "text/html": [
              "Query job f3723c71-55a5-4f8c-8907-fafe2d8c4da4 is DONE. 129.2 MB processed. <a target=\"_blank\" href=\"https://console.cloud.google.com/bigquery?project=marketcheck-demo&j=bq:US:f3723c71-55a5-4f8c-8907-fafe2d8c4da4&page=queryresults\">Open Job</a>"
            ]
          },
          "metadata": {}
        },
        {
          "output_type": "display_data",
          "data": {
            "text/plain": [
              "<IPython.core.display.HTML object>"
            ],
            "text/html": [
              "Query job 8c60a52e-ce33-45e5-9ccd-1ffad4d69b22 is DONE. 129.2 MB processed. <a target=\"_blank\" href=\"https://console.cloud.google.com/bigquery?project=marketcheck-demo&j=bq:US:8c60a52e-ce33-45e5-9ccd-1ffad4d69b22&page=queryresults\">Open Job</a>"
            ]
          },
          "metadata": {}
        },
        {
          "output_type": "display_data",
          "data": {
            "text/plain": [
              "<IPython.core.display.HTML object>"
            ],
            "text/html": [
              "Query job 5eb5eb4b-59ec-483a-84e0-1f37e4b50ae5 is DONE. 129.2 MB processed. <a target=\"_blank\" href=\"https://console.cloud.google.com/bigquery?project=marketcheck-demo&j=bq:US:5eb5eb4b-59ec-483a-84e0-1f37e4b50ae5&page=queryresults\">Open Job</a>"
            ]
          },
          "metadata": {}
        },
        {
          "output_type": "display_data",
          "data": {
            "text/plain": [
              "<IPython.core.display.HTML object>"
            ],
            "text/html": [
              "Query job aec8fae6-589a-4c3d-86fd-1b89bbcdbce6 is DONE. 129.2 MB processed. <a target=\"_blank\" href=\"https://console.cloud.google.com/bigquery?project=marketcheck-demo&j=bq:US:aec8fae6-589a-4c3d-86fd-1b89bbcdbce6&page=queryresults\">Open Job</a>"
            ]
          },
          "metadata": {}
        },
        {
          "output_type": "display_data",
          "data": {
            "text/plain": [
              "<IPython.core.display.HTML object>"
            ],
            "text/html": [
              "Query job 6be4e60a-a926-4e75-a273-b612b0b381c7 is DONE. 129.2 MB processed. <a target=\"_blank\" href=\"https://console.cloud.google.com/bigquery?project=marketcheck-demo&j=bq:US:6be4e60a-a926-4e75-a273-b612b0b381c7&page=queryresults\">Open Job</a>"
            ]
          },
          "metadata": {}
        },
        {
          "output_type": "display_data",
          "data": {
            "text/plain": [
              "<IPython.core.display.HTML object>"
            ],
            "text/html": [
              "Query job 8cfb6f7d-2c04-4411-b2ed-b7258f2fc755 is DONE. 129.2 MB processed. <a target=\"_blank\" href=\"https://console.cloud.google.com/bigquery?project=marketcheck-demo&j=bq:US:8cfb6f7d-2c04-4411-b2ed-b7258f2fc755&page=queryresults\">Open Job</a>"
            ]
          },
          "metadata": {}
        },
        {
          "output_type": "display_data",
          "data": {
            "text/plain": [
              "<IPython.core.display.HTML object>"
            ],
            "text/html": [
              "Query job 5f22ac40-76fb-4caa-a4b2-f5d2d3e4e113 is DONE. 129.2 MB processed. <a target=\"_blank\" href=\"https://console.cloud.google.com/bigquery?project=marketcheck-demo&j=bq:US:5f22ac40-76fb-4caa-a4b2-f5d2d3e4e113&page=queryresults\">Open Job</a>"
            ]
          },
          "metadata": {}
        },
        {
          "output_type": "stream",
          "name": "stderr",
          "text": [
            "/usr/local/lib/python3.10/dist-packages/bigframes/core/blocks.py:126: NullIndexPreviewWarning: Creating object with Null Index. Null Index is a preview feature.\n",
            "  warnings.warn(\n"
          ]
        },
        {
          "output_type": "stream",
          "name": "stdout",
          "text": [
            "\n",
            "Remaining Missing Values Count After Filling with Mean:\n"
          ]
        },
        {
          "output_type": "display_data",
          "data": {
            "text/plain": [
              "<IPython.core.display.HTML object>"
            ],
            "text/html": [
              "Query job 3978a6d0-16de-4793-9ce3-fa095753fbe5 is DONE. 61.8 GB processed. <a target=\"_blank\" href=\"https://console.cloud.google.com/bigquery?project=marketcheck-demo&j=bq:US:3978a6d0-16de-4793-9ce3-fa095753fbe5&page=queryresults\">Open Job</a>"
            ]
          },
          "metadata": {}
        },
        {
          "output_type": "display_data",
          "data": {
            "text/plain": [
              "<IPython.core.display.HTML object>"
            ],
            "text/html": [
              "Query job b3c0acf6-9cf6-48fc-8983-4b3b352afd78 is DONE. 3.3 kB processed. <a target=\"_blank\" href=\"https://console.cloud.google.com/bigquery?project=marketcheck-demo&j=bq:US:b3c0acf6-9cf6-48fc-8983-4b3b352afd78&page=queryresults\">Open Job</a>"
            ]
          },
          "metadata": {}
        },
        {
          "output_type": "display_data",
          "data": {
            "text/plain": [
              "<IPython.core.display.HTML object>"
            ],
            "text/html": [
              "Query job ea821f34-e5ac-4af8-9aef-f06d1dc09759 is DONE. 920 Bytes processed. <a target=\"_blank\" href=\"https://console.cloud.google.com/bigquery?project=marketcheck-demo&j=bq:US:ea821f34-e5ac-4af8-9aef-f06d1dc09759&page=queryresults\">Open Job</a>"
            ]
          },
          "metadata": {}
        },
        {
          "output_type": "stream",
          "name": "stdout",
          "text": [
            "stock_no                   528128\n",
            "neo_listing_confidence     388495\n",
            "neo_model                     430\n",
            "neo_trim                   115545\n",
            "neo_trim_confidence        115545\n",
            "neo_version                115545\n",
            "neo_version_confidence     115545\n",
            "neo_vehicle_type           115545\n",
            "neo_body_type              115545\n",
            "neo_drivetrain             117394\n",
            "neo_powertrain_type        284054\n",
            "neo_fuel_type              115545\n",
            "neo_engine                 236490\n",
            "neo_engine_block           169381\n",
            "neo_transmission           115917\n",
            "neo_manufacturer_code      165171\n",
            "interior_color             748911\n",
            "base_interior_color        814972\n",
            "neo_mfg_interior_color     623523\n",
            "exterior_color             253104\n",
            "base_exterior_color        285170\n",
            "neo_mfg_exterior_color     308121\n",
            "first_scraped_at             1213\n",
            "neo_country                115545\n",
            "features                  1325352\n",
            "dtype: Int64\n"
          ]
        }
      ]
    },
    {
      "cell_type": "code",
      "source": [
        "categorical_var = df.select_dtypes(include=['string', 'object']).columns.tolist()\n",
        "print(categorical_var)"
      ],
      "metadata": {
        "colab": {
          "base_uri": "https://localhost:8080/"
        },
        "id": "Bpbv4Rtgdwog",
        "executionInfo": {
          "status": "ok",
          "timestamp": 1729018575588,
          "user_tz": 240,
          "elapsed": 167,
          "user": {
            "displayName": "",
            "userId": ""
          }
        },
        "outputId": "ec9677c0-b87c-4a6e-a582-5af2eaa8bbbc"
      },
      "execution_count": 32,
      "outputs": [
        {
          "output_type": "stream",
          "name": "stdout",
          "text": [
            "['stock_no', 'neo_listing_confidence', 'neo_make', 'neo_model', 'neo_trim', 'neo_trim_confidence', 'neo_version', 'neo_version_confidence', 'neo_vehicle_type', 'neo_body_type', 'neo_drivetrain', 'neo_powertrain_type', 'neo_fuel_type', 'neo_engine', 'neo_engine_block', 'neo_transmission', 'neo_manufacturer_code', 'interior_color', 'base_interior_color', 'neo_mfg_interior_color', 'exterior_color', 'base_exterior_color', 'neo_mfg_exterior_color', 'neo_country', 'seller_type', 'listing_type', 'inventory_type', 'dealer_type', 'features', 'neo_installed_options_details', 'neo_high_value_features', 'mc_category']\n"
          ]
        }
      ]
    },
    {
      "cell_type": "code",
      "source": [
        "df['first_scraped_at'].tail()"
      ],
      "metadata": {
        "id": "iBjmmLE-eniZ",
        "colab": {
          "base_uri": "https://localhost:8080/",
          "height": 159
        },
        "executionInfo": {
          "status": "ok",
          "timestamp": 1729018616127,
          "user_tz": 240,
          "elapsed": 39423,
          "user": {
            "displayName": "",
            "userId": ""
          }
        },
        "outputId": "7febc83f-efec-4379-8558-4e41f189540c"
      },
      "execution_count": 33,
      "outputs": [
        {
          "output_type": "display_data",
          "data": {
            "text/plain": [
              "<IPython.core.display.HTML object>"
            ],
            "text/html": [
              "Query job 26d208cf-0fa3-419e-9048-b55e79f6adca is DONE. 100.1 GB processed. <a target=\"_blank\" href=\"https://console.cloud.google.com/bigquery?project=marketcheck-demo&j=bq:US:26d208cf-0fa3-419e-9048-b55e79f6adca&page=queryresults\">Open Job</a>"
            ]
          },
          "metadata": {}
        },
        {
          "output_type": "display_data",
          "data": {
            "text/plain": [
              "<IPython.core.display.HTML object>"
            ],
            "text/html": [
              "Query job 5223ace4-fca1-4b78-8100-3e0acdaf4333 is DONE. 120 Bytes processed. <a target=\"_blank\" href=\"https://console.cloud.google.com/bigquery?project=marketcheck-demo&j=bq:US:5223ace4-fca1-4b78-8100-3e0acdaf4333&page=queryresults\">Open Job</a>"
            ]
          },
          "metadata": {}
        },
        {
          "output_type": "execute_result",
          "data": {
            "text/plain": [
              "8376811    2024-09-06 19:16:55+00:00\n",
              "8376812    2021-04-21 04:31:05+00:00\n",
              "8376813    2021-07-15 09:23:49+00:00\n",
              "8376814    2024-02-18 01:53:15+00:00\n",
              "8376816    2016-12-05 07:00:16+00:00\n",
              "Name: first_scraped_at, dtype: timestamp[us, tz=UTC][pyarrow]"
            ]
          },
          "metadata": {},
          "execution_count": 33
        }
      ]
    },
    {
      "cell_type": "code",
      "source": [
        "# Extract the year from the timestamp column\n",
        "df['first_scraped_yr'] = df['first_scraped_at'].dt.year\n",
        "\n",
        "# Calculate scraped age\n",
        "df['scraped_age'] = 2024 - df['first_scraped_yr']\n",
        "\n",
        "# Drop the original timestamp column if needed\n",
        "df = df.drop(columns='first_scraped_at')\n",
        "\n"
      ],
      "metadata": {
        "id": "ZcM2ySt6entb",
        "executionInfo": {
          "status": "ok",
          "timestamp": 1729018627420,
          "user_tz": 240,
          "elapsed": 2,
          "user": {
            "displayName": "",
            "userId": ""
          }
        }
      },
      "execution_count": 35,
      "outputs": []
    },
    {
      "cell_type": "code",
      "source": [
        "df.head(2)"
      ],
      "metadata": {
        "id": "ux349aLgenww",
        "colab": {
          "base_uri": "https://localhost:8080/",
          "height": 248
        },
        "executionInfo": {
          "status": "ok",
          "timestamp": 1729015770242,
          "user_tz": 240,
          "elapsed": 5489,
          "user": {
            "displayName": "",
            "userId": ""
          }
        },
        "outputId": "8b0951a5-66b7-48bd-924f-6be4b48c3f06"
      },
      "execution_count": 33,
      "outputs": [
        {
          "output_type": "display_data",
          "data": {
            "text/plain": [
              "<IPython.core.display.HTML object>"
            ],
            "text/html": [
              "Query job 25ba2f44-f415-42d3-a084-fbe233d37674 is DONE. 39.6 MB processed. <a target=\"_blank\" href=\"https://console.cloud.google.com/bigquery?project=marketcheck-demo&j=bq:US:25ba2f44-f415-42d3-a084-fbe233d37674&page=queryresults\">Open Job</a>"
            ]
          },
          "metadata": {}
        },
        {
          "output_type": "display_data",
          "data": {
            "text/plain": [
              "<IPython.core.display.HTML object>"
            ],
            "text/html": [
              "Query job 255be443-e423-4d55-b427-484542e65023 is DONE. 47.0 kB processed. <a target=\"_blank\" href=\"https://console.cloud.google.com/bigquery?project=marketcheck-demo&j=bq:US:255be443-e423-4d55-b427-484542e65023&page=queryresults\">Open Job</a>"
            ]
          },
          "metadata": {}
        },
        {
          "output_type": "execute_result",
          "data": {
            "text/plain": [
              "     price    miles stock_no                   neo_listing_confidence  \\\n",
              "0  37998.0  17510.0  CP25065                           mc_build_specs   \n",
              "2  17750.0  85764.0  443202A  mc_listings|used|dealer|franchise|62008   \n",
              "\n",
              "   neo_year  neo_make neo_model        neo_trim neo_trim_confidence  \\\n",
              "0    2021.0  Cadillac       XT5  Premium Luxury           spec_data   \n",
              "2    2020.0     Honda     Civic           Sport           spec_data   \n",
              "\n",
              "          neo_version  ... in_transit dos_active       mc_category  \\\n",
              "0  AWD Premium Luxury  ...        0.0       15.0            Dealer   \n",
              "2               Sport  ...        0.0        7.0  Dealership Group   \n",
              "\n",
              "  mc_dealer_id mc_location_id mc_website_id mc_rooftop_id is_searchable  \\\n",
              "0    1109639.0      1508322.0     1100764.0      750873.0           0.0   \n",
              "2    1191786.0      1398068.0     1028668.0      311142.0           0.0   \n",
              "\n",
              "   first_scraped_yr scraped_age  \n",
              "0              2021           3  \n",
              "2              2020           4  \n",
              "\n",
              "[2 rows x 61 columns]"
            ],
            "text/html": [
              "<div>\n",
              "<style scoped>\n",
              "    .dataframe tbody tr th:only-of-type {\n",
              "        vertical-align: middle;\n",
              "    }\n",
              "\n",
              "    .dataframe tbody tr th {\n",
              "        vertical-align: top;\n",
              "    }\n",
              "\n",
              "    .dataframe thead th {\n",
              "        text-align: right;\n",
              "    }\n",
              "</style>\n",
              "<table border=\"1\" class=\"dataframe\">\n",
              "  <thead>\n",
              "    <tr style=\"text-align: right;\">\n",
              "      <th></th>\n",
              "      <th>price</th>\n",
              "      <th>miles</th>\n",
              "      <th>stock_no</th>\n",
              "      <th>neo_listing_confidence</th>\n",
              "      <th>neo_year</th>\n",
              "      <th>neo_make</th>\n",
              "      <th>neo_model</th>\n",
              "      <th>neo_trim</th>\n",
              "      <th>neo_trim_confidence</th>\n",
              "      <th>neo_version</th>\n",
              "      <th>...</th>\n",
              "      <th>in_transit</th>\n",
              "      <th>dos_active</th>\n",
              "      <th>mc_category</th>\n",
              "      <th>mc_dealer_id</th>\n",
              "      <th>mc_location_id</th>\n",
              "      <th>mc_website_id</th>\n",
              "      <th>mc_rooftop_id</th>\n",
              "      <th>is_searchable</th>\n",
              "      <th>first_scraped_yr</th>\n",
              "      <th>scraped_age</th>\n",
              "    </tr>\n",
              "  </thead>\n",
              "  <tbody>\n",
              "    <tr>\n",
              "      <th>0</th>\n",
              "      <td>37998.0</td>\n",
              "      <td>17510.0</td>\n",
              "      <td>CP25065</td>\n",
              "      <td>mc_build_specs</td>\n",
              "      <td>2021.0</td>\n",
              "      <td>Cadillac</td>\n",
              "      <td>XT5</td>\n",
              "      <td>Premium Luxury</td>\n",
              "      <td>spec_data</td>\n",
              "      <td>AWD Premium Luxury</td>\n",
              "      <td>...</td>\n",
              "      <td>0.0</td>\n",
              "      <td>15.0</td>\n",
              "      <td>Dealer</td>\n",
              "      <td>1109639.0</td>\n",
              "      <td>1508322.0</td>\n",
              "      <td>1100764.0</td>\n",
              "      <td>750873.0</td>\n",
              "      <td>0.0</td>\n",
              "      <td>2021</td>\n",
              "      <td>3</td>\n",
              "    </tr>\n",
              "    <tr>\n",
              "      <th>2</th>\n",
              "      <td>17750.0</td>\n",
              "      <td>85764.0</td>\n",
              "      <td>443202A</td>\n",
              "      <td>mc_listings|used|dealer|franchise|62008</td>\n",
              "      <td>2020.0</td>\n",
              "      <td>Honda</td>\n",
              "      <td>Civic</td>\n",
              "      <td>Sport</td>\n",
              "      <td>spec_data</td>\n",
              "      <td>Sport</td>\n",
              "      <td>...</td>\n",
              "      <td>0.0</td>\n",
              "      <td>7.0</td>\n",
              "      <td>Dealership Group</td>\n",
              "      <td>1191786.0</td>\n",
              "      <td>1398068.0</td>\n",
              "      <td>1028668.0</td>\n",
              "      <td>311142.0</td>\n",
              "      <td>0.0</td>\n",
              "      <td>2020</td>\n",
              "      <td>4</td>\n",
              "    </tr>\n",
              "  </tbody>\n",
              "</table>\n",
              "<p>2 rows × 61 columns</p>\n",
              "</div>[2 rows x 61 columns in total]"
            ]
          },
          "metadata": {},
          "execution_count": 33
        }
      ]
    },
    {
      "cell_type": "code",
      "source": [
        "pip install pandas-gbq"
      ],
      "metadata": {
        "colab": {
          "base_uri": "https://localhost:8080/"
        },
        "id": "ypllv-3NsaQR",
        "executionInfo": {
          "status": "ok",
          "timestamp": 1729018634888,
          "user_tz": 240,
          "elapsed": 4076,
          "user": {
            "displayName": "",
            "userId": ""
          }
        },
        "outputId": "f9655cc2-3167-4991-bf0f-854b03f4016d"
      },
      "execution_count": 36,
      "outputs": [
        {
          "output_type": "stream",
          "name": "stdout",
          "text": [
            "Requirement already satisfied: pandas-gbq in /usr/local/lib/python3.10/dist-packages (0.23.2)\n",
            "Requirement already satisfied: setuptools in /usr/local/lib/python3.10/dist-packages (from pandas-gbq) (69.5.1)\n",
            "Requirement already satisfied: db-dtypes<2.0.0,>=1.0.4 in /usr/local/lib/python3.10/dist-packages (from pandas-gbq) (1.3.0)\n",
            "Requirement already satisfied: numpy>=1.18.1 in /usr/local/lib/python3.10/dist-packages (from pandas-gbq) (1.26.4)\n",
            "Requirement already satisfied: pandas>=1.1.4 in /usr/local/lib/python3.10/dist-packages (from pandas-gbq) (2.1.4)\n",
            "Requirement already satisfied: pyarrow>=3.0.0 in /usr/local/lib/python3.10/dist-packages (from pandas-gbq) (14.0.2)\n",
            "Requirement already satisfied: pydata-google-auth>=1.5.0 in /usr/local/lib/python3.10/dist-packages (from pandas-gbq) (1.8.2)\n",
            "Requirement already satisfied: google-api-core<3.0.0dev,>=2.10.2 in /usr/local/lib/python3.10/dist-packages (from pandas-gbq) (2.19.2)\n",
            "Requirement already satisfied: google-auth>=2.13.0 in /usr/local/lib/python3.10/dist-packages (from pandas-gbq) (2.27.0)\n",
            "Requirement already satisfied: google-auth-oauthlib>=0.7.0 in /usr/local/lib/python3.10/dist-packages (from pandas-gbq) (1.2.1)\n",
            "Requirement already satisfied: google-cloud-bigquery<4.0.0dev,>=3.4.2 in /usr/local/lib/python3.10/dist-packages (from pandas-gbq) (3.25.0)\n",
            "Requirement already satisfied: packaging>=22.0.0 in /usr/local/lib/python3.10/dist-packages (from pandas-gbq) (24.1)\n",
            "Requirement already satisfied: googleapis-common-protos<2.0.dev0,>=1.56.2 in /usr/local/lib/python3.10/dist-packages (from google-api-core<3.0.0dev,>=2.10.2->pandas-gbq) (1.65.0)\n",
            "Requirement already satisfied: protobuf!=3.20.0,!=3.20.1,!=4.21.0,!=4.21.1,!=4.21.2,!=4.21.3,!=4.21.4,!=4.21.5,<6.0.0.dev0,>=3.19.5 in /usr/local/lib/python3.10/dist-packages (from google-api-core<3.0.0dev,>=2.10.2->pandas-gbq) (3.20.3)\n",
            "Requirement already satisfied: proto-plus<2.0.0dev,>=1.22.3 in /usr/local/lib/python3.10/dist-packages (from google-api-core<3.0.0dev,>=2.10.2->pandas-gbq) (1.24.0)\n",
            "Requirement already satisfied: requests<3.0.0.dev0,>=2.18.0 in /usr/local/lib/python3.10/dist-packages (from google-api-core<3.0.0dev,>=2.10.2->pandas-gbq) (2.32.3)\n",
            "Requirement already satisfied: cachetools<6.0,>=2.0.0 in /usr/local/lib/python3.10/dist-packages (from google-auth>=2.13.0->pandas-gbq) (5.5.0)\n",
            "Requirement already satisfied: pyasn1-modules>=0.2.1 in /usr/local/lib/python3.10/dist-packages (from google-auth>=2.13.0->pandas-gbq) (0.4.1)\n",
            "Requirement already satisfied: rsa<5,>=3.1.4 in /usr/local/lib/python3.10/dist-packages (from google-auth>=2.13.0->pandas-gbq) (4.9)\n",
            "Requirement already satisfied: requests-oauthlib>=0.7.0 in /usr/local/lib/python3.10/dist-packages (from google-auth-oauthlib>=0.7.0->pandas-gbq) (1.3.1)\n",
            "Requirement already satisfied: google-cloud-core<3.0.0dev,>=1.6.0 in /usr/local/lib/python3.10/dist-packages (from google-cloud-bigquery<4.0.0dev,>=3.4.2->pandas-gbq) (2.4.1)\n",
            "Requirement already satisfied: google-resumable-media<3.0dev,>=0.6.0 in /usr/local/lib/python3.10/dist-packages (from google-cloud-bigquery<4.0.0dev,>=3.4.2->pandas-gbq) (2.7.2)\n",
            "Requirement already satisfied: python-dateutil<3.0dev,>=2.7.2 in /usr/local/lib/python3.10/dist-packages (from google-cloud-bigquery<4.0.0dev,>=3.4.2->pandas-gbq) (2.8.2)\n",
            "Requirement already satisfied: pytz>=2020.1 in /usr/local/lib/python3.10/dist-packages (from pandas>=1.1.4->pandas-gbq) (2024.2)\n",
            "Requirement already satisfied: tzdata>=2022.1 in /usr/local/lib/python3.10/dist-packages (from pandas>=1.1.4->pandas-gbq) (2024.2)\n",
            "Requirement already satisfied: grpcio<2.0dev,>=1.33.2 in /usr/local/lib/python3.10/dist-packages (from google-api-core[grpc]!=2.0.*,!=2.1.*,!=2.10.*,!=2.2.*,!=2.3.*,!=2.4.*,!=2.5.*,!=2.6.*,!=2.7.*,!=2.8.*,!=2.9.*,<3.0.0dev,>=1.34.1->google-cloud-bigquery<4.0.0dev,>=3.4.2->pandas-gbq) (1.64.1)\n",
            "Requirement already satisfied: grpcio-status<2.0.dev0,>=1.33.2 in /usr/local/lib/python3.10/dist-packages (from google-api-core[grpc]!=2.0.*,!=2.1.*,!=2.10.*,!=2.2.*,!=2.3.*,!=2.4.*,!=2.5.*,!=2.6.*,!=2.7.*,!=2.8.*,!=2.9.*,<3.0.0dev,>=1.34.1->google-cloud-bigquery<4.0.0dev,>=3.4.2->pandas-gbq) (1.48.2)\n",
            "Requirement already satisfied: google-crc32c<2.0dev,>=1.0 in /usr/local/lib/python3.10/dist-packages (from google-resumable-media<3.0dev,>=0.6.0->google-cloud-bigquery<4.0.0dev,>=3.4.2->pandas-gbq) (1.6.0)\n",
            "Requirement already satisfied: pyasn1<0.7.0,>=0.4.6 in /usr/local/lib/python3.10/dist-packages (from pyasn1-modules>=0.2.1->google-auth>=2.13.0->pandas-gbq) (0.6.1)\n",
            "Requirement already satisfied: six>=1.5 in /usr/local/lib/python3.10/dist-packages (from python-dateutil<3.0dev,>=2.7.2->google-cloud-bigquery<4.0.0dev,>=3.4.2->pandas-gbq) (1.16.0)\n",
            "Requirement already satisfied: charset-normalizer<4,>=2 in /usr/local/lib/python3.10/dist-packages (from requests<3.0.0.dev0,>=2.18.0->google-api-core<3.0.0dev,>=2.10.2->pandas-gbq) (3.3.2)\n",
            "Requirement already satisfied: idna<4,>=2.5 in /usr/local/lib/python3.10/dist-packages (from requests<3.0.0.dev0,>=2.18.0->google-api-core<3.0.0dev,>=2.10.2->pandas-gbq) (3.10)\n",
            "Requirement already satisfied: urllib3<3,>=1.21.1 in /usr/local/lib/python3.10/dist-packages (from requests<3.0.0.dev0,>=2.18.0->google-api-core<3.0.0dev,>=2.10.2->pandas-gbq) (2.2.3)\n",
            "Requirement already satisfied: certifi>=2017.4.17 in /usr/local/lib/python3.10/dist-packages (from requests<3.0.0.dev0,>=2.18.0->google-api-core<3.0.0dev,>=2.10.2->pandas-gbq) (2024.8.30)\n",
            "Requirement already satisfied: oauthlib>=3.0.0 in /usr/local/lib/python3.10/dist-packages (from requests-oauthlib>=0.7.0->google-auth-oauthlib>=0.7.0->pandas-gbq) (3.2.2)\n"
          ]
        }
      ]
    },
    {
      "cell_type": "code",
      "source": [
        "df['make_model'] = df['neo_make'] + ' ' + df['neo_model']"
      ],
      "metadata": {
        "id": "jJOBY0bNen0K",
        "executionInfo": {
          "status": "ok",
          "timestamp": 1729018636089,
          "user_tz": 240,
          "elapsed": 1,
          "user": {
            "displayName": "",
            "userId": ""
          }
        }
      },
      "execution_count": 37,
      "outputs": []
    },
    {
      "cell_type": "code",
      "source": [
        "df['make_model']"
      ],
      "metadata": {
        "colab": {
          "base_uri": "https://localhost:8080/",
          "height": 516
        },
        "id": "_EMRmhXa0QpW",
        "executionInfo": {
          "status": "ok",
          "timestamp": 1729018672976,
          "user_tz": 240,
          "elapsed": 35051,
          "user": {
            "displayName": "",
            "userId": ""
          }
        },
        "outputId": "9bbc2c9a-7424-401e-ecca-f93481ddeac9"
      },
      "execution_count": 38,
      "outputs": [
        {
          "output_type": "display_data",
          "data": {
            "text/plain": [
              "<IPython.core.display.HTML object>"
            ],
            "text/html": [
              "Query job 7dd5a2da-6404-4868-b313-f27ebfe63a6c is DONE. 100.1 GB processed. <a target=\"_blank\" href=\"https://console.cloud.google.com/bigquery?project=marketcheck-demo&j=bq:US:7dd5a2da-6404-4868-b313-f27ebfe63a6c&page=queryresults\">Open Job</a>"
            ]
          },
          "metadata": {}
        },
        {
          "output_type": "display_data",
          "data": {
            "text/plain": [
              "<IPython.core.display.HTML object>"
            ],
            "text/html": [
              "Query job f7309693-ab03-4498-97f3-775f0e015bdf is DONE. 146.5 kB processed. <a target=\"_blank\" href=\"https://console.cloud.google.com/bigquery?project=marketcheck-demo&j=bq:US:f7309693-ab03-4498-97f3-775f0e015bdf&page=queryresults\">Open Job</a>"
            ]
          },
          "metadata": {}
        },
        {
          "output_type": "execute_result",
          "data": {
            "text/plain": [
              "0                        Cadillac XT5\n",
              "2                         Honda Civic\n",
              "3                       INFINITI QX60\n",
              "4                      Toyota Corolla\n",
              "5                       Nissan Sentra\n",
              "6                             Audi TT\n",
              "7                       Toyota Tacoma\n",
              "8                   Alfa Romeo Giulia\n",
              "9                              BMW X5\n",
              "10                         Ford F-150\n",
              "11        Mercedes-Benz C-Class Sedan\n",
              "12                    GMC Sierra 1500\n",
              "13                RAM Ram 1500 Pickup\n",
              "14                      Kia Telluride\n",
              "15    Jeep All-New Wrangler Unlimited\n",
              "16                        Ford Escape\n",
              "17                          Kia Forte\n",
              "18        Mercedes-Benz C-Class Sedan\n",
              "19                         GMC Canyon\n",
              "20                      Tesla Model 3\n",
              "21                        INFINITI JX\n",
              "22              Chevrolet TrailBlazer\n",
              "24                        Toyota RAV4\n",
              "25                        Toyota RAV4\n",
              "26                         Mazda CX-5\n",
              "Name: make_model, dtype: string"
            ]
          },
          "metadata": {},
          "execution_count": 38
        }
      ]
    },
    {
      "cell_type": "code",
      "source": [
        "categorical_var = df.select_dtypes(include=['string', 'object']).columns.tolist()\n"
      ],
      "metadata": {
        "id": "AbGledAP0Qx-",
        "executionInfo": {
          "status": "ok",
          "timestamp": 1729018680757,
          "user_tz": 240,
          "elapsed": 136,
          "user": {
            "displayName": "",
            "userId": ""
          }
        }
      },
      "execution_count": 39,
      "outputs": []
    },
    {
      "cell_type": "code",
      "source": [
        "import pandas as pd\n",
        "import numpy as np\n",
        "\n",
        "# Assuming you have loaded your DataFrame as 'df' and 'categorical_var' is the column name\n",
        "\n",
        "# Check for missing values (without comparison)\n",
        "missing_count = df[categorical_var].isnull().sum()\n",
        "\n",
        "\n"
      ],
      "metadata": {
        "colab": {
          "base_uri": "https://localhost:8080/"
        },
        "id": "80Dn_o6r0Q1z",
        "executionInfo": {
          "status": "ok",
          "timestamp": 1729018688638,
          "user_tz": 240,
          "elapsed": 141,
          "user": {
            "displayName": "",
            "userId": ""
          }
        },
        "outputId": "cef95a3a-4b11-472f-8052-1e27ad71b8a7"
      },
      "execution_count": 40,
      "outputs": [
        {
          "output_type": "stream",
          "name": "stderr",
          "text": [
            "/usr/local/lib/python3.10/dist-packages/bigframes/core/blocks.py:126: NullIndexPreviewWarning: Creating object with Null Index. Null Index is a preview feature.\n",
            "  warnings.warn(\n"
          ]
        }
      ]
    },
    {
      "cell_type": "code",
      "source": [
        "df['make_model'].isnull().sum()"
      ],
      "metadata": {
        "id": "oxQm1DAw0Q40",
        "colab": {
          "base_uri": "https://localhost:8080/",
          "height": 52
        },
        "executionInfo": {
          "status": "ok",
          "timestamp": 1729018702124,
          "user_tz": 240,
          "elapsed": 3375,
          "user": {
            "displayName": "",
            "userId": ""
          }
        },
        "outputId": "614f2a20-49b9-410c-b4e0-7d15a0e21085"
      },
      "execution_count": 41,
      "outputs": [
        {
          "output_type": "display_data",
          "data": {
            "text/plain": [
              "<IPython.core.display.HTML object>"
            ],
            "text/html": [
              "Query job aa300386-f989-4d8e-bcc7-2917e6ac98f0 is DONE. 136.0 MB processed. <a target=\"_blank\" href=\"https://console.cloud.google.com/bigquery?project=marketcheck-demo&j=bq:US:aa300386-f989-4d8e-bcc7-2917e6ac98f0&page=queryresults\">Open Job</a>"
            ]
          },
          "metadata": {}
        },
        {
          "output_type": "execute_result",
          "data": {
            "text/plain": [
              "430"
            ]
          },
          "metadata": {},
          "execution_count": 41
        }
      ]
    },
    {
      "cell_type": "code",
      "source": [
        "missing_categorical = ['stock_no', 'neo_listing_confidence', 'neo_model', 'neo_trim',\n",
        "    'neo_trim_confidence', 'neo_version', 'neo_version_confidence',\n",
        "    'neo_vehicle_type', 'neo_body_type', 'neo_drivetrain',\n",
        "    'neo_powertrain_type', 'neo_fuel_type', 'neo_engine',\n",
        "    'neo_engine_block', 'neo_transmission', 'neo_manufacturer_code',\n",
        "    'interior_color', 'base_interior_color', 'neo_mfg_interior_color',\n",
        "    'exterior_color', 'base_exterior_color', 'neo_mfg_exterior_color',\n",
        "    'neo_country', 'make_model']\n",
        "\n",
        "# Assuming 'df' is your DataFrame\n",
        "\n",
        "# Iterate through the list of categorical columns\n",
        "for col in missing_categorical:\n",
        "    df[col] = df[col].fillna('None')\n"
      ],
      "metadata": {
        "id": "X-tdQdp90Q77",
        "executionInfo": {
          "status": "ok",
          "timestamp": 1729018704259,
          "user_tz": 240,
          "elapsed": 297,
          "user": {
            "displayName": "",
            "userId": ""
          }
        }
      },
      "execution_count": 42,
      "outputs": []
    },
    {
      "cell_type": "code",
      "source": [
        "df[missing_categorical].isnull().sum()"
      ],
      "metadata": {
        "colab": {
          "base_uri": "https://localhost:8080/",
          "height": 554
        },
        "id": "bCWykrjAZlGg",
        "executionInfo": {
          "status": "ok",
          "timestamp": 1729018716716,
          "user_tz": 240,
          "elapsed": 9419,
          "user": {
            "displayName": "",
            "userId": ""
          }
        },
        "outputId": "673946f2-e0c0-4b0d-f427-1a8dc5680116"
      },
      "execution_count": 43,
      "outputs": [
        {
          "output_type": "stream",
          "name": "stderr",
          "text": [
            "/usr/local/lib/python3.10/dist-packages/bigframes/core/blocks.py:126: NullIndexPreviewWarning: Creating object with Null Index. Null Index is a preview feature.\n",
            "  warnings.warn(\n"
          ]
        },
        {
          "output_type": "display_data",
          "data": {
            "text/plain": [
              "<IPython.core.display.HTML object>"
            ],
            "text/html": [
              "Query job 005556a4-d8ce-4368-8a84-8739defecae5 is DONE. 3.0 GB processed. <a target=\"_blank\" href=\"https://console.cloud.google.com/bigquery?project=marketcheck-demo&j=bq:US:005556a4-d8ce-4368-8a84-8739defecae5&page=queryresults\">Open Job</a>"
            ]
          },
          "metadata": {}
        },
        {
          "output_type": "display_data",
          "data": {
            "text/plain": [
              "<IPython.core.display.HTML object>"
            ],
            "text/html": [
              "Query job d0837f25-e970-4bcd-98bc-7ae3ca17c515 is DONE. 800 Bytes processed. <a target=\"_blank\" href=\"https://console.cloud.google.com/bigquery?project=marketcheck-demo&j=bq:US:d0837f25-e970-4bcd-98bc-7ae3ca17c515&page=queryresults\">Open Job</a>"
            ]
          },
          "metadata": {}
        },
        {
          "output_type": "execute_result",
          "data": {
            "text/plain": [
              "stock_no                  0\n",
              "neo_listing_confidence    0\n",
              "neo_model                 0\n",
              "neo_trim                  0\n",
              "neo_trim_confidence       0\n",
              "neo_version               0\n",
              "neo_version_confidence    0\n",
              "neo_vehicle_type          0\n",
              "neo_body_type             0\n",
              "neo_drivetrain            0\n",
              "neo_powertrain_type       0\n",
              "neo_fuel_type             0\n",
              "neo_engine                0\n",
              "neo_engine_block          0\n",
              "neo_transmission          0\n",
              "neo_manufacturer_code     0\n",
              "interior_color            0\n",
              "base_interior_color       0\n",
              "neo_mfg_interior_color    0\n",
              "exterior_color            0\n",
              "base_exterior_color       0\n",
              "neo_mfg_exterior_color    0\n",
              "neo_country               0\n",
              "make_model                0\n",
              "dtype: Int64"
            ]
          },
          "metadata": {},
          "execution_count": 43
        }
      ]
    },
    {
      "cell_type": "code",
      "source": [
        "df[col].head()"
      ],
      "metadata": {
        "colab": {
          "base_uri": "https://localhost:8080/",
          "height": 159
        },
        "id": "RPLxFX56ZEZd",
        "executionInfo": {
          "status": "ok",
          "timestamp": 1729016161008,
          "user_tz": 240,
          "elapsed": 29004,
          "user": {
            "displayName": "",
            "userId": ""
          }
        },
        "outputId": "caabded1-1770-4b25-c977-c2b6ad217d2d"
      },
      "execution_count": 45,
      "outputs": [
        {
          "output_type": "display_data",
          "data": {
            "text/plain": [
              "<IPython.core.display.HTML object>"
            ],
            "text/html": [
              "Query job 61cee762-1abd-4fa6-b3a4-cf52e8420efe is DONE. 260.5 MB processed. <a target=\"_blank\" href=\"https://console.cloud.google.com/bigquery?project=marketcheck-demo&j=bq:US:61cee762-1abd-4fa6-b3a4-cf52e8420efe&page=queryresults\">Open Job</a>"
            ]
          },
          "metadata": {}
        },
        {
          "output_type": "display_data",
          "data": {
            "text/plain": [
              "<IPython.core.display.HTML object>"
            ],
            "text/html": [
              "Query job 7e99eb7d-c542-4fe5-8fdc-73e04ea0be20 is DONE. 153 Bytes processed. <a target=\"_blank\" href=\"https://console.cloud.google.com/bigquery?project=marketcheck-demo&j=bq:US:7e99eb7d-c542-4fe5-8fdc-73e04ea0be20&page=queryresults\">Open Job</a>"
            ]
          },
          "metadata": {}
        },
        {
          "output_type": "execute_result",
          "data": {
            "text/plain": [
              "0      Cadillac XT5\n",
              "2       Honda Civic\n",
              "3     INFINITI QX60\n",
              "4    Toyota Corolla\n",
              "5     Nissan Sentra\n",
              "Name: make_model, dtype: string"
            ]
          },
          "metadata": {},
          "execution_count": 45
        }
      ]
    },
    {
      "cell_type": "code",
      "source": [
        "pip install category_encoders\n"
      ],
      "metadata": {
        "id": "4_6dumM10Q_H",
        "colab": {
          "base_uri": "https://localhost:8080/"
        },
        "executionInfo": {
          "status": "ok",
          "timestamp": 1729018724678,
          "user_tz": 240,
          "elapsed": 3801,
          "user": {
            "displayName": "",
            "userId": ""
          }
        },
        "outputId": "0995dfb6-50ee-4154-db3e-b06236fe178b"
      },
      "execution_count": 44,
      "outputs": [
        {
          "output_type": "stream",
          "name": "stdout",
          "text": [
            "Collecting category_encoders\n",
            "  Downloading category_encoders-2.6.4-py2.py3-none-any.whl.metadata (8.0 kB)\n",
            "Requirement already satisfied: numpy>=1.14.0 in /usr/local/lib/python3.10/dist-packages (from category_encoders) (1.26.4)\n",
            "Requirement already satisfied: scikit-learn>=0.20.0 in /usr/local/lib/python3.10/dist-packages (from category_encoders) (1.5.2)\n",
            "Requirement already satisfied: scipy>=1.0.0 in /usr/local/lib/python3.10/dist-packages (from category_encoders) (1.13.1)\n",
            "Requirement already satisfied: statsmodels>=0.9.0 in /usr/local/lib/python3.10/dist-packages (from category_encoders) (0.14.3)\n",
            "Requirement already satisfied: pandas>=1.0.5 in /usr/local/lib/python3.10/dist-packages (from category_encoders) (2.1.4)\n",
            "Requirement already satisfied: patsy>=0.5.1 in /usr/local/lib/python3.10/dist-packages (from category_encoders) (0.5.6)\n",
            "Requirement already satisfied: python-dateutil>=2.8.2 in /usr/local/lib/python3.10/dist-packages (from pandas>=1.0.5->category_encoders) (2.8.2)\n",
            "Requirement already satisfied: pytz>=2020.1 in /usr/local/lib/python3.10/dist-packages (from pandas>=1.0.5->category_encoders) (2024.2)\n",
            "Requirement already satisfied: tzdata>=2022.1 in /usr/local/lib/python3.10/dist-packages (from pandas>=1.0.5->category_encoders) (2024.2)\n",
            "Requirement already satisfied: six in /usr/local/lib/python3.10/dist-packages (from patsy>=0.5.1->category_encoders) (1.16.0)\n",
            "Requirement already satisfied: joblib>=1.2.0 in /usr/local/lib/python3.10/dist-packages (from scikit-learn>=0.20.0->category_encoders) (1.4.2)\n",
            "Requirement already satisfied: threadpoolctl>=3.1.0 in /usr/local/lib/python3.10/dist-packages (from scikit-learn>=0.20.0->category_encoders) (3.5.0)\n",
            "Requirement already satisfied: packaging>=21.3 in /usr/local/lib/python3.10/dist-packages (from statsmodels>=0.9.0->category_encoders) (24.1)\n",
            "Downloading category_encoders-2.6.4-py2.py3-none-any.whl (82 kB)\n",
            "\u001b[2K   \u001b[90m━━━━━━━━━━━━━━━━━━━━━━━━━━━━━━━━━━━━━━━━\u001b[0m \u001b[32m82.0/82.0 kB\u001b[0m \u001b[31m3.0 MB/s\u001b[0m eta \u001b[36m0:00:00\u001b[0m\n",
            "\u001b[?25hInstalling collected packages: category_encoders\n",
            "Successfully installed category_encoders-2.6.4\n"
          ]
        }
      ]
    },
    {
      "cell_type": "code",
      "source": [
        "import category_encoders as ce"
      ],
      "metadata": {
        "id": "G0Oz46cjFaQn",
        "executionInfo": {
          "status": "ok",
          "timestamp": 1729018727842,
          "user_tz": 240,
          "elapsed": 1705,
          "user": {
            "displayName": "",
            "userId": ""
          }
        }
      },
      "execution_count": 45,
      "outputs": []
    },
    {
      "cell_type": "code",
      "source": [
        "df_pandas = df.to_pandas()"
      ],
      "metadata": {
        "colab": {
          "base_uri": "https://localhost:8080/",
          "height": 34
        },
        "id": "bWlFlOtXFaa9",
        "outputId": "bfcfe09f-346e-475c-9723-312de81beb53"
      },
      "execution_count": null,
      "outputs": [
        {
          "output_type": "display_data",
          "data": {
            "text/plain": [
              "<IPython.core.display.HTML object>"
            ],
            "text/html": [
              "Query job 3a119671-f39a-477d-9bcc-27d97456c013 is DONE. 58.2 GB processed. <a target=\"_blank\" href=\"https://console.cloud.google.com/bigquery?project=marketcheck-demo&j=bq:US:3a119671-f39a-477d-9bcc-27d97456c013&page=queryresults\">Open Job</a>"
            ]
          },
          "metadata": {}
        }
      ]
    },
    {
      "cell_type": "code",
      "source": [
        "categorical = ['stock_no', 'neo_listing_confidence', 'neo_model', 'neo_trim','neo_make',\n",
        "    'neo_trim_confidence', 'neo_version', 'neo_version_confidence',\n",
        "    'neo_vehicle_type', 'neo_body_type', 'neo_drivetrain',\n",
        "    'neo_powertrain_type', 'neo_fuel_type', 'neo_engine',\n",
        "    'neo_engine_block', 'neo_transmission', 'neo_manufacturer_code',\n",
        "    'interior_color', 'base_interior_color', 'neo_mfg_interior_color',\n",
        "    'exterior_color', 'base_exterior_color', 'neo_mfg_exterior_color',\n",
        "    'neo_country', 'make_model', 'seller_type']\n",
        "\n",
        "# Iterate over each categorical variable to calculate mean target encoding\n",
        "for column in categorical:\n",
        "    if column in df.columns:  # Check if the column exists in the DataFrame\n",
        "        # Create a temporary DataFrame with the mean encoding\n",
        "        mean_encoded = (\n",
        "            df.groupby(column)['price']\n",
        "            .mean()\n",
        "            .reset_index()\n",
        "            .rename(columns={'price': f'{column}_mean_encoded'})\n",
        "        )\n",
        "\n",
        "        # Merge the mean-encoded values back into the original DataFrame\n",
        "        df = df.merge(mean_encoded, on=column, how='left')\n"
      ],
      "metadata": {
        "id": "SIkhZwmrFag_",
        "executionInfo": {
          "status": "ok",
          "timestamp": 1729019028668,
          "user_tz": 240,
          "elapsed": 241,
          "user": {
            "displayName": "",
            "userId": ""
          }
        }
      },
      "execution_count": 50,
      "outputs": []
    },
    {
      "cell_type": "code",
      "source": [],
      "metadata": {
        "id": "K6YKwAH8kHJa"
      },
      "execution_count": null,
      "outputs": []
    },
    {
      "cell_type": "code",
      "source": [],
      "metadata": {
        "id": "J-_7uEF6jvtX"
      },
      "execution_count": null,
      "outputs": []
    },
    {
      "cell_type": "code",
      "source": [
        "from pandas_gbq import to_gbq\n",
        "\n",
        "# Define your project ID and dataset\n",
        "project_id = 'marketcheck-demo'  # Replace with your GCP project ID\n",
        "dataset_id = 'demo'   # Replace with your dataset ID\n",
        "table_name = 'fill_rate'    # Define the table name\n",
        "\n",
        "# Save df_pandas to BigQuery\n",
        "to_gbq(df_fillrate, f'{dataset_id}.{table_name}', project_id=project_id, if_exists='replace')\n"
      ],
      "metadata": {
        "colab": {
          "base_uri": "https://localhost:8080/"
        },
        "id": "Cnic_rJexF44",
        "executionInfo": {
          "status": "ok",
          "timestamp": 1728871458552,
          "user_tz": 240,
          "elapsed": 3579,
          "user": {
            "displayName": "",
            "userId": ""
          }
        },
        "outputId": "2715d742-6bab-4552-8157-f6ac25d28426"
      },
      "execution_count": null,
      "outputs": [
        {
          "output_type": "stream",
          "name": "stdout",
          "text": [
            "WARNING: google.colab.auth.authenticate_user() is not supported in Colab Enterprise.\n"
          ]
        },
        {
          "output_type": "stream",
          "name": "stderr",
          "text": [
            "100%|██████████| 1/1 [00:00<00:00, 6132.02it/s]\n"
          ]
        }
      ]
    },
    {
      "cell_type": "code",
      "source": [
        "(df.isnull().sum()/len(df))*100"
      ],
      "metadata": {
        "colab": {
          "base_uri": "https://localhost:8080/",
          "height": 572
        },
        "id": "iF3tAiFnzXBa",
        "executionInfo": {
          "status": "ok",
          "timestamp": 1728659201915,
          "user_tz": 240,
          "elapsed": 16135,
          "user": {
            "displayName": "",
            "userId": ""
          }
        },
        "outputId": "10cd0070-39b0-4350-8c75-0aee51dd9a44"
      },
      "execution_count": null,
      "outputs": [
        {
          "output_type": "stream",
          "name": "stderr",
          "text": [
            "/usr/local/lib/python3.10/dist-packages/bigframes/core/blocks.py:126: NullIndexPreviewWarning: Creating object with Null Index. Null Index is a preview feature.\n",
            "  warnings.warn(\n"
          ]
        },
        {
          "output_type": "display_data",
          "data": {
            "text/plain": [
              "<IPython.core.display.HTML object>"
            ],
            "text/html": [
              "Query job 3d9663b4-6834-480a-8b4c-c2dde0c79ae4 is DONE. 100.1 GB processed. <a target=\"_blank\" href=\"https://console.cloud.google.com/bigquery?project=marketcheck-demo&j=bq:US:3d9663b4-6834-480a-8b4c-c2dde0c79ae4&page=queryresults\">Open Job</a>"
            ]
          },
          "metadata": {}
        },
        {
          "output_type": "display_data",
          "data": {
            "text/plain": [
              "<IPython.core.display.HTML object>"
            ],
            "text/html": [
              "Query job ea311ff1-2356-4b36-8e22-b34e462fd355 is DONE. 3.5 kB processed. <a target=\"_blank\" href=\"https://console.cloud.google.com/bigquery?project=marketcheck-demo&j=bq:US:ea311ff1-2356-4b36-8e22-b34e462fd355&page=queryresults\">Open Job</a>"
            ]
          },
          "metadata": {}
        },
        {
          "output_type": "execute_result",
          "data": {
            "text/plain": [
              "id                              0.0\n",
              "vin                             0.0\n",
              "heading                    0.044862\n",
              "more_info                       0.0\n",
              "price                      7.143907\n",
              "msrp                       7.068186\n",
              "miles                      1.701434\n",
              "stock_no                   7.167376\n",
              "neo_listing_confidence     5.417487\n",
              "neo_year                   0.000298\n",
              "neo_make                        0.0\n",
              "neo_model                  0.006279\n",
              "neo_trim                   1.636672\n",
              "neo_trim_confidence        1.636672\n",
              "neo_version                1.636672\n",
              "neo_version_confidence     1.636672\n",
              "neo_vehicle_type           1.636672\n",
              "neo_body_type              1.636672\n",
              "neo_body_subtype          82.334889\n",
              "neo_drivetrain             1.662075\n",
              "neo_powertrain_type        4.087782\n",
              "neo_fuel_type              1.636672\n",
              "neo_engine                 3.160246\n",
              "neo_engine_block           2.217501\n",
              "neo_engine_size            2.216713\n",
              "dtype: Float64"
            ]
          },
          "metadata": {},
          "execution_count": 79
        }
      ]
    },
    {
      "cell_type": "code",
      "source": [
        "df = df.drop(columns = ['neo_body_subtype'])"
      ],
      "metadata": {
        "id": "3ixgdIP-zXPH"
      },
      "execution_count": null,
      "outputs": []
    },
    {
      "cell_type": "code",
      "source": [
        "(df.isnull().sum()/len(df))*100"
      ],
      "metadata": {
        "colab": {
          "base_uri": "https://localhost:8080/",
          "height": 572
        },
        "id": "quYyqWro1cH_",
        "executionInfo": {
          "status": "ok",
          "timestamp": 1728659217047,
          "user_tz": 240,
          "elapsed": 15134,
          "user": {
            "displayName": "",
            "userId": ""
          }
        },
        "outputId": "1ccaa6ef-d381-4a91-b4fc-f493704dc887"
      },
      "execution_count": null,
      "outputs": [
        {
          "output_type": "stream",
          "name": "stderr",
          "text": [
            "/usr/local/lib/python3.10/dist-packages/bigframes/core/blocks.py:126: NullIndexPreviewWarning: Creating object with Null Index. Null Index is a preview feature.\n",
            "  warnings.warn(\n"
          ]
        },
        {
          "output_type": "display_data",
          "data": {
            "text/plain": [
              "<IPython.core.display.HTML object>"
            ],
            "text/html": [
              "Query job dc482ff1-d47f-49e3-979a-67995f3ec969 is DONE. 100.0 GB processed. <a target=\"_blank\" href=\"https://console.cloud.google.com/bigquery?project=marketcheck-demo&j=bq:US:dc482ff1-d47f-49e3-979a-67995f3ec969&page=queryresults\">Open Job</a>"
            ]
          },
          "metadata": {}
        },
        {
          "output_type": "display_data",
          "data": {
            "text/plain": [
              "<IPython.core.display.HTML object>"
            ],
            "text/html": [
              "Query job f07e3d2b-1e12-4a50-9309-4bb113ec422d is DONE. 3.5 kB processed. <a target=\"_blank\" href=\"https://console.cloud.google.com/bigquery?project=marketcheck-demo&j=bq:US:f07e3d2b-1e12-4a50-9309-4bb113ec422d&page=queryresults\">Open Job</a>"
            ]
          },
          "metadata": {}
        },
        {
          "output_type": "execute_result",
          "data": {
            "text/plain": [
              "id                             0.0\n",
              "vin                            0.0\n",
              "heading                   0.044862\n",
              "more_info                      0.0\n",
              "price                     7.143907\n",
              "msrp                      7.068186\n",
              "miles                     1.701434\n",
              "stock_no                  7.167376\n",
              "neo_listing_confidence    5.417487\n",
              "neo_year                  0.000298\n",
              "neo_make                       0.0\n",
              "neo_model                 0.006279\n",
              "neo_trim                  1.636672\n",
              "neo_trim_confidence       1.636672\n",
              "neo_version               1.636672\n",
              "neo_version_confidence    1.636672\n",
              "neo_vehicle_type          1.636672\n",
              "neo_body_type             1.636672\n",
              "neo_drivetrain            1.662075\n",
              "neo_powertrain_type       4.087782\n",
              "neo_fuel_type             1.636672\n",
              "neo_engine                3.160246\n",
              "neo_engine_block          2.217501\n",
              "neo_engine_size           2.216713\n",
              "neo_transmission          1.644324\n",
              "dtype: Float64"
            ]
          },
          "metadata": {},
          "execution_count": 81
        }
      ]
    },
    {
      "cell_type": "code",
      "source": [
        "fields_of_interest = [\n",
        "    'city',\n",
        "    'state',\n",
        "    'features',\n",
        "    'interior_color',\n",
        "    'base_interior_color',\n",
        "    'neo_mfg_interior_color',\n",
        "    'exterior_color',\n",
        "    'base_exterior_color',\n",
        "    'neo_mfg_exterior_color',\n",
        "    'is_certified',\n",
        "    'seller_name',\n",
        "    'seller_phone',\n",
        "    'seller_email',\n",
        "    'options',\n",
        "    'photo_links',\n",
        "    'dom',\n",
        "    'dom_180',\n",
        "    'dom_active',\n",
        "    'currency_indicator',\n",
        "    'miles_indicator',\n",
        "    'carfax_1_owner',\n",
        "    'carfax_clean_title',\n",
        "    'neo_doors',\n",
        "    'neo_length',\n",
        "    'neo_weight',\n",
        "    'neo_height',\n",
        "    'neo_package_description'\n",
        "]\n",
        "\n",
        "# Calculate the percentage of missing values for these fields\n",
        "missing_values_percentage = df[fields_of_interest].isnull().mean() * 100\n",
        "missing_values_percentage"
      ],
      "metadata": {
        "colab": {
          "base_uri": "https://localhost:8080/",
          "height": 572
        },
        "id": "R0x6P0lxzXWp",
        "executionInfo": {
          "status": "ok",
          "timestamp": 1728659227399,
          "user_tz": 240,
          "elapsed": 10355,
          "user": {
            "displayName": "",
            "userId": ""
          }
        },
        "outputId": "a1da0fdb-1258-4545-ddaa-7a24f59d2dca"
      },
      "execution_count": null,
      "outputs": [
        {
          "output_type": "stream",
          "name": "stderr",
          "text": [
            "/usr/local/lib/python3.10/dist-packages/bigframes/core/blocks.py:126: NullIndexPreviewWarning: Creating object with Null Index. Null Index is a preview feature.\n",
            "  warnings.warn(\n"
          ]
        },
        {
          "output_type": "display_data",
          "data": {
            "text/plain": [
              "<IPython.core.display.HTML object>"
            ],
            "text/html": [
              "Query job 21490a8c-64ee-49ac-949a-7b33a47cf057 is DONE. 63.6 GB processed. <a target=\"_blank\" href=\"https://console.cloud.google.com/bigquery?project=marketcheck-demo&j=bq:US:21490a8c-64ee-49ac-949a-7b33a47cf057&page=queryresults\">Open Job</a>"
            ]
          },
          "metadata": {}
        },
        {
          "output_type": "display_data",
          "data": {
            "text/plain": [
              "<IPython.core.display.HTML object>"
            ],
            "text/html": [
              "Query job 3dabf47a-67d6-446e-86cc-6b26d82b6203 is DONE. 825 Bytes processed. <a target=\"_blank\" href=\"https://console.cloud.google.com/bigquery?project=marketcheck-demo&j=bq:US:3dabf47a-67d6-446e-86cc-6b26d82b6203&page=queryresults\">Open Job</a>"
            ]
          },
          "metadata": {}
        },
        {
          "output_type": "execute_result",
          "data": {
            "text/plain": [
              "city                        0.00074\n",
              "state                      0.005384\n",
              "features                  18.121919\n",
              "interior_color            11.381686\n",
              "base_interior_color       12.325827\n",
              "neo_mfg_interior_color     8.815556\n",
              "exterior_color              3.84048\n",
              "base_exterior_color        4.309298\n",
              "neo_mfg_exterior_color     4.463044\n",
              "is_certified              89.834301\n",
              "seller_name                     0.0\n",
              "seller_phone               0.638214\n",
              "seller_email              55.043867\n",
              "options                   76.498353\n",
              "photo_links                5.068691\n",
              "dom                             0.0\n",
              "dom_180                         0.0\n",
              "dom_active                      0.0\n",
              "currency_indicator         7.081461\n",
              "miles_indicator            1.655844\n",
              "carfax_1_owner             6.197676\n",
              "carfax_clean_title         7.409998\n",
              "neo_doors                  1.636672\n",
              "neo_length                 1.775734\n",
              "neo_weight                40.802682\n",
              "dtype: Float64"
            ]
          },
          "metadata": {},
          "execution_count": 82
        }
      ]
    },
    {
      "cell_type": "code",
      "source": [
        "df = df.drop(columns = ['id','vin', 'heading','is_certified','seller_email', 'options', 'neo_weight','more_info','neo_manufacturer_code','neo_package_code', 'is_transfer','taxonomy_vin', 'carfax_clean_title','carfax_1_owner','mc_dealership_group_id','mc_sub_dealership_group_id' ])"
      ],
      "metadata": {
        "id": "p-WZHNjmzXbo"
      },
      "execution_count": null,
      "outputs": []
    },
    {
      "cell_type": "code",
      "source": [
        "df.head(2)"
      ],
      "metadata": {
        "colab": {
          "base_uri": "https://localhost:8080/",
          "height": 214
        },
        "id": "FCk_PtcpzXho",
        "executionInfo": {
          "status": "ok",
          "timestamp": 1728659229315,
          "user_tz": 240,
          "elapsed": 1918,
          "user": {
            "displayName": "",
            "userId": ""
          }
        },
        "outputId": "740a8dfc-47ab-490b-a601-2ab18be86b26"
      },
      "execution_count": null,
      "outputs": [
        {
          "output_type": "display_data",
          "data": {
            "text/plain": [
              "<IPython.core.display.HTML object>"
            ],
            "text/html": [
              "Query job fdfd6128-a21c-42f3-bb86-b7c2d2a35f2a is DONE. 0 Bytes processed. <a target=\"_blank\" href=\"https://console.cloud.google.com/bigquery?project=marketcheck-demo&j=bq:US:fdfd6128-a21c-42f3-bb86-b7c2d2a35f2a&page=queryresults\">Open Job</a>"
            ]
          },
          "metadata": {}
        },
        {
          "output_type": "execute_result",
          "data": {
            "text/plain": [
              "   price   msrp  miles  stock_no  \\\n",
              "0  37998  37998  17510   CP25065   \n",
              "1   <NA>   <NA>   9999  BP711983   \n",
              "\n",
              "                           neo_listing_confidence  neo_year  neo_make  \\\n",
              "0                                  mc_build_specs      2021  Cadillac   \n",
              "1  mc_listings|used|dealer|independent|1|alt_opts      2023    Jaguar   \n",
              "\n",
              "  neo_model        neo_trim neo_trim_confidence  ... dos_active mc_category  \\\n",
              "0       XT5  Premium Luxury           spec_data  ...         15      Dealer   \n",
              "1    F-Pace               S           spec_data  ...          2      Dealer   \n",
              "\n",
              "  mc_dealership_group_name mc_sub_dealership_group_name mc_dealer_id  \\\n",
              "0       Herb Chambers Cos.           Herb Chambers Cos.      1109639   \n",
              "1       Herb Chambers Cos.           Herb Chambers Cos.      1109210   \n",
              "\n",
              "  mc_location_id mc_website_id mc_rooftop_id mc_car_location_id  is_searchable  \n",
              "0        1508322       1100764        750873            1386775              0  \n",
              "1        1534436       1073659        255536            1401104              0  \n",
              "\n",
              "[2 rows x 99 columns]"
            ],
            "text/html": [
              "<div>\n",
              "<style scoped>\n",
              "    .dataframe tbody tr th:only-of-type {\n",
              "        vertical-align: middle;\n",
              "    }\n",
              "\n",
              "    .dataframe tbody tr th {\n",
              "        vertical-align: top;\n",
              "    }\n",
              "\n",
              "    .dataframe thead th {\n",
              "        text-align: right;\n",
              "    }\n",
              "</style>\n",
              "<table border=\"1\" class=\"dataframe\">\n",
              "  <thead>\n",
              "    <tr style=\"text-align: right;\">\n",
              "      <th></th>\n",
              "      <th>price</th>\n",
              "      <th>msrp</th>\n",
              "      <th>miles</th>\n",
              "      <th>stock_no</th>\n",
              "      <th>neo_listing_confidence</th>\n",
              "      <th>neo_year</th>\n",
              "      <th>neo_make</th>\n",
              "      <th>neo_model</th>\n",
              "      <th>neo_trim</th>\n",
              "      <th>neo_trim_confidence</th>\n",
              "      <th>...</th>\n",
              "      <th>dos_active</th>\n",
              "      <th>mc_category</th>\n",
              "      <th>mc_dealership_group_name</th>\n",
              "      <th>mc_sub_dealership_group_name</th>\n",
              "      <th>mc_dealer_id</th>\n",
              "      <th>mc_location_id</th>\n",
              "      <th>mc_website_id</th>\n",
              "      <th>mc_rooftop_id</th>\n",
              "      <th>mc_car_location_id</th>\n",
              "      <th>is_searchable</th>\n",
              "    </tr>\n",
              "  </thead>\n",
              "  <tbody>\n",
              "    <tr>\n",
              "      <th>0</th>\n",
              "      <td>37998</td>\n",
              "      <td>37998</td>\n",
              "      <td>17510</td>\n",
              "      <td>CP25065</td>\n",
              "      <td>mc_build_specs</td>\n",
              "      <td>2021</td>\n",
              "      <td>Cadillac</td>\n",
              "      <td>XT5</td>\n",
              "      <td>Premium Luxury</td>\n",
              "      <td>spec_data</td>\n",
              "      <td>...</td>\n",
              "      <td>15</td>\n",
              "      <td>Dealer</td>\n",
              "      <td>Herb Chambers Cos.</td>\n",
              "      <td>Herb Chambers Cos.</td>\n",
              "      <td>1109639</td>\n",
              "      <td>1508322</td>\n",
              "      <td>1100764</td>\n",
              "      <td>750873</td>\n",
              "      <td>1386775</td>\n",
              "      <td>0</td>\n",
              "    </tr>\n",
              "    <tr>\n",
              "      <th>1</th>\n",
              "      <td>&lt;NA&gt;</td>\n",
              "      <td>&lt;NA&gt;</td>\n",
              "      <td>9999</td>\n",
              "      <td>BP711983</td>\n",
              "      <td>mc_listings|used|dealer|independent|1|alt_opts</td>\n",
              "      <td>2023</td>\n",
              "      <td>Jaguar</td>\n",
              "      <td>F-Pace</td>\n",
              "      <td>S</td>\n",
              "      <td>spec_data</td>\n",
              "      <td>...</td>\n",
              "      <td>2</td>\n",
              "      <td>Dealer</td>\n",
              "      <td>Herb Chambers Cos.</td>\n",
              "      <td>Herb Chambers Cos.</td>\n",
              "      <td>1109210</td>\n",
              "      <td>1534436</td>\n",
              "      <td>1073659</td>\n",
              "      <td>255536</td>\n",
              "      <td>1401104</td>\n",
              "      <td>0</td>\n",
              "    </tr>\n",
              "  </tbody>\n",
              "</table>\n",
              "<p>2 rows × 99 columns</p>\n",
              "</div>[2 rows x 99 columns in total]"
            ]
          },
          "metadata": {},
          "execution_count": 84
        }
      ]
    },
    {
      "cell_type": "code",
      "source": [
        "continuous_vars = df.select_dtypes(include=['int64', 'float64', 'number']).columns.tolist()\n",
        "continuous_vars"
      ],
      "metadata": {
        "colab": {
          "base_uri": "https://localhost:8080/"
        },
        "id": "vJ8syikQzXqw",
        "executionInfo": {
          "status": "ok",
          "timestamp": 1728659229315,
          "user_tz": 240,
          "elapsed": 3,
          "user": {
            "displayName": "",
            "userId": ""
          }
        },
        "outputId": "5c4a7565-5ca8-4c6a-8269-c316aedcd6fb"
      },
      "execution_count": null,
      "outputs": [
        {
          "output_type": "execute_result",
          "data": {
            "text/plain": [
              "['price',\n",
              " 'msrp',\n",
              " 'miles',\n",
              " 'neo_year',\n",
              " 'neo_engine_size',\n",
              " 'neo_doors',\n",
              " 'neo_cylinders',\n",
              " 'neo_city_mpg',\n",
              " 'neo_highway_mpg',\n",
              " 'neo_width',\n",
              " 'neo_height',\n",
              " 'neo_length',\n",
              " 'neo_base_msrp',\n",
              " 'neo_installed_options_msrp',\n",
              " 'neo_delivery_charges',\n",
              " 'neo_combined_msrp',\n",
              " 'zip',\n",
              " 'latitude',\n",
              " 'longitude',\n",
              " 'car_zip',\n",
              " 'car_latitude',\n",
              " 'car_longitude',\n",
              " 'dom',\n",
              " 'dom_180',\n",
              " 'dom_active',\n",
              " 'loan_term',\n",
              " 'loan_apr',\n",
              " 'l_emi',\n",
              " 'f_down_pay',\n",
              " 'f_down_pay_per',\n",
              " 'f_emi',\n",
              " 'in_transit',\n",
              " 'in_transit_days',\n",
              " 'dos_active',\n",
              " 'mc_dealer_id',\n",
              " 'mc_location_id',\n",
              " 'mc_website_id',\n",
              " 'mc_rooftop_id',\n",
              " 'mc_car_location_id',\n",
              " 'is_searchable']"
            ]
          },
          "metadata": {},
          "execution_count": 85
        }
      ]
    },
    {
      "cell_type": "code",
      "source": [
        "df[continuous_vars].isnull().sum()/len(df)*100"
      ],
      "metadata": {
        "colab": {
          "base_uri": "https://localhost:8080/",
          "height": 572
        },
        "id": "nfi8JBO-HguK",
        "executionInfo": {
          "status": "ok",
          "timestamp": 1728659239071,
          "user_tz": 240,
          "elapsed": 9758,
          "user": {
            "displayName": "",
            "userId": ""
          }
        },
        "outputId": "993a2abf-eadf-4333-a4a6-b0fd1546416c"
      },
      "execution_count": null,
      "outputs": [
        {
          "output_type": "stream",
          "name": "stderr",
          "text": [
            "/usr/local/lib/python3.10/dist-packages/bigframes/core/blocks.py:126: NullIndexPreviewWarning: Creating object with Null Index. Null Index is a preview feature.\n",
            "  warnings.warn(\n"
          ]
        },
        {
          "output_type": "display_data",
          "data": {
            "text/plain": [
              "<IPython.core.display.HTML object>"
            ],
            "text/html": [
              "Query job 83c6cc15-7ea2-4b7f-ab0b-83350f942e25 is DONE. 2.0 GB processed. <a target=\"_blank\" href=\"https://console.cloud.google.com/bigquery?project=marketcheck-demo&j=bq:US:83c6cc15-7ea2-4b7f-ab0b-83350f942e25&page=queryresults\">Open Job</a>"
            ]
          },
          "metadata": {}
        },
        {
          "output_type": "display_data",
          "data": {
            "text/plain": [
              "<IPython.core.display.HTML object>"
            ],
            "text/html": [
              "Query job 543745c0-0d5f-47ef-88bc-ac7bf0426bca is DONE. 1.2 kB processed. <a target=\"_blank\" href=\"https://console.cloud.google.com/bigquery?project=marketcheck-demo&j=bq:US:543745c0-0d5f-47ef-88bc-ac7bf0426bca&page=queryresults\">Open Job</a>"
            ]
          },
          "metadata": {}
        },
        {
          "output_type": "execute_result",
          "data": {
            "text/plain": [
              "price                          7.143907\n",
              "msrp                           7.068186\n",
              "miles                          1.701434\n",
              "neo_year                       0.000298\n",
              "neo_engine_size                2.216713\n",
              "neo_doors                      1.636672\n",
              "neo_cylinders                  2.255009\n",
              "neo_city_mpg                   7.560115\n",
              "neo_highway_mpg                7.559327\n",
              "neo_width                      3.962639\n",
              "neo_height                     2.093385\n",
              "neo_length                     1.775734\n",
              "neo_base_msrp                  1.639799\n",
              "neo_installed_options_msrp     1.636672\n",
              "neo_delivery_charges            1.70862\n",
              "neo_combined_msrp              1.636672\n",
              "zip                            0.002519\n",
              "latitude                            0.0\n",
              "longitude                           0.0\n",
              "car_zip                       50.615204\n",
              "car_latitude                  51.238472\n",
              "car_longitude                 51.238472\n",
              "dom                                 0.0\n",
              "dom_180                             0.0\n",
              "dom_active                          0.0\n",
              "dtype: Float64"
            ]
          },
          "metadata": {},
          "execution_count": 86
        }
      ]
    },
    {
      "cell_type": "code",
      "source": [],
      "metadata": {
        "id": "vpQwXt9FIA2i"
      },
      "execution_count": null,
      "outputs": []
    },
    {
      "cell_type": "code",
      "source": [
        "# BigFrames can work with tables that are too large to fit in the notebook memory.\n",
        "# Look at the first 20 rows.\n",
        "df = df.drop(columns=['neo_body_subtype'])"
      ],
      "metadata": {
        "id": "YQguJBV6iRSI",
        "executionInfo": {
          "status": "error",
          "timestamp": 1728659306899,
          "user_tz": 240,
          "elapsed": 165,
          "user": {
            "displayName": "",
            "userId": ""
          }
        },
        "colab": {
          "base_uri": "https://localhost:8080/",
          "height": 363
        },
        "outputId": "92da7e8e-c56a-4fc6-d7dc-49ae53704d49"
      },
      "execution_count": null,
      "outputs": [
        {
          "output_type": "error",
          "ename": "ValueError",
          "evalue": "Column name neo_body_subtype doesn't exist",
          "traceback": [
            "\u001b[0;31m---------------------------------------------------------------------------\u001b[0m",
            "\u001b[0;31mValueError\u001b[0m                                Traceback (most recent call last)",
            "\u001b[0;32m<ipython-input-88-8cbd57a0b3c9>\u001b[0m in \u001b[0;36m<cell line: 3>\u001b[0;34m()\u001b[0m\n\u001b[1;32m      1\u001b[0m \u001b[0;31m# BigFrames can work with tables that are too large to fit in the notebook memory.\u001b[0m\u001b[0;34m\u001b[0m\u001b[0;34m\u001b[0m\u001b[0m\n\u001b[1;32m      2\u001b[0m \u001b[0;31m# Look at the first 20 rows.\u001b[0m\u001b[0;34m\u001b[0m\u001b[0;34m\u001b[0m\u001b[0m\n\u001b[0;32m----> 3\u001b[0;31m \u001b[0mdf\u001b[0m \u001b[0;34m=\u001b[0m \u001b[0mdf\u001b[0m\u001b[0;34m.\u001b[0m\u001b[0mdrop\u001b[0m\u001b[0;34m(\u001b[0m\u001b[0mcolumns\u001b[0m\u001b[0;34m=\u001b[0m\u001b[0;34m[\u001b[0m\u001b[0;34m'neo_body_subtype'\u001b[0m\u001b[0;34m]\u001b[0m\u001b[0;34m)\u001b[0m\u001b[0;34m\u001b[0m\u001b[0;34m\u001b[0m\u001b[0m\n\u001b[0m",
            "\u001b[0;32m/usr/local/lib/python3.10/dist-packages/bigframes/core/log_adapter.py\u001b[0m in \u001b[0;36mwrapper\u001b[0;34m(*args, **kwargs)\u001b[0m\n\u001b[1;32m     54\u001b[0m \u001b[0;34m\u001b[0m\u001b[0m\n\u001b[1;32m     55\u001b[0m         \u001b[0;32mtry\u001b[0m\u001b[0;34m:\u001b[0m\u001b[0;34m\u001b[0m\u001b[0;34m\u001b[0m\u001b[0m\n\u001b[0;32m---> 56\u001b[0;31m             \u001b[0;32mreturn\u001b[0m \u001b[0mmethod\u001b[0m\u001b[0;34m(\u001b[0m\u001b[0;34m*\u001b[0m\u001b[0margs\u001b[0m\u001b[0;34m,\u001b[0m \u001b[0;34m**\u001b[0m\u001b[0mkwargs\u001b[0m\u001b[0;34m)\u001b[0m\u001b[0;34m\u001b[0m\u001b[0;34m\u001b[0m\u001b[0m\n\u001b[0m\u001b[1;32m     57\u001b[0m         \u001b[0;32mfinally\u001b[0m\u001b[0;34m:\u001b[0m\u001b[0;34m\u001b[0m\u001b[0;34m\u001b[0m\u001b[0m\n\u001b[1;32m     58\u001b[0m             \u001b[0m_call_stack\u001b[0m\u001b[0;34m.\u001b[0m\u001b[0mpop\u001b[0m\u001b[0;34m(\u001b[0m\u001b[0;34m)\u001b[0m\u001b[0;34m\u001b[0m\u001b[0;34m\u001b[0m\u001b[0m\n",
            "\u001b[0;32m/usr/local/lib/python3.10/dist-packages/bigframes/dataframe.py\u001b[0m in \u001b[0;36mdrop\u001b[0;34m(self, labels, axis, index, columns, level)\u001b[0m\n\u001b[1;32m   1443\u001b[0m             )\n\u001b[1;32m   1444\u001b[0m         \u001b[0;32mif\u001b[0m \u001b[0mcolumns\u001b[0m\u001b[0;34m:\u001b[0m\u001b[0;34m\u001b[0m\u001b[0;34m\u001b[0m\u001b[0m\n\u001b[0;32m-> 1445\u001b[0;31m             \u001b[0mblock\u001b[0m \u001b[0;34m=\u001b[0m \u001b[0mblock\u001b[0m\u001b[0;34m.\u001b[0m\u001b[0mdrop_columns\u001b[0m\u001b[0;34m(\u001b[0m\u001b[0mself\u001b[0m\u001b[0;34m.\u001b[0m\u001b[0m_sql_names\u001b[0m\u001b[0;34m(\u001b[0m\u001b[0mcolumns\u001b[0m\u001b[0;34m)\u001b[0m\u001b[0;34m)\u001b[0m\u001b[0;34m\u001b[0m\u001b[0;34m\u001b[0m\u001b[0m\n\u001b[0m\u001b[1;32m   1446\u001b[0m         \u001b[0;32mif\u001b[0m \u001b[0mindex\u001b[0m \u001b[0;32mis\u001b[0m \u001b[0;32mNone\u001b[0m \u001b[0;32mand\u001b[0m \u001b[0;32mnot\u001b[0m \u001b[0mcolumns\u001b[0m\u001b[0;34m:\u001b[0m\u001b[0;34m\u001b[0m\u001b[0;34m\u001b[0m\u001b[0m\n\u001b[1;32m   1447\u001b[0m             \u001b[0;32mraise\u001b[0m \u001b[0mValueError\u001b[0m\u001b[0;34m(\u001b[0m\u001b[0;34m\"Must specify 'labels' or 'index'/'columns\"\u001b[0m\u001b[0;34m)\u001b[0m\u001b[0;34m\u001b[0m\u001b[0;34m\u001b[0m\u001b[0m\n",
            "\u001b[0;32m/usr/local/lib/python3.10/dist-packages/bigframes/core/log_adapter.py\u001b[0m in \u001b[0;36mwrapper\u001b[0;34m(*args, **kwargs)\u001b[0m\n\u001b[1;32m     54\u001b[0m \u001b[0;34m\u001b[0m\u001b[0m\n\u001b[1;32m     55\u001b[0m         \u001b[0;32mtry\u001b[0m\u001b[0;34m:\u001b[0m\u001b[0;34m\u001b[0m\u001b[0;34m\u001b[0m\u001b[0m\n\u001b[0;32m---> 56\u001b[0;31m             \u001b[0;32mreturn\u001b[0m \u001b[0mmethod\u001b[0m\u001b[0;34m(\u001b[0m\u001b[0;34m*\u001b[0m\u001b[0margs\u001b[0m\u001b[0;34m,\u001b[0m \u001b[0;34m**\u001b[0m\u001b[0mkwargs\u001b[0m\u001b[0;34m)\u001b[0m\u001b[0;34m\u001b[0m\u001b[0;34m\u001b[0m\u001b[0m\n\u001b[0m\u001b[1;32m     57\u001b[0m         \u001b[0;32mfinally\u001b[0m\u001b[0;34m:\u001b[0m\u001b[0;34m\u001b[0m\u001b[0;34m\u001b[0m\u001b[0m\n\u001b[1;32m     58\u001b[0m             \u001b[0m_call_stack\u001b[0m\u001b[0;34m.\u001b[0m\u001b[0mpop\u001b[0m\u001b[0;34m(\u001b[0m\u001b[0;34m)\u001b[0m\u001b[0;34m\u001b[0m\u001b[0;34m\u001b[0m\u001b[0m\n",
            "\u001b[0;32m/usr/local/lib/python3.10/dist-packages/bigframes/dataframe.py\u001b[0m in \u001b[0;36m_sql_names\u001b[0;34m(self, columns, tolerance)\u001b[0m\n\u001b[1;32m    254\u001b[0m             \u001b[0mcol_ids\u001b[0m \u001b[0;34m=\u001b[0m \u001b[0mself\u001b[0m\u001b[0;34m.\u001b[0m\u001b[0m_block\u001b[0m\u001b[0;34m.\u001b[0m\u001b[0mlabel_to_col_id\u001b[0m\u001b[0;34m.\u001b[0m\u001b[0mget\u001b[0m\u001b[0;34m(\u001b[0m\u001b[0mlabel\u001b[0m\u001b[0;34m,\u001b[0m \u001b[0;34m[\u001b[0m\u001b[0;34m]\u001b[0m\u001b[0;34m)\u001b[0m\u001b[0;34m\u001b[0m\u001b[0;34m\u001b[0m\u001b[0m\n\u001b[1;32m    255\u001b[0m             \u001b[0;32mif\u001b[0m \u001b[0;32mnot\u001b[0m \u001b[0mtolerance\u001b[0m \u001b[0;32mand\u001b[0m \u001b[0mlen\u001b[0m\u001b[0;34m(\u001b[0m\u001b[0mcol_ids\u001b[0m\u001b[0;34m)\u001b[0m \u001b[0;34m==\u001b[0m \u001b[0;36m0\u001b[0m\u001b[0;34m:\u001b[0m\u001b[0;34m\u001b[0m\u001b[0;34m\u001b[0m\u001b[0m\n\u001b[0;32m--> 256\u001b[0;31m                 \u001b[0;32mraise\u001b[0m \u001b[0mValueError\u001b[0m\u001b[0;34m(\u001b[0m\u001b[0;34mf\"Column name {label} doesn't exist\"\u001b[0m\u001b[0;34m)\u001b[0m\u001b[0;34m\u001b[0m\u001b[0;34m\u001b[0m\u001b[0m\n\u001b[0m\u001b[1;32m    257\u001b[0m             \u001b[0mresults\u001b[0m \u001b[0;34m=\u001b[0m \u001b[0;34m(\u001b[0m\u001b[0;34m*\u001b[0m\u001b[0mresults\u001b[0m\u001b[0;34m,\u001b[0m \u001b[0;34m*\u001b[0m\u001b[0mcol_ids\u001b[0m\u001b[0;34m)\u001b[0m\u001b[0;34m\u001b[0m\u001b[0;34m\u001b[0m\u001b[0m\n\u001b[1;32m    258\u001b[0m         \u001b[0;32mreturn\u001b[0m \u001b[0mresults\u001b[0m\u001b[0;34m\u001b[0m\u001b[0;34m\u001b[0m\u001b[0m\n",
            "\u001b[0;31mValueError\u001b[0m: Column name neo_body_subtype doesn't exist"
          ]
        }
      ]
    },
    {
      "cell_type": "code",
      "source": [
        "df.isnull().sum()/len(df)*100"
      ],
      "metadata": {
        "colab": {
          "base_uri": "https://localhost:8080/",
          "height": 572
        },
        "id": "wYUkdrA8IDFW",
        "executionInfo": {
          "status": "ok",
          "timestamp": 1728659351523,
          "user_tz": 240,
          "elapsed": 31704,
          "user": {
            "displayName": "",
            "userId": ""
          }
        },
        "outputId": "5abc2aac-f504-466e-e63f-c3b16d976726"
      },
      "execution_count": null,
      "outputs": [
        {
          "output_type": "stream",
          "name": "stderr",
          "text": [
            "/usr/local/lib/python3.10/dist-packages/bigframes/core/blocks.py:126: NullIndexPreviewWarning: Creating object with Null Index. Null Index is a preview feature.\n",
            "  warnings.warn(\n"
          ]
        },
        {
          "output_type": "display_data",
          "data": {
            "text/plain": [
              "<IPython.core.display.HTML object>"
            ],
            "text/html": [
              "Query job cbef78a5-3bd5-47e6-a319-76bb6ad71569 is DONE. 94.3 GB processed. <a target=\"_blank\" href=\"https://console.cloud.google.com/bigquery?project=marketcheck-demo&j=bq:US:cbef78a5-3bd5-47e6-a319-76bb6ad71569&page=queryresults\">Open Job</a>"
            ]
          },
          "metadata": {}
        },
        {
          "output_type": "display_data",
          "data": {
            "text/plain": [
              "<IPython.core.display.HTML object>"
            ],
            "text/html": [
              "Query job c203e0a0-e364-4740-ac27-b9017fcb2cac is DONE. 3.0 kB processed. <a target=\"_blank\" href=\"https://console.cloud.google.com/bigquery?project=marketcheck-demo&j=bq:US:c203e0a0-e364-4740-ac27-b9017fcb2cac&page=queryresults\">Open Job</a>"
            ]
          },
          "metadata": {}
        },
        {
          "output_type": "execute_result",
          "data": {
            "text/plain": [
              "price                     7.143907\n",
              "msrp                      7.068186\n",
              "miles                     1.701434\n",
              "stock_no                  7.167376\n",
              "neo_listing_confidence    5.417487\n",
              "neo_year                  0.000298\n",
              "neo_make                       0.0\n",
              "neo_model                 0.006279\n",
              "neo_trim                  1.636672\n",
              "neo_trim_confidence       1.636672\n",
              "neo_version               1.636672\n",
              "neo_version_confidence    1.636672\n",
              "neo_vehicle_type          1.636672\n",
              "neo_body_type             1.636672\n",
              "neo_drivetrain            1.662075\n",
              "neo_powertrain_type       4.087782\n",
              "neo_fuel_type             1.636672\n",
              "neo_engine                3.160246\n",
              "neo_engine_block          2.217501\n",
              "neo_engine_size           2.216713\n",
              "neo_transmission          1.644324\n",
              "neo_doors                 1.636672\n",
              "neo_cylinders             2.255009\n",
              "neo_city_mpg              7.560115\n",
              "neo_highway_mpg           7.559327\n",
              "dtype: Float64"
            ]
          },
          "metadata": {},
          "execution_count": 89
        }
      ]
    },
    {
      "cell_type": "code",
      "source": [
        "# List of continuous variables\n",
        "continuous_vars = [\n",
        "    'price', 'msrp', 'miles', 'neo_year', 'neo_engine_size', 'neo_doors',\n",
        "    'neo_cylinders', 'neo_city_mpg', 'neo_highway_mpg', 'neo_width',\n",
        "    'neo_height', 'neo_length', 'neo_base_msrp', 'neo_installed_options_msrp',\n",
        "    'neo_delivery_charges', 'neo_combined_msrp', 'zip', 'latitude', 'longitude',\n",
        "    'car_zip', 'car_latitude', 'car_longitude', 'dom', 'dom_180', 'dom_active',\n",
        "    'loan_term', 'loan_apr', 'l_emi', 'f_down_pay', 'f_down_pay_per', 'f_emi',\n",
        "    'in_transit', 'in_transit_days', 'dos_active', 'mc_dealer_id', 'mc_location_id',\n",
        "    'mc_website_id', 'mc_rooftop_id', 'mc_car_location_id', 'is_searchable'\n",
        "]\n",
        "\n",
        "# Check which continuous variables have missing values\n",
        "missing_continuous = df[continuous_vars].isnull().sum()/len(df) *100\n",
        "\n",
        "# Filter columns that have missing values\n",
        "#missing_continuous = missing_continuous[missing_continuous > 0]\n",
        "print(missing_continuous)\n"
      ],
      "metadata": {
        "colab": {
          "base_uri": "https://localhost:8080/",
          "height": 572
        },
        "id": "g4eaN6NBJw-T",
        "executionInfo": {
          "status": "ok",
          "timestamp": 1728659360497,
          "user_tz": 240,
          "elapsed": 8976,
          "user": {
            "displayName": "",
            "userId": ""
          }
        },
        "outputId": "8cabcd7a-3b1b-4407-a489-57d04ffae91d"
      },
      "execution_count": null,
      "outputs": [
        {
          "output_type": "stream",
          "name": "stderr",
          "text": [
            "/usr/local/lib/python3.10/dist-packages/bigframes/core/blocks.py:126: NullIndexPreviewWarning: Creating object with Null Index. Null Index is a preview feature.\n",
            "  warnings.warn(\n"
          ]
        },
        {
          "output_type": "display_data",
          "data": {
            "text/plain": [
              "<IPython.core.display.HTML object>"
            ],
            "text/html": [
              "Query job c1b4cf84-ff82-499d-bf5c-fa88cb795377 is DONE. 2.0 GB processed. <a target=\"_blank\" href=\"https://console.cloud.google.com/bigquery?project=marketcheck-demo&j=bq:US:c1b4cf84-ff82-499d-bf5c-fa88cb795377&page=queryresults\">Open Job</a>"
            ]
          },
          "metadata": {}
        },
        {
          "output_type": "display_data",
          "data": {
            "text/plain": [
              "<IPython.core.display.HTML object>"
            ],
            "text/html": [
              "Query job b5c2ae88-a0b2-4031-ba91-57adbe636f3b is DONE. 1.2 kB processed. <a target=\"_blank\" href=\"https://console.cloud.google.com/bigquery?project=marketcheck-demo&j=bq:US:b5c2ae88-a0b2-4031-ba91-57adbe636f3b&page=queryresults\">Open Job</a>"
            ]
          },
          "metadata": {}
        },
        {
          "output_type": "stream",
          "name": "stdout",
          "text": [
            "price                          7.143907\n",
            "msrp                           7.068186\n",
            "miles                          1.701434\n",
            "neo_year                       0.000298\n",
            "neo_engine_size                2.216713\n",
            "neo_doors                      1.636672\n",
            "neo_cylinders                  2.255009\n",
            "neo_city_mpg                   7.560115\n",
            "neo_highway_mpg                7.559327\n",
            "neo_width                      3.962639\n",
            "neo_height                     2.093385\n",
            "neo_length                     1.775734\n",
            "neo_base_msrp                  1.639799\n",
            "neo_installed_options_msrp     1.636672\n",
            "neo_delivery_charges            1.70862\n",
            "neo_combined_msrp              1.636672\n",
            "zip                            0.002519\n",
            "latitude                            0.0\n",
            "longitude                           0.0\n",
            "car_zip                       50.615204\n",
            "car_latitude                  51.238472\n",
            "car_longitude                 51.238472\n",
            "dom                                 0.0\n",
            "dom_180                             0.0\n",
            "dom_active                          0.0\n",
            "dtype: Float64\n"
          ]
        }
      ]
    },
    {
      "cell_type": "code",
      "source": [
        "\n",
        "# Define columns to drop based on high missing rates\n",
        "columns_to_drop = [\n",
        "    'car_zip', 'car_latitude', 'car_longitude', 'f_down_pay_per','mc_car_location_id'\n",
        "]\n",
        "\n",
        "# Drop the columns from the dataframe\n",
        "df = df.drop(columns=columns_to_drop)"
      ],
      "metadata": {
        "id": "0T-VLX3gMcAl"
      },
      "execution_count": null,
      "outputs": []
    },
    {
      "cell_type": "code",
      "source": [
        "df"
      ],
      "metadata": {
        "id": "IbVeV7RI8IUX"
      },
      "execution_count": null,
      "outputs": []
    },
    {
      "cell_type": "code",
      "source": [
        "df.columns"
      ],
      "metadata": {
        "colab": {
          "base_uri": "https://localhost:8080/"
        },
        "id": "b9W862pA5A0i",
        "executionInfo": {
          "status": "ok",
          "timestamp": 1728659412862,
          "user_tz": 240,
          "elapsed": 188,
          "user": {
            "displayName": "",
            "userId": ""
          }
        },
        "outputId": "6e3482db-372d-467e-cb5b-ad8240c3f36b"
      },
      "execution_count": null,
      "outputs": [
        {
          "output_type": "execute_result",
          "data": {
            "text/plain": [
              "Index(['price', 'msrp', 'miles', 'stock_no', 'neo_listing_confidence',\n",
              "       'neo_year', 'neo_make', 'neo_model', 'neo_trim', 'neo_trim_confidence',\n",
              "       'neo_version', 'neo_version_confidence', 'neo_vehicle_type',\n",
              "       'neo_body_type', 'neo_drivetrain', 'neo_powertrain_type',\n",
              "       'neo_fuel_type', 'neo_engine', 'neo_engine_block', 'neo_engine_size',\n",
              "       'neo_transmission', 'neo_doors', 'neo_cylinders', 'neo_city_mpg',\n",
              "       'neo_highway_mpg', 'neo_width', 'neo_height', 'neo_length',\n",
              "       'neo_package_description', 'neo_base_msrp',\n",
              "       'neo_installed_options_msrp', 'neo_delivery_charges',\n",
              "       'neo_combined_msrp', 'interior_color', 'base_interior_color',\n",
              "       'neo_mfg_interior_color', 'exterior_color', 'base_exterior_color',\n",
              "       'neo_mfg_exterior_color', 'model_code', 'scraped_at', 'status_date',\n",
              "       'first_scraped_at', 'source', 'seller_name', 'street', 'city', 'state',\n",
              "       'zip', 'latitude', 'longitude', 'country', 'neo_country',\n",
              "       'seller_phone', 'seller_type', 'listing_type', 'inventory_type',\n",
              "       'dealer_type', 'car_seller_name', 'car_address', 'car_street',\n",
              "       'car_city', 'car_state', 'seller_comments', 'features',\n",
              "       'neo_options_packages', 'neo_installed_options_details',\n",
              "       'neo_high_value_features', 'photo_links', 'photo_url', 'dom', 'dom_180',\n",
              "       'dom_active', 'currency_indicator', 'miles_indicator', 'loan_term',\n",
              "       'loan_apr', 'l_down_pay', 'l_emi', 'f_down_pay', 'f_emi', 'lease_term',\n",
              "       'in_transit', 'in_transit_at', 'in_transit_days', 'dos_active',\n",
              "       'mc_category', 'mc_dealership_group_name',\n",
              "       'mc_sub_dealership_group_name', 'mc_dealer_id', 'mc_location_id',\n",
              "       'mc_website_id', 'mc_rooftop_id', 'is_searchable'],\n",
              "      dtype='object')"
            ]
          },
          "metadata": {},
          "execution_count": 93
        }
      ]
    },
    {
      "cell_type": "code",
      "source": [
        "df.select_dtypes(include=['int64', 'float64', 'number']).columns.tolist()"
      ],
      "metadata": {
        "colab": {
          "base_uri": "https://localhost:8080/"
        },
        "id": "iURnI2QZ33Xz",
        "executionInfo": {
          "status": "ok",
          "timestamp": 1728659411309,
          "user_tz": 240,
          "elapsed": 142,
          "user": {
            "displayName": "",
            "userId": ""
          }
        },
        "outputId": "ceec165b-2488-43b7-fd7f-13468dbed33b"
      },
      "execution_count": null,
      "outputs": [
        {
          "output_type": "execute_result",
          "data": {
            "text/plain": [
              "['price',\n",
              " 'msrp',\n",
              " 'miles',\n",
              " 'neo_year',\n",
              " 'neo_engine_size',\n",
              " 'neo_doors',\n",
              " 'neo_cylinders',\n",
              " 'neo_city_mpg',\n",
              " 'neo_highway_mpg',\n",
              " 'neo_width',\n",
              " 'neo_height',\n",
              " 'neo_length',\n",
              " 'neo_base_msrp',\n",
              " 'neo_installed_options_msrp',\n",
              " 'neo_delivery_charges',\n",
              " 'neo_combined_msrp',\n",
              " 'zip',\n",
              " 'latitude',\n",
              " 'longitude',\n",
              " 'dom',\n",
              " 'dom_180',\n",
              " 'dom_active',\n",
              " 'loan_term',\n",
              " 'loan_apr',\n",
              " 'l_emi',\n",
              " 'f_down_pay',\n",
              " 'f_emi',\n",
              " 'in_transit',\n",
              " 'in_transit_days',\n",
              " 'dos_active',\n",
              " 'mc_dealer_id',\n",
              " 'mc_location_id',\n",
              " 'mc_website_id',\n",
              " 'mc_rooftop_id',\n",
              " 'is_searchable']"
            ]
          },
          "metadata": {},
          "execution_count": 92
        }
      ]
    },
    {
      "cell_type": "code",
      "source": [
        "# Define the new continuous variables\n",
        "new_continuous_vars = [\n",
        "    'price', 'msrp', 'miles', 'neo_engine_size', 'neo_doors',\n",
        "    'neo_cylinders', 'neo_city_mpg', 'neo_highway_mpg', 'neo_width',\n",
        "    'neo_height', 'neo_length', 'neo_base_msrp', 'neo_installed_options_msrp',\n",
        "    'neo_delivery_charges', 'neo_combined_msrp', 'loan_term', 'loan_apr', 'l_emi','f_down_pay', 'in_transit_days', 'dos_active',\n",
        " 'mc_dealer_id',\n",
        " 'mc_location_id',\n",
        " 'mc_website_id',\n",
        " 'mc_rooftop_id',\n",
        " 'is_searchable']\n",
        "for col_ in new_continuous_vars:\n",
        "    df[col_] = df[col_].fillna(df[col_].mean())\n",
        "\n",
        "# Verify if missing values have been filled\n",
        "print(df[new_continuous_vars].isnull().sum())\n",
        "\n"
      ],
      "metadata": {
        "colab": {
          "base_uri": "https://localhost:8080/",
          "height": 1000
        },
        "id": "py35GukeNsFw",
        "executionInfo": {
          "status": "ok",
          "timestamp": 1728659541205,
          "user_tz": 240,
          "elapsed": 97670,
          "user": {
            "displayName": "",
            "userId": ""
          }
        },
        "outputId": "a05a5b60-6332-4a34-ffb8-dbf581a6be94"
      },
      "execution_count": null,
      "outputs": [
        {
          "output_type": "display_data",
          "data": {
            "text/plain": [
              "<IPython.core.display.HTML object>"
            ],
            "text/html": [
              "Query job 6378bb9b-88d9-4f40-a7dc-bac4ce12f710 is DONE. 0 Bytes processed. <a target=\"_blank\" href=\"https://console.cloud.google.com/bigquery?project=marketcheck-demo&j=bq:US:6378bb9b-88d9-4f40-a7dc-bac4ce12f710&page=queryresults\">Open Job</a>"
            ]
          },
          "metadata": {}
        },
        {
          "output_type": "display_data",
          "data": {
            "text/plain": [
              "<IPython.core.display.HTML object>"
            ],
            "text/html": [
              "Query job aeb0c7bb-443e-4d39-9fc5-cad9912a6100 is DONE. 62.3 MB processed. <a target=\"_blank\" href=\"https://console.cloud.google.com/bigquery?project=marketcheck-demo&j=bq:US:aeb0c7bb-443e-4d39-9fc5-cad9912a6100&page=queryresults\">Open Job</a>"
            ]
          },
          "metadata": {}
        },
        {
          "output_type": "display_data",
          "data": {
            "text/plain": [
              "<IPython.core.display.HTML object>"
            ],
            "text/html": [
              "Query job 66e359e5-2f02-45ff-b079-10ae0791a165 is DONE. 65.9 MB processed. <a target=\"_blank\" href=\"https://console.cloud.google.com/bigquery?project=marketcheck-demo&j=bq:US:66e359e5-2f02-45ff-b079-10ae0791a165&page=queryresults\">Open Job</a>"
            ]
          },
          "metadata": {}
        },
        {
          "output_type": "display_data",
          "data": {
            "text/plain": [
              "<IPython.core.display.HTML object>"
            ],
            "text/html": [
              "Query job 4898b4cd-6d45-41c5-ad4d-3210cebdd491 is DONE. 65.5 MB processed. <a target=\"_blank\" href=\"https://console.cloud.google.com/bigquery?project=marketcheck-demo&j=bq:US:4898b4cd-6d45-41c5-ad4d-3210cebdd491&page=queryresults\">Open Job</a>"
            ]
          },
          "metadata": {}
        },
        {
          "output_type": "display_data",
          "data": {
            "text/plain": [
              "<IPython.core.display.HTML object>"
            ],
            "text/html": [
              "Query job b7e1ea1a-81f3-47a4-b9ae-1cd2f6ee0fb5 is DONE. 65.9 MB processed. <a target=\"_blank\" href=\"https://console.cloud.google.com/bigquery?project=marketcheck-demo&j=bq:US:b7e1ea1a-81f3-47a4-b9ae-1cd2f6ee0fb5&page=queryresults\">Open Job</a>"
            ]
          },
          "metadata": {}
        },
        {
          "output_type": "display_data",
          "data": {
            "text/plain": [
              "<IPython.core.display.HTML object>"
            ],
            "text/html": [
              "Query job a47c3bb3-2e24-414a-907a-672f5229dc82 is DONE. 65.5 MB processed. <a target=\"_blank\" href=\"https://console.cloud.google.com/bigquery?project=marketcheck-demo&j=bq:US:a47c3bb3-2e24-414a-907a-672f5229dc82&page=queryresults\">Open Job</a>"
            ]
          },
          "metadata": {}
        },
        {
          "output_type": "display_data",
          "data": {
            "text/plain": [
              "<IPython.core.display.HTML object>"
            ],
            "text/html": [
              "Query job d0b21de9-418f-4e43-9b25-790cd3c61339 is DONE. 61.9 MB processed. <a target=\"_blank\" href=\"https://console.cloud.google.com/bigquery?project=marketcheck-demo&j=bq:US:d0b21de9-418f-4e43-9b25-790cd3c61339&page=queryresults\">Open Job</a>"
            ]
          },
          "metadata": {}
        },
        {
          "output_type": "display_data",
          "data": {
            "text/plain": [
              "<IPython.core.display.HTML object>"
            ],
            "text/html": [
              "Query job fab1f087-71d5-41c5-84c5-19712f4e19dc is DONE. 61.9 MB processed. <a target=\"_blank\" href=\"https://console.cloud.google.com/bigquery?project=marketcheck-demo&j=bq:US:fab1f087-71d5-41c5-84c5-19712f4e19dc&page=queryresults\">Open Job</a>"
            ]
          },
          "metadata": {}
        },
        {
          "output_type": "display_data",
          "data": {
            "text/plain": [
              "<IPython.core.display.HTML object>"
            ],
            "text/html": [
              "Query job d59b9236-8ec3-49a9-a259-dadc203850d9 is DONE. 64.4 MB processed. <a target=\"_blank\" href=\"https://console.cloud.google.com/bigquery?project=marketcheck-demo&j=bq:US:d59b9236-8ec3-49a9-a259-dadc203850d9&page=queryresults\">Open Job</a>"
            ]
          },
          "metadata": {}
        },
        {
          "output_type": "display_data",
          "data": {
            "text/plain": [
              "<IPython.core.display.HTML object>"
            ],
            "text/html": [
              "Query job 9a5bf397-92d2-4826-8d1f-e377c610f36c is DONE. 65.6 MB processed. <a target=\"_blank\" href=\"https://console.cloud.google.com/bigquery?project=marketcheck-demo&j=bq:US:9a5bf397-92d2-4826-8d1f-e377c610f36c&page=queryresults\">Open Job</a>"
            ]
          },
          "metadata": {}
        },
        {
          "output_type": "display_data",
          "data": {
            "text/plain": [
              "<IPython.core.display.HTML object>"
            ],
            "text/html": [
              "Query job 9b2d04e5-c61d-4ddc-95eb-2c8ed29ed52c is DONE. 65.8 MB processed. <a target=\"_blank\" href=\"https://console.cloud.google.com/bigquery?project=marketcheck-demo&j=bq:US:9b2d04e5-c61d-4ddc-95eb-2c8ed29ed52c&page=queryresults\">Open Job</a>"
            ]
          },
          "metadata": {}
        },
        {
          "output_type": "display_data",
          "data": {
            "text/plain": [
              "<IPython.core.display.HTML object>"
            ],
            "text/html": [
              "Query job b692ca48-221f-49f8-958a-8fb3e7e2ca48 is DONE. 65.9 MB processed. <a target=\"_blank\" href=\"https://console.cloud.google.com/bigquery?project=marketcheck-demo&j=bq:US:b692ca48-221f-49f8-958a-8fb3e7e2ca48&page=queryresults\">Open Job</a>"
            ]
          },
          "metadata": {}
        },
        {
          "output_type": "display_data",
          "data": {
            "text/plain": [
              "<IPython.core.display.HTML object>"
            ],
            "text/html": [
              "Query job 543dcd1b-f148-46d3-a931-9f33026eff19 is DONE. 65.9 MB processed. <a target=\"_blank\" href=\"https://console.cloud.google.com/bigquery?project=marketcheck-demo&j=bq:US:543dcd1b-f148-46d3-a931-9f33026eff19&page=queryresults\">Open Job</a>"
            ]
          },
          "metadata": {}
        },
        {
          "output_type": "display_data",
          "data": {
            "text/plain": [
              "<IPython.core.display.HTML object>"
            ],
            "text/html": [
              "Query job 77e0ea2f-d316-4cc9-b43e-2552c71fbcdf is DONE. 65.9 MB processed. <a target=\"_blank\" href=\"https://console.cloud.google.com/bigquery?project=marketcheck-demo&j=bq:US:77e0ea2f-d316-4cc9-b43e-2552c71fbcdf&page=queryresults\">Open Job</a>"
            ]
          },
          "metadata": {}
        },
        {
          "output_type": "display_data",
          "data": {
            "text/plain": [
              "<IPython.core.display.HTML object>"
            ],
            "text/html": [
              "Query job 0a58f1f8-bb4a-4311-81aa-1466b30b1081 is DONE. 65.9 MB processed. <a target=\"_blank\" href=\"https://console.cloud.google.com/bigquery?project=marketcheck-demo&j=bq:US:0a58f1f8-bb4a-4311-81aa-1466b30b1081&page=queryresults\">Open Job</a>"
            ]
          },
          "metadata": {}
        },
        {
          "output_type": "display_data",
          "data": {
            "text/plain": [
              "<IPython.core.display.HTML object>"
            ],
            "text/html": [
              "Query job c169e942-e47d-49f9-bacc-d9793d8367bf is DONE. 1.4 MB processed. <a target=\"_blank\" href=\"https://console.cloud.google.com/bigquery?project=marketcheck-demo&j=bq:US:c169e942-e47d-49f9-bacc-d9793d8367bf&page=queryresults\">Open Job</a>"
            ]
          },
          "metadata": {}
        },
        {
          "output_type": "display_data",
          "data": {
            "text/plain": [
              "<IPython.core.display.HTML object>"
            ],
            "text/html": [
              "Query job 26485acc-528a-4419-b3f2-191d6ab11a38 is DONE. 1.4 MB processed. <a target=\"_blank\" href=\"https://console.cloud.google.com/bigquery?project=marketcheck-demo&j=bq:US:26485acc-528a-4419-b3f2-191d6ab11a38&page=queryresults\">Open Job</a>"
            ]
          },
          "metadata": {}
        },
        {
          "output_type": "display_data",
          "data": {
            "text/plain": [
              "<IPython.core.display.HTML object>"
            ],
            "text/html": [
              "Query job 432d1847-bfd5-4759-92e0-e8d8e9d4610b is DONE. 33.4 kB processed. <a target=\"_blank\" href=\"https://console.cloud.google.com/bigquery?project=marketcheck-demo&j=bq:US:432d1847-bfd5-4759-92e0-e8d8e9d4610b&page=queryresults\">Open Job</a>"
            ]
          },
          "metadata": {}
        },
        {
          "output_type": "display_data",
          "data": {
            "text/plain": [
              "<IPython.core.display.HTML object>"
            ],
            "text/html": [
              "Query job 2fbc1f36-4140-4315-9ea9-6f16d2413ea7 is DONE. 1.4 MB processed. <a target=\"_blank\" href=\"https://console.cloud.google.com/bigquery?project=marketcheck-demo&j=bq:US:2fbc1f36-4140-4315-9ea9-6f16d2413ea7&page=queryresults\">Open Job</a>"
            ]
          },
          "metadata": {}
        },
        {
          "output_type": "display_data",
          "data": {
            "text/plain": [
              "<IPython.core.display.HTML object>"
            ],
            "text/html": [
              "Query job 276cd03a-3fb6-414b-9c64-b96050afa923 is DONE. 386.2 kB processed. <a target=\"_blank\" href=\"https://console.cloud.google.com/bigquery?project=marketcheck-demo&j=bq:US:276cd03a-3fb6-414b-9c64-b96050afa923&page=queryresults\">Open Job</a>"
            ]
          },
          "metadata": {}
        },
        {
          "output_type": "display_data",
          "data": {
            "text/plain": [
              "<IPython.core.display.HTML object>"
            ],
            "text/html": [
              "Query job 9a174197-115d-4332-9be8-21a89bdf5c7c is DONE. 67.0 MB processed. <a target=\"_blank\" href=\"https://console.cloud.google.com/bigquery?project=marketcheck-demo&j=bq:US:9a174197-115d-4332-9be8-21a89bdf5c7c&page=queryresults\">Open Job</a>"
            ]
          },
          "metadata": {}
        },
        {
          "output_type": "display_data",
          "data": {
            "text/plain": [
              "<IPython.core.display.HTML object>"
            ],
            "text/html": [
              "Query job bb059142-9337-4de6-8003-f0932c75ebb0 is DONE. 67.0 MB processed. <a target=\"_blank\" href=\"https://console.cloud.google.com/bigquery?project=marketcheck-demo&j=bq:US:bb059142-9337-4de6-8003-f0932c75ebb0&page=queryresults\">Open Job</a>"
            ]
          },
          "metadata": {}
        },
        {
          "output_type": "display_data",
          "data": {
            "text/plain": [
              "<IPython.core.display.HTML object>"
            ],
            "text/html": [
              "Query job a9a55a94-5ab7-40af-97fb-d53b6c28860b is DONE. 67.0 MB processed. <a target=\"_blank\" href=\"https://console.cloud.google.com/bigquery?project=marketcheck-demo&j=bq:US:a9a55a94-5ab7-40af-97fb-d53b6c28860b&page=queryresults\">Open Job</a>"
            ]
          },
          "metadata": {}
        },
        {
          "output_type": "display_data",
          "data": {
            "text/plain": [
              "<IPython.core.display.HTML object>"
            ],
            "text/html": [
              "Query job 9dafc96f-a7c1-467b-b05b-031a88e75421 is DONE. 67.0 MB processed. <a target=\"_blank\" href=\"https://console.cloud.google.com/bigquery?project=marketcheck-demo&j=bq:US:9dafc96f-a7c1-467b-b05b-031a88e75421&page=queryresults\">Open Job</a>"
            ]
          },
          "metadata": {}
        },
        {
          "output_type": "display_data",
          "data": {
            "text/plain": [
              "<IPython.core.display.HTML object>"
            ],
            "text/html": [
              "Query job 3056c74a-fb3b-4bf6-824d-26dfb818edcd is DONE. 67.0 MB processed. <a target=\"_blank\" href=\"https://console.cloud.google.com/bigquery?project=marketcheck-demo&j=bq:US:3056c74a-fb3b-4bf6-824d-26dfb818edcd&page=queryresults\">Open Job</a>"
            ]
          },
          "metadata": {}
        },
        {
          "output_type": "display_data",
          "data": {
            "text/plain": [
              "<IPython.core.display.HTML object>"
            ],
            "text/html": [
              "Query job f0220427-4e82-4f8b-b625-2842f3435ada is DONE. 67.0 MB processed. <a target=\"_blank\" href=\"https://console.cloud.google.com/bigquery?project=marketcheck-demo&j=bq:US:f0220427-4e82-4f8b-b625-2842f3435ada&page=queryresults\">Open Job</a>"
            ]
          },
          "metadata": {}
        },
        {
          "output_type": "stream",
          "name": "stderr",
          "text": [
            "/usr/local/lib/python3.10/dist-packages/bigframes/core/blocks.py:126: NullIndexPreviewWarning: Creating object with Null Index. Null Index is a preview feature.\n",
            "  warnings.warn(\n"
          ]
        },
        {
          "output_type": "display_data",
          "data": {
            "text/plain": [
              "<IPython.core.display.HTML object>"
            ],
            "text/html": [
              "Query job 68f58ed7-c87e-4884-9336-5ae1e0f9ba6d is DONE. 1.4 GB processed. <a target=\"_blank\" href=\"https://console.cloud.google.com/bigquery?project=marketcheck-demo&j=bq:US:68f58ed7-c87e-4884-9336-5ae1e0f9ba6d&page=queryresults\">Open Job</a>"
            ]
          },
          "metadata": {}
        },
        {
          "output_type": "display_data",
          "data": {
            "text/plain": [
              "<IPython.core.display.HTML object>"
            ],
            "text/html": [
              "Query job 1feefba4-ee33-42a4-ba10-f642caa02ecb is DONE. 773 Bytes processed. <a target=\"_blank\" href=\"https://console.cloud.google.com/bigquery?project=marketcheck-demo&j=bq:US:1feefba4-ee33-42a4-ba10-f642caa02ecb&page=queryresults\">Open Job</a>"
            ]
          },
          "metadata": {}
        },
        {
          "output_type": "stream",
          "name": "stdout",
          "text": [
            "price                         0\n",
            "msrp                          0\n",
            "miles                         0\n",
            "neo_engine_size               0\n",
            "neo_doors                     0\n",
            "neo_cylinders                 0\n",
            "neo_city_mpg                  0\n",
            "neo_highway_mpg               0\n",
            "neo_width                     0\n",
            "neo_height                    0\n",
            "neo_length                    0\n",
            "neo_base_msrp                 0\n",
            "neo_installed_options_msrp    0\n",
            "neo_delivery_charges          0\n",
            "neo_combined_msrp             0\n",
            "loan_term                     0\n",
            "loan_apr                      0\n",
            "l_emi                         0\n",
            "f_down_pay                    0\n",
            "in_transit_days               0\n",
            "dos_active                    0\n",
            "mc_dealer_id                  0\n",
            "mc_location_id                0\n",
            "mc_website_id                 0\n",
            "mc_rooftop_id                 0\n",
            "dtype: Int64\n"
          ]
        }
      ]
    },
    {
      "cell_type": "code",
      "source": [
        "df['is_searchable'].isnull()"
      ],
      "metadata": {
        "id": "Ab2aOmYVXsCu",
        "colab": {
          "base_uri": "https://localhost:8080/",
          "height": 516
        },
        "executionInfo": {
          "status": "ok",
          "timestamp": 1728656839371,
          "user_tz": 240,
          "elapsed": 25373,
          "user": {
            "displayName": "",
            "userId": ""
          }
        },
        "outputId": "18bbd249-b2ce-448f-a5d1-d3d95bfc9b2c"
      },
      "execution_count": null,
      "outputs": [
        {
          "output_type": "display_data",
          "data": {
            "text/plain": [
              "<IPython.core.display.HTML object>"
            ],
            "text/html": [
              "Query job 85a01b25-5c2b-40d4-a7b5-fd01fc73e795 is DONE. 100.1 GB processed. <a target=\"_blank\" href=\"https://console.cloud.google.com/bigquery?project=marketcheck-demo&j=bq:US:85a01b25-5c2b-40d4-a7b5-fd01fc73e795&page=queryresults\">Open Job</a>"
            ]
          },
          "metadata": {}
        },
        {
          "output_type": "display_data",
          "data": {
            "text/plain": [
              "<IPython.core.display.HTML object>"
            ],
            "text/html": [
              "Query job 81d4eb53-b127-4d23-b836-40f2cc01bb84 is DONE. 141.7 kB processed. <a target=\"_blank\" href=\"https://console.cloud.google.com/bigquery?project=marketcheck-demo&j=bq:US:81d4eb53-b127-4d23-b836-40f2cc01bb84&page=queryresults\">Open Job</a>"
            ]
          },
          "metadata": {}
        },
        {
          "output_type": "execute_result",
          "data": {
            "text/plain": [
              "0     False\n",
              "1     False\n",
              "2     False\n",
              "3     False\n",
              "4     False\n",
              "5     False\n",
              "6     False\n",
              "7     False\n",
              "8     False\n",
              "9     False\n",
              "10    False\n",
              "11    False\n",
              "12    False\n",
              "13    False\n",
              "14    False\n",
              "15    False\n",
              "16    False\n",
              "17    False\n",
              "18    False\n",
              "19    False\n",
              "20    False\n",
              "21    False\n",
              "22    False\n",
              "23    False\n",
              "24    False\n",
              "Name: is_searchable, dtype: boolean"
            ]
          },
          "metadata": {},
          "execution_count": 62
        }
      ]
    },
    {
      "cell_type": "code",
      "source": [
        "df.head(2)"
      ],
      "metadata": {
        "colab": {
          "base_uri": "https://localhost:8080/",
          "height": 231
        },
        "id": "ygiLVRY-MuTf",
        "executionInfo": {
          "status": "ok",
          "timestamp": 1728605886246,
          "user_tz": 240,
          "elapsed": 6616,
          "user": {
            "displayName": "",
            "userId": ""
          }
        },
        "outputId": "66dea836-eb6f-48fb-95d4-a26e73b8049b"
      },
      "execution_count": null,
      "outputs": [
        {
          "output_type": "display_data",
          "data": {
            "text/plain": [
              "<IPython.core.display.HTML object>"
            ],
            "text/html": [
              "Query job 10f7e2a7-0bcc-40e3-a624-062206e4b769 is DONE. 56.6 MB processed. <a target=\"_blank\" href=\"https://console.cloud.google.com/bigquery?project=marketcheck-demo&j=bq:US:10f7e2a7-0bcc-40e3-a624-062206e4b769&page=queryresults\">Open Job</a>"
            ]
          },
          "metadata": {}
        },
        {
          "output_type": "display_data",
          "data": {
            "text/plain": [
              "<IPython.core.display.HTML object>"
            ],
            "text/html": [
              "Query job 5881ef6a-cf43-4a2e-9f6f-3e652a28445b is DONE. 52.8 kB processed. <a target=\"_blank\" href=\"https://console.cloud.google.com/bigquery?project=marketcheck-demo&j=bq:US:5881ef6a-cf43-4a2e-9f6f-3e652a28445b&page=queryresults\">Open Job</a>"
            ]
          },
          "metadata": {}
        },
        {
          "output_type": "execute_result",
          "data": {
            "text/plain": [
              "          price          msrp    miles  stock_no  \\\n",
              "0       37998.0       37998.0  17510.0   CP25065   \n",
              "1  30913.131639  31553.327747   9999.0  BP711983   \n",
              "\n",
              "                           neo_listing_confidence  neo_year  neo_make  \\\n",
              "0                                  mc_build_specs      2021  Cadillac   \n",
              "1  mc_listings|used|dealer|independent|1|alt_opts      2023    Jaguar   \n",
              "\n",
              "  neo_model        neo_trim neo_trim_confidence  ... dos_active mc_category  \\\n",
              "0       XT5  Premium Luxury           spec_data  ...         15      Dealer   \n",
              "1    F-Pace               S           spec_data  ...          2      Dealer   \n",
              "\n",
              "  mc_dealership_group_name mc_sub_dealership_group_name mc_dealer_id  \\\n",
              "0       Herb Chambers Cos.           Herb Chambers Cos.      1109639   \n",
              "1       Herb Chambers Cos.           Herb Chambers Cos.      1109210   \n",
              "\n",
              "  mc_location_id mc_website_id mc_rooftop_id mc_car_location_id  is_searchable  \n",
              "0        1508322       1100764        750873            1386775              0  \n",
              "1        1534436       1073659        255536            1401104              0  \n",
              "\n",
              "[2 rows x 99 columns]"
            ],
            "text/html": [
              "<div>\n",
              "<style scoped>\n",
              "    .dataframe tbody tr th:only-of-type {\n",
              "        vertical-align: middle;\n",
              "    }\n",
              "\n",
              "    .dataframe tbody tr th {\n",
              "        vertical-align: top;\n",
              "    }\n",
              "\n",
              "    .dataframe thead th {\n",
              "        text-align: right;\n",
              "    }\n",
              "</style>\n",
              "<table border=\"1\" class=\"dataframe\">\n",
              "  <thead>\n",
              "    <tr style=\"text-align: right;\">\n",
              "      <th></th>\n",
              "      <th>price</th>\n",
              "      <th>msrp</th>\n",
              "      <th>miles</th>\n",
              "      <th>stock_no</th>\n",
              "      <th>neo_listing_confidence</th>\n",
              "      <th>neo_year</th>\n",
              "      <th>neo_make</th>\n",
              "      <th>neo_model</th>\n",
              "      <th>neo_trim</th>\n",
              "      <th>neo_trim_confidence</th>\n",
              "      <th>...</th>\n",
              "      <th>dos_active</th>\n",
              "      <th>mc_category</th>\n",
              "      <th>mc_dealership_group_name</th>\n",
              "      <th>mc_sub_dealership_group_name</th>\n",
              "      <th>mc_dealer_id</th>\n",
              "      <th>mc_location_id</th>\n",
              "      <th>mc_website_id</th>\n",
              "      <th>mc_rooftop_id</th>\n",
              "      <th>mc_car_location_id</th>\n",
              "      <th>is_searchable</th>\n",
              "    </tr>\n",
              "  </thead>\n",
              "  <tbody>\n",
              "    <tr>\n",
              "      <th>0</th>\n",
              "      <td>37998.0</td>\n",
              "      <td>37998.0</td>\n",
              "      <td>17510.0</td>\n",
              "      <td>CP25065</td>\n",
              "      <td>mc_build_specs</td>\n",
              "      <td>2021</td>\n",
              "      <td>Cadillac</td>\n",
              "      <td>XT5</td>\n",
              "      <td>Premium Luxury</td>\n",
              "      <td>spec_data</td>\n",
              "      <td>...</td>\n",
              "      <td>15</td>\n",
              "      <td>Dealer</td>\n",
              "      <td>Herb Chambers Cos.</td>\n",
              "      <td>Herb Chambers Cos.</td>\n",
              "      <td>1109639</td>\n",
              "      <td>1508322</td>\n",
              "      <td>1100764</td>\n",
              "      <td>750873</td>\n",
              "      <td>1386775</td>\n",
              "      <td>0</td>\n",
              "    </tr>\n",
              "    <tr>\n",
              "      <th>1</th>\n",
              "      <td>30913.131639</td>\n",
              "      <td>31553.327747</td>\n",
              "      <td>9999.0</td>\n",
              "      <td>BP711983</td>\n",
              "      <td>mc_listings|used|dealer|independent|1|alt_opts</td>\n",
              "      <td>2023</td>\n",
              "      <td>Jaguar</td>\n",
              "      <td>F-Pace</td>\n",
              "      <td>S</td>\n",
              "      <td>spec_data</td>\n",
              "      <td>...</td>\n",
              "      <td>2</td>\n",
              "      <td>Dealer</td>\n",
              "      <td>Herb Chambers Cos.</td>\n",
              "      <td>Herb Chambers Cos.</td>\n",
              "      <td>1109210</td>\n",
              "      <td>1534436</td>\n",
              "      <td>1073659</td>\n",
              "      <td>255536</td>\n",
              "      <td>1401104</td>\n",
              "      <td>0</td>\n",
              "    </tr>\n",
              "  </tbody>\n",
              "</table>\n",
              "<p>2 rows × 99 columns</p>\n",
              "</div>[2 rows x 99 columns in total]"
            ]
          },
          "metadata": {},
          "execution_count": 79
        }
      ]
    },
    {
      "cell_type": "code",
      "source": [
        "df[['in_transit', 'in_transit_days', 'dos_active','dom', 'dom_180', 'dom_active']].isnull().sum()/len(df)*100"
      ],
      "metadata": {
        "colab": {
          "base_uri": "https://localhost:8080/",
          "height": 232
        },
        "id": "2gX5El2YQbQN",
        "executionInfo": {
          "status": "ok",
          "timestamp": 1728656889044,
          "user_tz": 240,
          "elapsed": 8440,
          "user": {
            "displayName": "",
            "userId": ""
          }
        },
        "outputId": "9380d52d-7291-43e6-afef-d715e3393271"
      },
      "execution_count": null,
      "outputs": [
        {
          "output_type": "stream",
          "name": "stderr",
          "text": [
            "/usr/local/lib/python3.10/dist-packages/bigframes/core/blocks.py:126: NullIndexPreviewWarning: Creating object with Null Index. Null Index is a preview feature.\n",
            "  warnings.warn(\n"
          ]
        },
        {
          "output_type": "display_data",
          "data": {
            "text/plain": [
              "<IPython.core.display.HTML object>"
            ],
            "text/html": [
              "Query job 20b86ee4-d7d1-41d4-81e5-fa420d5385d3 is DONE. 335.5 MB processed. <a target=\"_blank\" href=\"https://console.cloud.google.com/bigquery?project=marketcheck-demo&j=bq:US:20b86ee4-d7d1-41d4-81e5-fa420d5385d3&page=queryresults\">Open Job</a>"
            ]
          },
          "metadata": {}
        },
        {
          "output_type": "display_data",
          "data": {
            "text/plain": [
              "<IPython.core.display.HTML object>"
            ],
            "text/html": [
              "Query job 4ef30a97-6f36-4b53-ad09-d5846f7f6a05 is DONE. 163 Bytes processed. <a target=\"_blank\" href=\"https://console.cloud.google.com/bigquery?project=marketcheck-demo&j=bq:US:4ef30a97-6f36-4b53-ad09-d5846f7f6a05&page=queryresults\">Open Job</a>"
            ]
          },
          "metadata": {}
        },
        {
          "output_type": "execute_result",
          "data": {
            "text/plain": [
              "in_transit         0.0\n",
              "in_transit_days    0.0\n",
              "dos_active         0.0\n",
              "dom                0.0\n",
              "dom_180            0.0\n",
              "dom_active         0.0\n",
              "dtype: Float64"
            ]
          },
          "metadata": {},
          "execution_count": 63
        }
      ]
    },
    {
      "cell_type": "code",
      "source": [
        "# Identify continuous variables (including integer, float, decimal)\n",
        "continuous_columns = df.select_dtypes(include=['float64', 'int64', 'number']).columns.tolist()\n",
        "\n",
        "# Display the continuous columns\n",
        "print(f\"Continuous Variables:\\n{continuous_columns}\")\n",
        "#print(continuous_columns)\n"
      ],
      "metadata": {
        "colab": {
          "base_uri": "https://localhost:8080/"
        },
        "id": "v_F8v6WTXs3A",
        "executionInfo": {
          "status": "ok",
          "timestamp": 1728656889045,
          "user_tz": 240,
          "elapsed": 3,
          "user": {
            "displayName": "",
            "userId": ""
          }
        },
        "outputId": "d09f698e-b109-44f3-afd6-ac33ec0e366e"
      },
      "execution_count": null,
      "outputs": [
        {
          "output_type": "stream",
          "name": "stdout",
          "text": [
            "Continuous Variables:\n",
            "['price', 'msrp', 'miles', 'neo_year', 'neo_engine_size', 'neo_doors', 'neo_cylinders', 'neo_city_mpg', 'neo_highway_mpg', 'neo_width', 'neo_height', 'neo_length', 'neo_base_msrp', 'neo_installed_options_msrp', 'neo_delivery_charges', 'neo_combined_msrp', 'zip', 'latitude', 'longitude', 'dom', 'dom_180', 'dom_active', 'loan_term', 'loan_apr', 'l_emi', 'f_down_pay', 'f_emi', 'in_transit', 'in_transit_days', 'dos_active', 'mc_dealer_id', 'mc_location_id', 'mc_website_id', 'mc_rooftop_id', 'is_searchable']\n"
          ]
        }
      ]
    },
    {
      "cell_type": "code",
      "source": [
        "len(continuous_columns)"
      ],
      "metadata": {
        "colab": {
          "base_uri": "https://localhost:8080/"
        },
        "id": "F669jLIuZFWe",
        "executionInfo": {
          "status": "ok",
          "timestamp": 1728659541205,
          "user_tz": 240,
          "elapsed": 3,
          "user": {
            "displayName": "",
            "userId": ""
          }
        },
        "outputId": "ae542585-e388-4f51-ccb3-39fe3fac7d67"
      },
      "execution_count": null,
      "outputs": [
        {
          "output_type": "execute_result",
          "data": {
            "text/plain": [
              "20"
            ]
          },
          "metadata": {},
          "execution_count": 95
        }
      ]
    },
    {
      "cell_type": "code",
      "source": [
        "df.columns"
      ],
      "metadata": {
        "colab": {
          "base_uri": "https://localhost:8080/"
        },
        "id": "ol2yxGomJMpb",
        "executionInfo": {
          "status": "ok",
          "timestamp": 1728659644830,
          "user_tz": 240,
          "elapsed": 203,
          "user": {
            "displayName": "",
            "userId": ""
          }
        },
        "outputId": "83eb8a83-622d-4883-d0f2-812ad714ba56"
      },
      "execution_count": null,
      "outputs": [
        {
          "output_type": "execute_result",
          "data": {
            "text/plain": [
              "Index(['price', 'msrp', 'miles', 'stock_no', 'neo_listing_confidence',\n",
              "       'neo_year', 'neo_make', 'neo_model', 'neo_trim', 'neo_trim_confidence',\n",
              "       'neo_version', 'neo_version_confidence', 'neo_vehicle_type',\n",
              "       'neo_body_type', 'neo_drivetrain', 'neo_powertrain_type',\n",
              "       'neo_fuel_type', 'neo_engine', 'neo_engine_block', 'neo_engine_size',\n",
              "       'neo_transmission', 'neo_doors', 'neo_cylinders', 'neo_city_mpg',\n",
              "       'neo_highway_mpg', 'neo_width', 'neo_height', 'neo_length',\n",
              "       'neo_package_description', 'neo_base_msrp',\n",
              "       'neo_installed_options_msrp', 'neo_delivery_charges',\n",
              "       'neo_combined_msrp', 'interior_color', 'base_interior_color',\n",
              "       'neo_mfg_interior_color', 'exterior_color', 'base_exterior_color',\n",
              "       'neo_mfg_exterior_color', 'model_code', 'scraped_at', 'status_date',\n",
              "       'first_scraped_at', 'source', 'seller_name', 'street', 'city', 'state',\n",
              "       'zip', 'latitude', 'longitude', 'country', 'neo_country',\n",
              "       'seller_phone', 'seller_type', 'listing_type', 'inventory_type',\n",
              "       'dealer_type', 'car_seller_name', 'car_address', 'car_street',\n",
              "       'car_city', 'car_state', 'seller_comments', 'features',\n",
              "       'neo_options_packages', 'neo_installed_options_details',\n",
              "       'neo_high_value_features', 'photo_links', 'photo_url', 'dom', 'dom_180',\n",
              "       'dom_active', 'currency_indicator', 'miles_indicator', 'loan_term',\n",
              "       'loan_apr', 'l_down_pay', 'l_emi', 'f_down_pay', 'f_emi', 'lease_term',\n",
              "       'in_transit', 'in_transit_at', 'in_transit_days', 'dos_active',\n",
              "       'mc_category', 'mc_dealership_group_name',\n",
              "       'mc_sub_dealership_group_name', 'mc_dealer_id', 'mc_location_id',\n",
              "       'mc_website_id', 'mc_rooftop_id', 'is_searchable', 'age'],\n",
              "      dtype='object')"
            ]
          },
          "metadata": {},
          "execution_count": 99
        }
      ]
    },
    {
      "cell_type": "code",
      "source": [
        "from datetime import datetime"
      ],
      "metadata": {
        "id": "c1q0ica0ZiMY"
      },
      "execution_count": null,
      "outputs": []
    },
    {
      "cell_type": "code",
      "source": [
        "current_year = datetime.now().year\n",
        "df['age'] = current_year - df['neo_year']\n",
        "print(df[['age','neo_year']])"
      ],
      "metadata": {
        "colab": {
          "base_uri": "https://localhost:8080/",
          "height": 552
        },
        "id": "yeaSrsdIZouO",
        "executionInfo": {
          "status": "ok",
          "timestamp": 1728659598223,
          "user_tz": 240,
          "elapsed": 6191,
          "user": {
            "displayName": "",
            "userId": ""
          }
        },
        "outputId": "825d995a-d105-4572-e321-df32ff2b26c4"
      },
      "execution_count": null,
      "outputs": [
        {
          "output_type": "display_data",
          "data": {
            "text/plain": [
              "<IPython.core.display.HTML object>"
            ],
            "text/html": [
              "Query job 677c7ce4-b8b6-4863-aca3-56de06f2897c is DONE. 141.7 kB processed. <a target=\"_blank\" href=\"https://console.cloud.google.com/bigquery?project=marketcheck-demo&j=bq:US:677c7ce4-b8b6-4863-aca3-56de06f2897c&page=queryresults\">Open Job</a>"
            ]
          },
          "metadata": {}
        },
        {
          "output_type": "stream",
          "name": "stdout",
          "text": [
            "    age  neo_year\n",
            "0     3      2021\n",
            "1     1      2023\n",
            "2     4      2020\n",
            "3     5      2019\n",
            "4     2      2022\n",
            "5     3      2021\n",
            "6    23      2001\n",
            "7    11      2013\n",
            "8     5      2019\n",
            "9     0      2024\n",
            "10    4      2020\n",
            "11    0      2024\n",
            "12    7      2017\n",
            "13    0      2024\n",
            "14    3      2021\n",
            "15    6      2018\n",
            "16    3      2021\n",
            "17    3      2021\n",
            "18    1      2023\n",
            "19    4      2020\n",
            "20    3      2021\n",
            "21   11      2013\n",
            "22    1      2023\n",
            "23    8      2016\n",
            "24    4      2020\n",
            "...\n",
            "\n",
            "[8376817 rows x 2 columns]\n"
          ]
        }
      ]
    },
    {
      "cell_type": "code",
      "source": [
        "cont_colum = df.select_dtypes(include=['float64', 'int64', 'number']).columns.tolist()\n",
        "print(cont_colum)"
      ],
      "metadata": {
        "colab": {
          "base_uri": "https://localhost:8080/"
        },
        "id": "L1NrsdzOakPk",
        "executionInfo": {
          "status": "ok",
          "timestamp": 1728659599505,
          "user_tz": 240,
          "elapsed": 168,
          "user": {
            "displayName": "",
            "userId": ""
          }
        },
        "outputId": "49d223c0-0996-4607-81ad-da590942f2d4"
      },
      "execution_count": null,
      "outputs": [
        {
          "output_type": "stream",
          "name": "stdout",
          "text": [
            "['price', 'msrp', 'miles', 'neo_year', 'neo_engine_size', 'neo_doors', 'neo_cylinders', 'neo_city_mpg', 'neo_highway_mpg', 'neo_width', 'neo_height', 'neo_length', 'neo_base_msrp', 'neo_installed_options_msrp', 'neo_delivery_charges', 'neo_combined_msrp', 'zip', 'latitude', 'longitude', 'dom', 'dom_180', 'dom_active', 'loan_term', 'loan_apr', 'l_emi', 'f_down_pay', 'f_emi', 'in_transit', 'in_transit_days', 'dos_active', 'mc_dealer_id', 'mc_location_id', 'mc_website_id', 'mc_rooftop_id', 'is_searchable', 'age']\n"
          ]
        }
      ]
    },
    {
      "cell_type": "code",
      "source": [],
      "metadata": {
        "id": "IB5UsK5wJ6jA"
      },
      "execution_count": null,
      "outputs": []
    },
    {
      "cell_type": "code",
      "source": [
        "continuous_columns = [\n",
        "    'price', 'msrp', 'miles', 'neo_year', 'neo_engine_size', 'neo_doors',\n",
        "    'neo_cylinders', 'neo_city_mpg', 'neo_highway_mpg',\n",
        "    'neo_width', 'neo_height', 'neo_length', 'neo_base_msrp',\n",
        "    'neo_installed_options_msrp', 'neo_delivery_charges',\n",
        "    'neo_combined_msrp', 'zip', 'latitude', 'longitude',\n",
        "    'dom' ]\n",
        "\n",
        "\n",
        "# Calculate correlation with 'price'\n",
        "correlation_with_price = df[continuous_columns].corr()['price']\n",
        "print(\"Correlations with price:\")\n",
        "print(correlation_with_price.sort_values(ascending=False))"
      ],
      "metadata": {
        "colab": {
          "base_uri": "https://localhost:8080/",
          "height": 445
        },
        "id": "MsUPQeZmbtLo",
        "executionInfo": {
          "status": "ok",
          "timestamp": 1728659768724,
          "user_tz": 240,
          "elapsed": 31171,
          "user": {
            "displayName": "",
            "userId": ""
          }
        },
        "outputId": "bb4d1a02-1080-43a1-ad8b-567b4cf07afa"
      },
      "execution_count": null,
      "outputs": [
        {
          "output_type": "stream",
          "name": "stdout",
          "text": [
            "Correlations with price:\n"
          ]
        },
        {
          "output_type": "display_data",
          "data": {
            "text/plain": [
              "<IPython.core.display.HTML object>"
            ],
            "text/html": [
              "Query job 1dc0a9be-18f7-485f-899d-60a77de70634 is DONE. 1.3 GB processed. <a target=\"_blank\" href=\"https://console.cloud.google.com/bigquery?project=marketcheck-demo&j=bq:US:1dc0a9be-18f7-485f-899d-60a77de70634&page=queryresults\">Open Job</a>"
            ]
          },
          "metadata": {}
        },
        {
          "output_type": "display_data",
          "data": {
            "text/plain": [
              "<IPython.core.display.HTML object>"
            ],
            "text/html": [
              "Query job bda28b79-934f-489c-a502-91f5dc5937bd is DONE. 574 Bytes processed. <a target=\"_blank\" href=\"https://console.cloud.google.com/bigquery?project=marketcheck-demo&j=bq:US:bda28b79-934f-489c-a502-91f5dc5937bd&page=queryresults\">Open Job</a>"
            ]
          },
          "metadata": {}
        },
        {
          "output_type": "stream",
          "name": "stdout",
          "text": [
            "price                              1.0\n",
            "msrp                          0.991367\n",
            "neo_combined_msrp             0.786164\n",
            "neo_base_msrp                 0.781814\n",
            "neo_delivery_charges          0.340938\n",
            "neo_year                      0.337366\n",
            "neo_cylinders                 0.322023\n",
            "neo_width                     0.321051\n",
            "neo_installed_options_msrp    0.308363\n",
            "neo_engine_size               0.285722\n",
            "neo_length                    0.234601\n",
            "neo_height                    0.135133\n",
            "longitude                      0.00715\n",
            "dom                          -0.000951\n",
            "zip                          -0.013143\n",
            "neo_city_mpg                 -0.042462\n",
            "latitude                     -0.048783\n",
            "neo_highway_mpg              -0.089904\n",
            "neo_doors                     -0.13996\n",
            "miles                        -0.378693\n",
            "Name: price, dtype: Float64\n"
          ]
        }
      ]
    },
    {
      "cell_type": "code",
      "source": [
        "# Correct the continuous columns list definition\n",
        "cont_columns = ['price',\n",
        "                'dom_180', 'dom_active', 'loan_term',\n",
        "                'loan_apr', 'l_emi', 'f_down_pay', 'f_emi',\n",
        "                'in_transit', 'in_transit_days', 'dos_active',\n",
        "                'mc_dealer_id', 'mc_location_id', 'mc_website_id',\n",
        "                'mc_rooftop_id', 'is_searchable', 'age']\n",
        "\n",
        "# Calculate the correlation matrix\n",
        "corr_matrix = df[cont_columns].corr()\n",
        "\n",
        "# Get the correlation with 'price'\n",
        "corr_with_price = corr_matrix['price'].sort_values(ascending=False)\n",
        "\n",
        "# Print the results\n",
        "print(\"Correlations with price:\")\n",
        "print(corr_with_price)"
      ],
      "metadata": {
        "colab": {
          "base_uri": "https://localhost:8080/",
          "height": 391
        },
        "id": "S-e7FmKngvKa",
        "executionInfo": {
          "status": "ok",
          "timestamp": 1728659948492,
          "user_tz": 240,
          "elapsed": 12586,
          "user": {
            "displayName": "",
            "userId": ""
          }
        },
        "outputId": "c89649d8-e9fe-4ec1-ba9e-790cc763174b"
      },
      "execution_count": null,
      "outputs": [
        {
          "output_type": "stream",
          "name": "stdout",
          "text": [
            "Correlations with price:\n"
          ]
        },
        {
          "output_type": "display_data",
          "data": {
            "text/plain": [
              "<IPython.core.display.HTML object>"
            ],
            "text/html": [
              "Query job 653ccedb-ad3d-4f7e-96d8-99b6ccfedd61 is DONE. 738.2 MB processed. <a target=\"_blank\" href=\"https://console.cloud.google.com/bigquery?project=marketcheck-demo&j=bq:US:653ccedb-ad3d-4f7e-96d8-99b6ccfedd61&page=queryresults\">Open Job</a>"
            ]
          },
          "metadata": {}
        },
        {
          "output_type": "display_data",
          "data": {
            "text/plain": [
              "<IPython.core.display.HTML object>"
            ],
            "text/html": [
              "Query job ca56c0b3-41db-41d1-a385-5fefda36ab11 is DONE. 468 Bytes processed. <a target=\"_blank\" href=\"https://console.cloud.google.com/bigquery?project=marketcheck-demo&j=bq:US:ca56c0b3-41db-41d1-a385-5fefda36ab11&page=queryresults\">Open Job</a>"
            ]
          },
          "metadata": {}
        },
        {
          "output_type": "stream",
          "name": "stdout",
          "text": [
            "price                   1.0\n",
            "f_emi              0.363568\n",
            "f_down_pay         0.055199\n",
            "dom_180            0.025373\n",
            "mc_dealer_id       0.024788\n",
            "loan_term          0.018897\n",
            "loan_apr            0.01643\n",
            "in_transit         0.012845\n",
            "l_emi              0.009768\n",
            "dom_active         0.008784\n",
            "mc_rooftop_id       0.00807\n",
            "in_transit_days    0.005618\n",
            "dos_active        -0.004747\n",
            "mc_location_id    -0.036277\n",
            "mc_website_id     -0.036305\n",
            "is_searchable     -0.098176\n",
            "age               -0.337366\n",
            "Name: price, dtype: Float64\n"
          ]
        }
      ]
    },
    {
      "cell_type": "code",
      "source": [
        "df.select_dtypes(include=['float64', 'int64', 'number']).columns.tolist()"
      ],
      "metadata": {
        "colab": {
          "base_uri": "https://localhost:8080/"
        },
        "id": "anD4sREW7axZ",
        "executionInfo": {
          "status": "ok",
          "timestamp": 1728660080390,
          "user_tz": 240,
          "elapsed": 166,
          "user": {
            "displayName": "",
            "userId": ""
          }
        },
        "outputId": "8ca901b6-783d-415e-916c-1e7e6cca56f0"
      },
      "execution_count": null,
      "outputs": [
        {
          "output_type": "execute_result",
          "data": {
            "text/plain": [
              "['price',\n",
              " 'msrp',\n",
              " 'miles',\n",
              " 'neo_year',\n",
              " 'neo_engine_size',\n",
              " 'neo_doors',\n",
              " 'neo_cylinders',\n",
              " 'neo_city_mpg',\n",
              " 'neo_highway_mpg',\n",
              " 'neo_width',\n",
              " 'neo_height',\n",
              " 'neo_length',\n",
              " 'neo_base_msrp',\n",
              " 'neo_installed_options_msrp',\n",
              " 'neo_delivery_charges',\n",
              " 'neo_combined_msrp',\n",
              " 'zip',\n",
              " 'latitude',\n",
              " 'longitude',\n",
              " 'dom',\n",
              " 'dom_180',\n",
              " 'dom_active',\n",
              " 'loan_term',\n",
              " 'loan_apr',\n",
              " 'l_emi',\n",
              " 'f_down_pay',\n",
              " 'f_emi',\n",
              " 'in_transit',\n",
              " 'in_transit_days',\n",
              " 'dos_active',\n",
              " 'mc_dealer_id',\n",
              " 'mc_location_id',\n",
              " 'mc_website_id',\n",
              " 'mc_rooftop_id',\n",
              " 'is_searchable',\n",
              " 'age']"
            ]
          },
          "metadata": {},
          "execution_count": 106
        }
      ]
    },
    {
      "cell_type": "code",
      "source": [
        "categorical_var = df.select_dtypes(include=['string', 'object']).columns.tolist()\n",
        "print(categorical_var)"
      ],
      "metadata": {
        "colab": {
          "base_uri": "https://localhost:8080/"
        },
        "id": "zBL2G24XK53e",
        "executionInfo": {
          "status": "ok",
          "timestamp": 1728661665896,
          "user_tz": 240,
          "elapsed": 157,
          "user": {
            "displayName": "",
            "userId": ""
          }
        },
        "outputId": "a638d108-6456-4d97-9d47-f21a92dbd9c6"
      },
      "execution_count": null,
      "outputs": [
        {
          "output_type": "stream",
          "name": "stdout",
          "text": [
            "['stock_no', 'neo_listing_confidence', 'neo_make', 'neo_model', 'neo_trim', 'neo_trim_confidence', 'neo_version', 'neo_version_confidence', 'neo_vehicle_type', 'neo_body_type', 'neo_drivetrain', 'neo_powertrain_type', 'neo_fuel_type', 'neo_engine', 'neo_engine_block', 'neo_transmission', 'neo_package_description', 'interior_color', 'base_interior_color', 'neo_mfg_interior_color', 'exterior_color', 'base_exterior_color', 'neo_mfg_exterior_color', 'model_code', 'source', 'seller_name', 'street', 'city', 'state', 'country', 'neo_country', 'seller_phone', 'seller_type', 'listing_type', 'inventory_type', 'dealer_type', 'car_seller_name', 'car_address', 'car_street', 'car_city', 'car_state', 'seller_comments', 'features', 'neo_options_packages', 'neo_installed_options_details', 'neo_high_value_features', 'photo_links', 'photo_url', 'currency_indicator', 'miles_indicator', 'l_down_pay', 'lease_term', 'mc_category', 'mc_dealership_group_name', 'mc_sub_dealership_group_name']\n"
          ]
        }
      ]
    },
    {
      "cell_type": "code",
      "source": [
        "df[categorical_var].isnull().sum()/len(df)*100"
      ],
      "metadata": {
        "colab": {
          "base_uri": "https://localhost:8080/",
          "height": 572
        },
        "id": "lzNv672AQ3yl",
        "executionInfo": {
          "status": "ok",
          "timestamp": 1728661692219,
          "user_tz": 240,
          "elapsed": 13640,
          "user": {
            "displayName": "",
            "userId": ""
          }
        },
        "outputId": "5ca6f5e2-206a-4bdc-d06e-15eae9f6fdb0"
      },
      "execution_count": null,
      "outputs": [
        {
          "output_type": "stream",
          "name": "stderr",
          "text": [
            "/usr/local/lib/python3.10/dist-packages/bigframes/core/blocks.py:126: NullIndexPreviewWarning: Creating object with Null Index. Null Index is a preview feature.\n",
            "  warnings.warn(\n"
          ]
        },
        {
          "output_type": "display_data",
          "data": {
            "text/plain": [
              "<IPython.core.display.HTML object>"
            ],
            "text/html": [
              "Query job 1002e518-7c27-4e75-b964-b889a8bc4a96 is DONE. 92.0 GB processed. <a target=\"_blank\" href=\"https://console.cloud.google.com/bigquery?project=marketcheck-demo&j=bq:US:1002e518-7c27-4e75-b964-b889a8bc4a96&page=queryresults\">Open Job</a>"
            ]
          },
          "metadata": {}
        },
        {
          "output_type": "display_data",
          "data": {
            "text/plain": [
              "<IPython.core.display.HTML object>"
            ],
            "text/html": [
              "Query job 3d63ebc3-ff15-4ebe-89cd-9e55c33a4616 is DONE. 1.8 kB processed. <a target=\"_blank\" href=\"https://console.cloud.google.com/bigquery?project=marketcheck-demo&j=bq:US:3d63ebc3-ff15-4ebe-89cd-9e55c33a4616&page=queryresults\">Open Job</a>"
            ]
          },
          "metadata": {}
        },
        {
          "output_type": "execute_result",
          "data": {
            "text/plain": [
              "stock_no                    7.167376\n",
              "neo_listing_confidence      5.417487\n",
              "neo_make                         0.0\n",
              "neo_model                   0.006279\n",
              "neo_trim                    1.636672\n",
              "neo_trim_confidence         1.636672\n",
              "neo_version                 1.636672\n",
              "neo_version_confidence      1.636672\n",
              "neo_vehicle_type            1.636672\n",
              "neo_body_type               1.636672\n",
              "neo_drivetrain              1.662075\n",
              "neo_powertrain_type         4.087782\n",
              "neo_fuel_type               1.636672\n",
              "neo_engine                  3.160246\n",
              "neo_engine_block            2.217501\n",
              "neo_transmission            1.644324\n",
              "neo_package_description        100.0\n",
              "interior_color             11.381686\n",
              "base_interior_color        12.325827\n",
              "neo_mfg_interior_color      8.815556\n",
              "exterior_color               3.84048\n",
              "base_exterior_color         4.309298\n",
              "neo_mfg_exterior_color      4.463044\n",
              "model_code                 87.756113\n",
              "source                           0.0\n",
              "dtype: Float64"
            ]
          },
          "metadata": {},
          "execution_count": 119
        }
      ]
    },
    {
      "cell_type": "code",
      "source": [
        "print(categorical_var)"
      ],
      "metadata": {
        "colab": {
          "base_uri": "https://localhost:8080/"
        },
        "id": "e32CqxEVPauc",
        "executionInfo": {
          "status": "ok",
          "timestamp": 1728661278844,
          "user_tz": 240,
          "elapsed": 217,
          "user": {
            "displayName": "",
            "userId": ""
          }
        },
        "outputId": "09eacc55-d5dd-41b2-b7dc-554f7d2794ec"
      },
      "execution_count": null,
      "outputs": [
        {
          "output_type": "stream",
          "name": "stdout",
          "text": [
            "['stock_no', 'neo_listing_confidence', 'neo_make', 'neo_model', 'neo_trim', 'neo_trim_confidence', 'neo_version', 'neo_version_confidence', 'neo_vehicle_type', 'neo_body_type', 'neo_drivetrain', 'neo_powertrain_type', 'neo_fuel_type', 'neo_engine', 'neo_engine_block', 'neo_transmission', 'neo_package_description', 'interior_color', 'base_interior_color', 'neo_mfg_interior_color', 'exterior_color', 'base_exterior_color', 'neo_mfg_exterior_color', 'model_code', 'source', 'seller_name', 'street', 'city', 'state', 'country', 'neo_country', 'seller_phone', 'seller_type', 'listing_type', 'inventory_type', 'dealer_type', 'car_seller_name', 'car_address', 'car_street', 'car_city', 'car_state', 'seller_comments', 'features', 'neo_options_packages', 'neo_installed_options_details', 'neo_high_value_features', 'photo_links', 'photo_url', 'currency_indicator', 'miles_indicator', 'l_down_pay', 'lease_term', 'mc_category', 'mc_dealership_group_name', 'mc_sub_dealership_group_name']\n"
          ]
        }
      ]
    },
    {
      "cell_type": "code",
      "source": [
        "len(categorical_var)"
      ],
      "metadata": {
        "colab": {
          "base_uri": "https://localhost:8080/"
        },
        "id": "1yhh7pz3OJqe",
        "executionInfo": {
          "status": "ok",
          "timestamp": 1728660944910,
          "user_tz": 240,
          "elapsed": 157,
          "user": {
            "displayName": "",
            "userId": ""
          }
        },
        "outputId": "22016ce9-5e5e-4852-e675-f9f4938e6f1f"
      },
      "execution_count": null,
      "outputs": [
        {
          "output_type": "execute_result",
          "data": {
            "text/plain": [
              "55"
            ]
          },
          "metadata": {},
          "execution_count": 111
        }
      ]
    },
    {
      "cell_type": "code",
      "source": [
        "pip install category_encoders"
      ],
      "metadata": {
        "colab": {
          "base_uri": "https://localhost:8080/"
        },
        "id": "Fd9Kt1bdOg5s",
        "executionInfo": {
          "status": "ok",
          "timestamp": 1728661695895,
          "user_tz": 240,
          "elapsed": 3678,
          "user": {
            "displayName": "",
            "userId": ""
          }
        },
        "outputId": "0c241c95-1675-4580-8316-963a906623c9"
      },
      "execution_count": null,
      "outputs": [
        {
          "output_type": "stream",
          "name": "stdout",
          "text": [
            "Requirement already satisfied: category_encoders in /usr/local/lib/python3.10/dist-packages (2.6.4)\n",
            "Requirement already satisfied: numpy>=1.14.0 in /usr/local/lib/python3.10/dist-packages (from category_encoders) (1.26.4)\n",
            "Requirement already satisfied: scikit-learn>=0.20.0 in /usr/local/lib/python3.10/dist-packages (from category_encoders) (1.5.2)\n",
            "Requirement already satisfied: scipy>=1.0.0 in /usr/local/lib/python3.10/dist-packages (from category_encoders) (1.13.1)\n",
            "Requirement already satisfied: statsmodels>=0.9.0 in /usr/local/lib/python3.10/dist-packages (from category_encoders) (0.14.3)\n",
            "Requirement already satisfied: pandas>=1.0.5 in /usr/local/lib/python3.10/dist-packages (from category_encoders) (2.1.4)\n",
            "Requirement already satisfied: patsy>=0.5.1 in /usr/local/lib/python3.10/dist-packages (from category_encoders) (0.5.6)\n",
            "Requirement already satisfied: python-dateutil>=2.8.2 in /usr/local/lib/python3.10/dist-packages (from pandas>=1.0.5->category_encoders) (2.8.2)\n",
            "Requirement already satisfied: pytz>=2020.1 in /usr/local/lib/python3.10/dist-packages (from pandas>=1.0.5->category_encoders) (2024.2)\n",
            "Requirement already satisfied: tzdata>=2022.1 in /usr/local/lib/python3.10/dist-packages (from pandas>=1.0.5->category_encoders) (2024.2)\n",
            "Requirement already satisfied: six in /usr/local/lib/python3.10/dist-packages (from patsy>=0.5.1->category_encoders) (1.16.0)\n",
            "Requirement already satisfied: joblib>=1.2.0 in /usr/local/lib/python3.10/dist-packages (from scikit-learn>=0.20.0->category_encoders) (1.4.2)\n",
            "Requirement already satisfied: threadpoolctl>=3.1.0 in /usr/local/lib/python3.10/dist-packages (from scikit-learn>=0.20.0->category_encoders) (3.5.0)\n",
            "Requirement already satisfied: packaging>=21.3 in /usr/local/lib/python3.10/dist-packages (from statsmodels>=0.9.0->category_encoders) (24.1)\n"
          ]
        }
      ]
    },
    {
      "cell_type": "code",
      "source": [
        "import category_encoders as ce"
      ],
      "metadata": {
        "id": "ecLEIvZKO2IQ"
      },
      "execution_count": null,
      "outputs": []
    },
    {
      "cell_type": "code",
      "source": [
        "\n",
        "# Assuming 'df' is your bigframes.DataFrame\n",
        "# Convert BigQuery DataFrame to Pandas DataFrame\n",
        "df_pandas = df.to_pandas()\n",
        "\n",
        "# Specify your categorical variables\n",
        "categorical_var = [\n",
        "    'stock_no', 'neo_listing_confidence', 'neo_make', 'neo_model',\n",
        "    'neo_trim', 'neo_trim_confidence', 'neo_version',\n",
        "    'neo_version_confidence', 'neo_vehicle_type', 'neo_body_type',\n",
        "    'neo_drivetrain', 'neo_powertrain_type', 'neo_fuel_type',\n",
        "    'neo_engine', 'neo_engine_block', 'neo_transmission',\n",
        "    'neo_package_description', 'interior_color', 'base_interior_color',\n",
        "    'neo_mfg_interior_color', 'exterior_color', 'base_exterior_color',\n",
        "    'neo_mfg_exterior_color', 'model_code', 'source', 'seller_name',\n",
        "    'street', 'city', 'state', 'country', 'neo_country', 'seller_phone',\n",
        "    'seller_type', 'listing_type', 'inventory_type', 'dealer_type',\n",
        "    'car_seller_name', 'car_address', 'car_street', 'car_city',\n",
        "    'car_state', 'seller_comments', 'features', 'neo_options_packages',\n",
        "    'neo_installed_options_details', 'neo_high_value_features',\n",
        "    'photo_links', 'photo_url', 'currency_indicator', 'miles_indicator',\n",
        "    'l_down_pay', 'lease_term', 'mc_category',\n",
        "    'mc_dealership_group_name', 'mc_sub_dealership_group_name'\n",
        "]\n",
        "\n",
        "# Create a target encoder instance\n",
        "target_encoder = ce.TargetEncoder(cols=categorical_var)\n",
        "\n",
        "# Initialize an empty DataFrame for encoded results\n",
        "encoded_df = pd.DataFrame()\n",
        "\n",
        "# Define the chunk size\n",
        "chunk_size = 5000  # Adjust the chunk size based on memory capacity\n",
        "\n",
        "# Process the DataFrame in chunks\n",
        "for start in range(0, df_pandas.shape[0], chunk_size):\n",
        "    end = start + chunk_size\n",
        "    chunk = df_pandas.iloc[start:end]\n",
        "\n",
        "    # Fit and transform the chunk using the target encoder\n",
        "    encoded_chunk = target_encoder.fit_transform(chunk[categorical_var], chunk['price'])\n",
        "\n",
        "    # Append the encoded chunk to the results DataFrame\n",
        "    encoded_df = pd.concat([encoded_df, encoded_chunk], ignore_index=True)\n",
        "\n",
        "# Replace the original categorical columns in df_pandas with the encoded DataFrame\n",
        "df_pandas[categorical_var] = encoded_df\n",
        "\n",
        "# Now df_pandas contains the target encoded categorical variables\n"
      ],
      "metadata": {
        "colab": {
          "base_uri": "https://localhost:8080/",
          "height": 595
        },
        "id": "z3_4HxLNQvZI",
        "executionInfo": {
          "status": "error",
          "timestamp": 1728669968498,
          "user_tz": 240,
          "elapsed": 11925,
          "user": {
            "displayName": "",
            "userId": ""
          }
        },
        "outputId": "10292188-b89c-494a-9a0e-354d572e6181"
      },
      "execution_count": null,
      "outputs": [
        {
          "output_type": "display_data",
          "data": {
            "text/plain": [
              "<IPython.core.display.HTML object>"
            ],
            "text/html": [
              "Query job fd0f9ce0-d43c-4215-a671-b73df7e61312 is RUNNING. <a target=\"_blank\" href=\"https://console.cloud.google.com/bigquery?project=marketcheck-demo&j=bq:US:fd0f9ce0-d43c-4215-a671-b73df7e61312&page=queryresults\">Open Job</a>"
            ]
          },
          "metadata": {}
        },
        {
          "output_type": "error",
          "ename": "Forbidden",
          "evalue": "403 GET https://bigquery.googleapis.com/bigquery/v2/projects/marketcheck-demo/queries/fd0f9ce0-d43c-4215-a671-b73df7e61312?maxResults=0&location=US&prettyPrint=false: Response too large to return. Consider specifying a destination table in your job configuration. For more details, see https://cloud.google.com/bigquery/troubleshooting-errors\n\nLocation: US\nJob ID: fd0f9ce0-d43c-4215-a671-b73df7e61312\n Share your usecase with the BigQuery DataFrames team at the https://bit.ly/bigframes-feedback survey.You are currently running BigFrames version 1.19.0",
          "traceback": [
            "\u001b[0;31m---------------------------------------------------------------------------\u001b[0m",
            "\u001b[0;31mForbidden\u001b[0m                                 Traceback (most recent call last)",
            "\u001b[0;32m<ipython-input-126-15e1047234ed>\u001b[0m in \u001b[0;36m<cell line: 3>\u001b[0;34m()\u001b[0m\n\u001b[1;32m      1\u001b[0m \u001b[0;31m# Assuming 'df' is your bigframes.DataFrame\u001b[0m\u001b[0;34m\u001b[0m\u001b[0;34m\u001b[0m\u001b[0m\n\u001b[1;32m      2\u001b[0m \u001b[0;31m# Convert BigQuery DataFrame to Pandas DataFrame\u001b[0m\u001b[0;34m\u001b[0m\u001b[0;34m\u001b[0m\u001b[0m\n\u001b[0;32m----> 3\u001b[0;31m \u001b[0mdf_pandas\u001b[0m \u001b[0;34m=\u001b[0m \u001b[0mdf\u001b[0m\u001b[0;34m.\u001b[0m\u001b[0mto_pandas\u001b[0m\u001b[0;34m(\u001b[0m\u001b[0;34m)\u001b[0m\u001b[0;34m\u001b[0m\u001b[0;34m\u001b[0m\u001b[0m\n\u001b[0m\u001b[1;32m      4\u001b[0m \u001b[0;34m\u001b[0m\u001b[0m\n\u001b[1;32m      5\u001b[0m \u001b[0;31m# Specify your categorical variables\u001b[0m\u001b[0;34m\u001b[0m\u001b[0;34m\u001b[0m\u001b[0m\n",
            "\u001b[0;32m/usr/local/lib/python3.10/dist-packages/bigframes/core/log_adapter.py\u001b[0m in \u001b[0;36mwrapper\u001b[0;34m(*args, **kwargs)\u001b[0m\n\u001b[1;32m     54\u001b[0m \u001b[0;34m\u001b[0m\u001b[0m\n\u001b[1;32m     55\u001b[0m         \u001b[0;32mtry\u001b[0m\u001b[0;34m:\u001b[0m\u001b[0;34m\u001b[0m\u001b[0;34m\u001b[0m\u001b[0m\n\u001b[0;32m---> 56\u001b[0;31m             \u001b[0;32mreturn\u001b[0m \u001b[0mmethod\u001b[0m\u001b[0;34m(\u001b[0m\u001b[0;34m*\u001b[0m\u001b[0margs\u001b[0m\u001b[0;34m,\u001b[0m \u001b[0;34m**\u001b[0m\u001b[0mkwargs\u001b[0m\u001b[0;34m)\u001b[0m\u001b[0;34m\u001b[0m\u001b[0;34m\u001b[0m\u001b[0m\n\u001b[0m\u001b[1;32m     57\u001b[0m         \u001b[0;32mfinally\u001b[0m\u001b[0;34m:\u001b[0m\u001b[0;34m\u001b[0m\u001b[0;34m\u001b[0m\u001b[0m\n\u001b[1;32m     58\u001b[0m             \u001b[0m_call_stack\u001b[0m\u001b[0;34m.\u001b[0m\u001b[0mpop\u001b[0m\u001b[0;34m(\u001b[0m\u001b[0;34m)\u001b[0m\u001b[0;34m\u001b[0m\u001b[0;34m\u001b[0m\u001b[0m\n",
            "\u001b[0;32m/usr/local/lib/python3.10/dist-packages/bigframes/dataframe.py\u001b[0m in \u001b[0;36mto_pandas\u001b[0;34m(self, max_download_size, sampling_method, random_state, ordered)\u001b[0m\n\u001b[1;32m   1252\u001b[0m         \"\"\"\n\u001b[1;32m   1253\u001b[0m         \u001b[0;31m# TODO(orrbradford): Optimize this in future. Potentially some cases where we can return the stored query job\u001b[0m\u001b[0;34m\u001b[0m\u001b[0;34m\u001b[0m\u001b[0m\n\u001b[0;32m-> 1254\u001b[0;31m         df, query_job = self._block.to_pandas(\n\u001b[0m\u001b[1;32m   1255\u001b[0m             \u001b[0mmax_download_size\u001b[0m\u001b[0;34m=\u001b[0m\u001b[0mmax_download_size\u001b[0m\u001b[0;34m,\u001b[0m\u001b[0;34m\u001b[0m\u001b[0;34m\u001b[0m\u001b[0m\n\u001b[1;32m   1256\u001b[0m             \u001b[0msampling_method\u001b[0m\u001b[0;34m=\u001b[0m\u001b[0msampling_method\u001b[0m\u001b[0;34m,\u001b[0m\u001b[0;34m\u001b[0m\u001b[0;34m\u001b[0m\u001b[0m\n",
            "\u001b[0;32m/usr/local/lib/python3.10/dist-packages/bigframes/core/blocks.py\u001b[0m in \u001b[0;36mto_pandas\u001b[0;34m(self, max_download_size, sampling_method, random_state, ordered)\u001b[0m\n\u001b[1;32m    549\u001b[0m             \u001b[0msampling\u001b[0m \u001b[0;34m=\u001b[0m \u001b[0msampling\u001b[0m\u001b[0;34m.\u001b[0m\u001b[0mwith_disabled\u001b[0m\u001b[0;34m(\u001b[0m\u001b[0;34m)\u001b[0m\u001b[0;34m\u001b[0m\u001b[0;34m\u001b[0m\u001b[0m\n\u001b[1;32m    550\u001b[0m \u001b[0;34m\u001b[0m\u001b[0m\n\u001b[0;32m--> 551\u001b[0;31m         df, query_job = self._materialize_local(\n\u001b[0m\u001b[1;32m    552\u001b[0m             materialize_options=MaterializationOptions(\n\u001b[1;32m    553\u001b[0m                 \u001b[0mdownsampling\u001b[0m\u001b[0;34m=\u001b[0m\u001b[0msampling\u001b[0m\u001b[0;34m,\u001b[0m \u001b[0mordered\u001b[0m\u001b[0;34m=\u001b[0m\u001b[0mordered\u001b[0m\u001b[0;34m\u001b[0m\u001b[0;34m\u001b[0m\u001b[0m\n",
            "\u001b[0;32m/usr/local/lib/python3.10/dist-packages/bigframes/core/blocks.py\u001b[0m in \u001b[0;36m_materialize_local\u001b[0;34m(self, materialize_options)\u001b[0m\n\u001b[1;32m    609\u001b[0m         \u001b[0;34m\"\"\"Run query and download results as a pandas DataFrame. Return the total number of results as well.\"\"\"\u001b[0m\u001b[0;34m\u001b[0m\u001b[0;34m\u001b[0m\u001b[0m\n\u001b[1;32m    610\u001b[0m         \u001b[0;31m# TODO(swast): Allow for dry run and timeout.\u001b[0m\u001b[0;34m\u001b[0m\u001b[0;34m\u001b[0m\u001b[0m\n\u001b[0;32m--> 611\u001b[0;31m         _, query_job = self.session._execute(\n\u001b[0m\u001b[1;32m    612\u001b[0m             \u001b[0mself\u001b[0m\u001b[0;34m.\u001b[0m\u001b[0mexpr\u001b[0m\u001b[0;34m,\u001b[0m \u001b[0mordered\u001b[0m\u001b[0;34m=\u001b[0m\u001b[0mmaterialize_options\u001b[0m\u001b[0;34m.\u001b[0m\u001b[0mordered\u001b[0m\u001b[0;34m\u001b[0m\u001b[0;34m\u001b[0m\u001b[0m\n\u001b[1;32m    613\u001b[0m         )\n",
            "\u001b[0;32m/usr/local/lib/python3.10/dist-packages/bigframes/session/__init__.py\u001b[0m in \u001b[0;36m_execute\u001b[0;34m(self, array_value, ordered, col_id_overrides, use_explicit_destination)\u001b[0m\n\u001b[1;32m   1381\u001b[0m         \u001b[0muse_explicit_destination\u001b[0m\u001b[0;34m:\u001b[0m \u001b[0mbool\u001b[0m \u001b[0;34m=\u001b[0m \u001b[0;32mFalse\u001b[0m\u001b[0;34m,\u001b[0m\u001b[0;34m\u001b[0m\u001b[0;34m\u001b[0m\u001b[0m\n\u001b[1;32m   1382\u001b[0m     ) -> tuple[bigquery.table.RowIterator, bigquery.QueryJob]:\n\u001b[0;32m-> 1383\u001b[0;31m         return self._executor.execute(\n\u001b[0m\u001b[1;32m   1384\u001b[0m             \u001b[0marray_value\u001b[0m\u001b[0;34m,\u001b[0m\u001b[0;34m\u001b[0m\u001b[0;34m\u001b[0m\u001b[0m\n\u001b[1;32m   1385\u001b[0m             \u001b[0mordered\u001b[0m\u001b[0;34m=\u001b[0m\u001b[0mordered\u001b[0m\u001b[0;34m,\u001b[0m\u001b[0;34m\u001b[0m\u001b[0;34m\u001b[0m\u001b[0m\n",
            "\u001b[0;32m/usr/local/lib/python3.10/dist-packages/bigframes/session/executor.py\u001b[0m in \u001b[0;36mexecute\u001b[0;34m(self, array_value, ordered, col_id_overrides, use_explicit_destination)\u001b[0m\n\u001b[1;32m    126\u001b[0m         \u001b[0;31m# TODO(swast): plumb through the api_name of the user-facing api that\u001b[0m\u001b[0;34m\u001b[0m\u001b[0;34m\u001b[0m\u001b[0m\n\u001b[1;32m    127\u001b[0m         \u001b[0;31m# caused this query.\u001b[0m\u001b[0;34m\u001b[0m\u001b[0;34m\u001b[0m\u001b[0m\n\u001b[0;32m--> 128\u001b[0;31m         return self._run_execute_query(\n\u001b[0m\u001b[1;32m    129\u001b[0m             \u001b[0msql\u001b[0m\u001b[0;34m=\u001b[0m\u001b[0msql\u001b[0m\u001b[0;34m,\u001b[0m\u001b[0;34m\u001b[0m\u001b[0;34m\u001b[0m\u001b[0m\n\u001b[1;32m    130\u001b[0m             \u001b[0mjob_config\u001b[0m\u001b[0;34m=\u001b[0m\u001b[0mjob_config\u001b[0m\u001b[0;34m,\u001b[0m\u001b[0;34m\u001b[0m\u001b[0;34m\u001b[0m\u001b[0m\n",
            "\u001b[0;32m/usr/local/lib/python3.10/dist-packages/bigframes/session/executor.py\u001b[0m in \u001b[0;36m_run_execute_query\u001b[0;34m(self, sql, job_config, api_name)\u001b[0m\n\u001b[1;32m    294\u001b[0m         \u001b[0;32mtry\u001b[0m\u001b[0;34m:\u001b[0m\u001b[0;34m\u001b[0m\u001b[0;34m\u001b[0m\u001b[0m\n\u001b[1;32m    295\u001b[0m             \u001b[0mquery_job\u001b[0m \u001b[0;34m=\u001b[0m \u001b[0mself\u001b[0m\u001b[0;34m.\u001b[0m\u001b[0mbqclient\u001b[0m\u001b[0;34m.\u001b[0m\u001b[0mquery\u001b[0m\u001b[0;34m(\u001b[0m\u001b[0msql\u001b[0m\u001b[0;34m,\u001b[0m \u001b[0mjob_config\u001b[0m\u001b[0;34m=\u001b[0m\u001b[0mjob_config\u001b[0m\u001b[0;34m)\u001b[0m\u001b[0;34m\u001b[0m\u001b[0;34m\u001b[0m\u001b[0m\n\u001b[0;32m--> 296\u001b[0;31m             \u001b[0;32mreturn\u001b[0m \u001b[0mself\u001b[0m\u001b[0;34m.\u001b[0m\u001b[0m_wait_on_job\u001b[0m\u001b[0;34m(\u001b[0m\u001b[0mquery_job\u001b[0m\u001b[0;34m)\u001b[0m\u001b[0;34m,\u001b[0m \u001b[0mquery_job\u001b[0m\u001b[0;34m\u001b[0m\u001b[0;34m\u001b[0m\u001b[0m\n\u001b[0m\u001b[1;32m    297\u001b[0m \u001b[0;34m\u001b[0m\u001b[0m\n\u001b[1;32m    298\u001b[0m         \u001b[0;32mexcept\u001b[0m \u001b[0mgoogle\u001b[0m\u001b[0;34m.\u001b[0m\u001b[0mapi_core\u001b[0m\u001b[0;34m.\u001b[0m\u001b[0mexceptions\u001b[0m\u001b[0;34m.\u001b[0m\u001b[0mBadRequest\u001b[0m \u001b[0;32mas\u001b[0m \u001b[0me\u001b[0m\u001b[0;34m:\u001b[0m\u001b[0;34m\u001b[0m\u001b[0;34m\u001b[0m\u001b[0m\n",
            "\u001b[0;32m/usr/local/lib/python3.10/dist-packages/bigframes/session/executor.py\u001b[0m in \u001b[0;36m_wait_on_job\u001b[0;34m(self, query_job)\u001b[0m\n\u001b[1;32m    307\u001b[0m         \u001b[0mopts\u001b[0m \u001b[0;34m=\u001b[0m \u001b[0mbigframes\u001b[0m\u001b[0;34m.\u001b[0m\u001b[0moptions\u001b[0m\u001b[0;34m.\u001b[0m\u001b[0mdisplay\u001b[0m\u001b[0;34m\u001b[0m\u001b[0;34m\u001b[0m\u001b[0m\n\u001b[1;32m    308\u001b[0m         \u001b[0;32mif\u001b[0m \u001b[0mopts\u001b[0m\u001b[0;34m.\u001b[0m\u001b[0mprogress_bar\u001b[0m \u001b[0;32mis\u001b[0m \u001b[0;32mnot\u001b[0m \u001b[0;32mNone\u001b[0m \u001b[0;32mand\u001b[0m \u001b[0;32mnot\u001b[0m \u001b[0mquery_job\u001b[0m\u001b[0;34m.\u001b[0m\u001b[0mconfiguration\u001b[0m\u001b[0;34m.\u001b[0m\u001b[0mdry_run\u001b[0m\u001b[0;34m:\u001b[0m\u001b[0;34m\u001b[0m\u001b[0;34m\u001b[0m\u001b[0m\n\u001b[0;32m--> 309\u001b[0;31m             results_iterator = formatting_helpers.wait_for_query_job(\n\u001b[0m\u001b[1;32m    310\u001b[0m                 \u001b[0mquery_job\u001b[0m\u001b[0;34m,\u001b[0m \u001b[0mprogress_bar\u001b[0m\u001b[0;34m=\u001b[0m\u001b[0mopts\u001b[0m\u001b[0;34m.\u001b[0m\u001b[0mprogress_bar\u001b[0m\u001b[0;34m\u001b[0m\u001b[0;34m\u001b[0m\u001b[0m\n\u001b[1;32m    311\u001b[0m             )\n",
            "\u001b[0;32m/usr/local/lib/python3.10/dist-packages/bigframes/formatting_helpers.py\u001b[0m in \u001b[0;36mwait_for_query_job\u001b[0;34m(query_job, max_results, progress_bar)\u001b[0m\n\u001b[1;32m    134\u001b[0m             \u001b[0mloading_bar\u001b[0m \u001b[0;34m=\u001b[0m \u001b[0mdisplay\u001b[0m\u001b[0;34m.\u001b[0m\u001b[0mHTML\u001b[0m\u001b[0;34m(\u001b[0m\u001b[0mget_query_job_loading_html\u001b[0m\u001b[0;34m(\u001b[0m\u001b[0mquery_job\u001b[0m\u001b[0;34m)\u001b[0m\u001b[0;34m)\u001b[0m\u001b[0;34m\u001b[0m\u001b[0;34m\u001b[0m\u001b[0m\n\u001b[1;32m    135\u001b[0m             \u001b[0mdisplay\u001b[0m\u001b[0;34m.\u001b[0m\u001b[0mdisplay\u001b[0m\u001b[0;34m(\u001b[0m\u001b[0mloading_bar\u001b[0m\u001b[0;34m,\u001b[0m \u001b[0mdisplay_id\u001b[0m\u001b[0;34m=\u001b[0m\u001b[0mdisplay_id\u001b[0m\u001b[0;34m)\u001b[0m\u001b[0;34m\u001b[0m\u001b[0;34m\u001b[0m\u001b[0m\n\u001b[0;32m--> 136\u001b[0;31m             \u001b[0mquery_result\u001b[0m \u001b[0;34m=\u001b[0m \u001b[0mquery_job\u001b[0m\u001b[0;34m.\u001b[0m\u001b[0mresult\u001b[0m\u001b[0;34m(\u001b[0m\u001b[0mmax_results\u001b[0m\u001b[0;34m=\u001b[0m\u001b[0mmax_results\u001b[0m\u001b[0;34m)\u001b[0m\u001b[0;34m\u001b[0m\u001b[0;34m\u001b[0m\u001b[0m\n\u001b[0m\u001b[1;32m    137\u001b[0m             \u001b[0mquery_job\u001b[0m\u001b[0;34m.\u001b[0m\u001b[0mreload\u001b[0m\u001b[0;34m(\u001b[0m\u001b[0;34m)\u001b[0m\u001b[0;34m\u001b[0m\u001b[0;34m\u001b[0m\u001b[0m\n\u001b[1;32m    138\u001b[0m             display.update_display(\n",
            "\u001b[0;32m/usr/local/lib/python3.10/dist-packages/google/cloud/bigquery/job/query.py\u001b[0m in \u001b[0;36mresult\u001b[0;34m(self, page_size, max_results, retry, timeout, start_index, job_retry)\u001b[0m\n\u001b[1;32m   1674\u001b[0m                 \u001b[0;31m# Since is_job_done() calls jobs.getQueryResults, which is a\u001b[0m\u001b[0;34m\u001b[0m\u001b[0;34m\u001b[0m\u001b[0m\n\u001b[1;32m   1675\u001b[0m                 \u001b[0;31m# long-running API, don't delay the next request at all.\u001b[0m\u001b[0;34m\u001b[0m\u001b[0;34m\u001b[0m\u001b[0m\n\u001b[0;32m-> 1676\u001b[0;31m                 \u001b[0;32mwhile\u001b[0m \u001b[0;32mnot\u001b[0m \u001b[0mis_job_done\u001b[0m\u001b[0;34m(\u001b[0m\u001b[0;34m)\u001b[0m\u001b[0;34m:\u001b[0m\u001b[0;34m\u001b[0m\u001b[0;34m\u001b[0m\u001b[0m\n\u001b[0m\u001b[1;32m   1677\u001b[0m                     \u001b[0;32mpass\u001b[0m\u001b[0;34m\u001b[0m\u001b[0;34m\u001b[0m\u001b[0m\n\u001b[1;32m   1678\u001b[0m             \u001b[0;32melse\u001b[0m\u001b[0;34m:\u001b[0m\u001b[0;34m\u001b[0m\u001b[0;34m\u001b[0m\u001b[0m\n",
            "\u001b[0;32m/usr/local/lib/python3.10/dist-packages/google/api_core/retry/retry_unary.py\u001b[0m in \u001b[0;36mretry_wrapped_func\u001b[0;34m(*args, **kwargs)\u001b[0m\n\u001b[1;32m    291\u001b[0m                 \u001b[0mself\u001b[0m\u001b[0;34m.\u001b[0m\u001b[0m_initial\u001b[0m\u001b[0;34m,\u001b[0m \u001b[0mself\u001b[0m\u001b[0;34m.\u001b[0m\u001b[0m_maximum\u001b[0m\u001b[0;34m,\u001b[0m \u001b[0mmultiplier\u001b[0m\u001b[0;34m=\u001b[0m\u001b[0mself\u001b[0m\u001b[0;34m.\u001b[0m\u001b[0m_multiplier\u001b[0m\u001b[0;34m\u001b[0m\u001b[0;34m\u001b[0m\u001b[0m\n\u001b[1;32m    292\u001b[0m             )\n\u001b[0;32m--> 293\u001b[0;31m             return retry_target(\n\u001b[0m\u001b[1;32m    294\u001b[0m                 \u001b[0mtarget\u001b[0m\u001b[0;34m,\u001b[0m\u001b[0;34m\u001b[0m\u001b[0;34m\u001b[0m\u001b[0m\n\u001b[1;32m    295\u001b[0m                 \u001b[0mself\u001b[0m\u001b[0;34m.\u001b[0m\u001b[0m_predicate\u001b[0m\u001b[0;34m,\u001b[0m\u001b[0;34m\u001b[0m\u001b[0;34m\u001b[0m\u001b[0m\n",
            "\u001b[0;32m/usr/local/lib/python3.10/dist-packages/google/api_core/retry/retry_unary.py\u001b[0m in \u001b[0;36mretry_target\u001b[0;34m(target, predicate, sleep_generator, timeout, on_error, exception_factory, **kwargs)\u001b[0m\n\u001b[1;32m    151\u001b[0m         \u001b[0;32mexcept\u001b[0m \u001b[0mException\u001b[0m \u001b[0;32mas\u001b[0m \u001b[0mexc\u001b[0m\u001b[0;34m:\u001b[0m\u001b[0;34m\u001b[0m\u001b[0;34m\u001b[0m\u001b[0m\n\u001b[1;32m    152\u001b[0m             \u001b[0;31m# defer to shared logic for handling errors\u001b[0m\u001b[0;34m\u001b[0m\u001b[0;34m\u001b[0m\u001b[0m\n\u001b[0;32m--> 153\u001b[0;31m             _retry_error_helper(\n\u001b[0m\u001b[1;32m    154\u001b[0m                 \u001b[0mexc\u001b[0m\u001b[0;34m,\u001b[0m\u001b[0;34m\u001b[0m\u001b[0;34m\u001b[0m\u001b[0m\n\u001b[1;32m    155\u001b[0m                 \u001b[0mdeadline\u001b[0m\u001b[0;34m,\u001b[0m\u001b[0;34m\u001b[0m\u001b[0;34m\u001b[0m\u001b[0m\n",
            "\u001b[0;32m/usr/local/lib/python3.10/dist-packages/google/api_core/retry/retry_base.py\u001b[0m in \u001b[0;36m_retry_error_helper\u001b[0;34m(exc, deadline, next_sleep, error_list, predicate_fn, on_error_fn, exc_factory_fn, original_timeout)\u001b[0m\n\u001b[1;32m    210\u001b[0m             \u001b[0moriginal_timeout\u001b[0m\u001b[0;34m,\u001b[0m\u001b[0;34m\u001b[0m\u001b[0;34m\u001b[0m\u001b[0m\n\u001b[1;32m    211\u001b[0m         )\n\u001b[0;32m--> 212\u001b[0;31m         \u001b[0;32mraise\u001b[0m \u001b[0mfinal_exc\u001b[0m \u001b[0;32mfrom\u001b[0m \u001b[0msource_exc\u001b[0m\u001b[0;34m\u001b[0m\u001b[0;34m\u001b[0m\u001b[0m\n\u001b[0m\u001b[1;32m    213\u001b[0m     \u001b[0;32mif\u001b[0m \u001b[0mon_error_fn\u001b[0m \u001b[0;32mis\u001b[0m \u001b[0;32mnot\u001b[0m \u001b[0;32mNone\u001b[0m\u001b[0;34m:\u001b[0m\u001b[0;34m\u001b[0m\u001b[0;34m\u001b[0m\u001b[0m\n\u001b[1;32m    214\u001b[0m         \u001b[0mon_error_fn\u001b[0m\u001b[0;34m(\u001b[0m\u001b[0mexc\u001b[0m\u001b[0;34m)\u001b[0m\u001b[0;34m\u001b[0m\u001b[0;34m\u001b[0m\u001b[0m\n",
            "\u001b[0;32m/usr/local/lib/python3.10/dist-packages/google/api_core/retry/retry_unary.py\u001b[0m in \u001b[0;36mretry_target\u001b[0;34m(target, predicate, sleep_generator, timeout, on_error, exception_factory, **kwargs)\u001b[0m\n\u001b[1;32m    142\u001b[0m     \u001b[0;32mfor\u001b[0m \u001b[0msleep\u001b[0m \u001b[0;32min\u001b[0m \u001b[0msleep_generator\u001b[0m\u001b[0;34m:\u001b[0m\u001b[0;34m\u001b[0m\u001b[0;34m\u001b[0m\u001b[0m\n\u001b[1;32m    143\u001b[0m         \u001b[0;32mtry\u001b[0m\u001b[0;34m:\u001b[0m\u001b[0;34m\u001b[0m\u001b[0;34m\u001b[0m\u001b[0m\n\u001b[0;32m--> 144\u001b[0;31m             \u001b[0mresult\u001b[0m \u001b[0;34m=\u001b[0m \u001b[0mtarget\u001b[0m\u001b[0;34m(\u001b[0m\u001b[0;34m)\u001b[0m\u001b[0;34m\u001b[0m\u001b[0;34m\u001b[0m\u001b[0m\n\u001b[0m\u001b[1;32m    145\u001b[0m             \u001b[0;32mif\u001b[0m \u001b[0minspect\u001b[0m\u001b[0;34m.\u001b[0m\u001b[0misawaitable\u001b[0m\u001b[0;34m(\u001b[0m\u001b[0mresult\u001b[0m\u001b[0;34m)\u001b[0m\u001b[0;34m:\u001b[0m\u001b[0;34m\u001b[0m\u001b[0;34m\u001b[0m\u001b[0m\n\u001b[1;32m    146\u001b[0m                 \u001b[0mwarnings\u001b[0m\u001b[0;34m.\u001b[0m\u001b[0mwarn\u001b[0m\u001b[0;34m(\u001b[0m\u001b[0m_ASYNC_RETRY_WARNING\u001b[0m\u001b[0;34m)\u001b[0m\u001b[0;34m\u001b[0m\u001b[0;34m\u001b[0m\u001b[0m\n",
            "\u001b[0;32m/usr/local/lib/python3.10/dist-packages/google/cloud/bigquery/job/query.py\u001b[0m in \u001b[0;36mis_job_done\u001b[0;34m()\u001b[0m\n\u001b[1;32m   1643\u001b[0m                 \u001b[0;31m# jobs.getQueryResults hangs as long as it can to ensure we\u001b[0m\u001b[0;34m\u001b[0m\u001b[0;34m\u001b[0m\u001b[0m\n\u001b[1;32m   1644\u001b[0m                 \u001b[0;31m# know when the query has finished as soon as possible.\u001b[0m\u001b[0;34m\u001b[0m\u001b[0;34m\u001b[0m\u001b[0m\n\u001b[0;32m-> 1645\u001b[0;31m                 \u001b[0mself\u001b[0m\u001b[0;34m.\u001b[0m\u001b[0m_reload_query_results\u001b[0m\u001b[0;34m(\u001b[0m\u001b[0mretry\u001b[0m\u001b[0;34m=\u001b[0m\u001b[0mretry\u001b[0m\u001b[0;34m,\u001b[0m \u001b[0;34m**\u001b[0m\u001b[0mreload_query_results_kwargs\u001b[0m\u001b[0;34m)\u001b[0m\u001b[0;34m\u001b[0m\u001b[0;34m\u001b[0m\u001b[0m\n\u001b[0m\u001b[1;32m   1646\u001b[0m \u001b[0;34m\u001b[0m\u001b[0m\n\u001b[1;32m   1647\u001b[0m                 \u001b[0;31m# Even if the query is finished now according to\u001b[0m\u001b[0;34m\u001b[0m\u001b[0;34m\u001b[0m\u001b[0m\n",
            "\u001b[0;32m/usr/local/lib/python3.10/dist-packages/google/cloud/bigquery/job/query.py\u001b[0m in \u001b[0;36m_reload_query_results\u001b[0;34m(self, retry, timeout, page_size)\u001b[0m\n\u001b[1;32m   1441\u001b[0m                 \u001b[0mtransport_timeout\u001b[0m \u001b[0;34m=\u001b[0m \u001b[0;32mNone\u001b[0m\u001b[0;34m\u001b[0m\u001b[0;34m\u001b[0m\u001b[0m\n\u001b[1;32m   1442\u001b[0m \u001b[0;34m\u001b[0m\u001b[0m\n\u001b[0;32m-> 1443\u001b[0;31m         self._query_results = self._client._get_query_results(\n\u001b[0m\u001b[1;32m   1444\u001b[0m             \u001b[0mself\u001b[0m\u001b[0;34m.\u001b[0m\u001b[0mjob_id\u001b[0m\u001b[0;34m,\u001b[0m\u001b[0;34m\u001b[0m\u001b[0;34m\u001b[0m\u001b[0m\n\u001b[1;32m   1445\u001b[0m             \u001b[0mretry\u001b[0m\u001b[0;34m,\u001b[0m\u001b[0;34m\u001b[0m\u001b[0;34m\u001b[0m\u001b[0m\n",
            "\u001b[0;32m/usr/local/lib/python3.10/dist-packages/google/cloud/bigquery/client.py\u001b[0m in \u001b[0;36m_get_query_results\u001b[0;34m(self, job_id, retry, project, timeout_ms, location, timeout, page_size)\u001b[0m\n\u001b[1;32m   2022\u001b[0m         \u001b[0;31m# QueryJob.result()). So we don't need to poll here.\u001b[0m\u001b[0;34m\u001b[0m\u001b[0;34m\u001b[0m\u001b[0m\n\u001b[1;32m   2023\u001b[0m         \u001b[0mspan_attributes\u001b[0m \u001b[0;34m=\u001b[0m \u001b[0;34m{\u001b[0m\u001b[0;34m\"path\"\u001b[0m\u001b[0;34m:\u001b[0m \u001b[0mpath\u001b[0m\u001b[0;34m}\u001b[0m\u001b[0;34m\u001b[0m\u001b[0;34m\u001b[0m\u001b[0m\n\u001b[0;32m-> 2024\u001b[0;31m         resource = self._call_api(\n\u001b[0m\u001b[1;32m   2025\u001b[0m             \u001b[0mretry\u001b[0m\u001b[0;34m,\u001b[0m\u001b[0;34m\u001b[0m\u001b[0;34m\u001b[0m\u001b[0m\n\u001b[1;32m   2026\u001b[0m             \u001b[0mspan_name\u001b[0m\u001b[0;34m=\u001b[0m\u001b[0;34m\"BigQuery.getQueryResults\"\u001b[0m\u001b[0;34m,\u001b[0m\u001b[0;34m\u001b[0m\u001b[0;34m\u001b[0m\u001b[0m\n",
            "\u001b[0;32m/usr/local/lib/python3.10/dist-packages/google/cloud/bigquery/client.py\u001b[0m in \u001b[0;36m_call_api\u001b[0;34m(self, retry, span_name, span_attributes, job_ref, headers, **kwargs)\u001b[0m\n\u001b[1;32m    831\u001b[0m                 \u001b[0mname\u001b[0m\u001b[0;34m=\u001b[0m\u001b[0mspan_name\u001b[0m\u001b[0;34m,\u001b[0m \u001b[0mattributes\u001b[0m\u001b[0;34m=\u001b[0m\u001b[0mspan_attributes\u001b[0m\u001b[0;34m,\u001b[0m \u001b[0mclient\u001b[0m\u001b[0;34m=\u001b[0m\u001b[0mself\u001b[0m\u001b[0;34m,\u001b[0m \u001b[0mjob_ref\u001b[0m\u001b[0;34m=\u001b[0m\u001b[0mjob_ref\u001b[0m\u001b[0;34m\u001b[0m\u001b[0;34m\u001b[0m\u001b[0m\n\u001b[1;32m    832\u001b[0m             ):\n\u001b[0;32m--> 833\u001b[0;31m                 \u001b[0;32mreturn\u001b[0m \u001b[0mcall\u001b[0m\u001b[0;34m(\u001b[0m\u001b[0;34m)\u001b[0m\u001b[0;34m\u001b[0m\u001b[0;34m\u001b[0m\u001b[0m\n\u001b[0m\u001b[1;32m    834\u001b[0m \u001b[0;34m\u001b[0m\u001b[0m\n\u001b[1;32m    835\u001b[0m         \u001b[0;32mreturn\u001b[0m \u001b[0mcall\u001b[0m\u001b[0;34m(\u001b[0m\u001b[0;34m)\u001b[0m\u001b[0;34m\u001b[0m\u001b[0;34m\u001b[0m\u001b[0m\n",
            "\u001b[0;32m/usr/local/lib/python3.10/dist-packages/google/api_core/retry/retry_unary.py\u001b[0m in \u001b[0;36mretry_wrapped_func\u001b[0;34m(*args, **kwargs)\u001b[0m\n\u001b[1;32m    291\u001b[0m                 \u001b[0mself\u001b[0m\u001b[0;34m.\u001b[0m\u001b[0m_initial\u001b[0m\u001b[0;34m,\u001b[0m \u001b[0mself\u001b[0m\u001b[0;34m.\u001b[0m\u001b[0m_maximum\u001b[0m\u001b[0;34m,\u001b[0m \u001b[0mmultiplier\u001b[0m\u001b[0;34m=\u001b[0m\u001b[0mself\u001b[0m\u001b[0;34m.\u001b[0m\u001b[0m_multiplier\u001b[0m\u001b[0;34m\u001b[0m\u001b[0;34m\u001b[0m\u001b[0m\n\u001b[1;32m    292\u001b[0m             )\n\u001b[0;32m--> 293\u001b[0;31m             return retry_target(\n\u001b[0m\u001b[1;32m    294\u001b[0m                 \u001b[0mtarget\u001b[0m\u001b[0;34m,\u001b[0m\u001b[0;34m\u001b[0m\u001b[0;34m\u001b[0m\u001b[0m\n\u001b[1;32m    295\u001b[0m                 \u001b[0mself\u001b[0m\u001b[0;34m.\u001b[0m\u001b[0m_predicate\u001b[0m\u001b[0;34m,\u001b[0m\u001b[0;34m\u001b[0m\u001b[0;34m\u001b[0m\u001b[0m\n",
            "\u001b[0;32m/usr/local/lib/python3.10/dist-packages/google/api_core/retry/retry_unary.py\u001b[0m in \u001b[0;36mretry_target\u001b[0;34m(target, predicate, sleep_generator, timeout, on_error, exception_factory, **kwargs)\u001b[0m\n\u001b[1;32m    151\u001b[0m         \u001b[0;32mexcept\u001b[0m \u001b[0mException\u001b[0m \u001b[0;32mas\u001b[0m \u001b[0mexc\u001b[0m\u001b[0;34m:\u001b[0m\u001b[0;34m\u001b[0m\u001b[0;34m\u001b[0m\u001b[0m\n\u001b[1;32m    152\u001b[0m             \u001b[0;31m# defer to shared logic for handling errors\u001b[0m\u001b[0;34m\u001b[0m\u001b[0;34m\u001b[0m\u001b[0m\n\u001b[0;32m--> 153\u001b[0;31m             _retry_error_helper(\n\u001b[0m\u001b[1;32m    154\u001b[0m                 \u001b[0mexc\u001b[0m\u001b[0;34m,\u001b[0m\u001b[0;34m\u001b[0m\u001b[0;34m\u001b[0m\u001b[0m\n\u001b[1;32m    155\u001b[0m                 \u001b[0mdeadline\u001b[0m\u001b[0;34m,\u001b[0m\u001b[0;34m\u001b[0m\u001b[0;34m\u001b[0m\u001b[0m\n",
            "\u001b[0;32m/usr/local/lib/python3.10/dist-packages/google/api_core/retry/retry_base.py\u001b[0m in \u001b[0;36m_retry_error_helper\u001b[0;34m(exc, deadline, next_sleep, error_list, predicate_fn, on_error_fn, exc_factory_fn, original_timeout)\u001b[0m\n\u001b[1;32m    210\u001b[0m             \u001b[0moriginal_timeout\u001b[0m\u001b[0;34m,\u001b[0m\u001b[0;34m\u001b[0m\u001b[0;34m\u001b[0m\u001b[0m\n\u001b[1;32m    211\u001b[0m         )\n\u001b[0;32m--> 212\u001b[0;31m         \u001b[0;32mraise\u001b[0m \u001b[0mfinal_exc\u001b[0m \u001b[0;32mfrom\u001b[0m \u001b[0msource_exc\u001b[0m\u001b[0;34m\u001b[0m\u001b[0;34m\u001b[0m\u001b[0m\n\u001b[0m\u001b[1;32m    213\u001b[0m     \u001b[0;32mif\u001b[0m \u001b[0mon_error_fn\u001b[0m \u001b[0;32mis\u001b[0m \u001b[0;32mnot\u001b[0m \u001b[0;32mNone\u001b[0m\u001b[0;34m:\u001b[0m\u001b[0;34m\u001b[0m\u001b[0;34m\u001b[0m\u001b[0m\n\u001b[1;32m    214\u001b[0m         \u001b[0mon_error_fn\u001b[0m\u001b[0;34m(\u001b[0m\u001b[0mexc\u001b[0m\u001b[0;34m)\u001b[0m\u001b[0;34m\u001b[0m\u001b[0;34m\u001b[0m\u001b[0m\n",
            "\u001b[0;32m/usr/local/lib/python3.10/dist-packages/google/api_core/retry/retry_unary.py\u001b[0m in \u001b[0;36mretry_target\u001b[0;34m(target, predicate, sleep_generator, timeout, on_error, exception_factory, **kwargs)\u001b[0m\n\u001b[1;32m    142\u001b[0m     \u001b[0;32mfor\u001b[0m \u001b[0msleep\u001b[0m \u001b[0;32min\u001b[0m \u001b[0msleep_generator\u001b[0m\u001b[0;34m:\u001b[0m\u001b[0;34m\u001b[0m\u001b[0;34m\u001b[0m\u001b[0m\n\u001b[1;32m    143\u001b[0m         \u001b[0;32mtry\u001b[0m\u001b[0;34m:\u001b[0m\u001b[0;34m\u001b[0m\u001b[0;34m\u001b[0m\u001b[0m\n\u001b[0;32m--> 144\u001b[0;31m             \u001b[0mresult\u001b[0m \u001b[0;34m=\u001b[0m \u001b[0mtarget\u001b[0m\u001b[0;34m(\u001b[0m\u001b[0;34m)\u001b[0m\u001b[0;34m\u001b[0m\u001b[0;34m\u001b[0m\u001b[0m\n\u001b[0m\u001b[1;32m    145\u001b[0m             \u001b[0;32mif\u001b[0m \u001b[0minspect\u001b[0m\u001b[0;34m.\u001b[0m\u001b[0misawaitable\u001b[0m\u001b[0;34m(\u001b[0m\u001b[0mresult\u001b[0m\u001b[0;34m)\u001b[0m\u001b[0;34m:\u001b[0m\u001b[0;34m\u001b[0m\u001b[0;34m\u001b[0m\u001b[0m\n\u001b[1;32m    146\u001b[0m                 \u001b[0mwarnings\u001b[0m\u001b[0;34m.\u001b[0m\u001b[0mwarn\u001b[0m\u001b[0;34m(\u001b[0m\u001b[0m_ASYNC_RETRY_WARNING\u001b[0m\u001b[0;34m)\u001b[0m\u001b[0;34m\u001b[0m\u001b[0;34m\u001b[0m\u001b[0m\n",
            "\u001b[0;32m/usr/local/lib/python3.10/dist-packages/google/cloud/_http/__init__.py\u001b[0m in \u001b[0;36mapi_request\u001b[0;34m(self, method, path, query_params, data, content_type, headers, api_base_url, api_version, expect_json, _target_object, timeout, extra_api_info)\u001b[0m\n\u001b[1;32m    492\u001b[0m \u001b[0;34m\u001b[0m\u001b[0m\n\u001b[1;32m    493\u001b[0m         \u001b[0;32mif\u001b[0m \u001b[0;32mnot\u001b[0m \u001b[0;36m200\u001b[0m \u001b[0;34m<=\u001b[0m \u001b[0mresponse\u001b[0m\u001b[0;34m.\u001b[0m\u001b[0mstatus_code\u001b[0m \u001b[0;34m<\u001b[0m \u001b[0;36m300\u001b[0m\u001b[0;34m:\u001b[0m\u001b[0;34m\u001b[0m\u001b[0;34m\u001b[0m\u001b[0m\n\u001b[0;32m--> 494\u001b[0;31m             \u001b[0;32mraise\u001b[0m \u001b[0mexceptions\u001b[0m\u001b[0;34m.\u001b[0m\u001b[0mfrom_http_response\u001b[0m\u001b[0;34m(\u001b[0m\u001b[0mresponse\u001b[0m\u001b[0;34m)\u001b[0m\u001b[0;34m\u001b[0m\u001b[0;34m\u001b[0m\u001b[0m\n\u001b[0m\u001b[1;32m    495\u001b[0m \u001b[0;34m\u001b[0m\u001b[0m\n\u001b[1;32m    496\u001b[0m         \u001b[0;32mif\u001b[0m \u001b[0mexpect_json\u001b[0m \u001b[0;32mand\u001b[0m \u001b[0mresponse\u001b[0m\u001b[0;34m.\u001b[0m\u001b[0mcontent\u001b[0m\u001b[0;34m:\u001b[0m\u001b[0;34m\u001b[0m\u001b[0;34m\u001b[0m\u001b[0m\n",
            "\u001b[0;31mForbidden\u001b[0m: 403 GET https://bigquery.googleapis.com/bigquery/v2/projects/marketcheck-demo/queries/fd0f9ce0-d43c-4215-a671-b73df7e61312?maxResults=0&location=US&prettyPrint=false: Response too large to return. Consider specifying a destination table in your job configuration. For more details, see https://cloud.google.com/bigquery/troubleshooting-errors\n\nLocation: US\nJob ID: fd0f9ce0-d43c-4215-a671-b73df7e61312\n Share your usecase with the BigQuery DataFrames team at the https://bit.ly/bigframes-feedback survey.You are currently running BigFrames version 1.19.0"
          ]
        }
      ]
    },
    {
      "cell_type": "code",
      "source": [
        "# Fit and transform the categorical variables in the dataframe 'df' using the price column\n",
        "df[categorical_var] = target_encoder.fit_transform(df[categorical_var], df['price'])"
      ],
      "metadata": {
        "colab": {
          "base_uri": "https://localhost:8080/",
          "height": 346
        },
        "id": "25LSBhNBRMoZ",
        "executionInfo": {
          "status": "error",
          "timestamp": 1728661753239,
          "user_tz": 240,
          "elapsed": 179,
          "user": {
            "displayName": "",
            "userId": ""
          }
        },
        "outputId": "09a9f53c-a4fd-4e65-b8e7-5c73f12eec2a"
      },
      "execution_count": null,
      "outputs": [
        {
          "output_type": "error",
          "ename": "ValueError",
          "evalue": "Unexpected input type: <class 'bigframes.dataframe.DataFrame'>",
          "traceback": [
            "\u001b[0;31m---------------------------------------------------------------------------\u001b[0m",
            "\u001b[0;31mValueError\u001b[0m                                Traceback (most recent call last)",
            "\u001b[0;32m<ipython-input-122-fc48c201ba64>\u001b[0m in \u001b[0;36m<cell line: 2>\u001b[0;34m()\u001b[0m\n\u001b[1;32m      1\u001b[0m \u001b[0;31m# Fit and transform the categorical variables in the dataframe 'df' using the price column\u001b[0m\u001b[0;34m\u001b[0m\u001b[0;34m\u001b[0m\u001b[0m\n\u001b[0;32m----> 2\u001b[0;31m \u001b[0mdf\u001b[0m\u001b[0;34m[\u001b[0m\u001b[0mcategorical_var\u001b[0m\u001b[0;34m]\u001b[0m \u001b[0;34m=\u001b[0m \u001b[0mtarget_encoder\u001b[0m\u001b[0;34m.\u001b[0m\u001b[0mfit_transform\u001b[0m\u001b[0;34m(\u001b[0m\u001b[0mdf\u001b[0m\u001b[0;34m[\u001b[0m\u001b[0mcategorical_var\u001b[0m\u001b[0;34m]\u001b[0m\u001b[0;34m,\u001b[0m \u001b[0mdf\u001b[0m\u001b[0;34m[\u001b[0m\u001b[0;34m'price'\u001b[0m\u001b[0;34m]\u001b[0m\u001b[0;34m)\u001b[0m\u001b[0;34m\u001b[0m\u001b[0;34m\u001b[0m\u001b[0m\n\u001b[0m",
            "\u001b[0;32m/usr/local/lib/python3.10/dist-packages/sklearn/utils/_set_output.py\u001b[0m in \u001b[0;36mwrapped\u001b[0;34m(self, X, *args, **kwargs)\u001b[0m\n\u001b[1;32m    314\u001b[0m     \u001b[0;34m@\u001b[0m\u001b[0mwraps\u001b[0m\u001b[0;34m(\u001b[0m\u001b[0mf\u001b[0m\u001b[0;34m)\u001b[0m\u001b[0;34m\u001b[0m\u001b[0;34m\u001b[0m\u001b[0m\n\u001b[1;32m    315\u001b[0m     \u001b[0;32mdef\u001b[0m \u001b[0mwrapped\u001b[0m\u001b[0;34m(\u001b[0m\u001b[0mself\u001b[0m\u001b[0;34m,\u001b[0m \u001b[0mX\u001b[0m\u001b[0;34m,\u001b[0m \u001b[0;34m*\u001b[0m\u001b[0margs\u001b[0m\u001b[0;34m,\u001b[0m \u001b[0;34m**\u001b[0m\u001b[0mkwargs\u001b[0m\u001b[0;34m)\u001b[0m\u001b[0;34m:\u001b[0m\u001b[0;34m\u001b[0m\u001b[0;34m\u001b[0m\u001b[0m\n\u001b[0;32m--> 316\u001b[0;31m         \u001b[0mdata_to_wrap\u001b[0m \u001b[0;34m=\u001b[0m \u001b[0mf\u001b[0m\u001b[0;34m(\u001b[0m\u001b[0mself\u001b[0m\u001b[0;34m,\u001b[0m \u001b[0mX\u001b[0m\u001b[0;34m,\u001b[0m \u001b[0;34m*\u001b[0m\u001b[0margs\u001b[0m\u001b[0;34m,\u001b[0m \u001b[0;34m**\u001b[0m\u001b[0mkwargs\u001b[0m\u001b[0;34m)\u001b[0m\u001b[0;34m\u001b[0m\u001b[0;34m\u001b[0m\u001b[0m\n\u001b[0m\u001b[1;32m    317\u001b[0m         \u001b[0;32mif\u001b[0m \u001b[0misinstance\u001b[0m\u001b[0;34m(\u001b[0m\u001b[0mdata_to_wrap\u001b[0m\u001b[0;34m,\u001b[0m \u001b[0mtuple\u001b[0m\u001b[0;34m)\u001b[0m\u001b[0;34m:\u001b[0m\u001b[0;34m\u001b[0m\u001b[0;34m\u001b[0m\u001b[0m\n\u001b[1;32m    318\u001b[0m             \u001b[0;31m# only wrap the first output for cross decomposition\u001b[0m\u001b[0;34m\u001b[0m\u001b[0;34m\u001b[0m\u001b[0m\n",
            "\u001b[0;32m/usr/local/lib/python3.10/dist-packages/category_encoders/utils.py\u001b[0m in \u001b[0;36mfit_transform\u001b[0;34m(self, X, y, **fit_params)\u001b[0m\n\u001b[1;32m    472\u001b[0m         \u001b[0;32mif\u001b[0m \u001b[0my\u001b[0m \u001b[0;32mis\u001b[0m \u001b[0;32mNone\u001b[0m\u001b[0;34m:\u001b[0m\u001b[0;34m\u001b[0m\u001b[0;34m\u001b[0m\u001b[0m\n\u001b[1;32m    473\u001b[0m             \u001b[0;32mraise\u001b[0m \u001b[0mTypeError\u001b[0m\u001b[0;34m(\u001b[0m\u001b[0;34m'fit_transform() missing argument: '\u001b[0m\u001b[0;34m'y'\u001b[0m\u001b[0;34m''\u001b[0m\u001b[0;34m)\u001b[0m\u001b[0;34m\u001b[0m\u001b[0;34m\u001b[0m\u001b[0m\n\u001b[0;32m--> 474\u001b[0;31m         \u001b[0;32mreturn\u001b[0m \u001b[0mself\u001b[0m\u001b[0;34m.\u001b[0m\u001b[0mfit\u001b[0m\u001b[0;34m(\u001b[0m\u001b[0mX\u001b[0m\u001b[0;34m,\u001b[0m \u001b[0my\u001b[0m\u001b[0;34m,\u001b[0m \u001b[0;34m**\u001b[0m\u001b[0mfit_params\u001b[0m\u001b[0;34m)\u001b[0m\u001b[0;34m.\u001b[0m\u001b[0mtransform\u001b[0m\u001b[0;34m(\u001b[0m\u001b[0mX\u001b[0m\u001b[0;34m,\u001b[0m \u001b[0my\u001b[0m\u001b[0;34m)\u001b[0m\u001b[0;34m\u001b[0m\u001b[0;34m\u001b[0m\u001b[0m\n\u001b[0m\u001b[1;32m    475\u001b[0m \u001b[0;34m\u001b[0m\u001b[0m\n\u001b[1;32m    476\u001b[0m \u001b[0;34m\u001b[0m\u001b[0m\n",
            "\u001b[0;32m/usr/local/lib/python3.10/dist-packages/category_encoders/utils.py\u001b[0m in \u001b[0;36mfit\u001b[0;34m(self, X, y, **kwargs)\u001b[0m\n\u001b[1;32m    296\u001b[0m \u001b[0;34m\u001b[0m\u001b[0m\n\u001b[1;32m    297\u001b[0m         \"\"\"\n\u001b[0;32m--> 298\u001b[0;31m         \u001b[0mX\u001b[0m\u001b[0;34m,\u001b[0m \u001b[0my\u001b[0m \u001b[0;34m=\u001b[0m \u001b[0mconvert_inputs\u001b[0m\u001b[0;34m(\u001b[0m\u001b[0mX\u001b[0m\u001b[0;34m,\u001b[0m \u001b[0my\u001b[0m\u001b[0;34m)\u001b[0m\u001b[0;34m\u001b[0m\u001b[0;34m\u001b[0m\u001b[0m\n\u001b[0m\u001b[1;32m    299\u001b[0m         \u001b[0mself\u001b[0m\u001b[0;34m.\u001b[0m\u001b[0m_check_fit_inputs\u001b[0m\u001b[0;34m(\u001b[0m\u001b[0mX\u001b[0m\u001b[0;34m,\u001b[0m \u001b[0my\u001b[0m\u001b[0;34m)\u001b[0m\u001b[0;34m\u001b[0m\u001b[0;34m\u001b[0m\u001b[0m\n\u001b[1;32m    300\u001b[0m         \u001b[0mself\u001b[0m\u001b[0;34m.\u001b[0m\u001b[0mfeature_names_in_\u001b[0m \u001b[0;34m=\u001b[0m \u001b[0mX\u001b[0m\u001b[0;34m.\u001b[0m\u001b[0mcolumns\u001b[0m\u001b[0;34m.\u001b[0m\u001b[0mtolist\u001b[0m\u001b[0;34m(\u001b[0m\u001b[0;34m)\u001b[0m\u001b[0;34m\u001b[0m\u001b[0;34m\u001b[0m\u001b[0m\n",
            "\u001b[0;32m/usr/local/lib/python3.10/dist-packages/category_encoders/utils.py\u001b[0m in \u001b[0;36mconvert_inputs\u001b[0;34m(X, y, columns, index, deep)\u001b[0m\n\u001b[1;32m     79\u001b[0m     \"\"\"\n\u001b[1;32m     80\u001b[0m     \u001b[0mX_alt_index\u001b[0m \u001b[0;34m=\u001b[0m \u001b[0my\u001b[0m\u001b[0;34m.\u001b[0m\u001b[0mindex\u001b[0m \u001b[0;32mif\u001b[0m \u001b[0misinstance\u001b[0m\u001b[0;34m(\u001b[0m\u001b[0my\u001b[0m\u001b[0;34m,\u001b[0m \u001b[0mpd\u001b[0m\u001b[0;34m.\u001b[0m\u001b[0mSeries\u001b[0m\u001b[0;34m)\u001b[0m \u001b[0;32melse\u001b[0m \u001b[0mindex\u001b[0m\u001b[0;34m\u001b[0m\u001b[0;34m\u001b[0m\u001b[0m\n\u001b[0;32m---> 81\u001b[0;31m     \u001b[0mX\u001b[0m \u001b[0;34m=\u001b[0m \u001b[0mconvert_input\u001b[0m\u001b[0;34m(\u001b[0m\u001b[0mX\u001b[0m\u001b[0;34m,\u001b[0m \u001b[0mcolumns\u001b[0m\u001b[0;34m=\u001b[0m\u001b[0mcolumns\u001b[0m\u001b[0;34m,\u001b[0m \u001b[0mdeep\u001b[0m\u001b[0;34m=\u001b[0m\u001b[0mdeep\u001b[0m\u001b[0;34m,\u001b[0m \u001b[0mindex\u001b[0m\u001b[0;34m=\u001b[0m\u001b[0mX_alt_index\u001b[0m\u001b[0;34m)\u001b[0m\u001b[0;34m\u001b[0m\u001b[0;34m\u001b[0m\u001b[0m\n\u001b[0m\u001b[1;32m     82\u001b[0m     \u001b[0;32mif\u001b[0m \u001b[0my\u001b[0m \u001b[0;32mis\u001b[0m \u001b[0;32mnot\u001b[0m \u001b[0;32mNone\u001b[0m\u001b[0;34m:\u001b[0m\u001b[0;34m\u001b[0m\u001b[0;34m\u001b[0m\u001b[0m\n\u001b[1;32m     83\u001b[0m         \u001b[0my\u001b[0m \u001b[0;34m=\u001b[0m \u001b[0mconvert_input_vector\u001b[0m\u001b[0;34m(\u001b[0m\u001b[0my\u001b[0m\u001b[0;34m,\u001b[0m \u001b[0mindex\u001b[0m\u001b[0;34m=\u001b[0m\u001b[0mX\u001b[0m\u001b[0;34m.\u001b[0m\u001b[0mindex\u001b[0m\u001b[0;34m)\u001b[0m\u001b[0;34m\u001b[0m\u001b[0;34m\u001b[0m\u001b[0m\n",
            "\u001b[0;32m/usr/local/lib/python3.10/dist-packages/category_encoders/utils.py\u001b[0m in \u001b[0;36mconvert_input\u001b[0;34m(X, columns, deep, index)\u001b[0m\n\u001b[1;32m    113\u001b[0m                 \u001b[0mX\u001b[0m \u001b[0;34m=\u001b[0m \u001b[0mpd\u001b[0m\u001b[0;34m.\u001b[0m\u001b[0mDataFrame\u001b[0m\u001b[0;34m(\u001b[0m\u001b[0mX\u001b[0m\u001b[0;34m.\u001b[0m\u001b[0mtodense\u001b[0m\u001b[0;34m(\u001b[0m\u001b[0;34m)\u001b[0m\u001b[0;34m,\u001b[0m \u001b[0mcolumns\u001b[0m\u001b[0;34m=\u001b[0m\u001b[0mcolumns\u001b[0m\u001b[0;34m,\u001b[0m \u001b[0mcopy\u001b[0m\u001b[0;34m=\u001b[0m\u001b[0mdeep\u001b[0m\u001b[0;34m,\u001b[0m \u001b[0mindex\u001b[0m\u001b[0;34m=\u001b[0m\u001b[0mindex\u001b[0m\u001b[0;34m)\u001b[0m\u001b[0;34m\u001b[0m\u001b[0;34m\u001b[0m\u001b[0m\n\u001b[1;32m    114\u001b[0m             \u001b[0;32melse\u001b[0m\u001b[0;34m:\u001b[0m\u001b[0;34m\u001b[0m\u001b[0;34m\u001b[0m\u001b[0m\n\u001b[0;32m--> 115\u001b[0;31m                 \u001b[0;32mraise\u001b[0m \u001b[0mValueError\u001b[0m\u001b[0;34m(\u001b[0m\u001b[0;34mf'Unexpected input type: {type(X)}'\u001b[0m\u001b[0;34m)\u001b[0m\u001b[0;34m\u001b[0m\u001b[0;34m\u001b[0m\u001b[0m\n\u001b[0m\u001b[1;32m    116\u001b[0m     \u001b[0;32melif\u001b[0m \u001b[0mdeep\u001b[0m\u001b[0;34m:\u001b[0m\u001b[0;34m\u001b[0m\u001b[0;34m\u001b[0m\u001b[0m\n\u001b[1;32m    117\u001b[0m         \u001b[0mX\u001b[0m \u001b[0;34m=\u001b[0m \u001b[0mX\u001b[0m\u001b[0;34m.\u001b[0m\u001b[0mcopy\u001b[0m\u001b[0;34m(\u001b[0m\u001b[0mdeep\u001b[0m\u001b[0;34m=\u001b[0m\u001b[0;32mTrue\u001b[0m\u001b[0;34m)\u001b[0m\u001b[0;34m\u001b[0m\u001b[0;34m\u001b[0m\u001b[0m\n",
            "\u001b[0;31mValueError\u001b[0m: Unexpected input type: <class 'bigframes.dataframe.DataFrame'>"
          ]
        }
      ]
    },
    {
      "cell_type": "code",
      "source": [
        "df_pandas = df.to_pandas()"
      ],
      "metadata": {
        "colab": {
          "base_uri": "https://localhost:8080/",
          "height": 524
        },
        "id": "3TKgUBv2Rcj7",
        "executionInfo": {
          "status": "error",
          "timestamp": 1728661838343,
          "user_tz": 240,
          "elapsed": 10146,
          "user": {
            "displayName": "",
            "userId": ""
          }
        },
        "outputId": "e2777f1c-a4e1-4a1b-bada-3e521dbdf0aa"
      },
      "execution_count": null,
      "outputs": [
        {
          "output_type": "display_data",
          "data": {
            "text/plain": [
              "<IPython.core.display.HTML object>"
            ],
            "text/html": [
              "Query job ada1945d-a432-40bd-b07f-8f5099df9fa8 is RUNNING. <a target=\"_blank\" href=\"https://console.cloud.google.com/bigquery?project=marketcheck-demo&j=bq:US:ada1945d-a432-40bd-b07f-8f5099df9fa8&page=queryresults\">Open Job</a>"
            ]
          },
          "metadata": {}
        },
        {
          "output_type": "error",
          "ename": "Forbidden",
          "evalue": "403 GET https://bigquery.googleapis.com/bigquery/v2/projects/marketcheck-demo/queries/ada1945d-a432-40bd-b07f-8f5099df9fa8?maxResults=0&location=US&prettyPrint=false: Response too large to return. Consider specifying a destination table in your job configuration. For more details, see https://cloud.google.com/bigquery/troubleshooting-errors\n\nLocation: US\nJob ID: ada1945d-a432-40bd-b07f-8f5099df9fa8\n Share your usecase with the BigQuery DataFrames team at the https://bit.ly/bigframes-feedback survey.You are currently running BigFrames version 1.19.0",
          "traceback": [
            "\u001b[0;31m---------------------------------------------------------------------------\u001b[0m",
            "\u001b[0;31mForbidden\u001b[0m                                 Traceback (most recent call last)",
            "\u001b[0;32m<ipython-input-123-e91138da209f>\u001b[0m in \u001b[0;36m<cell line: 1>\u001b[0;34m()\u001b[0m\n\u001b[0;32m----> 1\u001b[0;31m \u001b[0mdf_pandas\u001b[0m \u001b[0;34m=\u001b[0m \u001b[0mdf\u001b[0m\u001b[0;34m.\u001b[0m\u001b[0mto_pandas\u001b[0m\u001b[0;34m(\u001b[0m\u001b[0;34m)\u001b[0m\u001b[0;34m\u001b[0m\u001b[0;34m\u001b[0m\u001b[0m\n\u001b[0m",
            "\u001b[0;32m/usr/local/lib/python3.10/dist-packages/bigframes/core/log_adapter.py\u001b[0m in \u001b[0;36mwrapper\u001b[0;34m(*args, **kwargs)\u001b[0m\n\u001b[1;32m     54\u001b[0m \u001b[0;34m\u001b[0m\u001b[0m\n\u001b[1;32m     55\u001b[0m         \u001b[0;32mtry\u001b[0m\u001b[0;34m:\u001b[0m\u001b[0;34m\u001b[0m\u001b[0;34m\u001b[0m\u001b[0m\n\u001b[0;32m---> 56\u001b[0;31m             \u001b[0;32mreturn\u001b[0m \u001b[0mmethod\u001b[0m\u001b[0;34m(\u001b[0m\u001b[0;34m*\u001b[0m\u001b[0margs\u001b[0m\u001b[0;34m,\u001b[0m \u001b[0;34m**\u001b[0m\u001b[0mkwargs\u001b[0m\u001b[0;34m)\u001b[0m\u001b[0;34m\u001b[0m\u001b[0;34m\u001b[0m\u001b[0m\n\u001b[0m\u001b[1;32m     57\u001b[0m         \u001b[0;32mfinally\u001b[0m\u001b[0;34m:\u001b[0m\u001b[0;34m\u001b[0m\u001b[0;34m\u001b[0m\u001b[0m\n\u001b[1;32m     58\u001b[0m             \u001b[0m_call_stack\u001b[0m\u001b[0;34m.\u001b[0m\u001b[0mpop\u001b[0m\u001b[0;34m(\u001b[0m\u001b[0;34m)\u001b[0m\u001b[0;34m\u001b[0m\u001b[0;34m\u001b[0m\u001b[0m\n",
            "\u001b[0;32m/usr/local/lib/python3.10/dist-packages/bigframes/dataframe.py\u001b[0m in \u001b[0;36mto_pandas\u001b[0;34m(self, max_download_size, sampling_method, random_state, ordered)\u001b[0m\n\u001b[1;32m   1252\u001b[0m         \"\"\"\n\u001b[1;32m   1253\u001b[0m         \u001b[0;31m# TODO(orrbradford): Optimize this in future. Potentially some cases where we can return the stored query job\u001b[0m\u001b[0;34m\u001b[0m\u001b[0;34m\u001b[0m\u001b[0m\n\u001b[0;32m-> 1254\u001b[0;31m         df, query_job = self._block.to_pandas(\n\u001b[0m\u001b[1;32m   1255\u001b[0m             \u001b[0mmax_download_size\u001b[0m\u001b[0;34m=\u001b[0m\u001b[0mmax_download_size\u001b[0m\u001b[0;34m,\u001b[0m\u001b[0;34m\u001b[0m\u001b[0;34m\u001b[0m\u001b[0m\n\u001b[1;32m   1256\u001b[0m             \u001b[0msampling_method\u001b[0m\u001b[0;34m=\u001b[0m\u001b[0msampling_method\u001b[0m\u001b[0;34m,\u001b[0m\u001b[0;34m\u001b[0m\u001b[0;34m\u001b[0m\u001b[0m\n",
            "\u001b[0;32m/usr/local/lib/python3.10/dist-packages/bigframes/core/blocks.py\u001b[0m in \u001b[0;36mto_pandas\u001b[0;34m(self, max_download_size, sampling_method, random_state, ordered)\u001b[0m\n\u001b[1;32m    549\u001b[0m             \u001b[0msampling\u001b[0m \u001b[0;34m=\u001b[0m \u001b[0msampling\u001b[0m\u001b[0;34m.\u001b[0m\u001b[0mwith_disabled\u001b[0m\u001b[0;34m(\u001b[0m\u001b[0;34m)\u001b[0m\u001b[0;34m\u001b[0m\u001b[0;34m\u001b[0m\u001b[0m\n\u001b[1;32m    550\u001b[0m \u001b[0;34m\u001b[0m\u001b[0m\n\u001b[0;32m--> 551\u001b[0;31m         df, query_job = self._materialize_local(\n\u001b[0m\u001b[1;32m    552\u001b[0m             materialize_options=MaterializationOptions(\n\u001b[1;32m    553\u001b[0m                 \u001b[0mdownsampling\u001b[0m\u001b[0;34m=\u001b[0m\u001b[0msampling\u001b[0m\u001b[0;34m,\u001b[0m \u001b[0mordered\u001b[0m\u001b[0;34m=\u001b[0m\u001b[0mordered\u001b[0m\u001b[0;34m\u001b[0m\u001b[0;34m\u001b[0m\u001b[0m\n",
            "\u001b[0;32m/usr/local/lib/python3.10/dist-packages/bigframes/core/blocks.py\u001b[0m in \u001b[0;36m_materialize_local\u001b[0;34m(self, materialize_options)\u001b[0m\n\u001b[1;32m    609\u001b[0m         \u001b[0;34m\"\"\"Run query and download results as a pandas DataFrame. Return the total number of results as well.\"\"\"\u001b[0m\u001b[0;34m\u001b[0m\u001b[0;34m\u001b[0m\u001b[0m\n\u001b[1;32m    610\u001b[0m         \u001b[0;31m# TODO(swast): Allow for dry run and timeout.\u001b[0m\u001b[0;34m\u001b[0m\u001b[0;34m\u001b[0m\u001b[0m\n\u001b[0;32m--> 611\u001b[0;31m         _, query_job = self.session._execute(\n\u001b[0m\u001b[1;32m    612\u001b[0m             \u001b[0mself\u001b[0m\u001b[0;34m.\u001b[0m\u001b[0mexpr\u001b[0m\u001b[0;34m,\u001b[0m \u001b[0mordered\u001b[0m\u001b[0;34m=\u001b[0m\u001b[0mmaterialize_options\u001b[0m\u001b[0;34m.\u001b[0m\u001b[0mordered\u001b[0m\u001b[0;34m\u001b[0m\u001b[0;34m\u001b[0m\u001b[0m\n\u001b[1;32m    613\u001b[0m         )\n",
            "\u001b[0;32m/usr/local/lib/python3.10/dist-packages/bigframes/session/__init__.py\u001b[0m in \u001b[0;36m_execute\u001b[0;34m(self, array_value, ordered, col_id_overrides, use_explicit_destination)\u001b[0m\n\u001b[1;32m   1381\u001b[0m         \u001b[0muse_explicit_destination\u001b[0m\u001b[0;34m:\u001b[0m \u001b[0mbool\u001b[0m \u001b[0;34m=\u001b[0m \u001b[0;32mFalse\u001b[0m\u001b[0;34m,\u001b[0m\u001b[0;34m\u001b[0m\u001b[0;34m\u001b[0m\u001b[0m\n\u001b[1;32m   1382\u001b[0m     ) -> tuple[bigquery.table.RowIterator, bigquery.QueryJob]:\n\u001b[0;32m-> 1383\u001b[0;31m         return self._executor.execute(\n\u001b[0m\u001b[1;32m   1384\u001b[0m             \u001b[0marray_value\u001b[0m\u001b[0;34m,\u001b[0m\u001b[0;34m\u001b[0m\u001b[0;34m\u001b[0m\u001b[0m\n\u001b[1;32m   1385\u001b[0m             \u001b[0mordered\u001b[0m\u001b[0;34m=\u001b[0m\u001b[0mordered\u001b[0m\u001b[0;34m,\u001b[0m\u001b[0;34m\u001b[0m\u001b[0;34m\u001b[0m\u001b[0m\n",
            "\u001b[0;32m/usr/local/lib/python3.10/dist-packages/bigframes/session/executor.py\u001b[0m in \u001b[0;36mexecute\u001b[0;34m(self, array_value, ordered, col_id_overrides, use_explicit_destination)\u001b[0m\n\u001b[1;32m    126\u001b[0m         \u001b[0;31m# TODO(swast): plumb through the api_name of the user-facing api that\u001b[0m\u001b[0;34m\u001b[0m\u001b[0;34m\u001b[0m\u001b[0m\n\u001b[1;32m    127\u001b[0m         \u001b[0;31m# caused this query.\u001b[0m\u001b[0;34m\u001b[0m\u001b[0;34m\u001b[0m\u001b[0m\n\u001b[0;32m--> 128\u001b[0;31m         return self._run_execute_query(\n\u001b[0m\u001b[1;32m    129\u001b[0m             \u001b[0msql\u001b[0m\u001b[0;34m=\u001b[0m\u001b[0msql\u001b[0m\u001b[0;34m,\u001b[0m\u001b[0;34m\u001b[0m\u001b[0;34m\u001b[0m\u001b[0m\n\u001b[1;32m    130\u001b[0m             \u001b[0mjob_config\u001b[0m\u001b[0;34m=\u001b[0m\u001b[0mjob_config\u001b[0m\u001b[0;34m,\u001b[0m\u001b[0;34m\u001b[0m\u001b[0;34m\u001b[0m\u001b[0m\n",
            "\u001b[0;32m/usr/local/lib/python3.10/dist-packages/bigframes/session/executor.py\u001b[0m in \u001b[0;36m_run_execute_query\u001b[0;34m(self, sql, job_config, api_name)\u001b[0m\n\u001b[1;32m    294\u001b[0m         \u001b[0;32mtry\u001b[0m\u001b[0;34m:\u001b[0m\u001b[0;34m\u001b[0m\u001b[0;34m\u001b[0m\u001b[0m\n\u001b[1;32m    295\u001b[0m             \u001b[0mquery_job\u001b[0m \u001b[0;34m=\u001b[0m \u001b[0mself\u001b[0m\u001b[0;34m.\u001b[0m\u001b[0mbqclient\u001b[0m\u001b[0;34m.\u001b[0m\u001b[0mquery\u001b[0m\u001b[0;34m(\u001b[0m\u001b[0msql\u001b[0m\u001b[0;34m,\u001b[0m \u001b[0mjob_config\u001b[0m\u001b[0;34m=\u001b[0m\u001b[0mjob_config\u001b[0m\u001b[0;34m)\u001b[0m\u001b[0;34m\u001b[0m\u001b[0;34m\u001b[0m\u001b[0m\n\u001b[0;32m--> 296\u001b[0;31m             \u001b[0;32mreturn\u001b[0m \u001b[0mself\u001b[0m\u001b[0;34m.\u001b[0m\u001b[0m_wait_on_job\u001b[0m\u001b[0;34m(\u001b[0m\u001b[0mquery_job\u001b[0m\u001b[0;34m)\u001b[0m\u001b[0;34m,\u001b[0m \u001b[0mquery_job\u001b[0m\u001b[0;34m\u001b[0m\u001b[0;34m\u001b[0m\u001b[0m\n\u001b[0m\u001b[1;32m    297\u001b[0m \u001b[0;34m\u001b[0m\u001b[0m\n\u001b[1;32m    298\u001b[0m         \u001b[0;32mexcept\u001b[0m \u001b[0mgoogle\u001b[0m\u001b[0;34m.\u001b[0m\u001b[0mapi_core\u001b[0m\u001b[0;34m.\u001b[0m\u001b[0mexceptions\u001b[0m\u001b[0;34m.\u001b[0m\u001b[0mBadRequest\u001b[0m \u001b[0;32mas\u001b[0m \u001b[0me\u001b[0m\u001b[0;34m:\u001b[0m\u001b[0;34m\u001b[0m\u001b[0;34m\u001b[0m\u001b[0m\n",
            "\u001b[0;32m/usr/local/lib/python3.10/dist-packages/bigframes/session/executor.py\u001b[0m in \u001b[0;36m_wait_on_job\u001b[0;34m(self, query_job)\u001b[0m\n\u001b[1;32m    307\u001b[0m         \u001b[0mopts\u001b[0m \u001b[0;34m=\u001b[0m \u001b[0mbigframes\u001b[0m\u001b[0;34m.\u001b[0m\u001b[0moptions\u001b[0m\u001b[0;34m.\u001b[0m\u001b[0mdisplay\u001b[0m\u001b[0;34m\u001b[0m\u001b[0;34m\u001b[0m\u001b[0m\n\u001b[1;32m    308\u001b[0m         \u001b[0;32mif\u001b[0m \u001b[0mopts\u001b[0m\u001b[0;34m.\u001b[0m\u001b[0mprogress_bar\u001b[0m \u001b[0;32mis\u001b[0m \u001b[0;32mnot\u001b[0m \u001b[0;32mNone\u001b[0m \u001b[0;32mand\u001b[0m \u001b[0;32mnot\u001b[0m \u001b[0mquery_job\u001b[0m\u001b[0;34m.\u001b[0m\u001b[0mconfiguration\u001b[0m\u001b[0;34m.\u001b[0m\u001b[0mdry_run\u001b[0m\u001b[0;34m:\u001b[0m\u001b[0;34m\u001b[0m\u001b[0;34m\u001b[0m\u001b[0m\n\u001b[0;32m--> 309\u001b[0;31m             results_iterator = formatting_helpers.wait_for_query_job(\n\u001b[0m\u001b[1;32m    310\u001b[0m                 \u001b[0mquery_job\u001b[0m\u001b[0;34m,\u001b[0m \u001b[0mprogress_bar\u001b[0m\u001b[0;34m=\u001b[0m\u001b[0mopts\u001b[0m\u001b[0;34m.\u001b[0m\u001b[0mprogress_bar\u001b[0m\u001b[0;34m\u001b[0m\u001b[0;34m\u001b[0m\u001b[0m\n\u001b[1;32m    311\u001b[0m             )\n",
            "\u001b[0;32m/usr/local/lib/python3.10/dist-packages/bigframes/formatting_helpers.py\u001b[0m in \u001b[0;36mwait_for_query_job\u001b[0;34m(query_job, max_results, progress_bar)\u001b[0m\n\u001b[1;32m    134\u001b[0m             \u001b[0mloading_bar\u001b[0m \u001b[0;34m=\u001b[0m \u001b[0mdisplay\u001b[0m\u001b[0;34m.\u001b[0m\u001b[0mHTML\u001b[0m\u001b[0;34m(\u001b[0m\u001b[0mget_query_job_loading_html\u001b[0m\u001b[0;34m(\u001b[0m\u001b[0mquery_job\u001b[0m\u001b[0;34m)\u001b[0m\u001b[0;34m)\u001b[0m\u001b[0;34m\u001b[0m\u001b[0;34m\u001b[0m\u001b[0m\n\u001b[1;32m    135\u001b[0m             \u001b[0mdisplay\u001b[0m\u001b[0;34m.\u001b[0m\u001b[0mdisplay\u001b[0m\u001b[0;34m(\u001b[0m\u001b[0mloading_bar\u001b[0m\u001b[0;34m,\u001b[0m \u001b[0mdisplay_id\u001b[0m\u001b[0;34m=\u001b[0m\u001b[0mdisplay_id\u001b[0m\u001b[0;34m)\u001b[0m\u001b[0;34m\u001b[0m\u001b[0;34m\u001b[0m\u001b[0m\n\u001b[0;32m--> 136\u001b[0;31m             \u001b[0mquery_result\u001b[0m \u001b[0;34m=\u001b[0m \u001b[0mquery_job\u001b[0m\u001b[0;34m.\u001b[0m\u001b[0mresult\u001b[0m\u001b[0;34m(\u001b[0m\u001b[0mmax_results\u001b[0m\u001b[0;34m=\u001b[0m\u001b[0mmax_results\u001b[0m\u001b[0;34m)\u001b[0m\u001b[0;34m\u001b[0m\u001b[0;34m\u001b[0m\u001b[0m\n\u001b[0m\u001b[1;32m    137\u001b[0m             \u001b[0mquery_job\u001b[0m\u001b[0;34m.\u001b[0m\u001b[0mreload\u001b[0m\u001b[0;34m(\u001b[0m\u001b[0;34m)\u001b[0m\u001b[0;34m\u001b[0m\u001b[0;34m\u001b[0m\u001b[0m\n\u001b[1;32m    138\u001b[0m             display.update_display(\n",
            "\u001b[0;32m/usr/local/lib/python3.10/dist-packages/google/cloud/bigquery/job/query.py\u001b[0m in \u001b[0;36mresult\u001b[0;34m(self, page_size, max_results, retry, timeout, start_index, job_retry)\u001b[0m\n\u001b[1;32m   1674\u001b[0m                 \u001b[0;31m# Since is_job_done() calls jobs.getQueryResults, which is a\u001b[0m\u001b[0;34m\u001b[0m\u001b[0;34m\u001b[0m\u001b[0m\n\u001b[1;32m   1675\u001b[0m                 \u001b[0;31m# long-running API, don't delay the next request at all.\u001b[0m\u001b[0;34m\u001b[0m\u001b[0;34m\u001b[0m\u001b[0m\n\u001b[0;32m-> 1676\u001b[0;31m                 \u001b[0;32mwhile\u001b[0m \u001b[0;32mnot\u001b[0m \u001b[0mis_job_done\u001b[0m\u001b[0;34m(\u001b[0m\u001b[0;34m)\u001b[0m\u001b[0;34m:\u001b[0m\u001b[0;34m\u001b[0m\u001b[0;34m\u001b[0m\u001b[0m\n\u001b[0m\u001b[1;32m   1677\u001b[0m                     \u001b[0;32mpass\u001b[0m\u001b[0;34m\u001b[0m\u001b[0;34m\u001b[0m\u001b[0m\n\u001b[1;32m   1678\u001b[0m             \u001b[0;32melse\u001b[0m\u001b[0;34m:\u001b[0m\u001b[0;34m\u001b[0m\u001b[0;34m\u001b[0m\u001b[0m\n",
            "\u001b[0;32m/usr/local/lib/python3.10/dist-packages/google/api_core/retry/retry_unary.py\u001b[0m in \u001b[0;36mretry_wrapped_func\u001b[0;34m(*args, **kwargs)\u001b[0m\n\u001b[1;32m    291\u001b[0m                 \u001b[0mself\u001b[0m\u001b[0;34m.\u001b[0m\u001b[0m_initial\u001b[0m\u001b[0;34m,\u001b[0m \u001b[0mself\u001b[0m\u001b[0;34m.\u001b[0m\u001b[0m_maximum\u001b[0m\u001b[0;34m,\u001b[0m \u001b[0mmultiplier\u001b[0m\u001b[0;34m=\u001b[0m\u001b[0mself\u001b[0m\u001b[0;34m.\u001b[0m\u001b[0m_multiplier\u001b[0m\u001b[0;34m\u001b[0m\u001b[0;34m\u001b[0m\u001b[0m\n\u001b[1;32m    292\u001b[0m             )\n\u001b[0;32m--> 293\u001b[0;31m             return retry_target(\n\u001b[0m\u001b[1;32m    294\u001b[0m                 \u001b[0mtarget\u001b[0m\u001b[0;34m,\u001b[0m\u001b[0;34m\u001b[0m\u001b[0;34m\u001b[0m\u001b[0m\n\u001b[1;32m    295\u001b[0m                 \u001b[0mself\u001b[0m\u001b[0;34m.\u001b[0m\u001b[0m_predicate\u001b[0m\u001b[0;34m,\u001b[0m\u001b[0;34m\u001b[0m\u001b[0;34m\u001b[0m\u001b[0m\n",
            "\u001b[0;32m/usr/local/lib/python3.10/dist-packages/google/api_core/retry/retry_unary.py\u001b[0m in \u001b[0;36mretry_target\u001b[0;34m(target, predicate, sleep_generator, timeout, on_error, exception_factory, **kwargs)\u001b[0m\n\u001b[1;32m    151\u001b[0m         \u001b[0;32mexcept\u001b[0m \u001b[0mException\u001b[0m \u001b[0;32mas\u001b[0m \u001b[0mexc\u001b[0m\u001b[0;34m:\u001b[0m\u001b[0;34m\u001b[0m\u001b[0;34m\u001b[0m\u001b[0m\n\u001b[1;32m    152\u001b[0m             \u001b[0;31m# defer to shared logic for handling errors\u001b[0m\u001b[0;34m\u001b[0m\u001b[0;34m\u001b[0m\u001b[0m\n\u001b[0;32m--> 153\u001b[0;31m             _retry_error_helper(\n\u001b[0m\u001b[1;32m    154\u001b[0m                 \u001b[0mexc\u001b[0m\u001b[0;34m,\u001b[0m\u001b[0;34m\u001b[0m\u001b[0;34m\u001b[0m\u001b[0m\n\u001b[1;32m    155\u001b[0m                 \u001b[0mdeadline\u001b[0m\u001b[0;34m,\u001b[0m\u001b[0;34m\u001b[0m\u001b[0;34m\u001b[0m\u001b[0m\n",
            "\u001b[0;32m/usr/local/lib/python3.10/dist-packages/google/api_core/retry/retry_base.py\u001b[0m in \u001b[0;36m_retry_error_helper\u001b[0;34m(exc, deadline, next_sleep, error_list, predicate_fn, on_error_fn, exc_factory_fn, original_timeout)\u001b[0m\n\u001b[1;32m    210\u001b[0m             \u001b[0moriginal_timeout\u001b[0m\u001b[0;34m,\u001b[0m\u001b[0;34m\u001b[0m\u001b[0;34m\u001b[0m\u001b[0m\n\u001b[1;32m    211\u001b[0m         )\n\u001b[0;32m--> 212\u001b[0;31m         \u001b[0;32mraise\u001b[0m \u001b[0mfinal_exc\u001b[0m \u001b[0;32mfrom\u001b[0m \u001b[0msource_exc\u001b[0m\u001b[0;34m\u001b[0m\u001b[0;34m\u001b[0m\u001b[0m\n\u001b[0m\u001b[1;32m    213\u001b[0m     \u001b[0;32mif\u001b[0m \u001b[0mon_error_fn\u001b[0m \u001b[0;32mis\u001b[0m \u001b[0;32mnot\u001b[0m \u001b[0;32mNone\u001b[0m\u001b[0;34m:\u001b[0m\u001b[0;34m\u001b[0m\u001b[0;34m\u001b[0m\u001b[0m\n\u001b[1;32m    214\u001b[0m         \u001b[0mon_error_fn\u001b[0m\u001b[0;34m(\u001b[0m\u001b[0mexc\u001b[0m\u001b[0;34m)\u001b[0m\u001b[0;34m\u001b[0m\u001b[0;34m\u001b[0m\u001b[0m\n",
            "\u001b[0;32m/usr/local/lib/python3.10/dist-packages/google/api_core/retry/retry_unary.py\u001b[0m in \u001b[0;36mretry_target\u001b[0;34m(target, predicate, sleep_generator, timeout, on_error, exception_factory, **kwargs)\u001b[0m\n\u001b[1;32m    142\u001b[0m     \u001b[0;32mfor\u001b[0m \u001b[0msleep\u001b[0m \u001b[0;32min\u001b[0m \u001b[0msleep_generator\u001b[0m\u001b[0;34m:\u001b[0m\u001b[0;34m\u001b[0m\u001b[0;34m\u001b[0m\u001b[0m\n\u001b[1;32m    143\u001b[0m         \u001b[0;32mtry\u001b[0m\u001b[0;34m:\u001b[0m\u001b[0;34m\u001b[0m\u001b[0;34m\u001b[0m\u001b[0m\n\u001b[0;32m--> 144\u001b[0;31m             \u001b[0mresult\u001b[0m \u001b[0;34m=\u001b[0m \u001b[0mtarget\u001b[0m\u001b[0;34m(\u001b[0m\u001b[0;34m)\u001b[0m\u001b[0;34m\u001b[0m\u001b[0;34m\u001b[0m\u001b[0m\n\u001b[0m\u001b[1;32m    145\u001b[0m             \u001b[0;32mif\u001b[0m \u001b[0minspect\u001b[0m\u001b[0;34m.\u001b[0m\u001b[0misawaitable\u001b[0m\u001b[0;34m(\u001b[0m\u001b[0mresult\u001b[0m\u001b[0;34m)\u001b[0m\u001b[0;34m:\u001b[0m\u001b[0;34m\u001b[0m\u001b[0;34m\u001b[0m\u001b[0m\n\u001b[1;32m    146\u001b[0m                 \u001b[0mwarnings\u001b[0m\u001b[0;34m.\u001b[0m\u001b[0mwarn\u001b[0m\u001b[0;34m(\u001b[0m\u001b[0m_ASYNC_RETRY_WARNING\u001b[0m\u001b[0;34m)\u001b[0m\u001b[0;34m\u001b[0m\u001b[0;34m\u001b[0m\u001b[0m\n",
            "\u001b[0;32m/usr/local/lib/python3.10/dist-packages/google/cloud/bigquery/job/query.py\u001b[0m in \u001b[0;36mis_job_done\u001b[0;34m()\u001b[0m\n\u001b[1;32m   1643\u001b[0m                 \u001b[0;31m# jobs.getQueryResults hangs as long as it can to ensure we\u001b[0m\u001b[0;34m\u001b[0m\u001b[0;34m\u001b[0m\u001b[0m\n\u001b[1;32m   1644\u001b[0m                 \u001b[0;31m# know when the query has finished as soon as possible.\u001b[0m\u001b[0;34m\u001b[0m\u001b[0;34m\u001b[0m\u001b[0m\n\u001b[0;32m-> 1645\u001b[0;31m                 \u001b[0mself\u001b[0m\u001b[0;34m.\u001b[0m\u001b[0m_reload_query_results\u001b[0m\u001b[0;34m(\u001b[0m\u001b[0mretry\u001b[0m\u001b[0;34m=\u001b[0m\u001b[0mretry\u001b[0m\u001b[0;34m,\u001b[0m \u001b[0;34m**\u001b[0m\u001b[0mreload_query_results_kwargs\u001b[0m\u001b[0;34m)\u001b[0m\u001b[0;34m\u001b[0m\u001b[0;34m\u001b[0m\u001b[0m\n\u001b[0m\u001b[1;32m   1646\u001b[0m \u001b[0;34m\u001b[0m\u001b[0m\n\u001b[1;32m   1647\u001b[0m                 \u001b[0;31m# Even if the query is finished now according to\u001b[0m\u001b[0;34m\u001b[0m\u001b[0;34m\u001b[0m\u001b[0m\n",
            "\u001b[0;32m/usr/local/lib/python3.10/dist-packages/google/cloud/bigquery/job/query.py\u001b[0m in \u001b[0;36m_reload_query_results\u001b[0;34m(self, retry, timeout, page_size)\u001b[0m\n\u001b[1;32m   1441\u001b[0m                 \u001b[0mtransport_timeout\u001b[0m \u001b[0;34m=\u001b[0m \u001b[0;32mNone\u001b[0m\u001b[0;34m\u001b[0m\u001b[0;34m\u001b[0m\u001b[0m\n\u001b[1;32m   1442\u001b[0m \u001b[0;34m\u001b[0m\u001b[0m\n\u001b[0;32m-> 1443\u001b[0;31m         self._query_results = self._client._get_query_results(\n\u001b[0m\u001b[1;32m   1444\u001b[0m             \u001b[0mself\u001b[0m\u001b[0;34m.\u001b[0m\u001b[0mjob_id\u001b[0m\u001b[0;34m,\u001b[0m\u001b[0;34m\u001b[0m\u001b[0;34m\u001b[0m\u001b[0m\n\u001b[1;32m   1445\u001b[0m             \u001b[0mretry\u001b[0m\u001b[0;34m,\u001b[0m\u001b[0;34m\u001b[0m\u001b[0;34m\u001b[0m\u001b[0m\n",
            "\u001b[0;32m/usr/local/lib/python3.10/dist-packages/google/cloud/bigquery/client.py\u001b[0m in \u001b[0;36m_get_query_results\u001b[0;34m(self, job_id, retry, project, timeout_ms, location, timeout, page_size)\u001b[0m\n\u001b[1;32m   2022\u001b[0m         \u001b[0;31m# QueryJob.result()). So we don't need to poll here.\u001b[0m\u001b[0;34m\u001b[0m\u001b[0;34m\u001b[0m\u001b[0m\n\u001b[1;32m   2023\u001b[0m         \u001b[0mspan_attributes\u001b[0m \u001b[0;34m=\u001b[0m \u001b[0;34m{\u001b[0m\u001b[0;34m\"path\"\u001b[0m\u001b[0;34m:\u001b[0m \u001b[0mpath\u001b[0m\u001b[0;34m}\u001b[0m\u001b[0;34m\u001b[0m\u001b[0;34m\u001b[0m\u001b[0m\n\u001b[0;32m-> 2024\u001b[0;31m         resource = self._call_api(\n\u001b[0m\u001b[1;32m   2025\u001b[0m             \u001b[0mretry\u001b[0m\u001b[0;34m,\u001b[0m\u001b[0;34m\u001b[0m\u001b[0;34m\u001b[0m\u001b[0m\n\u001b[1;32m   2026\u001b[0m             \u001b[0mspan_name\u001b[0m\u001b[0;34m=\u001b[0m\u001b[0;34m\"BigQuery.getQueryResults\"\u001b[0m\u001b[0;34m,\u001b[0m\u001b[0;34m\u001b[0m\u001b[0;34m\u001b[0m\u001b[0m\n",
            "\u001b[0;32m/usr/local/lib/python3.10/dist-packages/google/cloud/bigquery/client.py\u001b[0m in \u001b[0;36m_call_api\u001b[0;34m(self, retry, span_name, span_attributes, job_ref, headers, **kwargs)\u001b[0m\n\u001b[1;32m    831\u001b[0m                 \u001b[0mname\u001b[0m\u001b[0;34m=\u001b[0m\u001b[0mspan_name\u001b[0m\u001b[0;34m,\u001b[0m \u001b[0mattributes\u001b[0m\u001b[0;34m=\u001b[0m\u001b[0mspan_attributes\u001b[0m\u001b[0;34m,\u001b[0m \u001b[0mclient\u001b[0m\u001b[0;34m=\u001b[0m\u001b[0mself\u001b[0m\u001b[0;34m,\u001b[0m \u001b[0mjob_ref\u001b[0m\u001b[0;34m=\u001b[0m\u001b[0mjob_ref\u001b[0m\u001b[0;34m\u001b[0m\u001b[0;34m\u001b[0m\u001b[0m\n\u001b[1;32m    832\u001b[0m             ):\n\u001b[0;32m--> 833\u001b[0;31m                 \u001b[0;32mreturn\u001b[0m \u001b[0mcall\u001b[0m\u001b[0;34m(\u001b[0m\u001b[0;34m)\u001b[0m\u001b[0;34m\u001b[0m\u001b[0;34m\u001b[0m\u001b[0m\n\u001b[0m\u001b[1;32m    834\u001b[0m \u001b[0;34m\u001b[0m\u001b[0m\n\u001b[1;32m    835\u001b[0m         \u001b[0;32mreturn\u001b[0m \u001b[0mcall\u001b[0m\u001b[0;34m(\u001b[0m\u001b[0;34m)\u001b[0m\u001b[0;34m\u001b[0m\u001b[0;34m\u001b[0m\u001b[0m\n",
            "\u001b[0;32m/usr/local/lib/python3.10/dist-packages/google/api_core/retry/retry_unary.py\u001b[0m in \u001b[0;36mretry_wrapped_func\u001b[0;34m(*args, **kwargs)\u001b[0m\n\u001b[1;32m    291\u001b[0m                 \u001b[0mself\u001b[0m\u001b[0;34m.\u001b[0m\u001b[0m_initial\u001b[0m\u001b[0;34m,\u001b[0m \u001b[0mself\u001b[0m\u001b[0;34m.\u001b[0m\u001b[0m_maximum\u001b[0m\u001b[0;34m,\u001b[0m \u001b[0mmultiplier\u001b[0m\u001b[0;34m=\u001b[0m\u001b[0mself\u001b[0m\u001b[0;34m.\u001b[0m\u001b[0m_multiplier\u001b[0m\u001b[0;34m\u001b[0m\u001b[0;34m\u001b[0m\u001b[0m\n\u001b[1;32m    292\u001b[0m             )\n\u001b[0;32m--> 293\u001b[0;31m             return retry_target(\n\u001b[0m\u001b[1;32m    294\u001b[0m                 \u001b[0mtarget\u001b[0m\u001b[0;34m,\u001b[0m\u001b[0;34m\u001b[0m\u001b[0;34m\u001b[0m\u001b[0m\n\u001b[1;32m    295\u001b[0m                 \u001b[0mself\u001b[0m\u001b[0;34m.\u001b[0m\u001b[0m_predicate\u001b[0m\u001b[0;34m,\u001b[0m\u001b[0;34m\u001b[0m\u001b[0;34m\u001b[0m\u001b[0m\n",
            "\u001b[0;32m/usr/local/lib/python3.10/dist-packages/google/api_core/retry/retry_unary.py\u001b[0m in \u001b[0;36mretry_target\u001b[0;34m(target, predicate, sleep_generator, timeout, on_error, exception_factory, **kwargs)\u001b[0m\n\u001b[1;32m    151\u001b[0m         \u001b[0;32mexcept\u001b[0m \u001b[0mException\u001b[0m \u001b[0;32mas\u001b[0m \u001b[0mexc\u001b[0m\u001b[0;34m:\u001b[0m\u001b[0;34m\u001b[0m\u001b[0;34m\u001b[0m\u001b[0m\n\u001b[1;32m    152\u001b[0m             \u001b[0;31m# defer to shared logic for handling errors\u001b[0m\u001b[0;34m\u001b[0m\u001b[0;34m\u001b[0m\u001b[0m\n\u001b[0;32m--> 153\u001b[0;31m             _retry_error_helper(\n\u001b[0m\u001b[1;32m    154\u001b[0m                 \u001b[0mexc\u001b[0m\u001b[0;34m,\u001b[0m\u001b[0;34m\u001b[0m\u001b[0;34m\u001b[0m\u001b[0m\n\u001b[1;32m    155\u001b[0m                 \u001b[0mdeadline\u001b[0m\u001b[0;34m,\u001b[0m\u001b[0;34m\u001b[0m\u001b[0;34m\u001b[0m\u001b[0m\n",
            "\u001b[0;32m/usr/local/lib/python3.10/dist-packages/google/api_core/retry/retry_base.py\u001b[0m in \u001b[0;36m_retry_error_helper\u001b[0;34m(exc, deadline, next_sleep, error_list, predicate_fn, on_error_fn, exc_factory_fn, original_timeout)\u001b[0m\n\u001b[1;32m    210\u001b[0m             \u001b[0moriginal_timeout\u001b[0m\u001b[0;34m,\u001b[0m\u001b[0;34m\u001b[0m\u001b[0;34m\u001b[0m\u001b[0m\n\u001b[1;32m    211\u001b[0m         )\n\u001b[0;32m--> 212\u001b[0;31m         \u001b[0;32mraise\u001b[0m \u001b[0mfinal_exc\u001b[0m \u001b[0;32mfrom\u001b[0m \u001b[0msource_exc\u001b[0m\u001b[0;34m\u001b[0m\u001b[0;34m\u001b[0m\u001b[0m\n\u001b[0m\u001b[1;32m    213\u001b[0m     \u001b[0;32mif\u001b[0m \u001b[0mon_error_fn\u001b[0m \u001b[0;32mis\u001b[0m \u001b[0;32mnot\u001b[0m \u001b[0;32mNone\u001b[0m\u001b[0;34m:\u001b[0m\u001b[0;34m\u001b[0m\u001b[0;34m\u001b[0m\u001b[0m\n\u001b[1;32m    214\u001b[0m         \u001b[0mon_error_fn\u001b[0m\u001b[0;34m(\u001b[0m\u001b[0mexc\u001b[0m\u001b[0;34m)\u001b[0m\u001b[0;34m\u001b[0m\u001b[0;34m\u001b[0m\u001b[0m\n",
            "\u001b[0;32m/usr/local/lib/python3.10/dist-packages/google/api_core/retry/retry_unary.py\u001b[0m in \u001b[0;36mretry_target\u001b[0;34m(target, predicate, sleep_generator, timeout, on_error, exception_factory, **kwargs)\u001b[0m\n\u001b[1;32m    142\u001b[0m     \u001b[0;32mfor\u001b[0m \u001b[0msleep\u001b[0m \u001b[0;32min\u001b[0m \u001b[0msleep_generator\u001b[0m\u001b[0;34m:\u001b[0m\u001b[0;34m\u001b[0m\u001b[0;34m\u001b[0m\u001b[0m\n\u001b[1;32m    143\u001b[0m         \u001b[0;32mtry\u001b[0m\u001b[0;34m:\u001b[0m\u001b[0;34m\u001b[0m\u001b[0;34m\u001b[0m\u001b[0m\n\u001b[0;32m--> 144\u001b[0;31m             \u001b[0mresult\u001b[0m \u001b[0;34m=\u001b[0m \u001b[0mtarget\u001b[0m\u001b[0;34m(\u001b[0m\u001b[0;34m)\u001b[0m\u001b[0;34m\u001b[0m\u001b[0;34m\u001b[0m\u001b[0m\n\u001b[0m\u001b[1;32m    145\u001b[0m             \u001b[0;32mif\u001b[0m \u001b[0minspect\u001b[0m\u001b[0;34m.\u001b[0m\u001b[0misawaitable\u001b[0m\u001b[0;34m(\u001b[0m\u001b[0mresult\u001b[0m\u001b[0;34m)\u001b[0m\u001b[0;34m:\u001b[0m\u001b[0;34m\u001b[0m\u001b[0;34m\u001b[0m\u001b[0m\n\u001b[1;32m    146\u001b[0m                 \u001b[0mwarnings\u001b[0m\u001b[0;34m.\u001b[0m\u001b[0mwarn\u001b[0m\u001b[0;34m(\u001b[0m\u001b[0m_ASYNC_RETRY_WARNING\u001b[0m\u001b[0;34m)\u001b[0m\u001b[0;34m\u001b[0m\u001b[0;34m\u001b[0m\u001b[0m\n",
            "\u001b[0;32m/usr/local/lib/python3.10/dist-packages/google/cloud/_http/__init__.py\u001b[0m in \u001b[0;36mapi_request\u001b[0;34m(self, method, path, query_params, data, content_type, headers, api_base_url, api_version, expect_json, _target_object, timeout, extra_api_info)\u001b[0m\n\u001b[1;32m    492\u001b[0m \u001b[0;34m\u001b[0m\u001b[0m\n\u001b[1;32m    493\u001b[0m         \u001b[0;32mif\u001b[0m \u001b[0;32mnot\u001b[0m \u001b[0;36m200\u001b[0m \u001b[0;34m<=\u001b[0m \u001b[0mresponse\u001b[0m\u001b[0;34m.\u001b[0m\u001b[0mstatus_code\u001b[0m \u001b[0;34m<\u001b[0m \u001b[0;36m300\u001b[0m\u001b[0;34m:\u001b[0m\u001b[0;34m\u001b[0m\u001b[0;34m\u001b[0m\u001b[0m\n\u001b[0;32m--> 494\u001b[0;31m             \u001b[0;32mraise\u001b[0m \u001b[0mexceptions\u001b[0m\u001b[0;34m.\u001b[0m\u001b[0mfrom_http_response\u001b[0m\u001b[0;34m(\u001b[0m\u001b[0mresponse\u001b[0m\u001b[0;34m)\u001b[0m\u001b[0;34m\u001b[0m\u001b[0;34m\u001b[0m\u001b[0m\n\u001b[0m\u001b[1;32m    495\u001b[0m \u001b[0;34m\u001b[0m\u001b[0m\n\u001b[1;32m    496\u001b[0m         \u001b[0;32mif\u001b[0m \u001b[0mexpect_json\u001b[0m \u001b[0;32mand\u001b[0m \u001b[0mresponse\u001b[0m\u001b[0;34m.\u001b[0m\u001b[0mcontent\u001b[0m\u001b[0;34m:\u001b[0m\u001b[0;34m\u001b[0m\u001b[0;34m\u001b[0m\u001b[0m\n",
            "\u001b[0;31mForbidden\u001b[0m: 403 GET https://bigquery.googleapis.com/bigquery/v2/projects/marketcheck-demo/queries/ada1945d-a432-40bd-b07f-8f5099df9fa8?maxResults=0&location=US&prettyPrint=false: Response too large to return. Consider specifying a destination table in your job configuration. For more details, see https://cloud.google.com/bigquery/troubleshooting-errors\n\nLocation: US\nJob ID: ada1945d-a432-40bd-b07f-8f5099df9fa8\n Share your usecase with the BigQuery DataFrames team at the https://bit.ly/bigframes-feedback survey.You are currently running BigFrames version 1.19.0"
          ]
        }
      ]
    }
  ]
}